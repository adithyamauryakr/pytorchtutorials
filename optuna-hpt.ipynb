{
  "nbformat": 4,
  "nbformat_minor": 0,
  "metadata": {
    "colab": {
      "provenance": [],
      "gpuType": "T4",
      "authorship_tag": "ABX9TyP2Z1lCCXOMrpqpqXKLr1z2",
      "include_colab_link": true
    },
    "kernelspec": {
      "name": "python3",
      "display_name": "Python 3"
    },
    "language_info": {
      "name": "python"
    },
    "accelerator": "GPU"
  },
  "cells": [
    {
      "cell_type": "markdown",
      "metadata": {
        "id": "view-in-github",
        "colab_type": "text"
      },
      "source": [
        "<a href=\"https://colab.research.google.com/github/adithyamauryakr/pytorchtutorials/blob/main/optuna-hpt.ipynb\" target=\"_parent\"><img src=\"https://colab.research.google.com/assets/colab-badge.svg\" alt=\"Open In Colab\"/></a>"
      ]
    },
    {
      "cell_type": "markdown",
      "source": [
        "* Grid Search CV is not scalable. Random Search is simple but can overlook better solutions.\n",
        "Optuna solves these problem > Bayesian search.\n",
        "* find a mathematical relation between tunable parameters and accuracy to be estimated. Hence through this we can the best possible parameters."
      ],
      "metadata": {
        "id": "fjruXHSU3Sav"
      }
    },
    {
      "cell_type": "markdown",
      "source": [
        "## Key Terms of optuna\n",
        "\n",
        "1. Study: optimization session encompassing multiple trials.\n",
        "2. Trial: different combinations used to train a model\n",
        "3. Trial parameters: Hyperparameter values of a trial\n",
        "4. Objective funciton: relationship between parameters and accuracy.\n",
        "5. Sampler: suggests what HP to tryout next. Optuna uses Tree-structured Parzen Estimator (TPE)"
      ],
      "metadata": {
        "id": "Y6plqqwP4VLb"
      }
    },
    {
      "cell_type": "code",
      "source": [
        "!pip install optuna"
      ],
      "metadata": {
        "id": "5FeutNIA5S3i",
        "outputId": "73b69a73-260b-46cc-a65b-90f4b478ffa5",
        "colab": {
          "base_uri": "https://localhost:8080/"
        }
      },
      "execution_count": 1,
      "outputs": [
        {
          "output_type": "stream",
          "name": "stdout",
          "text": [
            "Collecting optuna\n",
            "  Downloading optuna-4.2.1-py3-none-any.whl.metadata (17 kB)\n",
            "Collecting alembic>=1.5.0 (from optuna)\n",
            "  Downloading alembic-1.15.1-py3-none-any.whl.metadata (7.2 kB)\n",
            "Collecting colorlog (from optuna)\n",
            "  Downloading colorlog-6.9.0-py3-none-any.whl.metadata (10 kB)\n",
            "Requirement already satisfied: numpy in /usr/local/lib/python3.11/dist-packages (from optuna) (2.0.2)\n",
            "Requirement already satisfied: packaging>=20.0 in /usr/local/lib/python3.11/dist-packages (from optuna) (24.2)\n",
            "Requirement already satisfied: sqlalchemy>=1.4.2 in /usr/local/lib/python3.11/dist-packages (from optuna) (2.0.39)\n",
            "Requirement already satisfied: tqdm in /usr/local/lib/python3.11/dist-packages (from optuna) (4.67.1)\n",
            "Requirement already satisfied: PyYAML in /usr/local/lib/python3.11/dist-packages (from optuna) (6.0.2)\n",
            "Collecting Mako (from alembic>=1.5.0->optuna)\n",
            "  Downloading Mako-1.3.9-py3-none-any.whl.metadata (2.9 kB)\n",
            "Requirement already satisfied: typing-extensions>=4.12 in /usr/local/lib/python3.11/dist-packages (from alembic>=1.5.0->optuna) (4.12.2)\n",
            "Requirement already satisfied: greenlet!=0.4.17 in /usr/local/lib/python3.11/dist-packages (from sqlalchemy>=1.4.2->optuna) (3.1.1)\n",
            "Requirement already satisfied: MarkupSafe>=0.9.2 in /usr/local/lib/python3.11/dist-packages (from Mako->alembic>=1.5.0->optuna) (3.0.2)\n",
            "Downloading optuna-4.2.1-py3-none-any.whl (383 kB)\n",
            "\u001b[2K   \u001b[90m━━━━━━━━━━━━━━━━━━━━━━━━━━━━━━━━━━━━━━━━\u001b[0m \u001b[32m383.6/383.6 kB\u001b[0m \u001b[31m13.3 MB/s\u001b[0m eta \u001b[36m0:00:00\u001b[0m\n",
            "\u001b[?25hDownloading alembic-1.15.1-py3-none-any.whl (231 kB)\n",
            "\u001b[2K   \u001b[90m━━━━━━━━━━━━━━━━━━━━━━━━━━━━━━━━━━━━━━━━\u001b[0m \u001b[32m231.8/231.8 kB\u001b[0m \u001b[31m17.1 MB/s\u001b[0m eta \u001b[36m0:00:00\u001b[0m\n",
            "\u001b[?25hDownloading colorlog-6.9.0-py3-none-any.whl (11 kB)\n",
            "Downloading Mako-1.3.9-py3-none-any.whl (78 kB)\n",
            "\u001b[2K   \u001b[90m━━━━━━━━━━━━━━━━━━━━━━━━━━━━━━━━━━━━━━━━\u001b[0m \u001b[32m78.5/78.5 kB\u001b[0m \u001b[31m6.8 MB/s\u001b[0m eta \u001b[36m0:00:00\u001b[0m\n",
            "\u001b[?25hInstalling collected packages: Mako, colorlog, alembic, optuna\n",
            "Successfully installed Mako-1.3.9 alembic-1.15.1 colorlog-6.9.0 optuna-4.2.1\n"
          ]
        }
      ]
    },
    {
      "cell_type": "code",
      "execution_count": 2,
      "metadata": {
        "id": "vFe43a3U2GFx",
        "outputId": "8d642fba-f038-4fef-e712-f50dababd8ff",
        "colab": {
          "base_uri": "https://localhost:8080/",
          "height": 226
        }
      },
      "outputs": [
        {
          "output_type": "execute_result",
          "data": {
            "text/plain": [
              "   Pregnancies  Glucose  BloodPressure  SkinThickness  Insulin   BMI  \\\n",
              "0            6      148             72             35        0  33.6   \n",
              "1            1       85             66             29        0  26.6   \n",
              "2            8      183             64              0        0  23.3   \n",
              "3            1       89             66             23       94  28.1   \n",
              "4            0      137             40             35      168  43.1   \n",
              "\n",
              "   DiabetesPedigreeFunction  Age  Outcome  \n",
              "0                     0.627   50        1  \n",
              "1                     0.351   31        0  \n",
              "2                     0.672   32        1  \n",
              "3                     0.167   21        0  \n",
              "4                     2.288   33        1  "
            ],
            "text/html": [
              "\n",
              "  <div id=\"df-ee95de86-5363-4b84-81fb-a18fe92eb3f6\" class=\"colab-df-container\">\n",
              "    <div>\n",
              "<style scoped>\n",
              "    .dataframe tbody tr th:only-of-type {\n",
              "        vertical-align: middle;\n",
              "    }\n",
              "\n",
              "    .dataframe tbody tr th {\n",
              "        vertical-align: top;\n",
              "    }\n",
              "\n",
              "    .dataframe thead th {\n",
              "        text-align: right;\n",
              "    }\n",
              "</style>\n",
              "<table border=\"1\" class=\"dataframe\">\n",
              "  <thead>\n",
              "    <tr style=\"text-align: right;\">\n",
              "      <th></th>\n",
              "      <th>Pregnancies</th>\n",
              "      <th>Glucose</th>\n",
              "      <th>BloodPressure</th>\n",
              "      <th>SkinThickness</th>\n",
              "      <th>Insulin</th>\n",
              "      <th>BMI</th>\n",
              "      <th>DiabetesPedigreeFunction</th>\n",
              "      <th>Age</th>\n",
              "      <th>Outcome</th>\n",
              "    </tr>\n",
              "  </thead>\n",
              "  <tbody>\n",
              "    <tr>\n",
              "      <th>0</th>\n",
              "      <td>6</td>\n",
              "      <td>148</td>\n",
              "      <td>72</td>\n",
              "      <td>35</td>\n",
              "      <td>0</td>\n",
              "      <td>33.6</td>\n",
              "      <td>0.627</td>\n",
              "      <td>50</td>\n",
              "      <td>1</td>\n",
              "    </tr>\n",
              "    <tr>\n",
              "      <th>1</th>\n",
              "      <td>1</td>\n",
              "      <td>85</td>\n",
              "      <td>66</td>\n",
              "      <td>29</td>\n",
              "      <td>0</td>\n",
              "      <td>26.6</td>\n",
              "      <td>0.351</td>\n",
              "      <td>31</td>\n",
              "      <td>0</td>\n",
              "    </tr>\n",
              "    <tr>\n",
              "      <th>2</th>\n",
              "      <td>8</td>\n",
              "      <td>183</td>\n",
              "      <td>64</td>\n",
              "      <td>0</td>\n",
              "      <td>0</td>\n",
              "      <td>23.3</td>\n",
              "      <td>0.672</td>\n",
              "      <td>32</td>\n",
              "      <td>1</td>\n",
              "    </tr>\n",
              "    <tr>\n",
              "      <th>3</th>\n",
              "      <td>1</td>\n",
              "      <td>89</td>\n",
              "      <td>66</td>\n",
              "      <td>23</td>\n",
              "      <td>94</td>\n",
              "      <td>28.1</td>\n",
              "      <td>0.167</td>\n",
              "      <td>21</td>\n",
              "      <td>0</td>\n",
              "    </tr>\n",
              "    <tr>\n",
              "      <th>4</th>\n",
              "      <td>0</td>\n",
              "      <td>137</td>\n",
              "      <td>40</td>\n",
              "      <td>35</td>\n",
              "      <td>168</td>\n",
              "      <td>43.1</td>\n",
              "      <td>2.288</td>\n",
              "      <td>33</td>\n",
              "      <td>1</td>\n",
              "    </tr>\n",
              "  </tbody>\n",
              "</table>\n",
              "</div>\n",
              "    <div class=\"colab-df-buttons\">\n",
              "\n",
              "  <div class=\"colab-df-container\">\n",
              "    <button class=\"colab-df-convert\" onclick=\"convertToInteractive('df-ee95de86-5363-4b84-81fb-a18fe92eb3f6')\"\n",
              "            title=\"Convert this dataframe to an interactive table.\"\n",
              "            style=\"display:none;\">\n",
              "\n",
              "  <svg xmlns=\"http://www.w3.org/2000/svg\" height=\"24px\" viewBox=\"0 -960 960 960\">\n",
              "    <path d=\"M120-120v-720h720v720H120Zm60-500h600v-160H180v160Zm220 220h160v-160H400v160Zm0 220h160v-160H400v160ZM180-400h160v-160H180v160Zm440 0h160v-160H620v160ZM180-180h160v-160H180v160Zm440 0h160v-160H620v160Z\"/>\n",
              "  </svg>\n",
              "    </button>\n",
              "\n",
              "  <style>\n",
              "    .colab-df-container {\n",
              "      display:flex;\n",
              "      gap: 12px;\n",
              "    }\n",
              "\n",
              "    .colab-df-convert {\n",
              "      background-color: #E8F0FE;\n",
              "      border: none;\n",
              "      border-radius: 50%;\n",
              "      cursor: pointer;\n",
              "      display: none;\n",
              "      fill: #1967D2;\n",
              "      height: 32px;\n",
              "      padding: 0 0 0 0;\n",
              "      width: 32px;\n",
              "    }\n",
              "\n",
              "    .colab-df-convert:hover {\n",
              "      background-color: #E2EBFA;\n",
              "      box-shadow: 0px 1px 2px rgba(60, 64, 67, 0.3), 0px 1px 3px 1px rgba(60, 64, 67, 0.15);\n",
              "      fill: #174EA6;\n",
              "    }\n",
              "\n",
              "    .colab-df-buttons div {\n",
              "      margin-bottom: 4px;\n",
              "    }\n",
              "\n",
              "    [theme=dark] .colab-df-convert {\n",
              "      background-color: #3B4455;\n",
              "      fill: #D2E3FC;\n",
              "    }\n",
              "\n",
              "    [theme=dark] .colab-df-convert:hover {\n",
              "      background-color: #434B5C;\n",
              "      box-shadow: 0px 1px 3px 1px rgba(0, 0, 0, 0.15);\n",
              "      filter: drop-shadow(0px 1px 2px rgba(0, 0, 0, 0.3));\n",
              "      fill: #FFFFFF;\n",
              "    }\n",
              "  </style>\n",
              "\n",
              "    <script>\n",
              "      const buttonEl =\n",
              "        document.querySelector('#df-ee95de86-5363-4b84-81fb-a18fe92eb3f6 button.colab-df-convert');\n",
              "      buttonEl.style.display =\n",
              "        google.colab.kernel.accessAllowed ? 'block' : 'none';\n",
              "\n",
              "      async function convertToInteractive(key) {\n",
              "        const element = document.querySelector('#df-ee95de86-5363-4b84-81fb-a18fe92eb3f6');\n",
              "        const dataTable =\n",
              "          await google.colab.kernel.invokeFunction('convertToInteractive',\n",
              "                                                    [key], {});\n",
              "        if (!dataTable) return;\n",
              "\n",
              "        const docLinkHtml = 'Like what you see? Visit the ' +\n",
              "          '<a target=\"_blank\" href=https://colab.research.google.com/notebooks/data_table.ipynb>data table notebook</a>'\n",
              "          + ' to learn more about interactive tables.';\n",
              "        element.innerHTML = '';\n",
              "        dataTable['output_type'] = 'display_data';\n",
              "        await google.colab.output.renderOutput(dataTable, element);\n",
              "        const docLink = document.createElement('div');\n",
              "        docLink.innerHTML = docLinkHtml;\n",
              "        element.appendChild(docLink);\n",
              "      }\n",
              "    </script>\n",
              "  </div>\n",
              "\n",
              "\n",
              "<div id=\"df-1edb7404-8d40-43ae-94c6-d143da860d65\">\n",
              "  <button class=\"colab-df-quickchart\" onclick=\"quickchart('df-1edb7404-8d40-43ae-94c6-d143da860d65')\"\n",
              "            title=\"Suggest charts\"\n",
              "            style=\"display:none;\">\n",
              "\n",
              "<svg xmlns=\"http://www.w3.org/2000/svg\" height=\"24px\"viewBox=\"0 0 24 24\"\n",
              "     width=\"24px\">\n",
              "    <g>\n",
              "        <path d=\"M19 3H5c-1.1 0-2 .9-2 2v14c0 1.1.9 2 2 2h14c1.1 0 2-.9 2-2V5c0-1.1-.9-2-2-2zM9 17H7v-7h2v7zm4 0h-2V7h2v10zm4 0h-2v-4h2v4z\"/>\n",
              "    </g>\n",
              "</svg>\n",
              "  </button>\n",
              "\n",
              "<style>\n",
              "  .colab-df-quickchart {\n",
              "      --bg-color: #E8F0FE;\n",
              "      --fill-color: #1967D2;\n",
              "      --hover-bg-color: #E2EBFA;\n",
              "      --hover-fill-color: #174EA6;\n",
              "      --disabled-fill-color: #AAA;\n",
              "      --disabled-bg-color: #DDD;\n",
              "  }\n",
              "\n",
              "  [theme=dark] .colab-df-quickchart {\n",
              "      --bg-color: #3B4455;\n",
              "      --fill-color: #D2E3FC;\n",
              "      --hover-bg-color: #434B5C;\n",
              "      --hover-fill-color: #FFFFFF;\n",
              "      --disabled-bg-color: #3B4455;\n",
              "      --disabled-fill-color: #666;\n",
              "  }\n",
              "\n",
              "  .colab-df-quickchart {\n",
              "    background-color: var(--bg-color);\n",
              "    border: none;\n",
              "    border-radius: 50%;\n",
              "    cursor: pointer;\n",
              "    display: none;\n",
              "    fill: var(--fill-color);\n",
              "    height: 32px;\n",
              "    padding: 0;\n",
              "    width: 32px;\n",
              "  }\n",
              "\n",
              "  .colab-df-quickchart:hover {\n",
              "    background-color: var(--hover-bg-color);\n",
              "    box-shadow: 0 1px 2px rgba(60, 64, 67, 0.3), 0 1px 3px 1px rgba(60, 64, 67, 0.15);\n",
              "    fill: var(--button-hover-fill-color);\n",
              "  }\n",
              "\n",
              "  .colab-df-quickchart-complete:disabled,\n",
              "  .colab-df-quickchart-complete:disabled:hover {\n",
              "    background-color: var(--disabled-bg-color);\n",
              "    fill: var(--disabled-fill-color);\n",
              "    box-shadow: none;\n",
              "  }\n",
              "\n",
              "  .colab-df-spinner {\n",
              "    border: 2px solid var(--fill-color);\n",
              "    border-color: transparent;\n",
              "    border-bottom-color: var(--fill-color);\n",
              "    animation:\n",
              "      spin 1s steps(1) infinite;\n",
              "  }\n",
              "\n",
              "  @keyframes spin {\n",
              "    0% {\n",
              "      border-color: transparent;\n",
              "      border-bottom-color: var(--fill-color);\n",
              "      border-left-color: var(--fill-color);\n",
              "    }\n",
              "    20% {\n",
              "      border-color: transparent;\n",
              "      border-left-color: var(--fill-color);\n",
              "      border-top-color: var(--fill-color);\n",
              "    }\n",
              "    30% {\n",
              "      border-color: transparent;\n",
              "      border-left-color: var(--fill-color);\n",
              "      border-top-color: var(--fill-color);\n",
              "      border-right-color: var(--fill-color);\n",
              "    }\n",
              "    40% {\n",
              "      border-color: transparent;\n",
              "      border-right-color: var(--fill-color);\n",
              "      border-top-color: var(--fill-color);\n",
              "    }\n",
              "    60% {\n",
              "      border-color: transparent;\n",
              "      border-right-color: var(--fill-color);\n",
              "    }\n",
              "    80% {\n",
              "      border-color: transparent;\n",
              "      border-right-color: var(--fill-color);\n",
              "      border-bottom-color: var(--fill-color);\n",
              "    }\n",
              "    90% {\n",
              "      border-color: transparent;\n",
              "      border-bottom-color: var(--fill-color);\n",
              "    }\n",
              "  }\n",
              "</style>\n",
              "\n",
              "  <script>\n",
              "    async function quickchart(key) {\n",
              "      const quickchartButtonEl =\n",
              "        document.querySelector('#' + key + ' button');\n",
              "      quickchartButtonEl.disabled = true;  // To prevent multiple clicks.\n",
              "      quickchartButtonEl.classList.add('colab-df-spinner');\n",
              "      try {\n",
              "        const charts = await google.colab.kernel.invokeFunction(\n",
              "            'suggestCharts', [key], {});\n",
              "      } catch (error) {\n",
              "        console.error('Error during call to suggestCharts:', error);\n",
              "      }\n",
              "      quickchartButtonEl.classList.remove('colab-df-spinner');\n",
              "      quickchartButtonEl.classList.add('colab-df-quickchart-complete');\n",
              "    }\n",
              "    (() => {\n",
              "      let quickchartButtonEl =\n",
              "        document.querySelector('#df-1edb7404-8d40-43ae-94c6-d143da860d65 button');\n",
              "      quickchartButtonEl.style.display =\n",
              "        google.colab.kernel.accessAllowed ? 'block' : 'none';\n",
              "    })();\n",
              "  </script>\n",
              "</div>\n",
              "\n",
              "    </div>\n",
              "  </div>\n"
            ],
            "application/vnd.google.colaboratory.intrinsic+json": {
              "type": "dataframe",
              "variable_name": "df",
              "summary": "{\n  \"name\": \"df\",\n  \"rows\": 768,\n  \"fields\": [\n    {\n      \"column\": \"Pregnancies\",\n      \"properties\": {\n        \"dtype\": \"number\",\n        \"std\": 3,\n        \"min\": 0,\n        \"max\": 17,\n        \"num_unique_values\": 17,\n        \"samples\": [\n          6,\n          1,\n          3\n        ],\n        \"semantic_type\": \"\",\n        \"description\": \"\"\n      }\n    },\n    {\n      \"column\": \"Glucose\",\n      \"properties\": {\n        \"dtype\": \"number\",\n        \"std\": 31,\n        \"min\": 0,\n        \"max\": 199,\n        \"num_unique_values\": 136,\n        \"samples\": [\n          151,\n          101,\n          112\n        ],\n        \"semantic_type\": \"\",\n        \"description\": \"\"\n      }\n    },\n    {\n      \"column\": \"BloodPressure\",\n      \"properties\": {\n        \"dtype\": \"number\",\n        \"std\": 19,\n        \"min\": 0,\n        \"max\": 122,\n        \"num_unique_values\": 47,\n        \"samples\": [\n          86,\n          46,\n          85\n        ],\n        \"semantic_type\": \"\",\n        \"description\": \"\"\n      }\n    },\n    {\n      \"column\": \"SkinThickness\",\n      \"properties\": {\n        \"dtype\": \"number\",\n        \"std\": 15,\n        \"min\": 0,\n        \"max\": 99,\n        \"num_unique_values\": 51,\n        \"samples\": [\n          7,\n          12,\n          48\n        ],\n        \"semantic_type\": \"\",\n        \"description\": \"\"\n      }\n    },\n    {\n      \"column\": \"Insulin\",\n      \"properties\": {\n        \"dtype\": \"number\",\n        \"std\": 115,\n        \"min\": 0,\n        \"max\": 846,\n        \"num_unique_values\": 186,\n        \"samples\": [\n          52,\n          41,\n          183\n        ],\n        \"semantic_type\": \"\",\n        \"description\": \"\"\n      }\n    },\n    {\n      \"column\": \"BMI\",\n      \"properties\": {\n        \"dtype\": \"number\",\n        \"std\": 7.8841603203754405,\n        \"min\": 0.0,\n        \"max\": 67.1,\n        \"num_unique_values\": 248,\n        \"samples\": [\n          19.9,\n          31.0,\n          38.1\n        ],\n        \"semantic_type\": \"\",\n        \"description\": \"\"\n      }\n    },\n    {\n      \"column\": \"DiabetesPedigreeFunction\",\n      \"properties\": {\n        \"dtype\": \"number\",\n        \"std\": 0.33132859501277484,\n        \"min\": 0.078,\n        \"max\": 2.42,\n        \"num_unique_values\": 517,\n        \"samples\": [\n          1.731,\n          0.426,\n          0.138\n        ],\n        \"semantic_type\": \"\",\n        \"description\": \"\"\n      }\n    },\n    {\n      \"column\": \"Age\",\n      \"properties\": {\n        \"dtype\": \"number\",\n        \"std\": 11,\n        \"min\": 21,\n        \"max\": 81,\n        \"num_unique_values\": 52,\n        \"samples\": [\n          60,\n          47,\n          72\n        ],\n        \"semantic_type\": \"\",\n        \"description\": \"\"\n      }\n    },\n    {\n      \"column\": \"Outcome\",\n      \"properties\": {\n        \"dtype\": \"number\",\n        \"std\": 0,\n        \"min\": 0,\n        \"max\": 1,\n        \"num_unique_values\": 2,\n        \"samples\": [\n          0,\n          1\n        ],\n        \"semantic_type\": \"\",\n        \"description\": \"\"\n      }\n    }\n  ]\n}"
            }
          },
          "metadata": {},
          "execution_count": 2
        }
      ],
      "source": [
        "import optuna\n",
        "from sklearn.datasets import load_diabetes\n",
        "from sklearn.model_selection import train_test_split\n",
        "from sklearn.preprocessing import StandardScaler\n",
        "\n",
        "# Load the Pima Indian Diabetes dataset from sklearn\n",
        "# Note: Scikit-learn's built-in 'load_diabetes' is a regression dataset.\n",
        "# We will load the actual diabetes dataset from an external source\n",
        "import pandas as pd\n",
        "\n",
        "# Load the Pima Indian Diabetes dataset (from UCI repository)\n",
        "url = \"https://raw.githubusercontent.com/jbrownlee/Datasets/master/pima-indians-diabetes.data.csv\"\n",
        "columns = ['Pregnancies', 'Glucose', 'BloodPressure', 'SkinThickness', 'Insulin', 'BMI',\n",
        "           'DiabetesPedigreeFunction', 'Age', 'Outcome']\n",
        "\n",
        "# Load the dataset\n",
        "df = pd.read_csv(url, names=columns)\n",
        "\n",
        "df.head()"
      ]
    },
    {
      "cell_type": "code",
      "source": [
        "import numpy as np\n",
        "# replace zero with NaN in columns where zero is not a valid value\n",
        "cols_with_missing_vals=['Glucose', 'BloodPressure', 'SkinThickness', 'Insulin', 'BMI']\n",
        "df[cols_with_missing_vals]=df[cols_with_missing_vals].replace(0, np.nan)\n",
        "\n",
        "# impute missing vals with the mean of the respective column\n",
        "df.fillna(df.mean(), inplace=True)\n",
        "\n",
        "print(df.isnull().sum())"
      ],
      "metadata": {
        "id": "lu3Do_SH5tyN",
        "outputId": "b1134615-804f-4c91-c032-619ad6a03f8e",
        "colab": {
          "base_uri": "https://localhost:8080/"
        }
      },
      "execution_count": 4,
      "outputs": [
        {
          "output_type": "stream",
          "name": "stdout",
          "text": [
            "Pregnancies                 0\n",
            "Glucose                     0\n",
            "BloodPressure               0\n",
            "SkinThickness               0\n",
            "Insulin                     0\n",
            "BMI                         0\n",
            "DiabetesPedigreeFunction    0\n",
            "Age                         0\n",
            "Outcome                     0\n",
            "dtype: int64\n"
          ]
        }
      ]
    },
    {
      "cell_type": "code",
      "source": [
        "X = df.drop('Outcome', axis=1)\n",
        "y = df['Outcome']\n",
        "\n",
        "X_train, X_test, y_train, y_test = train_test_split(X, y, test_size=0.2, random_state=42)\n",
        "\n",
        "scaler = StandardScaler()\n",
        "X_train = scaler.fit_transform(X_train)\n",
        "X_test = scaler.transform(X_test)\n",
        "\n",
        "print(f'Training set shap: {X_train.shape}')\n",
        "print(f'Test set shape: {X_test.shape}')\n"
      ],
      "metadata": {
        "id": "MSnEsNZg6hna",
        "outputId": "3b76b1ff-ccff-4a26-94f6-645302c032a2",
        "colab": {
          "base_uri": "https://localhost:8080/"
        }
      },
      "execution_count": 5,
      "outputs": [
        {
          "output_type": "stream",
          "name": "stdout",
          "text": [
            "Training set shap: (614, 8)\n",
            "Test set shape: (154, 8)\n"
          ]
        }
      ]
    },
    {
      "cell_type": "code",
      "source": [
        "from sklearn.ensemble import RandomForestClassifier\n",
        "from sklearn.model_selection import cross_val_score\n",
        "\n",
        "# Define objective function\n",
        "def objective(trail):\n",
        "  # Suggest vals of hyperparameters:\n",
        "  n_estimators = trail.suggest_int('n_estimators', 50, 200)\n",
        "  max_depth = trail.suggest_int('max_depth', 3, 20)\n",
        "\n",
        "  # create RandomForestClassifier with suggest HP\n",
        "  model = RandomForestClassifier(\n",
        "      n_estimators=n_estimators,\n",
        "      max_depth=max_depth,\n",
        "      random_state=42\n",
        "  )\n",
        "  score = cross_val_score(model, X_train, y_train, cv=3, scoring='accuracy').mean()\n",
        "  return score # return the accuracy score for Optuna to maximize"
      ],
      "metadata": {
        "id": "H7LuQBRf7IEU"
      },
      "execution_count": 6,
      "outputs": []
    },
    {
      "cell_type": "code",
      "source": [
        "study = optuna.create_study(direction='maximize', sampler=optuna.samplers.TPESampler())\n",
        "study.optimize(objective, n_trials=50)"
      ],
      "metadata": {
        "id": "q6u7PJmW8JDu",
        "outputId": "612a62cf-548b-400a-8403-9a379810f532",
        "colab": {
          "base_uri": "https://localhost:8080/"
        }
      },
      "execution_count": 9,
      "outputs": [
        {
          "output_type": "stream",
          "name": "stderr",
          "text": [
            "[I 2025-03-20 14:26:00,307] A new study created in memory with name: no-name-d8be51d3-53ce-4f37-9777-21a12eba1eff\n",
            "[I 2025-03-20 14:26:01,520] Trial 0 finished with value: 0.7752112227004623 and parameters: {'n_estimators': 146, 'max_depth': 10}. Best is trial 0 with value: 0.7752112227004623.\n",
            "[I 2025-03-20 14:26:02,390] Trial 1 finished with value: 0.771967160848079 and parameters: {'n_estimators': 133, 'max_depth': 6}. Best is trial 0 with value: 0.7752112227004623.\n",
            "[I 2025-03-20 14:26:03,136] Trial 2 finished with value: 0.7703331739199745 and parameters: {'n_estimators': 153, 'max_depth': 17}. Best is trial 0 with value: 0.7752112227004623.\n",
            "[I 2025-03-20 14:26:03,427] Trial 3 finished with value: 0.7768691216323927 and parameters: {'n_estimators': 61, 'max_depth': 15}. Best is trial 3 with value: 0.7768691216323927.\n",
            "[I 2025-03-20 14:26:04,318] Trial 4 finished with value: 0.7736011477761836 and parameters: {'n_estimators': 184, 'max_depth': 18}. Best is trial 3 with value: 0.7768691216323927.\n",
            "[I 2025-03-20 14:26:04,665] Trial 5 finished with value: 0.7736091184441256 and parameters: {'n_estimators': 71, 'max_depth': 18}. Best is trial 3 with value: 0.7768691216323927.\n",
            "[I 2025-03-20 14:26:05,074] Trial 6 finished with value: 0.7703570859238004 and parameters: {'n_estimators': 82, 'max_depth': 19}. Best is trial 3 with value: 0.7768691216323927.\n",
            "[I 2025-03-20 14:26:05,479] Trial 7 finished with value: 0.7703491152558585 and parameters: {'n_estimators': 90, 'max_depth': 6}. Best is trial 3 with value: 0.7768691216323927.\n",
            "[I 2025-03-20 14:26:05,803] Trial 8 finished with value: 0.7670891120675912 and parameters: {'n_estimators': 63, 'max_depth': 17}. Best is trial 3 with value: 0.7768691216323927.\n",
            "[I 2025-03-20 14:26:06,721] Trial 9 finished with value: 0.7752191933684043 and parameters: {'n_estimators': 193, 'max_depth': 16}. Best is trial 3 with value: 0.7768691216323927.\n",
            "[I 2025-03-20 14:26:07,249] Trial 10 finished with value: 0.7752431053722302 and parameters: {'n_estimators': 107, 'max_depth': 12}. Best is trial 3 with value: 0.7768691216323927.\n",
            "[I 2025-03-20 14:26:07,772] Trial 11 finished with value: 0.7752431053722302 and parameters: {'n_estimators': 109, 'max_depth': 12}. Best is trial 3 with value: 0.7768691216323927.\n",
            "[I 2025-03-20 14:26:08,039] Trial 12 finished with value: 0.7849992029332058 and parameters: {'n_estimators': 51, 'max_depth': 13}. Best is trial 12 with value: 0.7849992029332058.\n",
            "[I 2025-03-20 14:26:08,313] Trial 13 finished with value: 0.7703491152558585 and parameters: {'n_estimators': 56, 'max_depth': 14}. Best is trial 12 with value: 0.7849992029332058.\n",
            "[I 2025-03-20 14:26:08,581] Trial 14 finished with value: 0.7736091184441256 and parameters: {'n_estimators': 53, 'max_depth': 10}. Best is trial 12 with value: 0.7849992029332058.\n",
            "[I 2025-03-20 14:26:09,043] Trial 15 finished with value: 0.771975131516021 and parameters: {'n_estimators': 91, 'max_depth': 15}. Best is trial 12 with value: 0.7849992029332058.\n",
            "[I 2025-03-20 14:26:09,427] Trial 16 finished with value: 0.7638291088793241 and parameters: {'n_estimators': 74, 'max_depth': 8}. Best is trial 12 with value: 0.7849992029332058.\n",
            "[I 2025-03-20 14:26:09,864] Trial 17 finished with value: 0.7475370636059302 and parameters: {'n_estimators': 105, 'max_depth': 3}. Best is trial 12 with value: 0.7849992029332058.\n",
            "[I 2025-03-20 14:26:10,226] Trial 18 finished with value: 0.7686991869918699 and parameters: {'n_estimators': 51, 'max_depth': 14}. Best is trial 12 with value: 0.7849992029332058.\n",
            "[I 2025-03-20 14:26:11,143] Trial 19 finished with value: 0.7784951378925554 and parameters: {'n_estimators': 118, 'max_depth': 20}. Best is trial 12 with value: 0.7849992029332058.\n",
            "[I 2025-03-20 14:26:12,325] Trial 20 finished with value: 0.7703252032520326 and parameters: {'n_estimators': 163, 'max_depth': 20}. Best is trial 12 with value: 0.7849992029332058.\n",
            "[I 2025-03-20 14:26:12,941] Trial 21 finished with value: 0.7833811573409851 and parameters: {'n_estimators': 130, 'max_depth': 13}. Best is trial 12 with value: 0.7849992029332058.\n",
            "[I 2025-03-20 14:26:13,586] Trial 22 finished with value: 0.7833811573409851 and parameters: {'n_estimators': 133, 'max_depth': 13}. Best is trial 12 with value: 0.7849992029332058.\n",
            "[I 2025-03-20 14:26:14,255] Trial 23 finished with value: 0.7817471704128806 and parameters: {'n_estimators': 135, 'max_depth': 13}. Best is trial 12 with value: 0.7849992029332058.\n",
            "[I 2025-03-20 14:26:15,073] Trial 24 finished with value: 0.7719512195121951 and parameters: {'n_estimators': 171, 'max_depth': 10}. Best is trial 12 with value: 0.7849992029332058.\n",
            "[I 2025-03-20 14:26:15,689] Trial 25 finished with value: 0.7703491152558585 and parameters: {'n_estimators': 124, 'max_depth': 11}. Best is trial 12 with value: 0.7849992029332058.\n",
            "[I 2025-03-20 14:26:16,384] Trial 26 finished with value: 0.7833811573409851 and parameters: {'n_estimators': 141, 'max_depth': 13}. Best is trial 12 with value: 0.7849992029332058.\n",
            "[I 2025-03-20 14:26:17,141] Trial 27 finished with value: 0.7784871672246134 and parameters: {'n_estimators': 157, 'max_depth': 11}. Best is trial 12 with value: 0.7849992029332058.\n",
            "[I 2025-03-20 14:26:17,703] Trial 28 finished with value: 0.7687230989956958 and parameters: {'n_estimators': 120, 'max_depth': 8}. Best is trial 12 with value: 0.7849992029332058.\n",
            "[I 2025-03-20 14:26:18,399] Trial 29 finished with value: 0.7703491152558585 and parameters: {'n_estimators': 147, 'max_depth': 8}. Best is trial 12 with value: 0.7849992029332058.\n",
            "[I 2025-03-20 14:26:18,863] Trial 30 finished with value: 0.7687151283277539 and parameters: {'n_estimators': 98, 'max_depth': 14}. Best is trial 12 with value: 0.7849992029332058.\n",
            "[I 2025-03-20 14:26:19,532] Trial 31 finished with value: 0.7817471704128806 and parameters: {'n_estimators': 136, 'max_depth': 13}. Best is trial 12 with value: 0.7849992029332058.\n",
            "[I 2025-03-20 14:26:20,271] Trial 32 finished with value: 0.7850071736011478 and parameters: {'n_estimators': 143, 'max_depth': 13}. Best is trial 32 with value: 0.7850071736011478.\n",
            "[I 2025-03-20 14:26:21,032] Trial 33 finished with value: 0.7768452096285668 and parameters: {'n_estimators': 131, 'max_depth': 10}. Best is trial 32 with value: 0.7850071736011478.\n",
            "[I 2025-03-20 14:26:21,871] Trial 34 finished with value: 0.780113183484776 and parameters: {'n_estimators': 148, 'max_depth': 15}. Best is trial 32 with value: 0.7850071736011478.\n",
            "[I 2025-03-20 14:26:23,097] Trial 35 finished with value: 0.7752191933684043 and parameters: {'n_estimators': 166, 'max_depth': 16}. Best is trial 32 with value: 0.7850071736011478.\n",
            "[I 2025-03-20 14:26:23,995] Trial 36 finished with value: 0.7719910728519049 and parameters: {'n_estimators': 114, 'max_depth': 12}. Best is trial 32 with value: 0.7850071736011478.\n",
            "[I 2025-03-20 14:26:25,060] Trial 37 finished with value: 0.7768452096285668 and parameters: {'n_estimators': 175, 'max_depth': 16}. Best is trial 32 with value: 0.7850071736011478.\n",
            "[I 2025-03-20 14:26:25,820] Trial 38 finished with value: 0.7654471544715448 and parameters: {'n_estimators': 153, 'max_depth': 9}. Best is trial 32 with value: 0.7850071736011478.\n",
            "[I 2025-03-20 14:26:26,571] Trial 39 finished with value: 0.7833811573409851 and parameters: {'n_estimators': 142, 'max_depth': 13}. Best is trial 32 with value: 0.7850071736011478.\n",
            "[I 2025-03-20 14:26:27,212] Trial 40 finished with value: 0.7784951378925554 and parameters: {'n_estimators': 126, 'max_depth': 15}. Best is trial 32 with value: 0.7850071736011478.\n",
            "[I 2025-03-20 14:26:27,945] Trial 41 finished with value: 0.7833731866730432 and parameters: {'n_estimators': 140, 'max_depth': 13}. Best is trial 32 with value: 0.7850071736011478.\n",
            "[I 2025-03-20 14:26:28,607] Trial 42 finished with value: 0.7817631117487646 and parameters: {'n_estimators': 130, 'max_depth': 14}. Best is trial 32 with value: 0.7850071736011478.\n",
            "[I 2025-03-20 14:26:29,333] Trial 43 finished with value: 0.7833731866730432 and parameters: {'n_estimators': 150, 'max_depth': 11}. Best is trial 32 with value: 0.7850071736011478.\n",
            "[I 2025-03-20 14:26:30,010] Trial 44 finished with value: 0.7768691216323927 and parameters: {'n_estimators': 138, 'max_depth': 17}. Best is trial 32 with value: 0.7850071736011478.\n",
            "[I 2025-03-20 14:26:30,832] Trial 45 finished with value: 0.7768691216323927 and parameters: {'n_estimators': 161, 'max_depth': 12}. Best is trial 32 with value: 0.7850071736011478.\n",
            "[I 2025-03-20 14:26:31,893] Trial 46 finished with value: 0.7784871672246134 and parameters: {'n_estimators': 188, 'max_depth': 13}. Best is trial 32 with value: 0.7850071736011478.\n",
            "[I 2025-03-20 14:26:32,680] Trial 47 finished with value: 0.7784871672246134 and parameters: {'n_estimators': 143, 'max_depth': 15}. Best is trial 32 with value: 0.7850071736011478.\n",
            "[I 2025-03-20 14:26:33,264] Trial 48 finished with value: 0.7752510760401722 and parameters: {'n_estimators': 111, 'max_depth': 11}. Best is trial 32 with value: 0.7850071736011478.\n",
            "[I 2025-03-20 14:26:33,993] Trial 49 finished with value: 0.7768691216323927 and parameters: {'n_estimators': 126, 'max_depth': 12}. Best is trial 32 with value: 0.7850071736011478.\n"
          ]
        }
      ]
    },
    {
      "cell_type": "code",
      "source": [
        "print(f'Best trial acc: {study.best_trial.value}')\n",
        "print(f'Best hyperparameters: {study.best_trial.params}')"
      ],
      "metadata": {
        "id": "Kao_UFya8hMY",
        "outputId": "a4145290-3cf3-467f-af65-659ceeb34a55",
        "colab": {
          "base_uri": "https://localhost:8080/"
        }
      },
      "execution_count": 10,
      "outputs": [
        {
          "output_type": "stream",
          "name": "stdout",
          "text": [
            "Best trial acc: 0.7850071736011478\n",
            "Best hyperparameters: {'n_estimators': 143, 'max_depth': 13}\n"
          ]
        }
      ]
    },
    {
      "cell_type": "code",
      "source": [
        "from sklearn.metrics import accuracy_score\n",
        "\n",
        "best_model = RandomForestClassifier(**study.best_trial.params, random_state=42)\n",
        "best_model.fit(X_train, y_train)\n",
        "y_pred = best_model.predict(X_test)\n",
        "test_accuracy = accuracy_score(y_test, y_pred)\n",
        "\n",
        "print(f'Test accuracy with best hyperparameters: {test_accuracy:.2f}')"
      ],
      "metadata": {
        "id": "5NGZhi5E9j8Z",
        "outputId": "018250f2-c21b-44eb-a809-6d70dd28a32b",
        "colab": {
          "base_uri": "https://localhost:8080/"
        }
      },
      "execution_count": 11,
      "outputs": [
        {
          "output_type": "stream",
          "name": "stdout",
          "text": [
            "Test accuracy with best hyperparameters: 0.75\n"
          ]
        }
      ]
    },
    {
      "cell_type": "markdown",
      "source": [
        "## Sampler in optuna"
      ],
      "metadata": {
        "id": "iZnCIPp6-Ba9"
      }
    },
    {
      "cell_type": "code",
      "source": [
        "from sklearn.ensemble import RandomForestClassifier\n",
        "from sklearn.model_selection import cross_val_score\n",
        "\n",
        "# Define objective function\n",
        "def objective(trail):\n",
        "  # Suggest vals of hyperparameters:\n",
        "  n_estimators = trail.suggest_int('n_estimators', 50, 200)\n",
        "  max_depth = trail.suggest_int('max_depth', 3, 20)\n",
        "\n",
        "  # create RandomForestClassifier with suggest HP\n",
        "  model = RandomForestClassifier(\n",
        "      n_estimators=n_estimators,\n",
        "      max_depth=max_depth,\n",
        "      random_state=42\n",
        "  )\n",
        "  score = cross_val_score(model, X_train, y_train, cv=3, scoring='accuracy').mean()\n",
        "  return score # return the accuracy score for Optuna to maximize"
      ],
      "metadata": {
        "id": "9LRJEAS7-HaC"
      },
      "execution_count": 12,
      "outputs": []
    },
    {
      "cell_type": "code",
      "source": [
        "study = optuna.create_study(direction='maximize', sampler=optuna.samplers.RandomSampler())\n",
        "study.optimize(objective, n_trials=50)"
      ],
      "metadata": {
        "id": "tnKyDevX-ev6",
        "outputId": "77b01257-6fb4-4189-d1cd-f667a82039db",
        "colab": {
          "base_uri": "https://localhost:8080/"
        }
      },
      "execution_count": 13,
      "outputs": [
        {
          "output_type": "stream",
          "name": "stderr",
          "text": [
            "[I 2025-03-20 14:34:59,090] A new study created in memory with name: no-name-68a43549-bca8-4ff8-945d-611a1a923f63\n",
            "[I 2025-03-20 14:35:00,514] Trial 0 finished with value: 0.7882751474573569 and parameters: {'n_estimators': 122, 'max_depth': 13}. Best is trial 0 with value: 0.7882751474573569.\n",
            "[I 2025-03-20 14:35:01,212] Trial 1 finished with value: 0.771975131516021 and parameters: {'n_estimators': 80, 'max_depth': 20}. Best is trial 0 with value: 0.7882751474573569.\n",
            "[I 2025-03-20 14:35:01,819] Trial 2 finished with value: 0.7752351347042882 and parameters: {'n_estimators': 73, 'max_depth': 17}. Best is trial 0 with value: 0.7882751474573569.\n",
            "[I 2025-03-20 14:35:03,247] Trial 3 finished with value: 0.7670731707317073 and parameters: {'n_estimators': 193, 'max_depth': 6}. Best is trial 0 with value: 0.7882751474573569.\n",
            "[I 2025-03-20 14:35:04,601] Trial 4 finished with value: 0.7801052128168341 and parameters: {'n_estimators': 180, 'max_depth': 14}. Best is trial 0 with value: 0.7882751474573569.\n",
            "[I 2025-03-20 14:35:05,499] Trial 5 finished with value: 0.7719512195121951 and parameters: {'n_estimators': 153, 'max_depth': 19}. Best is trial 0 with value: 0.7882751474573569.\n",
            "[I 2025-03-20 14:35:05,833] Trial 6 finished with value: 0.7817631117487646 and parameters: {'n_estimators': 68, 'max_depth': 12}. Best is trial 0 with value: 0.7882751474573569.\n",
            "[I 2025-03-20 14:35:06,717] Trial 7 finished with value: 0.771975131516021 and parameters: {'n_estimators': 183, 'max_depth': 18}. Best is trial 0 with value: 0.7882751474573569.\n",
            "[I 2025-03-20 14:35:07,189] Trial 8 finished with value: 0.7703650565917424 and parameters: {'n_estimators': 98, 'max_depth': 6}. Best is trial 0 with value: 0.7882751474573569.\n",
            "[I 2025-03-20 14:35:08,097] Trial 9 finished with value: 0.7703411445879165 and parameters: {'n_estimators': 184, 'max_depth': 17}. Best is trial 0 with value: 0.7882751474573569.\n",
            "[I 2025-03-20 14:35:08,543] Trial 10 finished with value: 0.7703491152558585 and parameters: {'n_estimators': 91, 'max_depth': 14}. Best is trial 0 with value: 0.7882751474573569.\n",
            "[I 2025-03-20 14:35:09,086] Trial 11 finished with value: 0.7833891280089271 and parameters: {'n_estimators': 111, 'max_depth': 14}. Best is trial 0 with value: 0.7882751474573569.\n",
            "[I 2025-03-20 14:35:09,622] Trial 12 finished with value: 0.7850231149370317 and parameters: {'n_estimators': 112, 'max_depth': 14}. Best is trial 0 with value: 0.7882751474573569.\n",
            "[I 2025-03-20 14:35:10,136] Trial 13 finished with value: 0.7736091184441256 and parameters: {'n_estimators': 111, 'max_depth': 6}. Best is trial 0 with value: 0.7882751474573569.\n",
            "[I 2025-03-20 14:35:10,666] Trial 14 finished with value: 0.7670891120675912 and parameters: {'n_estimators': 114, 'max_depth': 7}. Best is trial 0 with value: 0.7882751474573569.\n",
            "[I 2025-03-20 14:35:11,259] Trial 15 finished with value: 0.7638291088793241 and parameters: {'n_estimators': 124, 'max_depth': 7}. Best is trial 0 with value: 0.7882751474573569.\n",
            "[I 2025-03-20 14:35:11,623] Trial 16 finished with value: 0.75242308305436 and parameters: {'n_estimators': 82, 'max_depth': 3}. Best is trial 0 with value: 0.7882751474573569.\n",
            "[I 2025-03-20 14:35:11,900] Trial 17 finished with value: 0.7670731707317073 and parameters: {'n_estimators': 62, 'max_depth': 5}. Best is trial 0 with value: 0.7882751474573569.\n",
            "[I 2025-03-20 14:35:12,685] Trial 18 finished with value: 0.75242308305436 and parameters: {'n_estimators': 184, 'max_depth': 3}. Best is trial 0 with value: 0.7882751474573569.\n",
            "[I 2025-03-20 14:35:12,978] Trial 19 finished with value: 0.7687151283277539 and parameters: {'n_estimators': 66, 'max_depth': 5}. Best is trial 0 with value: 0.7882751474573569.\n",
            "[I 2025-03-20 14:35:13,568] Trial 20 finished with value: 0.7736011477761836 and parameters: {'n_estimators': 123, 'max_depth': 9}. Best is trial 0 with value: 0.7882751474573569.\n",
            "[I 2025-03-20 14:35:14,431] Trial 21 finished with value: 0.7785031085604973 and parameters: {'n_estimators': 178, 'max_depth': 12}. Best is trial 0 with value: 0.7882751474573569.\n",
            "[I 2025-03-20 14:35:14,938] Trial 22 finished with value: 0.7475370636059302 and parameters: {'n_estimators': 119, 'max_depth': 3}. Best is trial 0 with value: 0.7882751474573569.\n",
            "[I 2025-03-20 14:35:15,320] Trial 23 finished with value: 0.7573091025027897 and parameters: {'n_estimators': 53, 'max_depth': 3}. Best is trial 0 with value: 0.7882751474573569.\n",
            "[I 2025-03-20 14:35:16,744] Trial 24 finished with value: 0.780121154152718 and parameters: {'n_estimators': 187, 'max_depth': 12}. Best is trial 0 with value: 0.7882751474573569.\n",
            "[I 2025-03-20 14:35:17,638] Trial 25 finished with value: 0.7752032520325204 and parameters: {'n_estimators': 152, 'max_depth': 10}. Best is trial 0 with value: 0.7882751474573569.\n",
            "[I 2025-03-20 14:35:17,917] Trial 26 finished with value: 0.7703411445879165 and parameters: {'n_estimators': 56, 'max_depth': 15}. Best is trial 0 with value: 0.7882751474573569.\n",
            "[I 2025-03-20 14:35:18,788] Trial 27 finished with value: 0.771967160848079 and parameters: {'n_estimators': 175, 'max_depth': 20}. Best is trial 0 with value: 0.7882751474573569.\n",
            "[I 2025-03-20 14:35:19,461] Trial 28 finished with value: 0.7735852064402997 and parameters: {'n_estimators': 153, 'max_depth': 5}. Best is trial 0 with value: 0.7882751474573569.\n",
            "[I 2025-03-20 14:35:20,178] Trial 29 finished with value: 0.7817391997449387 and parameters: {'n_estimators': 151, 'max_depth': 14}. Best is trial 0 with value: 0.7882751474573569.\n",
            "[I 2025-03-20 14:35:20,566] Trial 30 finished with value: 0.771983102183963 and parameters: {'n_estimators': 78, 'max_depth': 20}. Best is trial 0 with value: 0.7882751474573569.\n",
            "[I 2025-03-20 14:35:20,923] Trial 31 finished with value: 0.7817631117487646 and parameters: {'n_estimators': 72, 'max_depth': 13}. Best is trial 0 with value: 0.7882751474573569.\n",
            "[I 2025-03-20 14:35:22,380] Trial 32 finished with value: 0.7540570699824646 and parameters: {'n_estimators': 183, 'max_depth': 3}. Best is trial 0 with value: 0.7882751474573569.\n",
            "[I 2025-03-20 14:35:22,846] Trial 33 finished with value: 0.7703491152558585 and parameters: {'n_estimators': 53, 'max_depth': 6}. Best is trial 0 with value: 0.7882751474573569.\n",
            "[I 2025-03-20 14:35:24,023] Trial 34 finished with value: 0.7882751474573569 and parameters: {'n_estimators': 111, 'max_depth': 13}. Best is trial 0 with value: 0.7882751474573569.\n",
            "[I 2025-03-20 14:35:25,869] Trial 35 finished with value: 0.7735931771082417 and parameters: {'n_estimators': 196, 'max_depth': 16}. Best is trial 0 with value: 0.7882751474573569.\n",
            "[I 2025-03-20 14:35:26,395] Trial 36 finished with value: 0.7785031085604973 and parameters: {'n_estimators': 61, 'max_depth': 12}. Best is trial 0 with value: 0.7882751474573569.\n",
            "[I 2025-03-20 14:35:28,354] Trial 37 finished with value: 0.7768611509644509 and parameters: {'n_estimators': 200, 'max_depth': 15}. Best is trial 0 with value: 0.7882751474573569.\n",
            "[I 2025-03-20 14:35:30,505] Trial 38 finished with value: 0.7703331739199745 and parameters: {'n_estimators': 195, 'max_depth': 17}. Best is trial 0 with value: 0.7882751474573569.\n",
            "[I 2025-03-20 14:35:31,615] Trial 39 finished with value: 0.7784791965566714 and parameters: {'n_estimators': 186, 'max_depth': 5}. Best is trial 0 with value: 0.7882751474573569.\n",
            "[I 2025-03-20 14:35:32,564] Trial 40 finished with value: 0.7752271640363463 and parameters: {'n_estimators': 196, 'max_depth': 13}. Best is trial 0 with value: 0.7882751474573569.\n",
            "[I 2025-03-20 14:35:33,373] Trial 41 finished with value: 0.780113183484776 and parameters: {'n_estimators': 168, 'max_depth': 13}. Best is trial 0 with value: 0.7882751474573569.\n",
            "[I 2025-03-20 14:35:33,954] Trial 42 finished with value: 0.7524390243902439 and parameters: {'n_estimators': 139, 'max_depth': 3}. Best is trial 0 with value: 0.7882751474573569.\n",
            "[I 2025-03-20 14:35:34,221] Trial 43 finished with value: 0.7573011318348478 and parameters: {'n_estimators': 56, 'max_depth': 8}. Best is trial 0 with value: 0.7882751474573569.\n",
            "[I 2025-03-20 14:35:34,885] Trial 44 finished with value: 0.771975131516021 and parameters: {'n_estimators': 146, 'max_depth': 6}. Best is trial 0 with value: 0.7882751474573569.\n",
            "[I 2025-03-20 14:35:35,613] Trial 45 finished with value: 0.7768770923003347 and parameters: {'n_estimators': 153, 'max_depth': 12}. Best is trial 0 with value: 0.7882751474573569.\n",
            "[I 2025-03-20 14:35:36,249] Trial 46 finished with value: 0.7768770923003347 and parameters: {'n_estimators': 132, 'max_depth': 12}. Best is trial 0 with value: 0.7882751474573569.\n",
            "[I 2025-03-20 14:35:36,869] Trial 47 finished with value: 0.7817551410808226 and parameters: {'n_estimators': 129, 'max_depth': 17}. Best is trial 0 with value: 0.7882751474573569.\n",
            "[I 2025-03-20 14:35:37,177] Trial 48 finished with value: 0.7621871512832775 and parameters: {'n_estimators': 62, 'max_depth': 11}. Best is trial 0 with value: 0.7882751474573569.\n",
            "[I 2025-03-20 14:35:37,977] Trial 49 finished with value: 0.7784791965566714 and parameters: {'n_estimators': 164, 'max_depth': 11}. Best is trial 0 with value: 0.7882751474573569.\n"
          ]
        }
      ]
    },
    {
      "cell_type": "code",
      "source": [
        "print(f'Best trial acc: {study.best_trial.value}')\n",
        "print(f'Best hyperparameters: {study.best_trial.params}')"
      ],
      "metadata": {
        "colab": {
          "base_uri": "https://localhost:8080/"
        },
        "id": "Xmcdfo7v-pTi",
        "outputId": "7b458a98-b693-4705-c5bc-cde3e781ff4c"
      },
      "execution_count": 14,
      "outputs": [
        {
          "output_type": "stream",
          "name": "stdout",
          "text": [
            "Best trial acc: 0.7882751474573569\n",
            "Best hyperparameters: {'n_estimators': 122, 'max_depth': 13}\n"
          ]
        }
      ]
    },
    {
      "cell_type": "code",
      "source": [
        "from sklearn.metrics import accuracy_score\n",
        "\n",
        "best_model = RandomForestClassifier(**study.best_trial.params, random_state=42)\n",
        "best_model.fit(X_train, y_train)\n",
        "y_pred = best_model.predict(X_test)\n",
        "test_accuracy = accuracy_score(y_test, y_pred)\n",
        "\n",
        "print(f'Test accuracy with best hyperparameters: {test_accuracy:.2f}')"
      ],
      "metadata": {
        "colab": {
          "base_uri": "https://localhost:8080/"
        },
        "id": "EfhIpE7B-vtd",
        "outputId": "0cabc660-38b4-424f-d0bc-d70b7e65fbc5"
      },
      "execution_count": 15,
      "outputs": [
        {
          "output_type": "stream",
          "name": "stdout",
          "text": [
            "Test accuracy with best hyperparameters: 0.76\n"
          ]
        }
      ]
    },
    {
      "cell_type": "code",
      "source": [
        "# Grid search in optuna\n",
        "screen_space =  {\n",
        "    'n_estimators': [50, 100, 150, 200],\n",
        "    'max_depth': [5, 10, 15, 20]\n",
        "}"
      ],
      "metadata": {
        "id": "vY-EoKK6-4US"
      },
      "execution_count": 16,
      "outputs": []
    },
    {
      "cell_type": "code",
      "source": [
        "study = optuna.create_study(direction='maximize', sampler=optuna.samplers.GridSampler(screen_space))\n",
        "study.optimize(objective, n_trials=50)"
      ],
      "metadata": {
        "id": "d_2zLmoo_IM7",
        "outputId": "82efacc1-e396-4710-bc25-f5e2d79ac682",
        "colab": {
          "base_uri": "https://localhost:8080/"
        }
      },
      "execution_count": 19,
      "outputs": [
        {
          "output_type": "stream",
          "name": "stderr",
          "text": [
            "[I 2025-03-20 14:38:29,242] A new study created in memory with name: no-name-8092bc3b-db92-4dc2-bc95-d7ca8e634550\n",
            "[I 2025-03-20 14:38:30,027] Trial 0 finished with value: 0.7654391838036028 and parameters: {'n_estimators': 100, 'max_depth': 5}. Best is trial 0 with value: 0.7654391838036028.\n",
            "[I 2025-03-20 14:38:31,138] Trial 1 finished with value: 0.7735772357723577 and parameters: {'n_estimators': 150, 'max_depth': 10}. Best is trial 1 with value: 0.7735772357723577.\n",
            "[I 2025-03-20 14:38:31,667] Trial 2 finished with value: 0.7687151283277539 and parameters: {'n_estimators': 50, 'max_depth': 15}. Best is trial 1 with value: 0.7735772357723577.\n",
            "[I 2025-03-20 14:38:32,507] Trial 3 finished with value: 0.7752351347042882 and parameters: {'n_estimators': 100, 'max_depth': 15}. Best is trial 3 with value: 0.7752351347042882.\n",
            "[I 2025-03-20 14:38:33,345] Trial 4 finished with value: 0.7703491152558585 and parameters: {'n_estimators': 100, 'max_depth': 20}. Best is trial 3 with value: 0.7752351347042882.\n",
            "[I 2025-03-20 14:38:33,809] Trial 5 finished with value: 0.7817391997449387 and parameters: {'n_estimators': 50, 'max_depth': 10}. Best is trial 5 with value: 0.7817391997449387.\n",
            "[I 2025-03-20 14:38:34,532] Trial 6 finished with value: 0.7719591901801371 and parameters: {'n_estimators': 150, 'max_depth': 5}. Best is trial 5 with value: 0.7817391997449387.\n",
            "[I 2025-03-20 14:38:35,472] Trial 7 finished with value: 0.7719591901801371 and parameters: {'n_estimators': 150, 'max_depth': 20}. Best is trial 5 with value: 0.7817391997449387.\n",
            "[I 2025-03-20 14:38:36,632] Trial 8 finished with value: 0.7784791965566714 and parameters: {'n_estimators': 150, 'max_depth': 15}. Best is trial 5 with value: 0.7817391997449387.\n",
            "[I 2025-03-20 14:38:37,781] Trial 9 finished with value: 0.7784712258887295 and parameters: {'n_estimators': 200, 'max_depth': 10}. Best is trial 5 with value: 0.7817391997449387.\n",
            "[I 2025-03-20 14:38:38,757] Trial 10 finished with value: 0.7719591901801371 and parameters: {'n_estimators': 200, 'max_depth': 20}. Best is trial 5 with value: 0.7817391997449387.\n",
            "[I 2025-03-20 14:38:39,744] Trial 11 finished with value: 0.7768611509644509 and parameters: {'n_estimators': 200, 'max_depth': 15}. Best is trial 5 with value: 0.7817391997449387.\n",
            "[I 2025-03-20 14:38:40,644] Trial 12 finished with value: 0.7768452096285668 and parameters: {'n_estimators': 200, 'max_depth': 5}. Best is trial 5 with value: 0.7817391997449387.\n",
            "[I 2025-03-20 14:38:40,881] Trial 13 finished with value: 0.7703411445879165 and parameters: {'n_estimators': 50, 'max_depth': 5}. Best is trial 5 with value: 0.7817391997449387.\n",
            "[I 2025-03-20 14:38:41,366] Trial 14 finished with value: 0.7752351347042882 and parameters: {'n_estimators': 100, 'max_depth': 10}. Best is trial 5 with value: 0.7817391997449387.\n",
            "[I 2025-03-20 14:38:41,605] Trial 15 finished with value: 0.7752112227004623 and parameters: {'n_estimators': 50, 'max_depth': 20}. Best is trial 5 with value: 0.7817391997449387.\n"
          ]
        }
      ]
    },
    {
      "cell_type": "code",
      "source": [],
      "metadata": {
        "id": "Fom5dPgO_Spg"
      },
      "execution_count": null,
      "outputs": []
    }
  ]
}