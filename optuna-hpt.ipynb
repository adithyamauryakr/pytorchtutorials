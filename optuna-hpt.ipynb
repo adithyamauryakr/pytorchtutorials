{
  "nbformat": 4,
  "nbformat_minor": 0,
  "metadata": {
    "colab": {
      "provenance": [],
      "gpuType": "T4",
      "authorship_tag": "ABX9TyPwvP52/67Fdtxt/2nvK4nT",
      "include_colab_link": true
    },
    "kernelspec": {
      "name": "python3",
      "display_name": "Python 3"
    },
    "language_info": {
      "name": "python"
    },
    "accelerator": "GPU"
  },
  "cells": [
    {
      "cell_type": "markdown",
      "metadata": {
        "id": "view-in-github",
        "colab_type": "text"
      },
      "source": [
        "<a href=\"https://colab.research.google.com/github/adithyamauryakr/pytorchtutorials/blob/main/optuna-hpt.ipynb\" target=\"_parent\"><img src=\"https://colab.research.google.com/assets/colab-badge.svg\" alt=\"Open In Colab\"/></a>"
      ]
    },
    {
      "cell_type": "markdown",
      "source": [
        "* Grid Search CV is not scalable. Random Search is simple but can overlook better solutions.\n",
        "Optuna solves these problem > Bayesian search.\n",
        "* find a mathematical relation between tunable parameters and accuracy to be estimated. Hence through this we can the best possible parameters."
      ],
      "metadata": {
        "id": "fjruXHSU3Sav"
      }
    },
    {
      "cell_type": "markdown",
      "source": [
        "## Key Terms of optuna\n",
        "\n",
        "1. Study: optimization session encompassing multiple trials.\n",
        "2. Trial: different combinations used to train a model\n",
        "3. Trial parameters: Hyperparameter values of a trial\n",
        "4. Objective funciton: relationship between parameters and accuracy.\n",
        "5. Sampler: suggests what HP to tryout next. Optuna uses Tree-structured Parzen Estimator (TPE)"
      ],
      "metadata": {
        "id": "Y6plqqwP4VLb"
      }
    },
    {
      "cell_type": "code",
      "source": [
        "!pip install optuna"
      ],
      "metadata": {
        "colab": {
          "base_uri": "https://localhost:8080/"
        },
        "id": "5FeutNIA5S3i",
        "outputId": "73b69a73-260b-46cc-a65b-90f4b478ffa5"
      },
      "execution_count": 1,
      "outputs": [
        {
          "output_type": "stream",
          "name": "stdout",
          "text": [
            "Collecting optuna\n",
            "  Downloading optuna-4.2.1-py3-none-any.whl.metadata (17 kB)\n",
            "Collecting alembic>=1.5.0 (from optuna)\n",
            "  Downloading alembic-1.15.1-py3-none-any.whl.metadata (7.2 kB)\n",
            "Collecting colorlog (from optuna)\n",
            "  Downloading colorlog-6.9.0-py3-none-any.whl.metadata (10 kB)\n",
            "Requirement already satisfied: numpy in /usr/local/lib/python3.11/dist-packages (from optuna) (2.0.2)\n",
            "Requirement already satisfied: packaging>=20.0 in /usr/local/lib/python3.11/dist-packages (from optuna) (24.2)\n",
            "Requirement already satisfied: sqlalchemy>=1.4.2 in /usr/local/lib/python3.11/dist-packages (from optuna) (2.0.39)\n",
            "Requirement already satisfied: tqdm in /usr/local/lib/python3.11/dist-packages (from optuna) (4.67.1)\n",
            "Requirement already satisfied: PyYAML in /usr/local/lib/python3.11/dist-packages (from optuna) (6.0.2)\n",
            "Collecting Mako (from alembic>=1.5.0->optuna)\n",
            "  Downloading Mako-1.3.9-py3-none-any.whl.metadata (2.9 kB)\n",
            "Requirement already satisfied: typing-extensions>=4.12 in /usr/local/lib/python3.11/dist-packages (from alembic>=1.5.0->optuna) (4.12.2)\n",
            "Requirement already satisfied: greenlet!=0.4.17 in /usr/local/lib/python3.11/dist-packages (from sqlalchemy>=1.4.2->optuna) (3.1.1)\n",
            "Requirement already satisfied: MarkupSafe>=0.9.2 in /usr/local/lib/python3.11/dist-packages (from Mako->alembic>=1.5.0->optuna) (3.0.2)\n",
            "Downloading optuna-4.2.1-py3-none-any.whl (383 kB)\n",
            "\u001b[2K   \u001b[90m━━━━━━━━━━━━━━━━━━━━━━━━━━━━━━━━━━━━━━━━\u001b[0m \u001b[32m383.6/383.6 kB\u001b[0m \u001b[31m13.3 MB/s\u001b[0m eta \u001b[36m0:00:00\u001b[0m\n",
            "\u001b[?25hDownloading alembic-1.15.1-py3-none-any.whl (231 kB)\n",
            "\u001b[2K   \u001b[90m━━━━━━━━━━━━━━━━━━━━━━━━━━━━━━━━━━━━━━━━\u001b[0m \u001b[32m231.8/231.8 kB\u001b[0m \u001b[31m17.1 MB/s\u001b[0m eta \u001b[36m0:00:00\u001b[0m\n",
            "\u001b[?25hDownloading colorlog-6.9.0-py3-none-any.whl (11 kB)\n",
            "Downloading Mako-1.3.9-py3-none-any.whl (78 kB)\n",
            "\u001b[2K   \u001b[90m━━━━━━━━━━━━━━━━━━━━━━━━━━━━━━━━━━━━━━━━\u001b[0m \u001b[32m78.5/78.5 kB\u001b[0m \u001b[31m6.8 MB/s\u001b[0m eta \u001b[36m0:00:00\u001b[0m\n",
            "\u001b[?25hInstalling collected packages: Mako, colorlog, alembic, optuna\n",
            "Successfully installed Mako-1.3.9 alembic-1.15.1 colorlog-6.9.0 optuna-4.2.1\n"
          ]
        }
      ]
    },
    {
      "cell_type": "code",
      "execution_count": 2,
      "metadata": {
        "id": "vFe43a3U2GFx",
        "colab": {
          "base_uri": "https://localhost:8080/",
          "height": 226
        },
        "outputId": "8d642fba-f038-4fef-e712-f50dababd8ff"
      },
      "outputs": [
        {
          "output_type": "execute_result",
          "data": {
            "text/plain": [
              "   Pregnancies  Glucose  BloodPressure  SkinThickness  Insulin   BMI  \\\n",
              "0            6      148             72             35        0  33.6   \n",
              "1            1       85             66             29        0  26.6   \n",
              "2            8      183             64              0        0  23.3   \n",
              "3            1       89             66             23       94  28.1   \n",
              "4            0      137             40             35      168  43.1   \n",
              "\n",
              "   DiabetesPedigreeFunction  Age  Outcome  \n",
              "0                     0.627   50        1  \n",
              "1                     0.351   31        0  \n",
              "2                     0.672   32        1  \n",
              "3                     0.167   21        0  \n",
              "4                     2.288   33        1  "
            ],
            "text/html": [
              "\n",
              "  <div id=\"df-ee95de86-5363-4b84-81fb-a18fe92eb3f6\" class=\"colab-df-container\">\n",
              "    <div>\n",
              "<style scoped>\n",
              "    .dataframe tbody tr th:only-of-type {\n",
              "        vertical-align: middle;\n",
              "    }\n",
              "\n",
              "    .dataframe tbody tr th {\n",
              "        vertical-align: top;\n",
              "    }\n",
              "\n",
              "    .dataframe thead th {\n",
              "        text-align: right;\n",
              "    }\n",
              "</style>\n",
              "<table border=\"1\" class=\"dataframe\">\n",
              "  <thead>\n",
              "    <tr style=\"text-align: right;\">\n",
              "      <th></th>\n",
              "      <th>Pregnancies</th>\n",
              "      <th>Glucose</th>\n",
              "      <th>BloodPressure</th>\n",
              "      <th>SkinThickness</th>\n",
              "      <th>Insulin</th>\n",
              "      <th>BMI</th>\n",
              "      <th>DiabetesPedigreeFunction</th>\n",
              "      <th>Age</th>\n",
              "      <th>Outcome</th>\n",
              "    </tr>\n",
              "  </thead>\n",
              "  <tbody>\n",
              "    <tr>\n",
              "      <th>0</th>\n",
              "      <td>6</td>\n",
              "      <td>148</td>\n",
              "      <td>72</td>\n",
              "      <td>35</td>\n",
              "      <td>0</td>\n",
              "      <td>33.6</td>\n",
              "      <td>0.627</td>\n",
              "      <td>50</td>\n",
              "      <td>1</td>\n",
              "    </tr>\n",
              "    <tr>\n",
              "      <th>1</th>\n",
              "      <td>1</td>\n",
              "      <td>85</td>\n",
              "      <td>66</td>\n",
              "      <td>29</td>\n",
              "      <td>0</td>\n",
              "      <td>26.6</td>\n",
              "      <td>0.351</td>\n",
              "      <td>31</td>\n",
              "      <td>0</td>\n",
              "    </tr>\n",
              "    <tr>\n",
              "      <th>2</th>\n",
              "      <td>8</td>\n",
              "      <td>183</td>\n",
              "      <td>64</td>\n",
              "      <td>0</td>\n",
              "      <td>0</td>\n",
              "      <td>23.3</td>\n",
              "      <td>0.672</td>\n",
              "      <td>32</td>\n",
              "      <td>1</td>\n",
              "    </tr>\n",
              "    <tr>\n",
              "      <th>3</th>\n",
              "      <td>1</td>\n",
              "      <td>89</td>\n",
              "      <td>66</td>\n",
              "      <td>23</td>\n",
              "      <td>94</td>\n",
              "      <td>28.1</td>\n",
              "      <td>0.167</td>\n",
              "      <td>21</td>\n",
              "      <td>0</td>\n",
              "    </tr>\n",
              "    <tr>\n",
              "      <th>4</th>\n",
              "      <td>0</td>\n",
              "      <td>137</td>\n",
              "      <td>40</td>\n",
              "      <td>35</td>\n",
              "      <td>168</td>\n",
              "      <td>43.1</td>\n",
              "      <td>2.288</td>\n",
              "      <td>33</td>\n",
              "      <td>1</td>\n",
              "    </tr>\n",
              "  </tbody>\n",
              "</table>\n",
              "</div>\n",
              "    <div class=\"colab-df-buttons\">\n",
              "\n",
              "  <div class=\"colab-df-container\">\n",
              "    <button class=\"colab-df-convert\" onclick=\"convertToInteractive('df-ee95de86-5363-4b84-81fb-a18fe92eb3f6')\"\n",
              "            title=\"Convert this dataframe to an interactive table.\"\n",
              "            style=\"display:none;\">\n",
              "\n",
              "  <svg xmlns=\"http://www.w3.org/2000/svg\" height=\"24px\" viewBox=\"0 -960 960 960\">\n",
              "    <path d=\"M120-120v-720h720v720H120Zm60-500h600v-160H180v160Zm220 220h160v-160H400v160Zm0 220h160v-160H400v160ZM180-400h160v-160H180v160Zm440 0h160v-160H620v160ZM180-180h160v-160H180v160Zm440 0h160v-160H620v160Z\"/>\n",
              "  </svg>\n",
              "    </button>\n",
              "\n",
              "  <style>\n",
              "    .colab-df-container {\n",
              "      display:flex;\n",
              "      gap: 12px;\n",
              "    }\n",
              "\n",
              "    .colab-df-convert {\n",
              "      background-color: #E8F0FE;\n",
              "      border: none;\n",
              "      border-radius: 50%;\n",
              "      cursor: pointer;\n",
              "      display: none;\n",
              "      fill: #1967D2;\n",
              "      height: 32px;\n",
              "      padding: 0 0 0 0;\n",
              "      width: 32px;\n",
              "    }\n",
              "\n",
              "    .colab-df-convert:hover {\n",
              "      background-color: #E2EBFA;\n",
              "      box-shadow: 0px 1px 2px rgba(60, 64, 67, 0.3), 0px 1px 3px 1px rgba(60, 64, 67, 0.15);\n",
              "      fill: #174EA6;\n",
              "    }\n",
              "\n",
              "    .colab-df-buttons div {\n",
              "      margin-bottom: 4px;\n",
              "    }\n",
              "\n",
              "    [theme=dark] .colab-df-convert {\n",
              "      background-color: #3B4455;\n",
              "      fill: #D2E3FC;\n",
              "    }\n",
              "\n",
              "    [theme=dark] .colab-df-convert:hover {\n",
              "      background-color: #434B5C;\n",
              "      box-shadow: 0px 1px 3px 1px rgba(0, 0, 0, 0.15);\n",
              "      filter: drop-shadow(0px 1px 2px rgba(0, 0, 0, 0.3));\n",
              "      fill: #FFFFFF;\n",
              "    }\n",
              "  </style>\n",
              "\n",
              "    <script>\n",
              "      const buttonEl =\n",
              "        document.querySelector('#df-ee95de86-5363-4b84-81fb-a18fe92eb3f6 button.colab-df-convert');\n",
              "      buttonEl.style.display =\n",
              "        google.colab.kernel.accessAllowed ? 'block' : 'none';\n",
              "\n",
              "      async function convertToInteractive(key) {\n",
              "        const element = document.querySelector('#df-ee95de86-5363-4b84-81fb-a18fe92eb3f6');\n",
              "        const dataTable =\n",
              "          await google.colab.kernel.invokeFunction('convertToInteractive',\n",
              "                                                    [key], {});\n",
              "        if (!dataTable) return;\n",
              "\n",
              "        const docLinkHtml = 'Like what you see? Visit the ' +\n",
              "          '<a target=\"_blank\" href=https://colab.research.google.com/notebooks/data_table.ipynb>data table notebook</a>'\n",
              "          + ' to learn more about interactive tables.';\n",
              "        element.innerHTML = '';\n",
              "        dataTable['output_type'] = 'display_data';\n",
              "        await google.colab.output.renderOutput(dataTable, element);\n",
              "        const docLink = document.createElement('div');\n",
              "        docLink.innerHTML = docLinkHtml;\n",
              "        element.appendChild(docLink);\n",
              "      }\n",
              "    </script>\n",
              "  </div>\n",
              "\n",
              "\n",
              "<div id=\"df-1edb7404-8d40-43ae-94c6-d143da860d65\">\n",
              "  <button class=\"colab-df-quickchart\" onclick=\"quickchart('df-1edb7404-8d40-43ae-94c6-d143da860d65')\"\n",
              "            title=\"Suggest charts\"\n",
              "            style=\"display:none;\">\n",
              "\n",
              "<svg xmlns=\"http://www.w3.org/2000/svg\" height=\"24px\"viewBox=\"0 0 24 24\"\n",
              "     width=\"24px\">\n",
              "    <g>\n",
              "        <path d=\"M19 3H5c-1.1 0-2 .9-2 2v14c0 1.1.9 2 2 2h14c1.1 0 2-.9 2-2V5c0-1.1-.9-2-2-2zM9 17H7v-7h2v7zm4 0h-2V7h2v10zm4 0h-2v-4h2v4z\"/>\n",
              "    </g>\n",
              "</svg>\n",
              "  </button>\n",
              "\n",
              "<style>\n",
              "  .colab-df-quickchart {\n",
              "      --bg-color: #E8F0FE;\n",
              "      --fill-color: #1967D2;\n",
              "      --hover-bg-color: #E2EBFA;\n",
              "      --hover-fill-color: #174EA6;\n",
              "      --disabled-fill-color: #AAA;\n",
              "      --disabled-bg-color: #DDD;\n",
              "  }\n",
              "\n",
              "  [theme=dark] .colab-df-quickchart {\n",
              "      --bg-color: #3B4455;\n",
              "      --fill-color: #D2E3FC;\n",
              "      --hover-bg-color: #434B5C;\n",
              "      --hover-fill-color: #FFFFFF;\n",
              "      --disabled-bg-color: #3B4455;\n",
              "      --disabled-fill-color: #666;\n",
              "  }\n",
              "\n",
              "  .colab-df-quickchart {\n",
              "    background-color: var(--bg-color);\n",
              "    border: none;\n",
              "    border-radius: 50%;\n",
              "    cursor: pointer;\n",
              "    display: none;\n",
              "    fill: var(--fill-color);\n",
              "    height: 32px;\n",
              "    padding: 0;\n",
              "    width: 32px;\n",
              "  }\n",
              "\n",
              "  .colab-df-quickchart:hover {\n",
              "    background-color: var(--hover-bg-color);\n",
              "    box-shadow: 0 1px 2px rgba(60, 64, 67, 0.3), 0 1px 3px 1px rgba(60, 64, 67, 0.15);\n",
              "    fill: var(--button-hover-fill-color);\n",
              "  }\n",
              "\n",
              "  .colab-df-quickchart-complete:disabled,\n",
              "  .colab-df-quickchart-complete:disabled:hover {\n",
              "    background-color: var(--disabled-bg-color);\n",
              "    fill: var(--disabled-fill-color);\n",
              "    box-shadow: none;\n",
              "  }\n",
              "\n",
              "  .colab-df-spinner {\n",
              "    border: 2px solid var(--fill-color);\n",
              "    border-color: transparent;\n",
              "    border-bottom-color: var(--fill-color);\n",
              "    animation:\n",
              "      spin 1s steps(1) infinite;\n",
              "  }\n",
              "\n",
              "  @keyframes spin {\n",
              "    0% {\n",
              "      border-color: transparent;\n",
              "      border-bottom-color: var(--fill-color);\n",
              "      border-left-color: var(--fill-color);\n",
              "    }\n",
              "    20% {\n",
              "      border-color: transparent;\n",
              "      border-left-color: var(--fill-color);\n",
              "      border-top-color: var(--fill-color);\n",
              "    }\n",
              "    30% {\n",
              "      border-color: transparent;\n",
              "      border-left-color: var(--fill-color);\n",
              "      border-top-color: var(--fill-color);\n",
              "      border-right-color: var(--fill-color);\n",
              "    }\n",
              "    40% {\n",
              "      border-color: transparent;\n",
              "      border-right-color: var(--fill-color);\n",
              "      border-top-color: var(--fill-color);\n",
              "    }\n",
              "    60% {\n",
              "      border-color: transparent;\n",
              "      border-right-color: var(--fill-color);\n",
              "    }\n",
              "    80% {\n",
              "      border-color: transparent;\n",
              "      border-right-color: var(--fill-color);\n",
              "      border-bottom-color: var(--fill-color);\n",
              "    }\n",
              "    90% {\n",
              "      border-color: transparent;\n",
              "      border-bottom-color: var(--fill-color);\n",
              "    }\n",
              "  }\n",
              "</style>\n",
              "\n",
              "  <script>\n",
              "    async function quickchart(key) {\n",
              "      const quickchartButtonEl =\n",
              "        document.querySelector('#' + key + ' button');\n",
              "      quickchartButtonEl.disabled = true;  // To prevent multiple clicks.\n",
              "      quickchartButtonEl.classList.add('colab-df-spinner');\n",
              "      try {\n",
              "        const charts = await google.colab.kernel.invokeFunction(\n",
              "            'suggestCharts', [key], {});\n",
              "      } catch (error) {\n",
              "        console.error('Error during call to suggestCharts:', error);\n",
              "      }\n",
              "      quickchartButtonEl.classList.remove('colab-df-spinner');\n",
              "      quickchartButtonEl.classList.add('colab-df-quickchart-complete');\n",
              "    }\n",
              "    (() => {\n",
              "      let quickchartButtonEl =\n",
              "        document.querySelector('#df-1edb7404-8d40-43ae-94c6-d143da860d65 button');\n",
              "      quickchartButtonEl.style.display =\n",
              "        google.colab.kernel.accessAllowed ? 'block' : 'none';\n",
              "    })();\n",
              "  </script>\n",
              "</div>\n",
              "\n",
              "    </div>\n",
              "  </div>\n"
            ],
            "application/vnd.google.colaboratory.intrinsic+json": {
              "type": "dataframe",
              "variable_name": "df",
              "summary": "{\n  \"name\": \"df\",\n  \"rows\": 768,\n  \"fields\": [\n    {\n      \"column\": \"Pregnancies\",\n      \"properties\": {\n        \"dtype\": \"number\",\n        \"std\": 3,\n        \"min\": 0,\n        \"max\": 17,\n        \"num_unique_values\": 17,\n        \"samples\": [\n          6,\n          1,\n          3\n        ],\n        \"semantic_type\": \"\",\n        \"description\": \"\"\n      }\n    },\n    {\n      \"column\": \"Glucose\",\n      \"properties\": {\n        \"dtype\": \"number\",\n        \"std\": 31,\n        \"min\": 0,\n        \"max\": 199,\n        \"num_unique_values\": 136,\n        \"samples\": [\n          151,\n          101,\n          112\n        ],\n        \"semantic_type\": \"\",\n        \"description\": \"\"\n      }\n    },\n    {\n      \"column\": \"BloodPressure\",\n      \"properties\": {\n        \"dtype\": \"number\",\n        \"std\": 19,\n        \"min\": 0,\n        \"max\": 122,\n        \"num_unique_values\": 47,\n        \"samples\": [\n          86,\n          46,\n          85\n        ],\n        \"semantic_type\": \"\",\n        \"description\": \"\"\n      }\n    },\n    {\n      \"column\": \"SkinThickness\",\n      \"properties\": {\n        \"dtype\": \"number\",\n        \"std\": 15,\n        \"min\": 0,\n        \"max\": 99,\n        \"num_unique_values\": 51,\n        \"samples\": [\n          7,\n          12,\n          48\n        ],\n        \"semantic_type\": \"\",\n        \"description\": \"\"\n      }\n    },\n    {\n      \"column\": \"Insulin\",\n      \"properties\": {\n        \"dtype\": \"number\",\n        \"std\": 115,\n        \"min\": 0,\n        \"max\": 846,\n        \"num_unique_values\": 186,\n        \"samples\": [\n          52,\n          41,\n          183\n        ],\n        \"semantic_type\": \"\",\n        \"description\": \"\"\n      }\n    },\n    {\n      \"column\": \"BMI\",\n      \"properties\": {\n        \"dtype\": \"number\",\n        \"std\": 7.8841603203754405,\n        \"min\": 0.0,\n        \"max\": 67.1,\n        \"num_unique_values\": 248,\n        \"samples\": [\n          19.9,\n          31.0,\n          38.1\n        ],\n        \"semantic_type\": \"\",\n        \"description\": \"\"\n      }\n    },\n    {\n      \"column\": \"DiabetesPedigreeFunction\",\n      \"properties\": {\n        \"dtype\": \"number\",\n        \"std\": 0.33132859501277484,\n        \"min\": 0.078,\n        \"max\": 2.42,\n        \"num_unique_values\": 517,\n        \"samples\": [\n          1.731,\n          0.426,\n          0.138\n        ],\n        \"semantic_type\": \"\",\n        \"description\": \"\"\n      }\n    },\n    {\n      \"column\": \"Age\",\n      \"properties\": {\n        \"dtype\": \"number\",\n        \"std\": 11,\n        \"min\": 21,\n        \"max\": 81,\n        \"num_unique_values\": 52,\n        \"samples\": [\n          60,\n          47,\n          72\n        ],\n        \"semantic_type\": \"\",\n        \"description\": \"\"\n      }\n    },\n    {\n      \"column\": \"Outcome\",\n      \"properties\": {\n        \"dtype\": \"number\",\n        \"std\": 0,\n        \"min\": 0,\n        \"max\": 1,\n        \"num_unique_values\": 2,\n        \"samples\": [\n          0,\n          1\n        ],\n        \"semantic_type\": \"\",\n        \"description\": \"\"\n      }\n    }\n  ]\n}"
            }
          },
          "metadata": {},
          "execution_count": 2
        }
      ],
      "source": [
        "import optuna\n",
        "from sklearn.datasets import load_diabetes\n",
        "from sklearn.model_selection import train_test_split\n",
        "from sklearn.preprocessing import StandardScaler\n",
        "\n",
        "# Load the Pima Indian Diabetes dataset from sklearn\n",
        "# Note: Scikit-learn's built-in 'load_diabetes' is a regression dataset.\n",
        "# We will load the actual diabetes dataset from an external source\n",
        "import pandas as pd\n",
        "\n",
        "# Load the Pima Indian Diabetes dataset (from UCI repository)\n",
        "url = \"https://raw.githubusercontent.com/jbrownlee/Datasets/master/pima-indians-diabetes.data.csv\"\n",
        "columns = ['Pregnancies', 'Glucose', 'BloodPressure', 'SkinThickness', 'Insulin', 'BMI',\n",
        "           'DiabetesPedigreeFunction', 'Age', 'Outcome']\n",
        "\n",
        "# Load the dataset\n",
        "df = pd.read_csv(url, names=columns)\n",
        "\n",
        "df.head()"
      ]
    },
    {
      "cell_type": "code",
      "source": [
        "import numpy as np\n",
        "# replace zero with NaN in columns where zero is not a valid value\n",
        "cols_with_missing_vals=['Glucose', 'BloodPressure', 'SkinThickness', 'Insulin', 'BMI']\n",
        "df[cols_with_missing_vals]=df[cols_with_missing_vals].replace(0, np.nan)\n",
        "\n",
        "# impute missing vals with the mean of the respective column\n",
        "df.fillna(df.mean(), inplace=True)\n",
        "\n",
        "print(df.isnull().sum())"
      ],
      "metadata": {
        "colab": {
          "base_uri": "https://localhost:8080/"
        },
        "id": "lu3Do_SH5tyN",
        "outputId": "b1134615-804f-4c91-c032-619ad6a03f8e"
      },
      "execution_count": 4,
      "outputs": [
        {
          "output_type": "stream",
          "name": "stdout",
          "text": [
            "Pregnancies                 0\n",
            "Glucose                     0\n",
            "BloodPressure               0\n",
            "SkinThickness               0\n",
            "Insulin                     0\n",
            "BMI                         0\n",
            "DiabetesPedigreeFunction    0\n",
            "Age                         0\n",
            "Outcome                     0\n",
            "dtype: int64\n"
          ]
        }
      ]
    },
    {
      "cell_type": "code",
      "source": [
        "X = df.drop('Outcome', axis=1)\n",
        "y = df['Outcome']\n",
        "\n",
        "X_train, X_test, y_train, y_test = train_test_split(X, y, test_size=0.2, random_state=42)\n",
        "\n",
        "scaler = StandardScaler()\n",
        "X_train = scaler.fit_transform(X_train)\n",
        "X_test = scaler.transform(X_test)\n",
        "\n",
        "print(f'Training set shap: {X_train.shape}')\n",
        "print(f'Test set shape: {X_test.shape}')\n"
      ],
      "metadata": {
        "colab": {
          "base_uri": "https://localhost:8080/"
        },
        "id": "MSnEsNZg6hna",
        "outputId": "3b76b1ff-ccff-4a26-94f6-645302c032a2"
      },
      "execution_count": 5,
      "outputs": [
        {
          "output_type": "stream",
          "name": "stdout",
          "text": [
            "Training set shap: (614, 8)\n",
            "Test set shape: (154, 8)\n"
          ]
        }
      ]
    },
    {
      "cell_type": "code",
      "source": [
        "from sklearn.ensemble import RandomForestClassifier\n",
        "from sklearn.model_selection import cross_val_score\n",
        "\n",
        "# Define objective function\n",
        "def objective(trail):\n",
        "  # Suggest vals of hyperparameters:\n",
        "  n_estimators = trail.suggest_int('n_estimators', 50, 200)\n",
        "  max_depth = trail.suggest_int('max_depth', 3, 20)\n",
        "\n",
        "  # create RandomForestClassifier with suggest HP\n",
        "  model = RandomForestClassifier(\n",
        "      n_estimators=n_estimators,\n",
        "      max_depth=max_depth,\n",
        "      random_state=42\n",
        "  )\n",
        "  score = cross_val_score(model, X_train, y_train, cv=3, scoring='accuracy').mean()\n",
        "  return score # return the accuracy score for Optuna to maximize"
      ],
      "metadata": {
        "id": "H7LuQBRf7IEU"
      },
      "execution_count": 24,
      "outputs": []
    },
    {
      "cell_type": "code",
      "source": [
        "study = optuna.create_study(direction='maximize', sampler=optuna.samplers.TPESampler())\n",
        "study.optimize(objective, n_trials=50)"
      ],
      "metadata": {
        "colab": {
          "base_uri": "https://localhost:8080/"
        },
        "id": "q6u7PJmW8JDu",
        "outputId": "c7e711b4-d27a-4a12-89ff-d675b2892ee5"
      },
      "execution_count": 25,
      "outputs": [
        {
          "output_type": "stream",
          "name": "stderr",
          "text": [
            "[I 2025-03-20 14:42:51,753] A new study created in memory with name: no-name-5e93ec69-e703-4777-b5e4-dba40bbabdc3\n",
            "[I 2025-03-20 14:42:52,274] Trial 0 finished with value: 0.7687151283277539 and parameters: {'n_estimators': 107, 'max_depth': 8}. Best is trial 0 with value: 0.7687151283277539.\n",
            "[I 2025-03-20 14:42:52,971] Trial 1 finished with value: 0.7817471704128806 and parameters: {'n_estimators': 134, 'max_depth': 13}. Best is trial 1 with value: 0.7817471704128806.\n",
            "[I 2025-03-20 14:42:53,894] Trial 2 finished with value: 0.7622030926191615 and parameters: {'n_estimators': 198, 'max_depth': 7}. Best is trial 1 with value: 0.7817471704128806.\n",
            "[I 2025-03-20 14:42:54,638] Trial 3 finished with value: 0.7784712258887295 and parameters: {'n_estimators': 151, 'max_depth': 16}. Best is trial 1 with value: 0.7817471704128806.\n",
            "[I 2025-03-20 14:42:55,331] Trial 4 finished with value: 0.7817391997449387 and parameters: {'n_estimators': 141, 'max_depth': 16}. Best is trial 1 with value: 0.7817471704128806.\n",
            "[I 2025-03-20 14:42:55,582] Trial 5 finished with value: 0.7540570699824646 and parameters: {'n_estimators': 59, 'max_depth': 3}. Best is trial 1 with value: 0.7817471704128806.\n",
            "[I 2025-03-20 14:42:56,030] Trial 6 finished with value: 0.7703331739199745 and parameters: {'n_estimators': 95, 'max_depth': 7}. Best is trial 1 with value: 0.7817471704128806.\n",
            "[I 2025-03-20 14:42:56,512] Trial 7 finished with value: 0.7736091184441256 and parameters: {'n_estimators': 99, 'max_depth': 14}. Best is trial 1 with value: 0.7817471704128806.\n",
            "[I 2025-03-20 14:42:56,792] Trial 8 finished with value: 0.7703331739199745 and parameters: {'n_estimators': 56, 'max_depth': 10}. Best is trial 1 with value: 0.7817471704128806.\n",
            "[I 2025-03-20 14:42:57,418] Trial 9 finished with value: 0.7817631117487646 and parameters: {'n_estimators': 126, 'max_depth': 14}. Best is trial 9 with value: 0.7817631117487646.\n",
            "[I 2025-03-20 14:42:58,275] Trial 10 finished with value: 0.771967160848079 and parameters: {'n_estimators': 175, 'max_depth': 20}. Best is trial 9 with value: 0.7817631117487646.\n",
            "[I 2025-03-20 14:42:58,901] Trial 11 finished with value: 0.7752431053722302 and parameters: {'n_estimators': 129, 'max_depth': 12}. Best is trial 9 with value: 0.7817631117487646.\n",
            "[I 2025-03-20 14:42:59,689] Trial 12 finished with value: 0.7768452096285668 and parameters: {'n_estimators': 160, 'max_depth': 14}. Best is trial 9 with value: 0.7817631117487646.\n",
            "[I 2025-03-20 14:43:00,540] Trial 13 finished with value: 0.7784951378925554 and parameters: {'n_estimators': 117, 'max_depth': 19}. Best is trial 9 with value: 0.7817631117487646.\n",
            "[I 2025-03-20 14:43:01,164] Trial 14 finished with value: 0.7654710664753707 and parameters: {'n_estimators': 79, 'max_depth': 11}. Best is trial 9 with value: 0.7817631117487646.\n",
            "[I 2025-03-20 14:43:02,168] Trial 15 finished with value: 0.78012912482066 and parameters: {'n_estimators': 133, 'max_depth': 17}. Best is trial 9 with value: 0.7817631117487646.\n",
            "[I 2025-03-20 14:43:03,046] Trial 16 finished with value: 0.780113183484776 and parameters: {'n_estimators': 173, 'max_depth': 13}. Best is trial 9 with value: 0.7817631117487646.\n",
            "[I 2025-03-20 14:43:03,621] Trial 17 finished with value: 0.7784871672246134 and parameters: {'n_estimators': 115, 'max_depth': 10}. Best is trial 9 with value: 0.7817631117487646.\n",
            "[I 2025-03-20 14:43:04,058] Trial 18 finished with value: 0.7719990435198469 and parameters: {'n_estimators': 86, 'max_depth': 18}. Best is trial 9 with value: 0.7817631117487646.\n",
            "[I 2025-03-20 14:43:04,799] Trial 19 finished with value: 0.7817312290769967 and parameters: {'n_estimators': 148, 'max_depth': 14}. Best is trial 9 with value: 0.7817631117487646.\n",
            "[I 2025-03-20 14:43:05,545] Trial 20 finished with value: 0.7573250438386737 and parameters: {'n_estimators': 169, 'max_depth': 4}. Best is trial 9 with value: 0.7817631117487646.\n",
            "[I 2025-03-20 14:43:06,228] Trial 21 finished with value: 0.7833811573409851 and parameters: {'n_estimators': 138, 'max_depth': 16}. Best is trial 21 with value: 0.7833811573409851.\n",
            "[I 2025-03-20 14:43:06,865] Trial 22 finished with value: 0.7817471704128806 and parameters: {'n_estimators': 125, 'max_depth': 16}. Best is trial 21 with value: 0.7833811573409851.\n",
            "[I 2025-03-20 14:43:07,570] Trial 23 finished with value: 0.7768452096285668 and parameters: {'n_estimators': 140, 'max_depth': 15}. Best is trial 21 with value: 0.7833811573409851.\n",
            "[I 2025-03-20 14:43:08,173] Trial 24 finished with value: 0.7752351347042882 and parameters: {'n_estimators': 121, 'max_depth': 12}. Best is trial 21 with value: 0.7833811573409851.\n",
            "[I 2025-03-20 14:43:08,973] Trial 25 finished with value: 0.771967160848079 and parameters: {'n_estimators': 159, 'max_depth': 18}. Best is trial 21 with value: 0.7833811573409851.\n",
            "[I 2025-03-20 14:43:09,524] Trial 26 finished with value: 0.7882751474573569 and parameters: {'n_estimators': 110, 'max_depth': 13}. Best is trial 26 with value: 0.7882751474573569.\n",
            "[I 2025-03-20 14:43:10,056] Trial 27 finished with value: 0.7752351347042882 and parameters: {'n_estimators': 108, 'max_depth': 10}. Best is trial 26 with value: 0.7882751474573569.\n",
            "[I 2025-03-20 14:43:10,467] Trial 28 finished with value: 0.771983102183963 and parameters: {'n_estimators': 80, 'max_depth': 15}. Best is trial 26 with value: 0.7882751474573569.\n",
            "[I 2025-03-20 14:43:11,014] Trial 29 finished with value: 0.7768770923003347 and parameters: {'n_estimators': 110, 'max_depth': 17}. Best is trial 26 with value: 0.7882751474573569.\n",
            "[I 2025-03-20 14:43:11,520] Trial 30 finished with value: 0.760561135023115 and parameters: {'n_estimators': 102, 'max_depth': 9}. Best is trial 26 with value: 0.7882751474573569.\n",
            "[I 2025-03-20 14:43:12,237] Trial 31 finished with value: 0.7833811573409851 and parameters: {'n_estimators': 132, 'max_depth': 13}. Best is trial 26 with value: 0.7882751474573569.\n",
            "[I 2025-03-20 14:43:13,419] Trial 32 finished with value: 0.7817631117487646 and parameters: {'n_estimators': 144, 'max_depth': 12}. Best is trial 26 with value: 0.7882751474573569.\n",
            "[I 2025-03-20 14:43:14,429] Trial 33 finished with value: 0.7833811573409851 and parameters: {'n_estimators': 131, 'max_depth': 13}. Best is trial 26 with value: 0.7882751474573569.\n",
            "[I 2025-03-20 14:43:15,227] Trial 34 finished with value: 0.7849992029332058 and parameters: {'n_estimators': 156, 'max_depth': 13}. Best is trial 26 with value: 0.7882751474573569.\n",
            "[I 2025-03-20 14:43:16,190] Trial 35 finished with value: 0.7768452096285668 and parameters: {'n_estimators': 190, 'max_depth': 11}. Best is trial 26 with value: 0.7882751474573569.\n",
            "[I 2025-03-20 14:43:16,955] Trial 36 finished with value: 0.7736011477761836 and parameters: {'n_estimators': 157, 'max_depth': 8}. Best is trial 26 with value: 0.7882751474573569.\n",
            "[I 2025-03-20 14:43:17,665] Trial 37 finished with value: 0.7735931771082417 and parameters: {'n_estimators': 141, 'max_depth': 15}. Best is trial 26 with value: 0.7882751474573569.\n",
            "[I 2025-03-20 14:43:18,541] Trial 38 finished with value: 0.7784791965566714 and parameters: {'n_estimators': 180, 'max_depth': 16}. Best is trial 26 with value: 0.7882751474573569.\n",
            "[I 2025-03-20 14:43:19,278] Trial 39 finished with value: 0.780113183484776 and parameters: {'n_estimators': 150, 'max_depth': 13}. Best is trial 26 with value: 0.7882751474573569.\n",
            "[I 2025-03-20 14:43:19,901] Trial 40 finished with value: 0.7703252032520326 and parameters: {'n_estimators': 135, 'max_depth': 5}. Best is trial 26 with value: 0.7882751474573569.\n",
            "[I 2025-03-20 14:43:20,562] Trial 41 finished with value: 0.7817471704128806 and parameters: {'n_estimators': 134, 'max_depth': 13}. Best is trial 26 with value: 0.7882751474573569.\n",
            "[I 2025-03-20 14:43:21,379] Trial 42 finished with value: 0.7817471704128806 and parameters: {'n_estimators': 166, 'max_depth': 13}. Best is trial 26 with value: 0.7882751474573569.\n",
            "[I 2025-03-20 14:43:21,836] Trial 43 finished with value: 0.7719910728519049 and parameters: {'n_estimators': 91, 'max_depth': 11}. Best is trial 26 with value: 0.7882751474573569.\n",
            "[I 2025-03-20 14:43:22,408] Trial 44 finished with value: 0.7850231149370317 and parameters: {'n_estimators': 116, 'max_depth': 14}. Best is trial 26 with value: 0.7882751474573569.\n",
            "[I 2025-03-20 14:43:23,013] Trial 45 finished with value: 0.7752351347042882 and parameters: {'n_estimators': 115, 'max_depth': 15}. Best is trial 26 with value: 0.7882751474573569.\n",
            "[I 2025-03-20 14:43:23,531] Trial 46 finished with value: 0.771983102183963 and parameters: {'n_estimators': 100, 'max_depth': 14}. Best is trial 26 with value: 0.7882751474573569.\n",
            "[I 2025-03-20 14:43:24,309] Trial 47 finished with value: 0.7703252032520326 and parameters: {'n_estimators': 154, 'max_depth': 17}. Best is trial 26 with value: 0.7882751474573569.\n",
            "[I 2025-03-20 14:43:24,825] Trial 48 finished with value: 0.7785110792284393 and parameters: {'n_estimators': 66, 'max_depth': 12}. Best is trial 26 with value: 0.7882751474573569.\n",
            "[I 2025-03-20 14:43:25,792] Trial 49 finished with value: 0.7817631117487646 and parameters: {'n_estimators': 125, 'max_depth': 14}. Best is trial 26 with value: 0.7882751474573569.\n"
          ]
        }
      ]
    },
    {
      "cell_type": "code",
      "source": [
        "print(f'Best trial acc: {study.best_trial.value}')\n",
        "print(f'Best hyperparameters: {study.best_trial.params}')"
      ],
      "metadata": {
        "colab": {
          "base_uri": "https://localhost:8080/"
        },
        "id": "Kao_UFya8hMY",
        "outputId": "13def116-39a0-4461-80c7-96b35a5dfece"
      },
      "execution_count": 26,
      "outputs": [
        {
          "output_type": "stream",
          "name": "stdout",
          "text": [
            "Best trial acc: 0.7882751474573569\n",
            "Best hyperparameters: {'n_estimators': 110, 'max_depth': 13}\n"
          ]
        }
      ]
    },
    {
      "cell_type": "code",
      "source": [
        "from sklearn.metrics import accuracy_score\n",
        "\n",
        "best_model = RandomForestClassifier(**study.best_trial.params, random_state=42)\n",
        "best_model.fit(X_train, y_train)\n",
        "y_pred = best_model.predict(X_test)\n",
        "test_accuracy = accuracy_score(y_test, y_pred)\n",
        "\n",
        "print(f'Test accuracy with best hyperparameters: {test_accuracy:.2f}')"
      ],
      "metadata": {
        "colab": {
          "base_uri": "https://localhost:8080/"
        },
        "id": "5NGZhi5E9j8Z",
        "outputId": "353e70fd-0143-41d4-a5b3-50bae19cca45"
      },
      "execution_count": 27,
      "outputs": [
        {
          "output_type": "stream",
          "name": "stdout",
          "text": [
            "Test accuracy with best hyperparameters: 0.75\n"
          ]
        }
      ]
    },
    {
      "cell_type": "markdown",
      "source": [
        "## Sampler in optuna"
      ],
      "metadata": {
        "id": "iZnCIPp6-Ba9"
      }
    },
    {
      "cell_type": "code",
      "source": [
        "from sklearn.ensemble import RandomForestClassifier\n",
        "from sklearn.model_selection import cross_val_score\n",
        "\n",
        "# Define objective function\n",
        "def objective(trail):\n",
        "  # Suggest vals of hyperparameters:\n",
        "  n_estimators = trail.suggest_int('n_estimators', 50, 200)\n",
        "  max_depth = trail.suggest_int('max_depth', 3, 20)\n",
        "\n",
        "  # create RandomForestClassifier with suggest HP\n",
        "  model = RandomForestClassifier(\n",
        "      n_estimators=n_estimators,\n",
        "      max_depth=max_depth,\n",
        "      random_state=42\n",
        "  )\n",
        "  score = cross_val_score(model, X_train, y_train, cv=3, scoring='accuracy').mean()\n",
        "  return score # return the accuracy score for Optuna to maximize"
      ],
      "metadata": {
        "id": "9LRJEAS7-HaC"
      },
      "execution_count": 12,
      "outputs": []
    },
    {
      "cell_type": "code",
      "source": [
        "study = optuna.create_study(direction='maximize', sampler=optuna.samplers.RandomSampler())\n",
        "study.optimize(objective, n_trials=50)"
      ],
      "metadata": {
        "colab": {
          "base_uri": "https://localhost:8080/"
        },
        "id": "tnKyDevX-ev6",
        "outputId": "77b01257-6fb4-4189-d1cd-f667a82039db"
      },
      "execution_count": 13,
      "outputs": [
        {
          "output_type": "stream",
          "name": "stderr",
          "text": [
            "[I 2025-03-20 14:34:59,090] A new study created in memory with name: no-name-68a43549-bca8-4ff8-945d-611a1a923f63\n",
            "[I 2025-03-20 14:35:00,514] Trial 0 finished with value: 0.7882751474573569 and parameters: {'n_estimators': 122, 'max_depth': 13}. Best is trial 0 with value: 0.7882751474573569.\n",
            "[I 2025-03-20 14:35:01,212] Trial 1 finished with value: 0.771975131516021 and parameters: {'n_estimators': 80, 'max_depth': 20}. Best is trial 0 with value: 0.7882751474573569.\n",
            "[I 2025-03-20 14:35:01,819] Trial 2 finished with value: 0.7752351347042882 and parameters: {'n_estimators': 73, 'max_depth': 17}. Best is trial 0 with value: 0.7882751474573569.\n",
            "[I 2025-03-20 14:35:03,247] Trial 3 finished with value: 0.7670731707317073 and parameters: {'n_estimators': 193, 'max_depth': 6}. Best is trial 0 with value: 0.7882751474573569.\n",
            "[I 2025-03-20 14:35:04,601] Trial 4 finished with value: 0.7801052128168341 and parameters: {'n_estimators': 180, 'max_depth': 14}. Best is trial 0 with value: 0.7882751474573569.\n",
            "[I 2025-03-20 14:35:05,499] Trial 5 finished with value: 0.7719512195121951 and parameters: {'n_estimators': 153, 'max_depth': 19}. Best is trial 0 with value: 0.7882751474573569.\n",
            "[I 2025-03-20 14:35:05,833] Trial 6 finished with value: 0.7817631117487646 and parameters: {'n_estimators': 68, 'max_depth': 12}. Best is trial 0 with value: 0.7882751474573569.\n",
            "[I 2025-03-20 14:35:06,717] Trial 7 finished with value: 0.771975131516021 and parameters: {'n_estimators': 183, 'max_depth': 18}. Best is trial 0 with value: 0.7882751474573569.\n",
            "[I 2025-03-20 14:35:07,189] Trial 8 finished with value: 0.7703650565917424 and parameters: {'n_estimators': 98, 'max_depth': 6}. Best is trial 0 with value: 0.7882751474573569.\n",
            "[I 2025-03-20 14:35:08,097] Trial 9 finished with value: 0.7703411445879165 and parameters: {'n_estimators': 184, 'max_depth': 17}. Best is trial 0 with value: 0.7882751474573569.\n",
            "[I 2025-03-20 14:35:08,543] Trial 10 finished with value: 0.7703491152558585 and parameters: {'n_estimators': 91, 'max_depth': 14}. Best is trial 0 with value: 0.7882751474573569.\n",
            "[I 2025-03-20 14:35:09,086] Trial 11 finished with value: 0.7833891280089271 and parameters: {'n_estimators': 111, 'max_depth': 14}. Best is trial 0 with value: 0.7882751474573569.\n",
            "[I 2025-03-20 14:35:09,622] Trial 12 finished with value: 0.7850231149370317 and parameters: {'n_estimators': 112, 'max_depth': 14}. Best is trial 0 with value: 0.7882751474573569.\n",
            "[I 2025-03-20 14:35:10,136] Trial 13 finished with value: 0.7736091184441256 and parameters: {'n_estimators': 111, 'max_depth': 6}. Best is trial 0 with value: 0.7882751474573569.\n",
            "[I 2025-03-20 14:35:10,666] Trial 14 finished with value: 0.7670891120675912 and parameters: {'n_estimators': 114, 'max_depth': 7}. Best is trial 0 with value: 0.7882751474573569.\n",
            "[I 2025-03-20 14:35:11,259] Trial 15 finished with value: 0.7638291088793241 and parameters: {'n_estimators': 124, 'max_depth': 7}. Best is trial 0 with value: 0.7882751474573569.\n",
            "[I 2025-03-20 14:35:11,623] Trial 16 finished with value: 0.75242308305436 and parameters: {'n_estimators': 82, 'max_depth': 3}. Best is trial 0 with value: 0.7882751474573569.\n",
            "[I 2025-03-20 14:35:11,900] Trial 17 finished with value: 0.7670731707317073 and parameters: {'n_estimators': 62, 'max_depth': 5}. Best is trial 0 with value: 0.7882751474573569.\n",
            "[I 2025-03-20 14:35:12,685] Trial 18 finished with value: 0.75242308305436 and parameters: {'n_estimators': 184, 'max_depth': 3}. Best is trial 0 with value: 0.7882751474573569.\n",
            "[I 2025-03-20 14:35:12,978] Trial 19 finished with value: 0.7687151283277539 and parameters: {'n_estimators': 66, 'max_depth': 5}. Best is trial 0 with value: 0.7882751474573569.\n",
            "[I 2025-03-20 14:35:13,568] Trial 20 finished with value: 0.7736011477761836 and parameters: {'n_estimators': 123, 'max_depth': 9}. Best is trial 0 with value: 0.7882751474573569.\n",
            "[I 2025-03-20 14:35:14,431] Trial 21 finished with value: 0.7785031085604973 and parameters: {'n_estimators': 178, 'max_depth': 12}. Best is trial 0 with value: 0.7882751474573569.\n",
            "[I 2025-03-20 14:35:14,938] Trial 22 finished with value: 0.7475370636059302 and parameters: {'n_estimators': 119, 'max_depth': 3}. Best is trial 0 with value: 0.7882751474573569.\n",
            "[I 2025-03-20 14:35:15,320] Trial 23 finished with value: 0.7573091025027897 and parameters: {'n_estimators': 53, 'max_depth': 3}. Best is trial 0 with value: 0.7882751474573569.\n",
            "[I 2025-03-20 14:35:16,744] Trial 24 finished with value: 0.780121154152718 and parameters: {'n_estimators': 187, 'max_depth': 12}. Best is trial 0 with value: 0.7882751474573569.\n",
            "[I 2025-03-20 14:35:17,638] Trial 25 finished with value: 0.7752032520325204 and parameters: {'n_estimators': 152, 'max_depth': 10}. Best is trial 0 with value: 0.7882751474573569.\n",
            "[I 2025-03-20 14:35:17,917] Trial 26 finished with value: 0.7703411445879165 and parameters: {'n_estimators': 56, 'max_depth': 15}. Best is trial 0 with value: 0.7882751474573569.\n",
            "[I 2025-03-20 14:35:18,788] Trial 27 finished with value: 0.771967160848079 and parameters: {'n_estimators': 175, 'max_depth': 20}. Best is trial 0 with value: 0.7882751474573569.\n",
            "[I 2025-03-20 14:35:19,461] Trial 28 finished with value: 0.7735852064402997 and parameters: {'n_estimators': 153, 'max_depth': 5}. Best is trial 0 with value: 0.7882751474573569.\n",
            "[I 2025-03-20 14:35:20,178] Trial 29 finished with value: 0.7817391997449387 and parameters: {'n_estimators': 151, 'max_depth': 14}. Best is trial 0 with value: 0.7882751474573569.\n",
            "[I 2025-03-20 14:35:20,566] Trial 30 finished with value: 0.771983102183963 and parameters: {'n_estimators': 78, 'max_depth': 20}. Best is trial 0 with value: 0.7882751474573569.\n",
            "[I 2025-03-20 14:35:20,923] Trial 31 finished with value: 0.7817631117487646 and parameters: {'n_estimators': 72, 'max_depth': 13}. Best is trial 0 with value: 0.7882751474573569.\n",
            "[I 2025-03-20 14:35:22,380] Trial 32 finished with value: 0.7540570699824646 and parameters: {'n_estimators': 183, 'max_depth': 3}. Best is trial 0 with value: 0.7882751474573569.\n",
            "[I 2025-03-20 14:35:22,846] Trial 33 finished with value: 0.7703491152558585 and parameters: {'n_estimators': 53, 'max_depth': 6}. Best is trial 0 with value: 0.7882751474573569.\n",
            "[I 2025-03-20 14:35:24,023] Trial 34 finished with value: 0.7882751474573569 and parameters: {'n_estimators': 111, 'max_depth': 13}. Best is trial 0 with value: 0.7882751474573569.\n",
            "[I 2025-03-20 14:35:25,869] Trial 35 finished with value: 0.7735931771082417 and parameters: {'n_estimators': 196, 'max_depth': 16}. Best is trial 0 with value: 0.7882751474573569.\n",
            "[I 2025-03-20 14:35:26,395] Trial 36 finished with value: 0.7785031085604973 and parameters: {'n_estimators': 61, 'max_depth': 12}. Best is trial 0 with value: 0.7882751474573569.\n",
            "[I 2025-03-20 14:35:28,354] Trial 37 finished with value: 0.7768611509644509 and parameters: {'n_estimators': 200, 'max_depth': 15}. Best is trial 0 with value: 0.7882751474573569.\n",
            "[I 2025-03-20 14:35:30,505] Trial 38 finished with value: 0.7703331739199745 and parameters: {'n_estimators': 195, 'max_depth': 17}. Best is trial 0 with value: 0.7882751474573569.\n",
            "[I 2025-03-20 14:35:31,615] Trial 39 finished with value: 0.7784791965566714 and parameters: {'n_estimators': 186, 'max_depth': 5}. Best is trial 0 with value: 0.7882751474573569.\n",
            "[I 2025-03-20 14:35:32,564] Trial 40 finished with value: 0.7752271640363463 and parameters: {'n_estimators': 196, 'max_depth': 13}. Best is trial 0 with value: 0.7882751474573569.\n",
            "[I 2025-03-20 14:35:33,373] Trial 41 finished with value: 0.780113183484776 and parameters: {'n_estimators': 168, 'max_depth': 13}. Best is trial 0 with value: 0.7882751474573569.\n",
            "[I 2025-03-20 14:35:33,954] Trial 42 finished with value: 0.7524390243902439 and parameters: {'n_estimators': 139, 'max_depth': 3}. Best is trial 0 with value: 0.7882751474573569.\n",
            "[I 2025-03-20 14:35:34,221] Trial 43 finished with value: 0.7573011318348478 and parameters: {'n_estimators': 56, 'max_depth': 8}. Best is trial 0 with value: 0.7882751474573569.\n",
            "[I 2025-03-20 14:35:34,885] Trial 44 finished with value: 0.771975131516021 and parameters: {'n_estimators': 146, 'max_depth': 6}. Best is trial 0 with value: 0.7882751474573569.\n",
            "[I 2025-03-20 14:35:35,613] Trial 45 finished with value: 0.7768770923003347 and parameters: {'n_estimators': 153, 'max_depth': 12}. Best is trial 0 with value: 0.7882751474573569.\n",
            "[I 2025-03-20 14:35:36,249] Trial 46 finished with value: 0.7768770923003347 and parameters: {'n_estimators': 132, 'max_depth': 12}. Best is trial 0 with value: 0.7882751474573569.\n",
            "[I 2025-03-20 14:35:36,869] Trial 47 finished with value: 0.7817551410808226 and parameters: {'n_estimators': 129, 'max_depth': 17}. Best is trial 0 with value: 0.7882751474573569.\n",
            "[I 2025-03-20 14:35:37,177] Trial 48 finished with value: 0.7621871512832775 and parameters: {'n_estimators': 62, 'max_depth': 11}. Best is trial 0 with value: 0.7882751474573569.\n",
            "[I 2025-03-20 14:35:37,977] Trial 49 finished with value: 0.7784791965566714 and parameters: {'n_estimators': 164, 'max_depth': 11}. Best is trial 0 with value: 0.7882751474573569.\n"
          ]
        }
      ]
    },
    {
      "cell_type": "code",
      "source": [
        "print(f'Best trial acc: {study.best_trial.value}')\n",
        "print(f'Best hyperparameters: {study.best_trial.params}')"
      ],
      "metadata": {
        "colab": {
          "base_uri": "https://localhost:8080/"
        },
        "id": "Xmcdfo7v-pTi",
        "outputId": "7b458a98-b693-4705-c5bc-cde3e781ff4c"
      },
      "execution_count": 14,
      "outputs": [
        {
          "output_type": "stream",
          "name": "stdout",
          "text": [
            "Best trial acc: 0.7882751474573569\n",
            "Best hyperparameters: {'n_estimators': 122, 'max_depth': 13}\n"
          ]
        }
      ]
    },
    {
      "cell_type": "code",
      "source": [
        "from sklearn.metrics import accuracy_score\n",
        "\n",
        "best_model = RandomForestClassifier(**study.best_trial.params, random_state=42)\n",
        "best_model.fit(X_train, y_train)\n",
        "y_pred = best_model.predict(X_test)\n",
        "test_accuracy = accuracy_score(y_test, y_pred)\n",
        "\n",
        "print(f'Test accuracy with best hyperparameters: {test_accuracy:.2f}')"
      ],
      "metadata": {
        "colab": {
          "base_uri": "https://localhost:8080/"
        },
        "id": "EfhIpE7B-vtd",
        "outputId": "0cabc660-38b4-424f-d0bc-d70b7e65fbc5"
      },
      "execution_count": 15,
      "outputs": [
        {
          "output_type": "stream",
          "name": "stdout",
          "text": [
            "Test accuracy with best hyperparameters: 0.76\n"
          ]
        }
      ]
    },
    {
      "cell_type": "code",
      "source": [
        "# Grid search in optuna\n",
        "screen_space =  {\n",
        "    'n_estimators': [50, 100, 150, 200],\n",
        "    'max_depth': [5, 10, 15, 20]\n",
        "}"
      ],
      "metadata": {
        "id": "vY-EoKK6-4US"
      },
      "execution_count": 16,
      "outputs": []
    },
    {
      "cell_type": "code",
      "source": [
        "study = optuna.create_study(direction='maximize', sampler=optuna.samplers.GridSampler(screen_space))\n",
        "study.optimize(objective, n_trials=50)"
      ],
      "metadata": {
        "colab": {
          "base_uri": "https://localhost:8080/"
        },
        "id": "d_2zLmoo_IM7",
        "outputId": "82efacc1-e396-4710-bc25-f5e2d79ac682"
      },
      "execution_count": 19,
      "outputs": [
        {
          "output_type": "stream",
          "name": "stderr",
          "text": [
            "[I 2025-03-20 14:38:29,242] A new study created in memory with name: no-name-8092bc3b-db92-4dc2-bc95-d7ca8e634550\n",
            "[I 2025-03-20 14:38:30,027] Trial 0 finished with value: 0.7654391838036028 and parameters: {'n_estimators': 100, 'max_depth': 5}. Best is trial 0 with value: 0.7654391838036028.\n",
            "[I 2025-03-20 14:38:31,138] Trial 1 finished with value: 0.7735772357723577 and parameters: {'n_estimators': 150, 'max_depth': 10}. Best is trial 1 with value: 0.7735772357723577.\n",
            "[I 2025-03-20 14:38:31,667] Trial 2 finished with value: 0.7687151283277539 and parameters: {'n_estimators': 50, 'max_depth': 15}. Best is trial 1 with value: 0.7735772357723577.\n",
            "[I 2025-03-20 14:38:32,507] Trial 3 finished with value: 0.7752351347042882 and parameters: {'n_estimators': 100, 'max_depth': 15}. Best is trial 3 with value: 0.7752351347042882.\n",
            "[I 2025-03-20 14:38:33,345] Trial 4 finished with value: 0.7703491152558585 and parameters: {'n_estimators': 100, 'max_depth': 20}. Best is trial 3 with value: 0.7752351347042882.\n",
            "[I 2025-03-20 14:38:33,809] Trial 5 finished with value: 0.7817391997449387 and parameters: {'n_estimators': 50, 'max_depth': 10}. Best is trial 5 with value: 0.7817391997449387.\n",
            "[I 2025-03-20 14:38:34,532] Trial 6 finished with value: 0.7719591901801371 and parameters: {'n_estimators': 150, 'max_depth': 5}. Best is trial 5 with value: 0.7817391997449387.\n",
            "[I 2025-03-20 14:38:35,472] Trial 7 finished with value: 0.7719591901801371 and parameters: {'n_estimators': 150, 'max_depth': 20}. Best is trial 5 with value: 0.7817391997449387.\n",
            "[I 2025-03-20 14:38:36,632] Trial 8 finished with value: 0.7784791965566714 and parameters: {'n_estimators': 150, 'max_depth': 15}. Best is trial 5 with value: 0.7817391997449387.\n",
            "[I 2025-03-20 14:38:37,781] Trial 9 finished with value: 0.7784712258887295 and parameters: {'n_estimators': 200, 'max_depth': 10}. Best is trial 5 with value: 0.7817391997449387.\n",
            "[I 2025-03-20 14:38:38,757] Trial 10 finished with value: 0.7719591901801371 and parameters: {'n_estimators': 200, 'max_depth': 20}. Best is trial 5 with value: 0.7817391997449387.\n",
            "[I 2025-03-20 14:38:39,744] Trial 11 finished with value: 0.7768611509644509 and parameters: {'n_estimators': 200, 'max_depth': 15}. Best is trial 5 with value: 0.7817391997449387.\n",
            "[I 2025-03-20 14:38:40,644] Trial 12 finished with value: 0.7768452096285668 and parameters: {'n_estimators': 200, 'max_depth': 5}. Best is trial 5 with value: 0.7817391997449387.\n",
            "[I 2025-03-20 14:38:40,881] Trial 13 finished with value: 0.7703411445879165 and parameters: {'n_estimators': 50, 'max_depth': 5}. Best is trial 5 with value: 0.7817391997449387.\n",
            "[I 2025-03-20 14:38:41,366] Trial 14 finished with value: 0.7752351347042882 and parameters: {'n_estimators': 100, 'max_depth': 10}. Best is trial 5 with value: 0.7817391997449387.\n",
            "[I 2025-03-20 14:38:41,605] Trial 15 finished with value: 0.7752112227004623 and parameters: {'n_estimators': 50, 'max_depth': 20}. Best is trial 5 with value: 0.7817391997449387.\n"
          ]
        }
      ]
    },
    {
      "cell_type": "code",
      "source": [
        "print(f'Best trial acc: {study.best_trial.value}')\n",
        "print(f'Best hyperparameters: {study.best_trial.params}')"
      ],
      "metadata": {
        "colab": {
          "base_uri": "https://localhost:8080/"
        },
        "id": "Fom5dPgO_Spg",
        "outputId": "905369d2-a562-4b52-b0f7-10f2bfd8eee3"
      },
      "execution_count": 20,
      "outputs": [
        {
          "output_type": "stream",
          "name": "stdout",
          "text": [
            "Best trial acc: 0.7817391997449387\n",
            "Best hyperparameters: {'n_estimators': 50, 'max_depth': 10}\n"
          ]
        }
      ]
    },
    {
      "cell_type": "code",
      "source": [
        "from sklearn.metrics import accuracy_score\n",
        "\n",
        "best_model = RandomForestClassifier(**study.best_trial.params, random_state=42)\n",
        "best_model.fit(X_train, y_train)\n",
        "y_pred = best_model.predict(X_test)\n",
        "test_accuracy = accuracy_score(y_test, y_pred)\n",
        "\n",
        "print(f'Test accuracy with best hyperparameters: {test_accuracy:.2f}')"
      ],
      "metadata": {
        "id": "16nIvfWg_08z",
        "outputId": "f4109aa2-b5cb-4cb7-a84b-2e719b95bc4e",
        "colab": {
          "base_uri": "https://localhost:8080/"
        }
      },
      "execution_count": 21,
      "outputs": [
        {
          "output_type": "stream",
          "name": "stdout",
          "text": [
            "Test accuracy with best hyperparameters: 0.75\n"
          ]
        }
      ]
    },
    {
      "cell_type": "markdown",
      "source": [
        "## Optuna visualisation"
      ],
      "metadata": {
        "id": "INSYKhln_55J"
      }
    },
    {
      "cell_type": "code",
      "source": [
        "from optuna.visualization import plot_optimization_history, plot_parallel_coordinate, plot_slice, plot_contour, plot_param_importances\n"
      ],
      "metadata": {
        "id": "gmwrtO28_3YD"
      },
      "execution_count": 22,
      "outputs": []
    },
    {
      "cell_type": "code",
      "source": [
        "plot_optimization_history(study).show()"
      ],
      "metadata": {
        "id": "RpVISzJTALeW",
        "outputId": "7fdeeb67-bab0-4a36-9094-c03a0d3fad10",
        "colab": {
          "base_uri": "https://localhost:8080/",
          "height": 542
        }
      },
      "execution_count": 28,
      "outputs": [
        {
          "output_type": "display_data",
          "data": {
            "text/html": [
              "<html>\n",
              "<head><meta charset=\"utf-8\" /></head>\n",
              "<body>\n",
              "    <div>            <script src=\"https://cdnjs.cloudflare.com/ajax/libs/mathjax/2.7.5/MathJax.js?config=TeX-AMS-MML_SVG\"></script><script type=\"text/javascript\">if (window.MathJax && window.MathJax.Hub && window.MathJax.Hub.Config) {window.MathJax.Hub.Config({SVG: {font: \"STIX-Web\"}});}</script>                <script type=\"text/javascript\">window.PlotlyConfig = {MathJaxConfig: 'local'};</script>\n",
              "        <script charset=\"utf-8\" src=\"https://cdn.plot.ly/plotly-2.35.2.min.js\"></script>                <div id=\"97913423-7765-458f-90a3-780c51daa323\" class=\"plotly-graph-div\" style=\"height:525px; width:100%;\"></div>            <script type=\"text/javascript\">                                    window.PLOTLYENV=window.PLOTLYENV || {};                                    if (document.getElementById(\"97913423-7765-458f-90a3-780c51daa323\")) {                    Plotly.newPlot(                        \"97913423-7765-458f-90a3-780c51daa323\",                        [{\"mode\":\"markers\",\"name\":\"Objective Value\",\"x\":[0,1,2,3,4,5,6,7,8,9,10,11,12,13,14,15,16,17,18,19,20,21,22,23,24,25,26,27,28,29,30,31,32,33,34,35,36,37,38,39,40,41,42,43,44,45,46,47,48,49],\"y\":[0.7687151283277539,0.7817471704128806,0.7622030926191615,0.7784712258887295,0.7817391997449387,0.7540570699824646,0.7703331739199745,0.7736091184441256,0.7703331739199745,0.7817631117487646,0.771967160848079,0.7752431053722302,0.7768452096285668,0.7784951378925554,0.7654710664753707,0.78012912482066,0.780113183484776,0.7784871672246134,0.7719990435198469,0.7817312290769967,0.7573250438386737,0.7833811573409851,0.7817471704128806,0.7768452096285668,0.7752351347042882,0.771967160848079,0.7882751474573569,0.7752351347042882,0.771983102183963,0.7768770923003347,0.760561135023115,0.7833811573409851,0.7817631117487646,0.7833811573409851,0.7849992029332058,0.7768452096285668,0.7736011477761836,0.7735931771082417,0.7784791965566714,0.780113183484776,0.7703252032520326,0.7817471704128806,0.7817471704128806,0.7719910728519049,0.7850231149370317,0.7752351347042882,0.771983102183963,0.7703252032520326,0.7785110792284393,0.7817631117487646],\"type\":\"scatter\"},{\"mode\":\"lines\",\"name\":\"Best Value\",\"x\":[0,1,2,3,4,5,6,7,8,9,10,11,12,13,14,15,16,17,18,19,20,21,22,23,24,25,26,27,28,29,30,31,32,33,34,35,36,37,38,39,40,41,42,43,44,45,46,47,48,49],\"y\":[0.7687151283277539,0.7817471704128806,0.7817471704128806,0.7817471704128806,0.7817471704128806,0.7817471704128806,0.7817471704128806,0.7817471704128806,0.7817471704128806,0.7817631117487646,0.7817631117487646,0.7817631117487646,0.7817631117487646,0.7817631117487646,0.7817631117487646,0.7817631117487646,0.7817631117487646,0.7817631117487646,0.7817631117487646,0.7817631117487646,0.7817631117487646,0.7833811573409851,0.7833811573409851,0.7833811573409851,0.7833811573409851,0.7833811573409851,0.7882751474573569,0.7882751474573569,0.7882751474573569,0.7882751474573569,0.7882751474573569,0.7882751474573569,0.7882751474573569,0.7882751474573569,0.7882751474573569,0.7882751474573569,0.7882751474573569,0.7882751474573569,0.7882751474573569,0.7882751474573569,0.7882751474573569,0.7882751474573569,0.7882751474573569,0.7882751474573569,0.7882751474573569,0.7882751474573569,0.7882751474573569,0.7882751474573569,0.7882751474573569,0.7882751474573569],\"type\":\"scatter\"},{\"marker\":{\"color\":\"#cccccc\"},\"mode\":\"markers\",\"name\":\"Infeasible Trial\",\"showlegend\":false,\"x\":[],\"y\":[],\"type\":\"scatter\"}],                        {\"title\":{\"text\":\"Optimization History Plot\"},\"xaxis\":{\"title\":{\"text\":\"Trial\"}},\"yaxis\":{\"title\":{\"text\":\"Objective Value\"}},\"template\":{\"data\":{\"histogram2dcontour\":[{\"type\":\"histogram2dcontour\",\"colorbar\":{\"outlinewidth\":0,\"ticks\":\"\"},\"colorscale\":[[0.0,\"#0d0887\"],[0.1111111111111111,\"#46039f\"],[0.2222222222222222,\"#7201a8\"],[0.3333333333333333,\"#9c179e\"],[0.4444444444444444,\"#bd3786\"],[0.5555555555555556,\"#d8576b\"],[0.6666666666666666,\"#ed7953\"],[0.7777777777777778,\"#fb9f3a\"],[0.8888888888888888,\"#fdca26\"],[1.0,\"#f0f921\"]]}],\"choropleth\":[{\"type\":\"choropleth\",\"colorbar\":{\"outlinewidth\":0,\"ticks\":\"\"}}],\"histogram2d\":[{\"type\":\"histogram2d\",\"colorbar\":{\"outlinewidth\":0,\"ticks\":\"\"},\"colorscale\":[[0.0,\"#0d0887\"],[0.1111111111111111,\"#46039f\"],[0.2222222222222222,\"#7201a8\"],[0.3333333333333333,\"#9c179e\"],[0.4444444444444444,\"#bd3786\"],[0.5555555555555556,\"#d8576b\"],[0.6666666666666666,\"#ed7953\"],[0.7777777777777778,\"#fb9f3a\"],[0.8888888888888888,\"#fdca26\"],[1.0,\"#f0f921\"]]}],\"heatmap\":[{\"type\":\"heatmap\",\"colorbar\":{\"outlinewidth\":0,\"ticks\":\"\"},\"colorscale\":[[0.0,\"#0d0887\"],[0.1111111111111111,\"#46039f\"],[0.2222222222222222,\"#7201a8\"],[0.3333333333333333,\"#9c179e\"],[0.4444444444444444,\"#bd3786\"],[0.5555555555555556,\"#d8576b\"],[0.6666666666666666,\"#ed7953\"],[0.7777777777777778,\"#fb9f3a\"],[0.8888888888888888,\"#fdca26\"],[1.0,\"#f0f921\"]]}],\"heatmapgl\":[{\"type\":\"heatmapgl\",\"colorbar\":{\"outlinewidth\":0,\"ticks\":\"\"},\"colorscale\":[[0.0,\"#0d0887\"],[0.1111111111111111,\"#46039f\"],[0.2222222222222222,\"#7201a8\"],[0.3333333333333333,\"#9c179e\"],[0.4444444444444444,\"#bd3786\"],[0.5555555555555556,\"#d8576b\"],[0.6666666666666666,\"#ed7953\"],[0.7777777777777778,\"#fb9f3a\"],[0.8888888888888888,\"#fdca26\"],[1.0,\"#f0f921\"]]}],\"contourcarpet\":[{\"type\":\"contourcarpet\",\"colorbar\":{\"outlinewidth\":0,\"ticks\":\"\"}}],\"contour\":[{\"type\":\"contour\",\"colorbar\":{\"outlinewidth\":0,\"ticks\":\"\"},\"colorscale\":[[0.0,\"#0d0887\"],[0.1111111111111111,\"#46039f\"],[0.2222222222222222,\"#7201a8\"],[0.3333333333333333,\"#9c179e\"],[0.4444444444444444,\"#bd3786\"],[0.5555555555555556,\"#d8576b\"],[0.6666666666666666,\"#ed7953\"],[0.7777777777777778,\"#fb9f3a\"],[0.8888888888888888,\"#fdca26\"],[1.0,\"#f0f921\"]]}],\"surface\":[{\"type\":\"surface\",\"colorbar\":{\"outlinewidth\":0,\"ticks\":\"\"},\"colorscale\":[[0.0,\"#0d0887\"],[0.1111111111111111,\"#46039f\"],[0.2222222222222222,\"#7201a8\"],[0.3333333333333333,\"#9c179e\"],[0.4444444444444444,\"#bd3786\"],[0.5555555555555556,\"#d8576b\"],[0.6666666666666666,\"#ed7953\"],[0.7777777777777778,\"#fb9f3a\"],[0.8888888888888888,\"#fdca26\"],[1.0,\"#f0f921\"]]}],\"mesh3d\":[{\"type\":\"mesh3d\",\"colorbar\":{\"outlinewidth\":0,\"ticks\":\"\"}}],\"scatter\":[{\"fillpattern\":{\"fillmode\":\"overlay\",\"size\":10,\"solidity\":0.2},\"type\":\"scatter\"}],\"parcoords\":[{\"type\":\"parcoords\",\"line\":{\"colorbar\":{\"outlinewidth\":0,\"ticks\":\"\"}}}],\"scatterpolargl\":[{\"type\":\"scatterpolargl\",\"marker\":{\"colorbar\":{\"outlinewidth\":0,\"ticks\":\"\"}}}],\"bar\":[{\"error_x\":{\"color\":\"#2a3f5f\"},\"error_y\":{\"color\":\"#2a3f5f\"},\"marker\":{\"line\":{\"color\":\"#E5ECF6\",\"width\":0.5},\"pattern\":{\"fillmode\":\"overlay\",\"size\":10,\"solidity\":0.2}},\"type\":\"bar\"}],\"scattergeo\":[{\"type\":\"scattergeo\",\"marker\":{\"colorbar\":{\"outlinewidth\":0,\"ticks\":\"\"}}}],\"scatterpolar\":[{\"type\":\"scatterpolar\",\"marker\":{\"colorbar\":{\"outlinewidth\":0,\"ticks\":\"\"}}}],\"histogram\":[{\"marker\":{\"pattern\":{\"fillmode\":\"overlay\",\"size\":10,\"solidity\":0.2}},\"type\":\"histogram\"}],\"scattergl\":[{\"type\":\"scattergl\",\"marker\":{\"colorbar\":{\"outlinewidth\":0,\"ticks\":\"\"}}}],\"scatter3d\":[{\"type\":\"scatter3d\",\"line\":{\"colorbar\":{\"outlinewidth\":0,\"ticks\":\"\"}},\"marker\":{\"colorbar\":{\"outlinewidth\":0,\"ticks\":\"\"}}}],\"scattermapbox\":[{\"type\":\"scattermapbox\",\"marker\":{\"colorbar\":{\"outlinewidth\":0,\"ticks\":\"\"}}}],\"scatterternary\":[{\"type\":\"scatterternary\",\"marker\":{\"colorbar\":{\"outlinewidth\":0,\"ticks\":\"\"}}}],\"scattercarpet\":[{\"type\":\"scattercarpet\",\"marker\":{\"colorbar\":{\"outlinewidth\":0,\"ticks\":\"\"}}}],\"carpet\":[{\"aaxis\":{\"endlinecolor\":\"#2a3f5f\",\"gridcolor\":\"white\",\"linecolor\":\"white\",\"minorgridcolor\":\"white\",\"startlinecolor\":\"#2a3f5f\"},\"baxis\":{\"endlinecolor\":\"#2a3f5f\",\"gridcolor\":\"white\",\"linecolor\":\"white\",\"minorgridcolor\":\"white\",\"startlinecolor\":\"#2a3f5f\"},\"type\":\"carpet\"}],\"table\":[{\"cells\":{\"fill\":{\"color\":\"#EBF0F8\"},\"line\":{\"color\":\"white\"}},\"header\":{\"fill\":{\"color\":\"#C8D4E3\"},\"line\":{\"color\":\"white\"}},\"type\":\"table\"}],\"barpolar\":[{\"marker\":{\"line\":{\"color\":\"#E5ECF6\",\"width\":0.5},\"pattern\":{\"fillmode\":\"overlay\",\"size\":10,\"solidity\":0.2}},\"type\":\"barpolar\"}],\"pie\":[{\"automargin\":true,\"type\":\"pie\"}]},\"layout\":{\"autotypenumbers\":\"strict\",\"colorway\":[\"#636efa\",\"#EF553B\",\"#00cc96\",\"#ab63fa\",\"#FFA15A\",\"#19d3f3\",\"#FF6692\",\"#B6E880\",\"#FF97FF\",\"#FECB52\"],\"font\":{\"color\":\"#2a3f5f\"},\"hovermode\":\"closest\",\"hoverlabel\":{\"align\":\"left\"},\"paper_bgcolor\":\"white\",\"plot_bgcolor\":\"#E5ECF6\",\"polar\":{\"bgcolor\":\"#E5ECF6\",\"angularaxis\":{\"gridcolor\":\"white\",\"linecolor\":\"white\",\"ticks\":\"\"},\"radialaxis\":{\"gridcolor\":\"white\",\"linecolor\":\"white\",\"ticks\":\"\"}},\"ternary\":{\"bgcolor\":\"#E5ECF6\",\"aaxis\":{\"gridcolor\":\"white\",\"linecolor\":\"white\",\"ticks\":\"\"},\"baxis\":{\"gridcolor\":\"white\",\"linecolor\":\"white\",\"ticks\":\"\"},\"caxis\":{\"gridcolor\":\"white\",\"linecolor\":\"white\",\"ticks\":\"\"}},\"coloraxis\":{\"colorbar\":{\"outlinewidth\":0,\"ticks\":\"\"}},\"colorscale\":{\"sequential\":[[0.0,\"#0d0887\"],[0.1111111111111111,\"#46039f\"],[0.2222222222222222,\"#7201a8\"],[0.3333333333333333,\"#9c179e\"],[0.4444444444444444,\"#bd3786\"],[0.5555555555555556,\"#d8576b\"],[0.6666666666666666,\"#ed7953\"],[0.7777777777777778,\"#fb9f3a\"],[0.8888888888888888,\"#fdca26\"],[1.0,\"#f0f921\"]],\"sequentialminus\":[[0.0,\"#0d0887\"],[0.1111111111111111,\"#46039f\"],[0.2222222222222222,\"#7201a8\"],[0.3333333333333333,\"#9c179e\"],[0.4444444444444444,\"#bd3786\"],[0.5555555555555556,\"#d8576b\"],[0.6666666666666666,\"#ed7953\"],[0.7777777777777778,\"#fb9f3a\"],[0.8888888888888888,\"#fdca26\"],[1.0,\"#f0f921\"]],\"diverging\":[[0,\"#8e0152\"],[0.1,\"#c51b7d\"],[0.2,\"#de77ae\"],[0.3,\"#f1b6da\"],[0.4,\"#fde0ef\"],[0.5,\"#f7f7f7\"],[0.6,\"#e6f5d0\"],[0.7,\"#b8e186\"],[0.8,\"#7fbc41\"],[0.9,\"#4d9221\"],[1,\"#276419\"]]},\"xaxis\":{\"gridcolor\":\"white\",\"linecolor\":\"white\",\"ticks\":\"\",\"title\":{\"standoff\":15},\"zerolinecolor\":\"white\",\"automargin\":true,\"zerolinewidth\":2},\"yaxis\":{\"gridcolor\":\"white\",\"linecolor\":\"white\",\"ticks\":\"\",\"title\":{\"standoff\":15},\"zerolinecolor\":\"white\",\"automargin\":true,\"zerolinewidth\":2},\"scene\":{\"xaxis\":{\"backgroundcolor\":\"#E5ECF6\",\"gridcolor\":\"white\",\"linecolor\":\"white\",\"showbackground\":true,\"ticks\":\"\",\"zerolinecolor\":\"white\",\"gridwidth\":2},\"yaxis\":{\"backgroundcolor\":\"#E5ECF6\",\"gridcolor\":\"white\",\"linecolor\":\"white\",\"showbackground\":true,\"ticks\":\"\",\"zerolinecolor\":\"white\",\"gridwidth\":2},\"zaxis\":{\"backgroundcolor\":\"#E5ECF6\",\"gridcolor\":\"white\",\"linecolor\":\"white\",\"showbackground\":true,\"ticks\":\"\",\"zerolinecolor\":\"white\",\"gridwidth\":2}},\"shapedefaults\":{\"line\":{\"color\":\"#2a3f5f\"}},\"annotationdefaults\":{\"arrowcolor\":\"#2a3f5f\",\"arrowhead\":0,\"arrowwidth\":1},\"geo\":{\"bgcolor\":\"white\",\"landcolor\":\"#E5ECF6\",\"subunitcolor\":\"white\",\"showland\":true,\"showlakes\":true,\"lakecolor\":\"white\"},\"title\":{\"x\":0.05},\"mapbox\":{\"style\":\"light\"}}}},                        {\"responsive\": true}                    ).then(function(){\n",
              "                            \n",
              "var gd = document.getElementById('97913423-7765-458f-90a3-780c51daa323');\n",
              "var x = new MutationObserver(function (mutations, observer) {{\n",
              "        var display = window.getComputedStyle(gd).display;\n",
              "        if (!display || display === 'none') {{\n",
              "            console.log([gd, 'removed!']);\n",
              "            Plotly.purge(gd);\n",
              "            observer.disconnect();\n",
              "        }}\n",
              "}});\n",
              "\n",
              "// Listen for the removal of the full notebook cells\n",
              "var notebookContainer = gd.closest('#notebook-container');\n",
              "if (notebookContainer) {{\n",
              "    x.observe(notebookContainer, {childList: true});\n",
              "}}\n",
              "\n",
              "// Listen for the clearing of the current output cell\n",
              "var outputEl = gd.closest('.output');\n",
              "if (outputEl) {{\n",
              "    x.observe(outputEl, {childList: true});\n",
              "}}\n",
              "\n",
              "                        })                };                            </script>        </div>\n",
              "</body>\n",
              "</html>"
            ]
          },
          "metadata": {}
        }
      ]
    },
    {
      "cell_type": "code",
      "source": [
        " plot_parallel_coordinate(study).show()"
      ],
      "metadata": {
        "id": "YVsqd1xuAN8B",
        "outputId": "0584ce54-0310-425e-e22e-d584df569adb",
        "colab": {
          "base_uri": "https://localhost:8080/",
          "height": 542
        }
      },
      "execution_count": 29,
      "outputs": [
        {
          "output_type": "display_data",
          "data": {
            "text/html": [
              "<html>\n",
              "<head><meta charset=\"utf-8\" /></head>\n",
              "<body>\n",
              "    <div>            <script src=\"https://cdnjs.cloudflare.com/ajax/libs/mathjax/2.7.5/MathJax.js?config=TeX-AMS-MML_SVG\"></script><script type=\"text/javascript\">if (window.MathJax && window.MathJax.Hub && window.MathJax.Hub.Config) {window.MathJax.Hub.Config({SVG: {font: \"STIX-Web\"}});}</script>                <script type=\"text/javascript\">window.PlotlyConfig = {MathJaxConfig: 'local'};</script>\n",
              "        <script charset=\"utf-8\" src=\"https://cdn.plot.ly/plotly-2.35.2.min.js\"></script>                <div id=\"31798131-15bb-41b4-9c7a-a48562c1a2c2\" class=\"plotly-graph-div\" style=\"height:525px; width:100%;\"></div>            <script type=\"text/javascript\">                                    window.PLOTLYENV=window.PLOTLYENV || {};                                    if (document.getElementById(\"31798131-15bb-41b4-9c7a-a48562c1a2c2\")) {                    Plotly.newPlot(                        \"31798131-15bb-41b4-9c7a-a48562c1a2c2\",                        [{\"dimensions\":[{\"label\":\"Objective Value\",\"range\":[0.7540570699824646,0.7882751474573569],\"values\":[0.7687151283277539,0.7817471704128806,0.7622030926191615,0.7784712258887295,0.7817391997449387,0.7540570699824646,0.7703331739199745,0.7736091184441256,0.7703331739199745,0.7817631117487646,0.771967160848079,0.7752431053722302,0.7768452096285668,0.7784951378925554,0.7654710664753707,0.78012912482066,0.780113183484776,0.7784871672246134,0.7719990435198469,0.7817312290769967,0.7573250438386737,0.7833811573409851,0.7817471704128806,0.7768452096285668,0.7752351347042882,0.771967160848079,0.7882751474573569,0.7752351347042882,0.771983102183963,0.7768770923003347,0.760561135023115,0.7833811573409851,0.7817631117487646,0.7833811573409851,0.7849992029332058,0.7768452096285668,0.7736011477761836,0.7735931771082417,0.7784791965566714,0.780113183484776,0.7703252032520326,0.7817471704128806,0.7817471704128806,0.7719910728519049,0.7850231149370317,0.7752351347042882,0.771983102183963,0.7703252032520326,0.7785110792284393,0.7817631117487646]},{\"label\":\"max_depth\",\"range\":[3,20],\"values\":[8,13,7,16,16,3,7,14,10,14,20,12,14,19,11,17,13,10,18,14,4,16,16,15,12,18,13,10,15,17,9,13,12,13,13,11,8,15,16,13,5,13,13,11,14,15,14,17,12,14]},{\"label\":\"n_estimators\",\"range\":[56,198],\"values\":[107,134,198,151,141,59,95,99,56,126,175,129,160,117,79,133,173,115,86,148,169,138,125,140,121,159,110,108,80,110,102,132,144,131,156,190,157,141,180,150,135,134,166,91,116,115,100,154,66,125]}],\"labelangle\":30,\"labelside\":\"bottom\",\"line\":{\"color\":[0.7687151283277539,0.7817471704128806,0.7622030926191615,0.7784712258887295,0.7817391997449387,0.7540570699824646,0.7703331739199745,0.7736091184441256,0.7703331739199745,0.7817631117487646,0.771967160848079,0.7752431053722302,0.7768452096285668,0.7784951378925554,0.7654710664753707,0.78012912482066,0.780113183484776,0.7784871672246134,0.7719990435198469,0.7817312290769967,0.7573250438386737,0.7833811573409851,0.7817471704128806,0.7768452096285668,0.7752351347042882,0.771967160848079,0.7882751474573569,0.7752351347042882,0.771983102183963,0.7768770923003347,0.760561135023115,0.7833811573409851,0.7817631117487646,0.7833811573409851,0.7849992029332058,0.7768452096285668,0.7736011477761836,0.7735931771082417,0.7784791965566714,0.780113183484776,0.7703252032520326,0.7817471704128806,0.7817471704128806,0.7719910728519049,0.7850231149370317,0.7752351347042882,0.771983102183963,0.7703252032520326,0.7785110792284393,0.7817631117487646],\"colorbar\":{\"title\":{\"text\":\"Objective Value\"}},\"colorscale\":[[0.0,\"rgb(247,251,255)\"],[0.125,\"rgb(222,235,247)\"],[0.25,\"rgb(198,219,239)\"],[0.375,\"rgb(158,202,225)\"],[0.5,\"rgb(107,174,214)\"],[0.625,\"rgb(66,146,198)\"],[0.75,\"rgb(33,113,181)\"],[0.875,\"rgb(8,81,156)\"],[1.0,\"rgb(8,48,107)\"]],\"reversescale\":false,\"showscale\":true},\"type\":\"parcoords\"}],                        {\"title\":{\"text\":\"Parallel Coordinate Plot\"},\"template\":{\"data\":{\"histogram2dcontour\":[{\"type\":\"histogram2dcontour\",\"colorbar\":{\"outlinewidth\":0,\"ticks\":\"\"},\"colorscale\":[[0.0,\"#0d0887\"],[0.1111111111111111,\"#46039f\"],[0.2222222222222222,\"#7201a8\"],[0.3333333333333333,\"#9c179e\"],[0.4444444444444444,\"#bd3786\"],[0.5555555555555556,\"#d8576b\"],[0.6666666666666666,\"#ed7953\"],[0.7777777777777778,\"#fb9f3a\"],[0.8888888888888888,\"#fdca26\"],[1.0,\"#f0f921\"]]}],\"choropleth\":[{\"type\":\"choropleth\",\"colorbar\":{\"outlinewidth\":0,\"ticks\":\"\"}}],\"histogram2d\":[{\"type\":\"histogram2d\",\"colorbar\":{\"outlinewidth\":0,\"ticks\":\"\"},\"colorscale\":[[0.0,\"#0d0887\"],[0.1111111111111111,\"#46039f\"],[0.2222222222222222,\"#7201a8\"],[0.3333333333333333,\"#9c179e\"],[0.4444444444444444,\"#bd3786\"],[0.5555555555555556,\"#d8576b\"],[0.6666666666666666,\"#ed7953\"],[0.7777777777777778,\"#fb9f3a\"],[0.8888888888888888,\"#fdca26\"],[1.0,\"#f0f921\"]]}],\"heatmap\":[{\"type\":\"heatmap\",\"colorbar\":{\"outlinewidth\":0,\"ticks\":\"\"},\"colorscale\":[[0.0,\"#0d0887\"],[0.1111111111111111,\"#46039f\"],[0.2222222222222222,\"#7201a8\"],[0.3333333333333333,\"#9c179e\"],[0.4444444444444444,\"#bd3786\"],[0.5555555555555556,\"#d8576b\"],[0.6666666666666666,\"#ed7953\"],[0.7777777777777778,\"#fb9f3a\"],[0.8888888888888888,\"#fdca26\"],[1.0,\"#f0f921\"]]}],\"heatmapgl\":[{\"type\":\"heatmapgl\",\"colorbar\":{\"outlinewidth\":0,\"ticks\":\"\"},\"colorscale\":[[0.0,\"#0d0887\"],[0.1111111111111111,\"#46039f\"],[0.2222222222222222,\"#7201a8\"],[0.3333333333333333,\"#9c179e\"],[0.4444444444444444,\"#bd3786\"],[0.5555555555555556,\"#d8576b\"],[0.6666666666666666,\"#ed7953\"],[0.7777777777777778,\"#fb9f3a\"],[0.8888888888888888,\"#fdca26\"],[1.0,\"#f0f921\"]]}],\"contourcarpet\":[{\"type\":\"contourcarpet\",\"colorbar\":{\"outlinewidth\":0,\"ticks\":\"\"}}],\"contour\":[{\"type\":\"contour\",\"colorbar\":{\"outlinewidth\":0,\"ticks\":\"\"},\"colorscale\":[[0.0,\"#0d0887\"],[0.1111111111111111,\"#46039f\"],[0.2222222222222222,\"#7201a8\"],[0.3333333333333333,\"#9c179e\"],[0.4444444444444444,\"#bd3786\"],[0.5555555555555556,\"#d8576b\"],[0.6666666666666666,\"#ed7953\"],[0.7777777777777778,\"#fb9f3a\"],[0.8888888888888888,\"#fdca26\"],[1.0,\"#f0f921\"]]}],\"surface\":[{\"type\":\"surface\",\"colorbar\":{\"outlinewidth\":0,\"ticks\":\"\"},\"colorscale\":[[0.0,\"#0d0887\"],[0.1111111111111111,\"#46039f\"],[0.2222222222222222,\"#7201a8\"],[0.3333333333333333,\"#9c179e\"],[0.4444444444444444,\"#bd3786\"],[0.5555555555555556,\"#d8576b\"],[0.6666666666666666,\"#ed7953\"],[0.7777777777777778,\"#fb9f3a\"],[0.8888888888888888,\"#fdca26\"],[1.0,\"#f0f921\"]]}],\"mesh3d\":[{\"type\":\"mesh3d\",\"colorbar\":{\"outlinewidth\":0,\"ticks\":\"\"}}],\"scatter\":[{\"fillpattern\":{\"fillmode\":\"overlay\",\"size\":10,\"solidity\":0.2},\"type\":\"scatter\"}],\"parcoords\":[{\"type\":\"parcoords\",\"line\":{\"colorbar\":{\"outlinewidth\":0,\"ticks\":\"\"}}}],\"scatterpolargl\":[{\"type\":\"scatterpolargl\",\"marker\":{\"colorbar\":{\"outlinewidth\":0,\"ticks\":\"\"}}}],\"bar\":[{\"error_x\":{\"color\":\"#2a3f5f\"},\"error_y\":{\"color\":\"#2a3f5f\"},\"marker\":{\"line\":{\"color\":\"#E5ECF6\",\"width\":0.5},\"pattern\":{\"fillmode\":\"overlay\",\"size\":10,\"solidity\":0.2}},\"type\":\"bar\"}],\"scattergeo\":[{\"type\":\"scattergeo\",\"marker\":{\"colorbar\":{\"outlinewidth\":0,\"ticks\":\"\"}}}],\"scatterpolar\":[{\"type\":\"scatterpolar\",\"marker\":{\"colorbar\":{\"outlinewidth\":0,\"ticks\":\"\"}}}],\"histogram\":[{\"marker\":{\"pattern\":{\"fillmode\":\"overlay\",\"size\":10,\"solidity\":0.2}},\"type\":\"histogram\"}],\"scattergl\":[{\"type\":\"scattergl\",\"marker\":{\"colorbar\":{\"outlinewidth\":0,\"ticks\":\"\"}}}],\"scatter3d\":[{\"type\":\"scatter3d\",\"line\":{\"colorbar\":{\"outlinewidth\":0,\"ticks\":\"\"}},\"marker\":{\"colorbar\":{\"outlinewidth\":0,\"ticks\":\"\"}}}],\"scattermapbox\":[{\"type\":\"scattermapbox\",\"marker\":{\"colorbar\":{\"outlinewidth\":0,\"ticks\":\"\"}}}],\"scatterternary\":[{\"type\":\"scatterternary\",\"marker\":{\"colorbar\":{\"outlinewidth\":0,\"ticks\":\"\"}}}],\"scattercarpet\":[{\"type\":\"scattercarpet\",\"marker\":{\"colorbar\":{\"outlinewidth\":0,\"ticks\":\"\"}}}],\"carpet\":[{\"aaxis\":{\"endlinecolor\":\"#2a3f5f\",\"gridcolor\":\"white\",\"linecolor\":\"white\",\"minorgridcolor\":\"white\",\"startlinecolor\":\"#2a3f5f\"},\"baxis\":{\"endlinecolor\":\"#2a3f5f\",\"gridcolor\":\"white\",\"linecolor\":\"white\",\"minorgridcolor\":\"white\",\"startlinecolor\":\"#2a3f5f\"},\"type\":\"carpet\"}],\"table\":[{\"cells\":{\"fill\":{\"color\":\"#EBF0F8\"},\"line\":{\"color\":\"white\"}},\"header\":{\"fill\":{\"color\":\"#C8D4E3\"},\"line\":{\"color\":\"white\"}},\"type\":\"table\"}],\"barpolar\":[{\"marker\":{\"line\":{\"color\":\"#E5ECF6\",\"width\":0.5},\"pattern\":{\"fillmode\":\"overlay\",\"size\":10,\"solidity\":0.2}},\"type\":\"barpolar\"}],\"pie\":[{\"automargin\":true,\"type\":\"pie\"}]},\"layout\":{\"autotypenumbers\":\"strict\",\"colorway\":[\"#636efa\",\"#EF553B\",\"#00cc96\",\"#ab63fa\",\"#FFA15A\",\"#19d3f3\",\"#FF6692\",\"#B6E880\",\"#FF97FF\",\"#FECB52\"],\"font\":{\"color\":\"#2a3f5f\"},\"hovermode\":\"closest\",\"hoverlabel\":{\"align\":\"left\"},\"paper_bgcolor\":\"white\",\"plot_bgcolor\":\"#E5ECF6\",\"polar\":{\"bgcolor\":\"#E5ECF6\",\"angularaxis\":{\"gridcolor\":\"white\",\"linecolor\":\"white\",\"ticks\":\"\"},\"radialaxis\":{\"gridcolor\":\"white\",\"linecolor\":\"white\",\"ticks\":\"\"}},\"ternary\":{\"bgcolor\":\"#E5ECF6\",\"aaxis\":{\"gridcolor\":\"white\",\"linecolor\":\"white\",\"ticks\":\"\"},\"baxis\":{\"gridcolor\":\"white\",\"linecolor\":\"white\",\"ticks\":\"\"},\"caxis\":{\"gridcolor\":\"white\",\"linecolor\":\"white\",\"ticks\":\"\"}},\"coloraxis\":{\"colorbar\":{\"outlinewidth\":0,\"ticks\":\"\"}},\"colorscale\":{\"sequential\":[[0.0,\"#0d0887\"],[0.1111111111111111,\"#46039f\"],[0.2222222222222222,\"#7201a8\"],[0.3333333333333333,\"#9c179e\"],[0.4444444444444444,\"#bd3786\"],[0.5555555555555556,\"#d8576b\"],[0.6666666666666666,\"#ed7953\"],[0.7777777777777778,\"#fb9f3a\"],[0.8888888888888888,\"#fdca26\"],[1.0,\"#f0f921\"]],\"sequentialminus\":[[0.0,\"#0d0887\"],[0.1111111111111111,\"#46039f\"],[0.2222222222222222,\"#7201a8\"],[0.3333333333333333,\"#9c179e\"],[0.4444444444444444,\"#bd3786\"],[0.5555555555555556,\"#d8576b\"],[0.6666666666666666,\"#ed7953\"],[0.7777777777777778,\"#fb9f3a\"],[0.8888888888888888,\"#fdca26\"],[1.0,\"#f0f921\"]],\"diverging\":[[0,\"#8e0152\"],[0.1,\"#c51b7d\"],[0.2,\"#de77ae\"],[0.3,\"#f1b6da\"],[0.4,\"#fde0ef\"],[0.5,\"#f7f7f7\"],[0.6,\"#e6f5d0\"],[0.7,\"#b8e186\"],[0.8,\"#7fbc41\"],[0.9,\"#4d9221\"],[1,\"#276419\"]]},\"xaxis\":{\"gridcolor\":\"white\",\"linecolor\":\"white\",\"ticks\":\"\",\"title\":{\"standoff\":15},\"zerolinecolor\":\"white\",\"automargin\":true,\"zerolinewidth\":2},\"yaxis\":{\"gridcolor\":\"white\",\"linecolor\":\"white\",\"ticks\":\"\",\"title\":{\"standoff\":15},\"zerolinecolor\":\"white\",\"automargin\":true,\"zerolinewidth\":2},\"scene\":{\"xaxis\":{\"backgroundcolor\":\"#E5ECF6\",\"gridcolor\":\"white\",\"linecolor\":\"white\",\"showbackground\":true,\"ticks\":\"\",\"zerolinecolor\":\"white\",\"gridwidth\":2},\"yaxis\":{\"backgroundcolor\":\"#E5ECF6\",\"gridcolor\":\"white\",\"linecolor\":\"white\",\"showbackground\":true,\"ticks\":\"\",\"zerolinecolor\":\"white\",\"gridwidth\":2},\"zaxis\":{\"backgroundcolor\":\"#E5ECF6\",\"gridcolor\":\"white\",\"linecolor\":\"white\",\"showbackground\":true,\"ticks\":\"\",\"zerolinecolor\":\"white\",\"gridwidth\":2}},\"shapedefaults\":{\"line\":{\"color\":\"#2a3f5f\"}},\"annotationdefaults\":{\"arrowcolor\":\"#2a3f5f\",\"arrowhead\":0,\"arrowwidth\":1},\"geo\":{\"bgcolor\":\"white\",\"landcolor\":\"#E5ECF6\",\"subunitcolor\":\"white\",\"showland\":true,\"showlakes\":true,\"lakecolor\":\"white\"},\"title\":{\"x\":0.05},\"mapbox\":{\"style\":\"light\"}}}},                        {\"responsive\": true}                    ).then(function(){\n",
              "                            \n",
              "var gd = document.getElementById('31798131-15bb-41b4-9c7a-a48562c1a2c2');\n",
              "var x = new MutationObserver(function (mutations, observer) {{\n",
              "        var display = window.getComputedStyle(gd).display;\n",
              "        if (!display || display === 'none') {{\n",
              "            console.log([gd, 'removed!']);\n",
              "            Plotly.purge(gd);\n",
              "            observer.disconnect();\n",
              "        }}\n",
              "}});\n",
              "\n",
              "// Listen for the removal of the full notebook cells\n",
              "var notebookContainer = gd.closest('#notebook-container');\n",
              "if (notebookContainer) {{\n",
              "    x.observe(notebookContainer, {childList: true});\n",
              "}}\n",
              "\n",
              "// Listen for the clearing of the current output cell\n",
              "var outputEl = gd.closest('.output');\n",
              "if (outputEl) {{\n",
              "    x.observe(outputEl, {childList: true});\n",
              "}}\n",
              "\n",
              "                        })                };                            </script>        </div>\n",
              "</body>\n",
              "</html>"
            ]
          },
          "metadata": {}
        }
      ]
    },
    {
      "cell_type": "code",
      "source": [
        "plot_slice(study).show()"
      ],
      "metadata": {
        "id": "4DNz0gaZAvyr",
        "outputId": "1155d03c-013f-4bad-99f5-27ba976784a9",
        "colab": {
          "base_uri": "https://localhost:8080/",
          "height": 542
        }
      },
      "execution_count": 30,
      "outputs": [
        {
          "output_type": "display_data",
          "data": {
            "text/html": [
              "<html>\n",
              "<head><meta charset=\"utf-8\" /></head>\n",
              "<body>\n",
              "    <div>            <script src=\"https://cdnjs.cloudflare.com/ajax/libs/mathjax/2.7.5/MathJax.js?config=TeX-AMS-MML_SVG\"></script><script type=\"text/javascript\">if (window.MathJax && window.MathJax.Hub && window.MathJax.Hub.Config) {window.MathJax.Hub.Config({SVG: {font: \"STIX-Web\"}});}</script>                <script type=\"text/javascript\">window.PlotlyConfig = {MathJaxConfig: 'local'};</script>\n",
              "        <script charset=\"utf-8\" src=\"https://cdn.plot.ly/plotly-2.35.2.min.js\"></script>                <div id=\"6955ece4-9392-4442-986e-35cc958295e8\" class=\"plotly-graph-div\" style=\"height:525px; width:100%;\"></div>            <script type=\"text/javascript\">                                    window.PLOTLYENV=window.PLOTLYENV || {};                                    if (document.getElementById(\"6955ece4-9392-4442-986e-35cc958295e8\")) {                    Plotly.newPlot(                        \"6955ece4-9392-4442-986e-35cc958295e8\",                        [{\"marker\":{\"color\":[0,1,2,3,4,5,6,7,8,9,10,11,12,13,14,15,16,17,18,19,20,21,22,23,24,25,26,27,28,29,30,31,32,33,34,35,36,37,38,39,40,41,42,43,44,45,46,47,48,49],\"colorbar\":{\"title\":{\"text\":\"Trial\"},\"x\":1.0,\"xpad\":40},\"colorscale\":[[0.0,\"rgb(247,251,255)\"],[0.125,\"rgb(222,235,247)\"],[0.25,\"rgb(198,219,239)\"],[0.375,\"rgb(158,202,225)\"],[0.5,\"rgb(107,174,214)\"],[0.625,\"rgb(66,146,198)\"],[0.75,\"rgb(33,113,181)\"],[0.875,\"rgb(8,81,156)\"],[1.0,\"rgb(8,48,107)\"]],\"line\":{\"color\":\"Grey\",\"width\":0.5},\"showscale\":true},\"mode\":\"markers\",\"name\":\"Feasible Trial\",\"showlegend\":false,\"x\":[8,13,7,16,16,3,7,14,10,14,20,12,14,19,11,17,13,10,18,14,4,16,16,15,12,18,13,10,15,17,9,13,12,13,13,11,8,15,16,13,5,13,13,11,14,15,14,17,12,14],\"y\":[0.7687151283277539,0.7817471704128806,0.7622030926191615,0.7784712258887295,0.7817391997449387,0.7540570699824646,0.7703331739199745,0.7736091184441256,0.7703331739199745,0.7817631117487646,0.771967160848079,0.7752431053722302,0.7768452096285668,0.7784951378925554,0.7654710664753707,0.78012912482066,0.780113183484776,0.7784871672246134,0.7719990435198469,0.7817312290769967,0.7573250438386737,0.7833811573409851,0.7817471704128806,0.7768452096285668,0.7752351347042882,0.771967160848079,0.7882751474573569,0.7752351347042882,0.771983102183963,0.7768770923003347,0.760561135023115,0.7833811573409851,0.7817631117487646,0.7833811573409851,0.7849992029332058,0.7768452096285668,0.7736011477761836,0.7735931771082417,0.7784791965566714,0.780113183484776,0.7703252032520326,0.7817471704128806,0.7817471704128806,0.7719910728519049,0.7850231149370317,0.7752351347042882,0.771983102183963,0.7703252032520326,0.7785110792284393,0.7817631117487646],\"type\":\"scatter\",\"xaxis\":\"x\",\"yaxis\":\"y\"},{\"marker\":{\"color\":[0,1,2,3,4,5,6,7,8,9,10,11,12,13,14,15,16,17,18,19,20,21,22,23,24,25,26,27,28,29,30,31,32,33,34,35,36,37,38,39,40,41,42,43,44,45,46,47,48,49],\"colorbar\":{\"title\":{\"text\":\"Trial\"},\"x\":1.0,\"xpad\":40},\"colorscale\":[[0.0,\"rgb(247,251,255)\"],[0.125,\"rgb(222,235,247)\"],[0.25,\"rgb(198,219,239)\"],[0.375,\"rgb(158,202,225)\"],[0.5,\"rgb(107,174,214)\"],[0.625,\"rgb(66,146,198)\"],[0.75,\"rgb(33,113,181)\"],[0.875,\"rgb(8,81,156)\"],[1.0,\"rgb(8,48,107)\"]],\"line\":{\"color\":\"Grey\",\"width\":0.5},\"showscale\":false},\"mode\":\"markers\",\"name\":\"Feasible Trial\",\"showlegend\":false,\"x\":[107,134,198,151,141,59,95,99,56,126,175,129,160,117,79,133,173,115,86,148,169,138,125,140,121,159,110,108,80,110,102,132,144,131,156,190,157,141,180,150,135,134,166,91,116,115,100,154,66,125],\"y\":[0.7687151283277539,0.7817471704128806,0.7622030926191615,0.7784712258887295,0.7817391997449387,0.7540570699824646,0.7703331739199745,0.7736091184441256,0.7703331739199745,0.7817631117487646,0.771967160848079,0.7752431053722302,0.7768452096285668,0.7784951378925554,0.7654710664753707,0.78012912482066,0.780113183484776,0.7784871672246134,0.7719990435198469,0.7817312290769967,0.7573250438386737,0.7833811573409851,0.7817471704128806,0.7768452096285668,0.7752351347042882,0.771967160848079,0.7882751474573569,0.7752351347042882,0.771983102183963,0.7768770923003347,0.760561135023115,0.7833811573409851,0.7817631117487646,0.7833811573409851,0.7849992029332058,0.7768452096285668,0.7736011477761836,0.7735931771082417,0.7784791965566714,0.780113183484776,0.7703252032520326,0.7817471704128806,0.7817471704128806,0.7719910728519049,0.7850231149370317,0.7752351347042882,0.771983102183963,0.7703252032520326,0.7785110792284393,0.7817631117487646],\"type\":\"scatter\",\"xaxis\":\"x2\",\"yaxis\":\"y2\"}],                        {\"template\":{\"data\":{\"histogram2dcontour\":[{\"type\":\"histogram2dcontour\",\"colorbar\":{\"outlinewidth\":0,\"ticks\":\"\"},\"colorscale\":[[0.0,\"#0d0887\"],[0.1111111111111111,\"#46039f\"],[0.2222222222222222,\"#7201a8\"],[0.3333333333333333,\"#9c179e\"],[0.4444444444444444,\"#bd3786\"],[0.5555555555555556,\"#d8576b\"],[0.6666666666666666,\"#ed7953\"],[0.7777777777777778,\"#fb9f3a\"],[0.8888888888888888,\"#fdca26\"],[1.0,\"#f0f921\"]]}],\"choropleth\":[{\"type\":\"choropleth\",\"colorbar\":{\"outlinewidth\":0,\"ticks\":\"\"}}],\"histogram2d\":[{\"type\":\"histogram2d\",\"colorbar\":{\"outlinewidth\":0,\"ticks\":\"\"},\"colorscale\":[[0.0,\"#0d0887\"],[0.1111111111111111,\"#46039f\"],[0.2222222222222222,\"#7201a8\"],[0.3333333333333333,\"#9c179e\"],[0.4444444444444444,\"#bd3786\"],[0.5555555555555556,\"#d8576b\"],[0.6666666666666666,\"#ed7953\"],[0.7777777777777778,\"#fb9f3a\"],[0.8888888888888888,\"#fdca26\"],[1.0,\"#f0f921\"]]}],\"heatmap\":[{\"type\":\"heatmap\",\"colorbar\":{\"outlinewidth\":0,\"ticks\":\"\"},\"colorscale\":[[0.0,\"#0d0887\"],[0.1111111111111111,\"#46039f\"],[0.2222222222222222,\"#7201a8\"],[0.3333333333333333,\"#9c179e\"],[0.4444444444444444,\"#bd3786\"],[0.5555555555555556,\"#d8576b\"],[0.6666666666666666,\"#ed7953\"],[0.7777777777777778,\"#fb9f3a\"],[0.8888888888888888,\"#fdca26\"],[1.0,\"#f0f921\"]]}],\"heatmapgl\":[{\"type\":\"heatmapgl\",\"colorbar\":{\"outlinewidth\":0,\"ticks\":\"\"},\"colorscale\":[[0.0,\"#0d0887\"],[0.1111111111111111,\"#46039f\"],[0.2222222222222222,\"#7201a8\"],[0.3333333333333333,\"#9c179e\"],[0.4444444444444444,\"#bd3786\"],[0.5555555555555556,\"#d8576b\"],[0.6666666666666666,\"#ed7953\"],[0.7777777777777778,\"#fb9f3a\"],[0.8888888888888888,\"#fdca26\"],[1.0,\"#f0f921\"]]}],\"contourcarpet\":[{\"type\":\"contourcarpet\",\"colorbar\":{\"outlinewidth\":0,\"ticks\":\"\"}}],\"contour\":[{\"type\":\"contour\",\"colorbar\":{\"outlinewidth\":0,\"ticks\":\"\"},\"colorscale\":[[0.0,\"#0d0887\"],[0.1111111111111111,\"#46039f\"],[0.2222222222222222,\"#7201a8\"],[0.3333333333333333,\"#9c179e\"],[0.4444444444444444,\"#bd3786\"],[0.5555555555555556,\"#d8576b\"],[0.6666666666666666,\"#ed7953\"],[0.7777777777777778,\"#fb9f3a\"],[0.8888888888888888,\"#fdca26\"],[1.0,\"#f0f921\"]]}],\"surface\":[{\"type\":\"surface\",\"colorbar\":{\"outlinewidth\":0,\"ticks\":\"\"},\"colorscale\":[[0.0,\"#0d0887\"],[0.1111111111111111,\"#46039f\"],[0.2222222222222222,\"#7201a8\"],[0.3333333333333333,\"#9c179e\"],[0.4444444444444444,\"#bd3786\"],[0.5555555555555556,\"#d8576b\"],[0.6666666666666666,\"#ed7953\"],[0.7777777777777778,\"#fb9f3a\"],[0.8888888888888888,\"#fdca26\"],[1.0,\"#f0f921\"]]}],\"mesh3d\":[{\"type\":\"mesh3d\",\"colorbar\":{\"outlinewidth\":0,\"ticks\":\"\"}}],\"scatter\":[{\"fillpattern\":{\"fillmode\":\"overlay\",\"size\":10,\"solidity\":0.2},\"type\":\"scatter\"}],\"parcoords\":[{\"type\":\"parcoords\",\"line\":{\"colorbar\":{\"outlinewidth\":0,\"ticks\":\"\"}}}],\"scatterpolargl\":[{\"type\":\"scatterpolargl\",\"marker\":{\"colorbar\":{\"outlinewidth\":0,\"ticks\":\"\"}}}],\"bar\":[{\"error_x\":{\"color\":\"#2a3f5f\"},\"error_y\":{\"color\":\"#2a3f5f\"},\"marker\":{\"line\":{\"color\":\"#E5ECF6\",\"width\":0.5},\"pattern\":{\"fillmode\":\"overlay\",\"size\":10,\"solidity\":0.2}},\"type\":\"bar\"}],\"scattergeo\":[{\"type\":\"scattergeo\",\"marker\":{\"colorbar\":{\"outlinewidth\":0,\"ticks\":\"\"}}}],\"scatterpolar\":[{\"type\":\"scatterpolar\",\"marker\":{\"colorbar\":{\"outlinewidth\":0,\"ticks\":\"\"}}}],\"histogram\":[{\"marker\":{\"pattern\":{\"fillmode\":\"overlay\",\"size\":10,\"solidity\":0.2}},\"type\":\"histogram\"}],\"scattergl\":[{\"type\":\"scattergl\",\"marker\":{\"colorbar\":{\"outlinewidth\":0,\"ticks\":\"\"}}}],\"scatter3d\":[{\"type\":\"scatter3d\",\"line\":{\"colorbar\":{\"outlinewidth\":0,\"ticks\":\"\"}},\"marker\":{\"colorbar\":{\"outlinewidth\":0,\"ticks\":\"\"}}}],\"scattermapbox\":[{\"type\":\"scattermapbox\",\"marker\":{\"colorbar\":{\"outlinewidth\":0,\"ticks\":\"\"}}}],\"scatterternary\":[{\"type\":\"scatterternary\",\"marker\":{\"colorbar\":{\"outlinewidth\":0,\"ticks\":\"\"}}}],\"scattercarpet\":[{\"type\":\"scattercarpet\",\"marker\":{\"colorbar\":{\"outlinewidth\":0,\"ticks\":\"\"}}}],\"carpet\":[{\"aaxis\":{\"endlinecolor\":\"#2a3f5f\",\"gridcolor\":\"white\",\"linecolor\":\"white\",\"minorgridcolor\":\"white\",\"startlinecolor\":\"#2a3f5f\"},\"baxis\":{\"endlinecolor\":\"#2a3f5f\",\"gridcolor\":\"white\",\"linecolor\":\"white\",\"minorgridcolor\":\"white\",\"startlinecolor\":\"#2a3f5f\"},\"type\":\"carpet\"}],\"table\":[{\"cells\":{\"fill\":{\"color\":\"#EBF0F8\"},\"line\":{\"color\":\"white\"}},\"header\":{\"fill\":{\"color\":\"#C8D4E3\"},\"line\":{\"color\":\"white\"}},\"type\":\"table\"}],\"barpolar\":[{\"marker\":{\"line\":{\"color\":\"#E5ECF6\",\"width\":0.5},\"pattern\":{\"fillmode\":\"overlay\",\"size\":10,\"solidity\":0.2}},\"type\":\"barpolar\"}],\"pie\":[{\"automargin\":true,\"type\":\"pie\"}]},\"layout\":{\"autotypenumbers\":\"strict\",\"colorway\":[\"#636efa\",\"#EF553B\",\"#00cc96\",\"#ab63fa\",\"#FFA15A\",\"#19d3f3\",\"#FF6692\",\"#B6E880\",\"#FF97FF\",\"#FECB52\"],\"font\":{\"color\":\"#2a3f5f\"},\"hovermode\":\"closest\",\"hoverlabel\":{\"align\":\"left\"},\"paper_bgcolor\":\"white\",\"plot_bgcolor\":\"#E5ECF6\",\"polar\":{\"bgcolor\":\"#E5ECF6\",\"angularaxis\":{\"gridcolor\":\"white\",\"linecolor\":\"white\",\"ticks\":\"\"},\"radialaxis\":{\"gridcolor\":\"white\",\"linecolor\":\"white\",\"ticks\":\"\"}},\"ternary\":{\"bgcolor\":\"#E5ECF6\",\"aaxis\":{\"gridcolor\":\"white\",\"linecolor\":\"white\",\"ticks\":\"\"},\"baxis\":{\"gridcolor\":\"white\",\"linecolor\":\"white\",\"ticks\":\"\"},\"caxis\":{\"gridcolor\":\"white\",\"linecolor\":\"white\",\"ticks\":\"\"}},\"coloraxis\":{\"colorbar\":{\"outlinewidth\":0,\"ticks\":\"\"}},\"colorscale\":{\"sequential\":[[0.0,\"#0d0887\"],[0.1111111111111111,\"#46039f\"],[0.2222222222222222,\"#7201a8\"],[0.3333333333333333,\"#9c179e\"],[0.4444444444444444,\"#bd3786\"],[0.5555555555555556,\"#d8576b\"],[0.6666666666666666,\"#ed7953\"],[0.7777777777777778,\"#fb9f3a\"],[0.8888888888888888,\"#fdca26\"],[1.0,\"#f0f921\"]],\"sequentialminus\":[[0.0,\"#0d0887\"],[0.1111111111111111,\"#46039f\"],[0.2222222222222222,\"#7201a8\"],[0.3333333333333333,\"#9c179e\"],[0.4444444444444444,\"#bd3786\"],[0.5555555555555556,\"#d8576b\"],[0.6666666666666666,\"#ed7953\"],[0.7777777777777778,\"#fb9f3a\"],[0.8888888888888888,\"#fdca26\"],[1.0,\"#f0f921\"]],\"diverging\":[[0,\"#8e0152\"],[0.1,\"#c51b7d\"],[0.2,\"#de77ae\"],[0.3,\"#f1b6da\"],[0.4,\"#fde0ef\"],[0.5,\"#f7f7f7\"],[0.6,\"#e6f5d0\"],[0.7,\"#b8e186\"],[0.8,\"#7fbc41\"],[0.9,\"#4d9221\"],[1,\"#276419\"]]},\"xaxis\":{\"gridcolor\":\"white\",\"linecolor\":\"white\",\"ticks\":\"\",\"title\":{\"standoff\":15},\"zerolinecolor\":\"white\",\"automargin\":true,\"zerolinewidth\":2},\"yaxis\":{\"gridcolor\":\"white\",\"linecolor\":\"white\",\"ticks\":\"\",\"title\":{\"standoff\":15},\"zerolinecolor\":\"white\",\"automargin\":true,\"zerolinewidth\":2},\"scene\":{\"xaxis\":{\"backgroundcolor\":\"#E5ECF6\",\"gridcolor\":\"white\",\"linecolor\":\"white\",\"showbackground\":true,\"ticks\":\"\",\"zerolinecolor\":\"white\",\"gridwidth\":2},\"yaxis\":{\"backgroundcolor\":\"#E5ECF6\",\"gridcolor\":\"white\",\"linecolor\":\"white\",\"showbackground\":true,\"ticks\":\"\",\"zerolinecolor\":\"white\",\"gridwidth\":2},\"zaxis\":{\"backgroundcolor\":\"#E5ECF6\",\"gridcolor\":\"white\",\"linecolor\":\"white\",\"showbackground\":true,\"ticks\":\"\",\"zerolinecolor\":\"white\",\"gridwidth\":2}},\"shapedefaults\":{\"line\":{\"color\":\"#2a3f5f\"}},\"annotationdefaults\":{\"arrowcolor\":\"#2a3f5f\",\"arrowhead\":0,\"arrowwidth\":1},\"geo\":{\"bgcolor\":\"white\",\"landcolor\":\"#E5ECF6\",\"subunitcolor\":\"white\",\"showland\":true,\"showlakes\":true,\"lakecolor\":\"white\"},\"title\":{\"x\":0.05},\"mapbox\":{\"style\":\"light\"}}},\"xaxis\":{\"anchor\":\"y\",\"domain\":[0.0,0.45],\"title\":{\"text\":\"max_depth\"}},\"yaxis\":{\"anchor\":\"x\",\"domain\":[0.0,1.0],\"title\":{\"text\":\"Objective Value\"}},\"xaxis2\":{\"anchor\":\"y2\",\"domain\":[0.55,1.0],\"title\":{\"text\":\"n_estimators\"}},\"yaxis2\":{\"anchor\":\"x2\",\"domain\":[0.0,1.0],\"matches\":\"y\",\"showticklabels\":false},\"title\":{\"text\":\"Slice Plot\"}},                        {\"responsive\": true}                    ).then(function(){\n",
              "                            \n",
              "var gd = document.getElementById('6955ece4-9392-4442-986e-35cc958295e8');\n",
              "var x = new MutationObserver(function (mutations, observer) {{\n",
              "        var display = window.getComputedStyle(gd).display;\n",
              "        if (!display || display === 'none') {{\n",
              "            console.log([gd, 'removed!']);\n",
              "            Plotly.purge(gd);\n",
              "            observer.disconnect();\n",
              "        }}\n",
              "}});\n",
              "\n",
              "// Listen for the removal of the full notebook cells\n",
              "var notebookContainer = gd.closest('#notebook-container');\n",
              "if (notebookContainer) {{\n",
              "    x.observe(notebookContainer, {childList: true});\n",
              "}}\n",
              "\n",
              "// Listen for the clearing of the current output cell\n",
              "var outputEl = gd.closest('.output');\n",
              "if (outputEl) {{\n",
              "    x.observe(outputEl, {childList: true});\n",
              "}}\n",
              "\n",
              "                        })                };                            </script>        </div>\n",
              "</body>\n",
              "</html>"
            ]
          },
          "metadata": {}
        }
      ]
    },
    {
      "cell_type": "code",
      "source": [
        "plot_contour(study).show()"
      ],
      "metadata": {
        "id": "ij44WVnFA7g3",
        "outputId": "0ba55baa-1efa-49d1-dce5-14878a0fb62b",
        "colab": {
          "base_uri": "https://localhost:8080/",
          "height": 542
        }
      },
      "execution_count": 31,
      "outputs": [
        {
          "output_type": "display_data",
          "data": {
            "text/html": [
              "<html>\n",
              "<head><meta charset=\"utf-8\" /></head>\n",
              "<body>\n",
              "    <div>            <script src=\"https://cdnjs.cloudflare.com/ajax/libs/mathjax/2.7.5/MathJax.js?config=TeX-AMS-MML_SVG\"></script><script type=\"text/javascript\">if (window.MathJax && window.MathJax.Hub && window.MathJax.Hub.Config) {window.MathJax.Hub.Config({SVG: {font: \"STIX-Web\"}});}</script>                <script type=\"text/javascript\">window.PlotlyConfig = {MathJaxConfig: 'local'};</script>\n",
              "        <script charset=\"utf-8\" src=\"https://cdn.plot.ly/plotly-2.35.2.min.js\"></script>                <div id=\"6dd6a135-67d8-43d0-8fb9-54ace41b0d41\" class=\"plotly-graph-div\" style=\"height:525px; width:100%;\"></div>            <script type=\"text/javascript\">                                    window.PLOTLYENV=window.PLOTLYENV || {};                                    if (document.getElementById(\"6dd6a135-67d8-43d0-8fb9-54ace41b0d41\")) {                    Plotly.newPlot(                        \"6dd6a135-67d8-43d0-8fb9-54ace41b0d41\",                        [{\"colorbar\":{\"title\":{\"text\":\"Objective Value\"}},\"colorscale\":[[0.0,\"rgb(247,251,255)\"],[0.125,\"rgb(222,235,247)\"],[0.25,\"rgb(198,219,239)\"],[0.375,\"rgb(158,202,225)\"],[0.5,\"rgb(107,174,214)\"],[0.625,\"rgb(66,146,198)\"],[0.75,\"rgb(33,113,181)\"],[0.875,\"rgb(8,81,156)\"],[1.0,\"rgb(8,48,107)\"]],\"connectgaps\":true,\"contours\":{\"coloring\":\"heatmap\"},\"hoverinfo\":\"none\",\"line\":{\"smoothing\":1.3},\"reversescale\":false,\"x\":[2.15,3,4,5,7,8,9,10,11,12,13,14,15,16,17,18,19,20,20.85],\"y\":[48.9,56,59,66,79,80,86,91,95,99,100,102,107,108,110,115,116,117,121,125,126,129,131,132,133,134,135,138,140,141,144,148,150,151,154,156,157,159,160,166,169,173,175,180,190,198,205.1],\"z\":[[null,null,null,null,null,null,null,null,null,null,null,null,null,null,null,null,null,null,null],[null,null,null,null,null,null,null,0.7703331739199745,null,null,null,null,null,null,null,null,null,null,null],[null,0.7540570699824646,null,null,null,null,null,null,null,null,null,null,null,null,null,null,null,null,null],[null,null,null,null,null,null,null,null,null,0.7785110792284393,null,null,null,null,null,null,null,null,null],[null,null,null,null,null,null,null,null,0.7654710664753707,null,null,null,null,null,null,null,null,null,null],[null,null,null,null,null,null,null,null,null,null,null,null,0.771983102183963,null,null,null,null,null,null],[null,null,null,null,null,null,null,null,null,null,null,null,null,null,null,0.7719990435198469,null,null,null],[null,null,null,null,null,null,null,null,0.7719910728519049,null,null,null,null,null,null,null,null,null,null],[null,null,null,null,0.7703331739199745,null,null,null,null,null,null,null,null,null,null,null,null,null,null],[null,null,null,null,null,null,null,null,null,null,null,0.7736091184441256,null,null,null,null,null,null,null],[null,null,null,null,null,null,null,null,null,null,null,0.771983102183963,null,null,null,null,null,null,null],[null,null,null,null,null,null,0.760561135023115,null,null,null,null,null,null,null,null,null,null,null,null],[null,null,null,null,null,0.7687151283277539,null,null,null,null,null,null,null,null,null,null,null,null,null],[null,null,null,null,null,null,null,0.7752351347042882,null,null,null,null,null,null,null,null,null,null,null],[null,null,null,null,null,null,null,null,null,null,0.7882751474573569,null,null,null,0.7768770923003347,null,null,null,null],[null,null,null,null,null,null,null,0.7784871672246134,null,null,null,null,0.7752351347042882,null,null,null,null,null,null],[null,null,null,null,null,null,null,null,null,null,null,0.7850231149370317,null,null,null,null,null,null,null],[null,null,null,null,null,null,null,null,null,null,null,null,null,null,null,null,0.7784951378925554,null,null],[null,null,null,null,null,null,null,null,null,0.7752351347042882,null,null,null,null,null,null,null,null,null],[null,null,null,null,null,null,null,null,null,null,null,0.7817631117487646,null,0.7817471704128806,null,null,null,null,null],[null,null,null,null,null,null,null,null,null,null,null,0.7817631117487646,null,null,null,null,null,null,null],[null,null,null,null,null,null,null,null,null,0.7752431053722302,null,null,null,null,null,null,null,null,null],[null,null,null,null,null,null,null,null,null,null,0.7833811573409851,null,null,null,null,null,null,null,null],[null,null,null,null,null,null,null,null,null,null,0.7833811573409851,null,null,null,null,null,null,null,null],[null,null,null,null,null,null,null,null,null,null,null,null,null,null,0.78012912482066,null,null,null,null],[null,null,null,null,null,null,null,null,null,null,0.7817471704128806,null,null,null,null,null,null,null,null],[null,null,null,0.7703252032520326,null,null,null,null,null,null,null,null,null,null,null,null,null,null,null],[null,null,null,null,null,null,null,null,null,null,null,null,null,0.7833811573409851,null,null,null,null,null],[null,null,null,null,null,null,null,null,null,null,null,null,0.7768452096285668,null,null,null,null,null,null],[null,null,null,null,null,null,null,null,null,null,null,null,0.7735931771082417,0.7817391997449387,null,null,null,null,null],[null,null,null,null,null,null,null,null,null,0.7817631117487646,null,null,null,null,null,null,null,null,null],[null,null,null,null,null,null,null,null,null,null,null,0.7817312290769967,null,null,null,null,null,null,null],[null,null,null,null,null,null,null,null,null,null,0.780113183484776,null,null,null,null,null,null,null,null],[null,null,null,null,null,null,null,null,null,null,null,null,null,0.7784712258887295,null,null,null,null,null],[null,null,null,null,null,null,null,null,null,null,null,null,null,null,0.7703252032520326,null,null,null,null],[null,null,null,null,null,null,null,null,null,null,0.7849992029332058,null,null,null,null,null,null,null,null],[null,null,null,null,null,0.7736011477761836,null,null,null,null,null,null,null,null,null,null,null,null,null],[null,null,null,null,null,null,null,null,null,null,null,null,null,null,null,0.771967160848079,null,null,null],[null,null,null,null,null,null,null,null,null,null,null,0.7768452096285668,null,null,null,null,null,null,null],[null,null,null,null,null,null,null,null,null,null,0.7817471704128806,null,null,null,null,null,null,null,null],[null,null,0.7573250438386737,null,null,null,null,null,null,null,null,null,null,null,null,null,null,null,null],[null,null,null,null,null,null,null,null,null,null,0.780113183484776,null,null,null,null,null,null,null,null],[null,null,null,null,null,null,null,null,null,null,null,null,null,null,null,null,null,0.771967160848079,null],[null,null,null,null,null,null,null,null,null,null,null,null,null,0.7784791965566714,null,null,null,null,null],[null,null,null,null,null,null,null,null,0.7768452096285668,null,null,null,null,null,null,null,null,null,null],[null,null,null,null,0.7622030926191615,null,null,null,null,null,null,null,null,null,null,null,null,null,null],[null,null,null,null,null,null,null,null,null,null,null,null,null,null,null,null,null,null,null]],\"type\":\"contour\"},{\"marker\":{\"color\":\"black\",\"line\":{\"color\":\"Gray\",\"width\":2.0}},\"mode\":\"markers\",\"name\":\"Feasible Trial\",\"showlegend\":false,\"x\":[8,13,7,16,16,3,7,14,10,14,20,12,14,19,11,17,13,10,18,14,4,16,16,15,12,18,13,10,15,17,9,13,12,13,13,11,8,15,16,13,5,13,13,11,14,15,14,17,12,14],\"y\":[107,134,198,151,141,59,95,99,56,126,175,129,160,117,79,133,173,115,86,148,169,138,125,140,121,159,110,108,80,110,102,132,144,131,156,190,157,141,180,150,135,134,166,91,116,115,100,154,66,125],\"type\":\"scatter\"},{\"marker\":{\"color\":\"#cccccc\",\"line\":{\"color\":\"Gray\",\"width\":2.0}},\"mode\":\"markers\",\"name\":\"Infeasible Trial\",\"showlegend\":false,\"x\":[],\"y\":[],\"type\":\"scatter\"}],                        {\"title\":{\"text\":\"Contour Plot\"},\"template\":{\"data\":{\"histogram2dcontour\":[{\"type\":\"histogram2dcontour\",\"colorbar\":{\"outlinewidth\":0,\"ticks\":\"\"},\"colorscale\":[[0.0,\"#0d0887\"],[0.1111111111111111,\"#46039f\"],[0.2222222222222222,\"#7201a8\"],[0.3333333333333333,\"#9c179e\"],[0.4444444444444444,\"#bd3786\"],[0.5555555555555556,\"#d8576b\"],[0.6666666666666666,\"#ed7953\"],[0.7777777777777778,\"#fb9f3a\"],[0.8888888888888888,\"#fdca26\"],[1.0,\"#f0f921\"]]}],\"choropleth\":[{\"type\":\"choropleth\",\"colorbar\":{\"outlinewidth\":0,\"ticks\":\"\"}}],\"histogram2d\":[{\"type\":\"histogram2d\",\"colorbar\":{\"outlinewidth\":0,\"ticks\":\"\"},\"colorscale\":[[0.0,\"#0d0887\"],[0.1111111111111111,\"#46039f\"],[0.2222222222222222,\"#7201a8\"],[0.3333333333333333,\"#9c179e\"],[0.4444444444444444,\"#bd3786\"],[0.5555555555555556,\"#d8576b\"],[0.6666666666666666,\"#ed7953\"],[0.7777777777777778,\"#fb9f3a\"],[0.8888888888888888,\"#fdca26\"],[1.0,\"#f0f921\"]]}],\"heatmap\":[{\"type\":\"heatmap\",\"colorbar\":{\"outlinewidth\":0,\"ticks\":\"\"},\"colorscale\":[[0.0,\"#0d0887\"],[0.1111111111111111,\"#46039f\"],[0.2222222222222222,\"#7201a8\"],[0.3333333333333333,\"#9c179e\"],[0.4444444444444444,\"#bd3786\"],[0.5555555555555556,\"#d8576b\"],[0.6666666666666666,\"#ed7953\"],[0.7777777777777778,\"#fb9f3a\"],[0.8888888888888888,\"#fdca26\"],[1.0,\"#f0f921\"]]}],\"heatmapgl\":[{\"type\":\"heatmapgl\",\"colorbar\":{\"outlinewidth\":0,\"ticks\":\"\"},\"colorscale\":[[0.0,\"#0d0887\"],[0.1111111111111111,\"#46039f\"],[0.2222222222222222,\"#7201a8\"],[0.3333333333333333,\"#9c179e\"],[0.4444444444444444,\"#bd3786\"],[0.5555555555555556,\"#d8576b\"],[0.6666666666666666,\"#ed7953\"],[0.7777777777777778,\"#fb9f3a\"],[0.8888888888888888,\"#fdca26\"],[1.0,\"#f0f921\"]]}],\"contourcarpet\":[{\"type\":\"contourcarpet\",\"colorbar\":{\"outlinewidth\":0,\"ticks\":\"\"}}],\"contour\":[{\"type\":\"contour\",\"colorbar\":{\"outlinewidth\":0,\"ticks\":\"\"},\"colorscale\":[[0.0,\"#0d0887\"],[0.1111111111111111,\"#46039f\"],[0.2222222222222222,\"#7201a8\"],[0.3333333333333333,\"#9c179e\"],[0.4444444444444444,\"#bd3786\"],[0.5555555555555556,\"#d8576b\"],[0.6666666666666666,\"#ed7953\"],[0.7777777777777778,\"#fb9f3a\"],[0.8888888888888888,\"#fdca26\"],[1.0,\"#f0f921\"]]}],\"surface\":[{\"type\":\"surface\",\"colorbar\":{\"outlinewidth\":0,\"ticks\":\"\"},\"colorscale\":[[0.0,\"#0d0887\"],[0.1111111111111111,\"#46039f\"],[0.2222222222222222,\"#7201a8\"],[0.3333333333333333,\"#9c179e\"],[0.4444444444444444,\"#bd3786\"],[0.5555555555555556,\"#d8576b\"],[0.6666666666666666,\"#ed7953\"],[0.7777777777777778,\"#fb9f3a\"],[0.8888888888888888,\"#fdca26\"],[1.0,\"#f0f921\"]]}],\"mesh3d\":[{\"type\":\"mesh3d\",\"colorbar\":{\"outlinewidth\":0,\"ticks\":\"\"}}],\"scatter\":[{\"fillpattern\":{\"fillmode\":\"overlay\",\"size\":10,\"solidity\":0.2},\"type\":\"scatter\"}],\"parcoords\":[{\"type\":\"parcoords\",\"line\":{\"colorbar\":{\"outlinewidth\":0,\"ticks\":\"\"}}}],\"scatterpolargl\":[{\"type\":\"scatterpolargl\",\"marker\":{\"colorbar\":{\"outlinewidth\":0,\"ticks\":\"\"}}}],\"bar\":[{\"error_x\":{\"color\":\"#2a3f5f\"},\"error_y\":{\"color\":\"#2a3f5f\"},\"marker\":{\"line\":{\"color\":\"#E5ECF6\",\"width\":0.5},\"pattern\":{\"fillmode\":\"overlay\",\"size\":10,\"solidity\":0.2}},\"type\":\"bar\"}],\"scattergeo\":[{\"type\":\"scattergeo\",\"marker\":{\"colorbar\":{\"outlinewidth\":0,\"ticks\":\"\"}}}],\"scatterpolar\":[{\"type\":\"scatterpolar\",\"marker\":{\"colorbar\":{\"outlinewidth\":0,\"ticks\":\"\"}}}],\"histogram\":[{\"marker\":{\"pattern\":{\"fillmode\":\"overlay\",\"size\":10,\"solidity\":0.2}},\"type\":\"histogram\"}],\"scattergl\":[{\"type\":\"scattergl\",\"marker\":{\"colorbar\":{\"outlinewidth\":0,\"ticks\":\"\"}}}],\"scatter3d\":[{\"type\":\"scatter3d\",\"line\":{\"colorbar\":{\"outlinewidth\":0,\"ticks\":\"\"}},\"marker\":{\"colorbar\":{\"outlinewidth\":0,\"ticks\":\"\"}}}],\"scattermapbox\":[{\"type\":\"scattermapbox\",\"marker\":{\"colorbar\":{\"outlinewidth\":0,\"ticks\":\"\"}}}],\"scatterternary\":[{\"type\":\"scatterternary\",\"marker\":{\"colorbar\":{\"outlinewidth\":0,\"ticks\":\"\"}}}],\"scattercarpet\":[{\"type\":\"scattercarpet\",\"marker\":{\"colorbar\":{\"outlinewidth\":0,\"ticks\":\"\"}}}],\"carpet\":[{\"aaxis\":{\"endlinecolor\":\"#2a3f5f\",\"gridcolor\":\"white\",\"linecolor\":\"white\",\"minorgridcolor\":\"white\",\"startlinecolor\":\"#2a3f5f\"},\"baxis\":{\"endlinecolor\":\"#2a3f5f\",\"gridcolor\":\"white\",\"linecolor\":\"white\",\"minorgridcolor\":\"white\",\"startlinecolor\":\"#2a3f5f\"},\"type\":\"carpet\"}],\"table\":[{\"cells\":{\"fill\":{\"color\":\"#EBF0F8\"},\"line\":{\"color\":\"white\"}},\"header\":{\"fill\":{\"color\":\"#C8D4E3\"},\"line\":{\"color\":\"white\"}},\"type\":\"table\"}],\"barpolar\":[{\"marker\":{\"line\":{\"color\":\"#E5ECF6\",\"width\":0.5},\"pattern\":{\"fillmode\":\"overlay\",\"size\":10,\"solidity\":0.2}},\"type\":\"barpolar\"}],\"pie\":[{\"automargin\":true,\"type\":\"pie\"}]},\"layout\":{\"autotypenumbers\":\"strict\",\"colorway\":[\"#636efa\",\"#EF553B\",\"#00cc96\",\"#ab63fa\",\"#FFA15A\",\"#19d3f3\",\"#FF6692\",\"#B6E880\",\"#FF97FF\",\"#FECB52\"],\"font\":{\"color\":\"#2a3f5f\"},\"hovermode\":\"closest\",\"hoverlabel\":{\"align\":\"left\"},\"paper_bgcolor\":\"white\",\"plot_bgcolor\":\"#E5ECF6\",\"polar\":{\"bgcolor\":\"#E5ECF6\",\"angularaxis\":{\"gridcolor\":\"white\",\"linecolor\":\"white\",\"ticks\":\"\"},\"radialaxis\":{\"gridcolor\":\"white\",\"linecolor\":\"white\",\"ticks\":\"\"}},\"ternary\":{\"bgcolor\":\"#E5ECF6\",\"aaxis\":{\"gridcolor\":\"white\",\"linecolor\":\"white\",\"ticks\":\"\"},\"baxis\":{\"gridcolor\":\"white\",\"linecolor\":\"white\",\"ticks\":\"\"},\"caxis\":{\"gridcolor\":\"white\",\"linecolor\":\"white\",\"ticks\":\"\"}},\"coloraxis\":{\"colorbar\":{\"outlinewidth\":0,\"ticks\":\"\"}},\"colorscale\":{\"sequential\":[[0.0,\"#0d0887\"],[0.1111111111111111,\"#46039f\"],[0.2222222222222222,\"#7201a8\"],[0.3333333333333333,\"#9c179e\"],[0.4444444444444444,\"#bd3786\"],[0.5555555555555556,\"#d8576b\"],[0.6666666666666666,\"#ed7953\"],[0.7777777777777778,\"#fb9f3a\"],[0.8888888888888888,\"#fdca26\"],[1.0,\"#f0f921\"]],\"sequentialminus\":[[0.0,\"#0d0887\"],[0.1111111111111111,\"#46039f\"],[0.2222222222222222,\"#7201a8\"],[0.3333333333333333,\"#9c179e\"],[0.4444444444444444,\"#bd3786\"],[0.5555555555555556,\"#d8576b\"],[0.6666666666666666,\"#ed7953\"],[0.7777777777777778,\"#fb9f3a\"],[0.8888888888888888,\"#fdca26\"],[1.0,\"#f0f921\"]],\"diverging\":[[0,\"#8e0152\"],[0.1,\"#c51b7d\"],[0.2,\"#de77ae\"],[0.3,\"#f1b6da\"],[0.4,\"#fde0ef\"],[0.5,\"#f7f7f7\"],[0.6,\"#e6f5d0\"],[0.7,\"#b8e186\"],[0.8,\"#7fbc41\"],[0.9,\"#4d9221\"],[1,\"#276419\"]]},\"xaxis\":{\"gridcolor\":\"white\",\"linecolor\":\"white\",\"ticks\":\"\",\"title\":{\"standoff\":15},\"zerolinecolor\":\"white\",\"automargin\":true,\"zerolinewidth\":2},\"yaxis\":{\"gridcolor\":\"white\",\"linecolor\":\"white\",\"ticks\":\"\",\"title\":{\"standoff\":15},\"zerolinecolor\":\"white\",\"automargin\":true,\"zerolinewidth\":2},\"scene\":{\"xaxis\":{\"backgroundcolor\":\"#E5ECF6\",\"gridcolor\":\"white\",\"linecolor\":\"white\",\"showbackground\":true,\"ticks\":\"\",\"zerolinecolor\":\"white\",\"gridwidth\":2},\"yaxis\":{\"backgroundcolor\":\"#E5ECF6\",\"gridcolor\":\"white\",\"linecolor\":\"white\",\"showbackground\":true,\"ticks\":\"\",\"zerolinecolor\":\"white\",\"gridwidth\":2},\"zaxis\":{\"backgroundcolor\":\"#E5ECF6\",\"gridcolor\":\"white\",\"linecolor\":\"white\",\"showbackground\":true,\"ticks\":\"\",\"zerolinecolor\":\"white\",\"gridwidth\":2}},\"shapedefaults\":{\"line\":{\"color\":\"#2a3f5f\"}},\"annotationdefaults\":{\"arrowcolor\":\"#2a3f5f\",\"arrowhead\":0,\"arrowwidth\":1},\"geo\":{\"bgcolor\":\"white\",\"landcolor\":\"#E5ECF6\",\"subunitcolor\":\"white\",\"showland\":true,\"showlakes\":true,\"lakecolor\":\"white\"},\"title\":{\"x\":0.05},\"mapbox\":{\"style\":\"light\"}}},\"xaxis\":{\"title\":{\"text\":\"max_depth\"},\"range\":[2.15,20.85]},\"yaxis\":{\"title\":{\"text\":\"n_estimators\"},\"range\":[48.9,205.1]}},                        {\"responsive\": true}                    ).then(function(){\n",
              "                            \n",
              "var gd = document.getElementById('6dd6a135-67d8-43d0-8fb9-54ace41b0d41');\n",
              "var x = new MutationObserver(function (mutations, observer) {{\n",
              "        var display = window.getComputedStyle(gd).display;\n",
              "        if (!display || display === 'none') {{\n",
              "            console.log([gd, 'removed!']);\n",
              "            Plotly.purge(gd);\n",
              "            observer.disconnect();\n",
              "        }}\n",
              "}});\n",
              "\n",
              "// Listen for the removal of the full notebook cells\n",
              "var notebookContainer = gd.closest('#notebook-container');\n",
              "if (notebookContainer) {{\n",
              "    x.observe(notebookContainer, {childList: true});\n",
              "}}\n",
              "\n",
              "// Listen for the clearing of the current output cell\n",
              "var outputEl = gd.closest('.output');\n",
              "if (outputEl) {{\n",
              "    x.observe(outputEl, {childList: true});\n",
              "}}\n",
              "\n",
              "                        })                };                            </script>        </div>\n",
              "</body>\n",
              "</html>"
            ]
          },
          "metadata": {}
        }
      ]
    },
    {
      "cell_type": "code",
      "source": [
        "plot_param_importances(study).show()"
      ],
      "metadata": {
        "id": "vJAU6HDSA-jg",
        "outputId": "2e6ef56f-a8b5-4faf-b348-5df2212390f0",
        "colab": {
          "base_uri": "https://localhost:8080/",
          "height": 542
        }
      },
      "execution_count": 32,
      "outputs": [
        {
          "output_type": "display_data",
          "data": {
            "text/html": [
              "<html>\n",
              "<head><meta charset=\"utf-8\" /></head>\n",
              "<body>\n",
              "    <div>            <script src=\"https://cdnjs.cloudflare.com/ajax/libs/mathjax/2.7.5/MathJax.js?config=TeX-AMS-MML_SVG\"></script><script type=\"text/javascript\">if (window.MathJax && window.MathJax.Hub && window.MathJax.Hub.Config) {window.MathJax.Hub.Config({SVG: {font: \"STIX-Web\"}});}</script>                <script type=\"text/javascript\">window.PlotlyConfig = {MathJaxConfig: 'local'};</script>\n",
              "        <script charset=\"utf-8\" src=\"https://cdn.plot.ly/plotly-2.35.2.min.js\"></script>                <div id=\"b0619a4c-867f-433e-b8d2-d23d0e8bf3c5\" class=\"plotly-graph-div\" style=\"height:525px; width:100%;\"></div>            <script type=\"text/javascript\">                                    window.PLOTLYENV=window.PLOTLYENV || {};                                    if (document.getElementById(\"b0619a4c-867f-433e-b8d2-d23d0e8bf3c5\")) {                    Plotly.newPlot(                        \"b0619a4c-867f-433e-b8d2-d23d0e8bf3c5\",                        [{\"cliponaxis\":false,\"hovertemplate\":[\"n_estimators (IntDistribution): 0.16327387803727098\\u003cextra\\u003e\\u003c\\u002fextra\\u003e\",\"max_depth (IntDistribution): 0.8367261219627291\\u003cextra\\u003e\\u003c\\u002fextra\\u003e\"],\"name\":\"Objective Value\",\"orientation\":\"h\",\"text\":[\"0.16\",\"0.84\"],\"textposition\":\"outside\",\"x\":[0.16327387803727098,0.8367261219627291],\"y\":[\"n_estimators\",\"max_depth\"],\"type\":\"bar\"}],                        {\"title\":{\"text\":\"Hyperparameter Importances\"},\"xaxis\":{\"title\":{\"text\":\"Hyperparameter Importance\"}},\"yaxis\":{\"title\":{\"text\":\"Hyperparameter\"}},\"template\":{\"data\":{\"histogram2dcontour\":[{\"type\":\"histogram2dcontour\",\"colorbar\":{\"outlinewidth\":0,\"ticks\":\"\"},\"colorscale\":[[0.0,\"#0d0887\"],[0.1111111111111111,\"#46039f\"],[0.2222222222222222,\"#7201a8\"],[0.3333333333333333,\"#9c179e\"],[0.4444444444444444,\"#bd3786\"],[0.5555555555555556,\"#d8576b\"],[0.6666666666666666,\"#ed7953\"],[0.7777777777777778,\"#fb9f3a\"],[0.8888888888888888,\"#fdca26\"],[1.0,\"#f0f921\"]]}],\"choropleth\":[{\"type\":\"choropleth\",\"colorbar\":{\"outlinewidth\":0,\"ticks\":\"\"}}],\"histogram2d\":[{\"type\":\"histogram2d\",\"colorbar\":{\"outlinewidth\":0,\"ticks\":\"\"},\"colorscale\":[[0.0,\"#0d0887\"],[0.1111111111111111,\"#46039f\"],[0.2222222222222222,\"#7201a8\"],[0.3333333333333333,\"#9c179e\"],[0.4444444444444444,\"#bd3786\"],[0.5555555555555556,\"#d8576b\"],[0.6666666666666666,\"#ed7953\"],[0.7777777777777778,\"#fb9f3a\"],[0.8888888888888888,\"#fdca26\"],[1.0,\"#f0f921\"]]}],\"heatmap\":[{\"type\":\"heatmap\",\"colorbar\":{\"outlinewidth\":0,\"ticks\":\"\"},\"colorscale\":[[0.0,\"#0d0887\"],[0.1111111111111111,\"#46039f\"],[0.2222222222222222,\"#7201a8\"],[0.3333333333333333,\"#9c179e\"],[0.4444444444444444,\"#bd3786\"],[0.5555555555555556,\"#d8576b\"],[0.6666666666666666,\"#ed7953\"],[0.7777777777777778,\"#fb9f3a\"],[0.8888888888888888,\"#fdca26\"],[1.0,\"#f0f921\"]]}],\"heatmapgl\":[{\"type\":\"heatmapgl\",\"colorbar\":{\"outlinewidth\":0,\"ticks\":\"\"},\"colorscale\":[[0.0,\"#0d0887\"],[0.1111111111111111,\"#46039f\"],[0.2222222222222222,\"#7201a8\"],[0.3333333333333333,\"#9c179e\"],[0.4444444444444444,\"#bd3786\"],[0.5555555555555556,\"#d8576b\"],[0.6666666666666666,\"#ed7953\"],[0.7777777777777778,\"#fb9f3a\"],[0.8888888888888888,\"#fdca26\"],[1.0,\"#f0f921\"]]}],\"contourcarpet\":[{\"type\":\"contourcarpet\",\"colorbar\":{\"outlinewidth\":0,\"ticks\":\"\"}}],\"contour\":[{\"type\":\"contour\",\"colorbar\":{\"outlinewidth\":0,\"ticks\":\"\"},\"colorscale\":[[0.0,\"#0d0887\"],[0.1111111111111111,\"#46039f\"],[0.2222222222222222,\"#7201a8\"],[0.3333333333333333,\"#9c179e\"],[0.4444444444444444,\"#bd3786\"],[0.5555555555555556,\"#d8576b\"],[0.6666666666666666,\"#ed7953\"],[0.7777777777777778,\"#fb9f3a\"],[0.8888888888888888,\"#fdca26\"],[1.0,\"#f0f921\"]]}],\"surface\":[{\"type\":\"surface\",\"colorbar\":{\"outlinewidth\":0,\"ticks\":\"\"},\"colorscale\":[[0.0,\"#0d0887\"],[0.1111111111111111,\"#46039f\"],[0.2222222222222222,\"#7201a8\"],[0.3333333333333333,\"#9c179e\"],[0.4444444444444444,\"#bd3786\"],[0.5555555555555556,\"#d8576b\"],[0.6666666666666666,\"#ed7953\"],[0.7777777777777778,\"#fb9f3a\"],[0.8888888888888888,\"#fdca26\"],[1.0,\"#f0f921\"]]}],\"mesh3d\":[{\"type\":\"mesh3d\",\"colorbar\":{\"outlinewidth\":0,\"ticks\":\"\"}}],\"scatter\":[{\"fillpattern\":{\"fillmode\":\"overlay\",\"size\":10,\"solidity\":0.2},\"type\":\"scatter\"}],\"parcoords\":[{\"type\":\"parcoords\",\"line\":{\"colorbar\":{\"outlinewidth\":0,\"ticks\":\"\"}}}],\"scatterpolargl\":[{\"type\":\"scatterpolargl\",\"marker\":{\"colorbar\":{\"outlinewidth\":0,\"ticks\":\"\"}}}],\"bar\":[{\"error_x\":{\"color\":\"#2a3f5f\"},\"error_y\":{\"color\":\"#2a3f5f\"},\"marker\":{\"line\":{\"color\":\"#E5ECF6\",\"width\":0.5},\"pattern\":{\"fillmode\":\"overlay\",\"size\":10,\"solidity\":0.2}},\"type\":\"bar\"}],\"scattergeo\":[{\"type\":\"scattergeo\",\"marker\":{\"colorbar\":{\"outlinewidth\":0,\"ticks\":\"\"}}}],\"scatterpolar\":[{\"type\":\"scatterpolar\",\"marker\":{\"colorbar\":{\"outlinewidth\":0,\"ticks\":\"\"}}}],\"histogram\":[{\"marker\":{\"pattern\":{\"fillmode\":\"overlay\",\"size\":10,\"solidity\":0.2}},\"type\":\"histogram\"}],\"scattergl\":[{\"type\":\"scattergl\",\"marker\":{\"colorbar\":{\"outlinewidth\":0,\"ticks\":\"\"}}}],\"scatter3d\":[{\"type\":\"scatter3d\",\"line\":{\"colorbar\":{\"outlinewidth\":0,\"ticks\":\"\"}},\"marker\":{\"colorbar\":{\"outlinewidth\":0,\"ticks\":\"\"}}}],\"scattermapbox\":[{\"type\":\"scattermapbox\",\"marker\":{\"colorbar\":{\"outlinewidth\":0,\"ticks\":\"\"}}}],\"scatterternary\":[{\"type\":\"scatterternary\",\"marker\":{\"colorbar\":{\"outlinewidth\":0,\"ticks\":\"\"}}}],\"scattercarpet\":[{\"type\":\"scattercarpet\",\"marker\":{\"colorbar\":{\"outlinewidth\":0,\"ticks\":\"\"}}}],\"carpet\":[{\"aaxis\":{\"endlinecolor\":\"#2a3f5f\",\"gridcolor\":\"white\",\"linecolor\":\"white\",\"minorgridcolor\":\"white\",\"startlinecolor\":\"#2a3f5f\"},\"baxis\":{\"endlinecolor\":\"#2a3f5f\",\"gridcolor\":\"white\",\"linecolor\":\"white\",\"minorgridcolor\":\"white\",\"startlinecolor\":\"#2a3f5f\"},\"type\":\"carpet\"}],\"table\":[{\"cells\":{\"fill\":{\"color\":\"#EBF0F8\"},\"line\":{\"color\":\"white\"}},\"header\":{\"fill\":{\"color\":\"#C8D4E3\"},\"line\":{\"color\":\"white\"}},\"type\":\"table\"}],\"barpolar\":[{\"marker\":{\"line\":{\"color\":\"#E5ECF6\",\"width\":0.5},\"pattern\":{\"fillmode\":\"overlay\",\"size\":10,\"solidity\":0.2}},\"type\":\"barpolar\"}],\"pie\":[{\"automargin\":true,\"type\":\"pie\"}]},\"layout\":{\"autotypenumbers\":\"strict\",\"colorway\":[\"#636efa\",\"#EF553B\",\"#00cc96\",\"#ab63fa\",\"#FFA15A\",\"#19d3f3\",\"#FF6692\",\"#B6E880\",\"#FF97FF\",\"#FECB52\"],\"font\":{\"color\":\"#2a3f5f\"},\"hovermode\":\"closest\",\"hoverlabel\":{\"align\":\"left\"},\"paper_bgcolor\":\"white\",\"plot_bgcolor\":\"#E5ECF6\",\"polar\":{\"bgcolor\":\"#E5ECF6\",\"angularaxis\":{\"gridcolor\":\"white\",\"linecolor\":\"white\",\"ticks\":\"\"},\"radialaxis\":{\"gridcolor\":\"white\",\"linecolor\":\"white\",\"ticks\":\"\"}},\"ternary\":{\"bgcolor\":\"#E5ECF6\",\"aaxis\":{\"gridcolor\":\"white\",\"linecolor\":\"white\",\"ticks\":\"\"},\"baxis\":{\"gridcolor\":\"white\",\"linecolor\":\"white\",\"ticks\":\"\"},\"caxis\":{\"gridcolor\":\"white\",\"linecolor\":\"white\",\"ticks\":\"\"}},\"coloraxis\":{\"colorbar\":{\"outlinewidth\":0,\"ticks\":\"\"}},\"colorscale\":{\"sequential\":[[0.0,\"#0d0887\"],[0.1111111111111111,\"#46039f\"],[0.2222222222222222,\"#7201a8\"],[0.3333333333333333,\"#9c179e\"],[0.4444444444444444,\"#bd3786\"],[0.5555555555555556,\"#d8576b\"],[0.6666666666666666,\"#ed7953\"],[0.7777777777777778,\"#fb9f3a\"],[0.8888888888888888,\"#fdca26\"],[1.0,\"#f0f921\"]],\"sequentialminus\":[[0.0,\"#0d0887\"],[0.1111111111111111,\"#46039f\"],[0.2222222222222222,\"#7201a8\"],[0.3333333333333333,\"#9c179e\"],[0.4444444444444444,\"#bd3786\"],[0.5555555555555556,\"#d8576b\"],[0.6666666666666666,\"#ed7953\"],[0.7777777777777778,\"#fb9f3a\"],[0.8888888888888888,\"#fdca26\"],[1.0,\"#f0f921\"]],\"diverging\":[[0,\"#8e0152\"],[0.1,\"#c51b7d\"],[0.2,\"#de77ae\"],[0.3,\"#f1b6da\"],[0.4,\"#fde0ef\"],[0.5,\"#f7f7f7\"],[0.6,\"#e6f5d0\"],[0.7,\"#b8e186\"],[0.8,\"#7fbc41\"],[0.9,\"#4d9221\"],[1,\"#276419\"]]},\"xaxis\":{\"gridcolor\":\"white\",\"linecolor\":\"white\",\"ticks\":\"\",\"title\":{\"standoff\":15},\"zerolinecolor\":\"white\",\"automargin\":true,\"zerolinewidth\":2},\"yaxis\":{\"gridcolor\":\"white\",\"linecolor\":\"white\",\"ticks\":\"\",\"title\":{\"standoff\":15},\"zerolinecolor\":\"white\",\"automargin\":true,\"zerolinewidth\":2},\"scene\":{\"xaxis\":{\"backgroundcolor\":\"#E5ECF6\",\"gridcolor\":\"white\",\"linecolor\":\"white\",\"showbackground\":true,\"ticks\":\"\",\"zerolinecolor\":\"white\",\"gridwidth\":2},\"yaxis\":{\"backgroundcolor\":\"#E5ECF6\",\"gridcolor\":\"white\",\"linecolor\":\"white\",\"showbackground\":true,\"ticks\":\"\",\"zerolinecolor\":\"white\",\"gridwidth\":2},\"zaxis\":{\"backgroundcolor\":\"#E5ECF6\",\"gridcolor\":\"white\",\"linecolor\":\"white\",\"showbackground\":true,\"ticks\":\"\",\"zerolinecolor\":\"white\",\"gridwidth\":2}},\"shapedefaults\":{\"line\":{\"color\":\"#2a3f5f\"}},\"annotationdefaults\":{\"arrowcolor\":\"#2a3f5f\",\"arrowhead\":0,\"arrowwidth\":1},\"geo\":{\"bgcolor\":\"white\",\"landcolor\":\"#E5ECF6\",\"subunitcolor\":\"white\",\"showland\":true,\"showlakes\":true,\"lakecolor\":\"white\"},\"title\":{\"x\":0.05},\"mapbox\":{\"style\":\"light\"}}}},                        {\"responsive\": true}                    ).then(function(){\n",
              "                            \n",
              "var gd = document.getElementById('b0619a4c-867f-433e-b8d2-d23d0e8bf3c5');\n",
              "var x = new MutationObserver(function (mutations, observer) {{\n",
              "        var display = window.getComputedStyle(gd).display;\n",
              "        if (!display || display === 'none') {{\n",
              "            console.log([gd, 'removed!']);\n",
              "            Plotly.purge(gd);\n",
              "            observer.disconnect();\n",
              "        }}\n",
              "}});\n",
              "\n",
              "// Listen for the removal of the full notebook cells\n",
              "var notebookContainer = gd.closest('#notebook-container');\n",
              "if (notebookContainer) {{\n",
              "    x.observe(notebookContainer, {childList: true});\n",
              "}}\n",
              "\n",
              "// Listen for the clearing of the current output cell\n",
              "var outputEl = gd.closest('.output');\n",
              "if (outputEl) {{\n",
              "    x.observe(outputEl, {childList: true});\n",
              "}}\n",
              "\n",
              "                        })                };                            </script>        </div>\n",
              "</body>\n",
              "</html>"
            ]
          },
          "metadata": {}
        }
      ]
    },
    {
      "cell_type": "markdown",
      "source": [
        "## Define by run:\n",
        "Dynamic Search spaces.\n",
        "* one HPT to know which algo is the best, and it's parameters\n",
        "`algo = [SVM, XGboost, RF, LR]`\n",
        "* make search spaces for all and find the best one out there"
      ],
      "metadata": {
        "id": "pXit5gVOBTkO"
      }
    },
    {
      "cell_type": "code",
      "source": [
        "from sklearn.ensemble import RandomForestClassifier, GradientBoostingClassifier\n",
        "from sklearn.svm import SVC"
      ],
      "metadata": {
        "id": "39fLMgk9BLZ0"
      },
      "execution_count": 33,
      "outputs": []
    },
    {
      "cell_type": "code",
      "source": [
        "def objective(trial):\n",
        "\n",
        "  classifier_name = trial.suggest_categorical('classifier', ['SVM', 'RandomForest', 'GBC'])\n",
        "\n",
        "  if classifier_name == 'SVM':\n",
        "    #SVM HPs\n",
        "    c = trial.suggest_float('C', 0.1, 100, log=True)\n",
        "    kernel = trial.suggest_categorical('kernel', ['linear', 'rbf', 'poly', 'sigmoid'])\n",
        "    gamma = trial.suggest_categorical('gamma', ['scale', 'auto'])\n",
        "    model = SVC(C=c, kernel=kernel, gamma=gamma)\n",
        "\n",
        "  elif classifier_name == 'RandomForest':\n",
        "    #RF HPs\n",
        "    n_estimators = trial.suggest_int('n_estimators', 50, 300)\n",
        "    max_depth = trial.suggest_int('max_depth', 3, 20)\n",
        "    min_samples_split = trial.suggest_int('min_samples_split', 2, 20)\n",
        "    min_samples_leaf = trial.suggest_int('min_samples_leaf', 1, 20)\n",
        "    bootstrap = trial.suggest_categorical('bootstrap', [True, False])\n",
        "\n",
        "    model = RandomForestClassifier(\n",
        "        n_estimators=n_estimators,\n",
        "        max_depth=max_depth,\n",
        "        min_samples_split=min_samples_split,\n",
        "        min_samples_leaf=min_samples_leaf,\n",
        "        bootstrap=bootstrap,\n",
        "        random_state=42\n",
        "    )\n",
        "  elif classifier_name == 'GBC':\n",
        "    #GBC HPs\n",
        "    n_estimators = trial.suggest_int('n_estimators', 50, 300)\n",
        "    learning_rate = trial.suggest_float('learning_rate', 0.01, 0.3, log=True)\n",
        "    max_depth = trial.suggest_int('max_depth', 3, 20)\n",
        "    min_samples_split = trial.suggest_int('min_samples_split', 2, 10)\n",
        "    min_samples_leaf = trial.suggest_int('min_samples_leaf', 1, 10)\n",
        "\n",
        "    model = GradientBoostingClassifier(\n",
        "        n_estimators=n_estimators,\n",
        "        learning_rate=learning_rate,\n",
        "        max_depth=max_depth,\n",
        "        min_samples_split=min_samples_split,\n",
        "        min_samples_leaf=min_samples_leaf,\n",
        "        random_state=42\n",
        "    )\n",
        "\n",
        "  score = cross_val_score(model, X_train, y_train, cv=3, scoring='accuracy').mean()\n",
        "  return score"
      ],
      "metadata": {
        "id": "auOScWQYB4Mk"
      },
      "execution_count": 38,
      "outputs": []
    },
    {
      "cell_type": "code",
      "source": [
        "study = optuna.create_study(direction='maximize', sampler=optuna.samplers.TPESampler())\n",
        "study.optimize(objective, n_trials=100)"
      ],
      "metadata": {
        "id": "6f0sQGOFDqZI",
        "outputId": "21cf1fb3-1a46-49c8-c65a-64e85b6f5872",
        "colab": {
          "base_uri": "https://localhost:8080/"
        }
      },
      "execution_count": 39,
      "outputs": [
        {
          "output_type": "stream",
          "name": "stderr",
          "text": [
            "[I 2025-03-20 14:59:30,850] A new study created in memory with name: no-name-7681a33f-113c-4ef2-bd3a-165443a23fc1\n",
            "[I 2025-03-20 14:59:31,730] Trial 0 finished with value: 0.7589191774270684 and parameters: {'classifier': 'RandomForest', 'n_estimators': 149, 'max_depth': 8, 'min_samples_split': 10, 'min_samples_leaf': 16, 'bootstrap': False}. Best is trial 0 with value: 0.7589191774270684.\n",
            "[I 2025-03-20 14:59:33,926] Trial 1 finished with value: 0.7622190339550454 and parameters: {'classifier': 'GBC', 'n_estimators': 255, 'learning_rate': 0.23122497688382293, 'max_depth': 20, 'min_samples_split': 10, 'min_samples_leaf': 2}. Best is trial 1 with value: 0.7622190339550454.\n",
            "[I 2025-03-20 14:59:34,679] Trial 2 finished with value: 0.760561135023115 and parameters: {'classifier': 'RandomForest', 'n_estimators': 207, 'max_depth': 5, 'min_samples_split': 4, 'min_samples_leaf': 18, 'bootstrap': False}. Best is trial 1 with value: 0.7622190339550454.\n",
            "[I 2025-03-20 14:59:36,811] Trial 3 finished with value: 0.7621791806153356 and parameters: {'classifier': 'GBC', 'n_estimators': 205, 'learning_rate': 0.019422033230258446, 'max_depth': 20, 'min_samples_split': 5, 'min_samples_leaf': 9}. Best is trial 1 with value: 0.7622190339550454.\n",
            "[I 2025-03-20 14:59:36,836] Trial 4 finished with value: 0.7670731707317073 and parameters: {'classifier': 'SVM', 'C': 0.44504214021495636, 'kernel': 'linear', 'gamma': 'scale'}. Best is trial 4 with value: 0.7670731707317073.\n",
            "[I 2025-03-20 14:59:36,867] Trial 5 finished with value: 0.7426908974972103 and parameters: {'classifier': 'SVM', 'C': 0.1630156389880256, 'kernel': 'rbf', 'gamma': 'scale'}. Best is trial 4 with value: 0.7670731707317073.\n",
            "[I 2025-03-20 14:59:38,353] Trial 6 finished with value: 0.7703411445879165 and parameters: {'classifier': 'GBC', 'n_estimators': 150, 'learning_rate': 0.01265427505337991, 'max_depth': 15, 'min_samples_split': 10, 'min_samples_leaf': 9}. Best is trial 6 with value: 0.7703411445879165.\n",
            "[I 2025-03-20 14:59:42,628] Trial 7 finished with value: 0.7524469950581859 and parameters: {'classifier': 'GBC', 'n_estimators': 223, 'learning_rate': 0.121543781717707, 'max_depth': 14, 'min_samples_split': 4, 'min_samples_leaf': 4}. Best is trial 6 with value: 0.7703411445879165.\n",
            "[I 2025-03-20 14:59:44,942] Trial 8 finished with value: 0.7589670014347202 and parameters: {'classifier': 'GBC', 'n_estimators': 182, 'learning_rate': 0.1057657855887347, 'max_depth': 11, 'min_samples_split': 2, 'min_samples_leaf': 5}. Best is trial 6 with value: 0.7703411445879165.\n",
            "[I 2025-03-20 14:59:44,977] Trial 9 finished with value: 0.7361629204527339 and parameters: {'classifier': 'SVM', 'C': 15.175109685332908, 'kernel': 'rbf', 'gamma': 'auto'}. Best is trial 6 with value: 0.7703411445879165.\n",
            "[I 2025-03-20 14:59:45,567] Trial 10 finished with value: 0.7491869918699187 and parameters: {'classifier': 'GBC', 'n_estimators': 59, 'learning_rate': 0.010912469093623327, 'max_depth': 15, 'min_samples_split': 8, 'min_samples_leaf': 8}. Best is trial 6 with value: 0.7703411445879165.\n",
            "[I 2025-03-20 14:59:45,595] Trial 11 finished with value: 0.7654471544715448 and parameters: {'classifier': 'SVM', 'C': 0.3376152305229908, 'kernel': 'linear', 'gamma': 'scale'}. Best is trial 6 with value: 0.7703411445879165.\n",
            "[I 2025-03-20 14:59:45,633] Trial 12 finished with value: 0.7703252032520326 and parameters: {'classifier': 'SVM', 'C': 2.314629001953448, 'kernel': 'linear', 'gamma': 'scale'}. Best is trial 6 with value: 0.7703411445879165.\n",
            "[I 2025-03-20 14:59:45,671] Trial 13 finished with value: 0.6808225729316116 and parameters: {'classifier': 'SVM', 'C': 84.27870692227243, 'kernel': 'sigmoid', 'gamma': 'auto'}. Best is trial 6 with value: 0.7703411445879165.\n",
            "[I 2025-03-20 14:59:46,171] Trial 14 finished with value: 0.755699027578511 and parameters: {'classifier': 'RandomForest', 'n_estimators': 106, 'max_depth': 16, 'min_samples_split': 17, 'min_samples_leaf': 13, 'bootstrap': True}. Best is trial 6 with value: 0.7703411445879165.\n",
            "[I 2025-03-20 14:59:49,338] Trial 15 finished with value: 0.7573409851745576 and parameters: {'classifier': 'GBC', 'n_estimators': 288, 'learning_rate': 0.030757820199087203, 'max_depth': 10, 'min_samples_split': 8, 'min_samples_leaf': 7}. Best is trial 6 with value: 0.7703411445879165.\n",
            "[I 2025-03-20 14:59:49,371] Trial 16 finished with value: 0.7231388490355491 and parameters: {'classifier': 'SVM', 'C': 3.1391423916574728, 'kernel': 'poly', 'gamma': 'scale'}. Best is trial 6 with value: 0.7703411445879165.\n",
            "[I 2025-03-20 14:59:50,018] Trial 17 finished with value: 0.7491869918699187 and parameters: {'classifier': 'GBC', 'n_estimators': 132, 'learning_rate': 0.01007706073904177, 'max_depth': 3, 'min_samples_split': 10, 'min_samples_leaf': 1}. Best is trial 6 with value: 0.7703411445879165.\n",
            "[I 2025-03-20 14:59:50,062] Trial 18 finished with value: 0.7703252032520326 and parameters: {'classifier': 'SVM', 'C': 2.3316833698158796, 'kernel': 'linear', 'gamma': 'scale'}. Best is trial 6 with value: 0.7703411445879165.\n",
            "[I 2025-03-20 14:59:50,408] Trial 19 finished with value: 0.7654630958074287 and parameters: {'classifier': 'RandomForest', 'n_estimators': 70, 'max_depth': 17, 'min_samples_split': 16, 'min_samples_leaf': 12, 'bootstrap': True}. Best is trial 6 with value: 0.7703411445879165.\n",
            "[I 2025-03-20 14:59:51,711] Trial 20 finished with value: 0.760561135023115 and parameters: {'classifier': 'GBC', 'n_estimators': 102, 'learning_rate': 0.045197778726547455, 'max_depth': 13, 'min_samples_split': 7, 'min_samples_leaf': 6}. Best is trial 6 with value: 0.7703411445879165.\n",
            "[I 2025-03-20 14:59:51,752] Trial 21 finished with value: 0.7703252032520326 and parameters: {'classifier': 'SVM', 'C': 2.2198053428902926, 'kernel': 'linear', 'gamma': 'scale'}. Best is trial 6 with value: 0.7703411445879165.\n",
            "[I 2025-03-20 14:59:51,789] Trial 22 finished with value: 0.7703252032520326 and parameters: {'classifier': 'SVM', 'C': 1.6860650173643257, 'kernel': 'linear', 'gamma': 'scale'}. Best is trial 6 with value: 0.7703411445879165.\n",
            "[I 2025-03-20 14:59:51,884] Trial 23 finished with value: 0.7686991869918699 and parameters: {'classifier': 'SVM', 'C': 10.67445286455284, 'kernel': 'linear', 'gamma': 'scale'}. Best is trial 6 with value: 0.7703411445879165.\n",
            "[I 2025-03-20 14:59:51,939] Trial 24 finished with value: 0.7149529730591423 and parameters: {'classifier': 'SVM', 'C': 10.707927872611581, 'kernel': 'poly', 'gamma': 'auto'}. Best is trial 6 with value: 0.7703411445879165.\n",
            "[I 2025-03-20 14:59:52,004] Trial 25 finished with value: 0.728016897816037 and parameters: {'classifier': 'SVM', 'C': 0.8365972485647819, 'kernel': 'sigmoid', 'gamma': 'scale'}. Best is trial 6 with value: 0.7703411445879165.\n",
            "[I 2025-03-20 14:59:52,122] Trial 26 finished with value: 0.7686991869918699 and parameters: {'classifier': 'SVM', 'C': 8.058825714947332, 'kernel': 'linear', 'gamma': 'scale'}. Best is trial 6 with value: 0.7703411445879165.\n",
            "[I 2025-03-20 14:59:52,631] Trial 27 finished with value: 0.7686991869918699 and parameters: {'classifier': 'SVM', 'C': 43.624909701318025, 'kernel': 'linear', 'gamma': 'auto'}. Best is trial 6 with value: 0.7703411445879165.\n",
            "[I 2025-03-20 14:59:53,736] Trial 28 finished with value: 0.7540490993145226 and parameters: {'classifier': 'RandomForest', 'n_estimators': 154, 'max_depth': 7, 'min_samples_split': 14, 'min_samples_leaf': 15, 'bootstrap': True}. Best is trial 6 with value: 0.7703411445879165.\n",
            "[I 2025-03-20 14:59:56,551] Trial 29 finished with value: 0.7573091025027897 and parameters: {'classifier': 'GBC', 'n_estimators': 240, 'learning_rate': 0.02042506954003161, 'max_depth': 18, 'min_samples_split': 2, 'min_samples_leaf': 8}. Best is trial 6 with value: 0.7703411445879165.\n",
            "[I 2025-03-20 14:59:57,706] Trial 30 finished with value: 0.7719432488442531 and parameters: {'classifier': 'RandomForest', 'n_estimators': 295, 'max_depth': 12, 'min_samples_split': 13, 'min_samples_leaf': 11, 'bootstrap': False}. Best is trial 30 with value: 0.7719432488442531.\n",
            "[I 2025-03-20 14:59:58,817] Trial 31 finished with value: 0.7719512195121951 and parameters: {'classifier': 'RandomForest', 'n_estimators': 288, 'max_depth': 12, 'min_samples_split': 13, 'min_samples_leaf': 11, 'bootstrap': False}. Best is trial 31 with value: 0.7719512195121951.\n",
            "[I 2025-03-20 14:59:59,969] Trial 32 finished with value: 0.7735852064402997 and parameters: {'classifier': 'RandomForest', 'n_estimators': 298, 'max_depth': 12, 'min_samples_split': 13, 'min_samples_leaf': 11, 'bootstrap': False}. Best is trial 32 with value: 0.7735852064402997.\n",
            "[I 2025-03-20 15:00:01,135] Trial 33 finished with value: 0.7735852064402997 and parameters: {'classifier': 'RandomForest', 'n_estimators': 298, 'max_depth': 12, 'min_samples_split': 14, 'min_samples_leaf': 11, 'bootstrap': False}. Best is trial 32 with value: 0.7735852064402997.\n",
            "[I 2025-03-20 15:00:02,300] Trial 34 finished with value: 0.7735852064402997 and parameters: {'classifier': 'RandomForest', 'n_estimators': 297, 'max_depth': 12, 'min_samples_split': 13, 'min_samples_leaf': 11, 'bootstrap': False}. Best is trial 32 with value: 0.7735852064402997.\n",
            "[I 2025-03-20 15:00:03,420] Trial 35 finished with value: 0.7686991869918699 and parameters: {'classifier': 'RandomForest', 'n_estimators': 270, 'max_depth': 10, 'min_samples_split': 14, 'min_samples_leaf': 13, 'bootstrap': False}. Best is trial 32 with value: 0.7735852064402997.\n",
            "[I 2025-03-20 15:00:04,849] Trial 36 finished with value: 0.7735852064402997 and parameters: {'classifier': 'RandomForest', 'n_estimators': 300, 'max_depth': 12, 'min_samples_split': 13, 'min_samples_leaf': 11, 'bootstrap': False}. Best is trial 32 with value: 0.7735852064402997.\n",
            "[I 2025-03-20 15:00:07,056] Trial 37 finished with value: 0.7638211382113821 and parameters: {'classifier': 'RandomForest', 'n_estimators': 300, 'max_depth': 9, 'min_samples_split': 20, 'min_samples_leaf': 15, 'bootstrap': False}. Best is trial 32 with value: 0.7735852064402997.\n",
            "[I 2025-03-20 15:00:08,776] Trial 38 finished with value: 0.7638131675434402 and parameters: {'classifier': 'RandomForest', 'n_estimators': 262, 'max_depth': 12, 'min_samples_split': 16, 'min_samples_leaf': 10, 'bootstrap': False}. Best is trial 32 with value: 0.7735852064402997.\n",
            "[I 2025-03-20 15:00:10,330] Trial 39 finished with value: 0.7686991869918699 and parameters: {'classifier': 'RandomForest', 'n_estimators': 273, 'max_depth': 13, 'min_samples_split': 12, 'min_samples_leaf': 13, 'bootstrap': False}. Best is trial 32 with value: 0.7735852064402997.\n",
            "[I 2025-03-20 15:00:11,312] Trial 40 finished with value: 0.7654391838036028 and parameters: {'classifier': 'RandomForest', 'n_estimators': 246, 'max_depth': 10, 'min_samples_split': 15, 'min_samples_leaf': 10, 'bootstrap': False}. Best is trial 32 with value: 0.7735852064402997.\n",
            "[I 2025-03-20 15:00:12,390] Trial 41 finished with value: 0.7703252032520326 and parameters: {'classifier': 'RandomForest', 'n_estimators': 280, 'max_depth': 13, 'min_samples_split': 12, 'min_samples_leaf': 11, 'bootstrap': False}. Best is trial 32 with value: 0.7735852064402997.\n",
            "[I 2025-03-20 15:00:13,591] Trial 42 finished with value: 0.7703331739199745 and parameters: {'classifier': 'RandomForest', 'n_estimators': 299, 'max_depth': 11, 'min_samples_split': 13, 'min_samples_leaf': 12, 'bootstrap': False}. Best is trial 32 with value: 0.7735852064402997.\n",
            "[I 2025-03-20 15:00:14,665] Trial 43 finished with value: 0.7719591901801371 and parameters: {'classifier': 'RandomForest', 'n_estimators': 277, 'max_depth': 12, 'min_samples_split': 18, 'min_samples_leaf': 11, 'bootstrap': False}. Best is trial 32 with value: 0.7735852064402997.\n",
            "[I 2025-03-20 15:00:15,744] Trial 44 finished with value: 0.7687151283277539 and parameters: {'classifier': 'RandomForest', 'n_estimators': 266, 'max_depth': 13, 'min_samples_split': 19, 'min_samples_leaf': 14, 'bootstrap': False}. Best is trial 32 with value: 0.7735852064402997.\n",
            "[I 2025-03-20 15:00:17,656] Trial 45 finished with value: 0.7654391838036028 and parameters: {'classifier': 'RandomForest', 'n_estimators': 277, 'max_depth': 14, 'min_samples_split': 18, 'min_samples_leaf': 9, 'bootstrap': False}. Best is trial 32 with value: 0.7735852064402997.\n",
            "[I 2025-03-20 15:00:19,626] Trial 46 finished with value: 0.768683245655986 and parameters: {'classifier': 'RandomForest', 'n_estimators': 299, 'max_depth': 7, 'min_samples_split': 15, 'min_samples_leaf': 12, 'bootstrap': False}. Best is trial 32 with value: 0.7735852064402997.\n",
            "[I 2025-03-20 15:00:20,632] Trial 47 finished with value: 0.752415112386418 and parameters: {'classifier': 'RandomForest', 'n_estimators': 236, 'max_depth': 9, 'min_samples_split': 11, 'min_samples_leaf': 17, 'bootstrap': False}. Best is trial 32 with value: 0.7735852064402997.\n",
            "[I 2025-03-20 15:00:21,744] Trial 48 finished with value: 0.7654471544715448 and parameters: {'classifier': 'RandomForest', 'n_estimators': 256, 'max_depth': 11, 'min_samples_split': 17, 'min_samples_leaf': 10, 'bootstrap': False}. Best is trial 32 with value: 0.7735852064402997.\n",
            "[I 2025-03-20 15:00:24,238] Trial 49 finished with value: 0.7589351187629524 and parameters: {'classifier': 'RandomForest', 'n_estimators': 281, 'max_depth': 14, 'min_samples_split': 11, 'min_samples_leaf': 20, 'bootstrap': False}. Best is trial 32 with value: 0.7735852064402997.\n",
            "[I 2025-03-20 15:00:26,399] Trial 50 finished with value: 0.7687151283277539 and parameters: {'classifier': 'RandomForest', 'n_estimators': 260, 'max_depth': 9, 'min_samples_split': 15, 'min_samples_leaf': 14, 'bootstrap': False}. Best is trial 32 with value: 0.7735852064402997.\n",
            "[I 2025-03-20 15:00:30,204] Trial 51 finished with value: 0.7719591901801371 and parameters: {'classifier': 'RandomForest', 'n_estimators': 287, 'max_depth': 12, 'min_samples_split': 13, 'min_samples_leaf': 11, 'bootstrap': False}. Best is trial 32 with value: 0.7735852064402997.\n",
            "[I 2025-03-20 15:00:32,727] Trial 52 finished with value: 0.7686991869918699 and parameters: {'classifier': 'RandomForest', 'n_estimators': 282, 'max_depth': 12, 'min_samples_split': 12, 'min_samples_leaf': 12, 'bootstrap': False}. Best is trial 32 with value: 0.7735852064402997.\n",
            "[I 2025-03-20 15:00:34,344] Trial 53 finished with value: 0.7670652000637653 and parameters: {'classifier': 'RandomForest', 'n_estimators': 287, 'max_depth': 11, 'min_samples_split': 14, 'min_samples_leaf': 9, 'bootstrap': False}. Best is trial 32 with value: 0.7735852064402997.\n",
            "[I 2025-03-20 15:00:35,718] Trial 54 finished with value: 0.7703172325840906 and parameters: {'classifier': 'RandomForest', 'n_estimators': 223, 'max_depth': 14, 'min_samples_split': 13, 'min_samples_leaf': 11, 'bootstrap': False}. Best is trial 32 with value: 0.7735852064402997.\n",
            "[I 2025-03-20 15:00:37,650] Trial 55 finished with value: 0.7735931771082417 and parameters: {'classifier': 'RandomForest', 'n_estimators': 272, 'max_depth': 15, 'min_samples_split': 10, 'min_samples_leaf': 8, 'bootstrap': False}. Best is trial 55 with value: 0.7735931771082417.\n",
            "[I 2025-03-20 15:00:39,260] Trial 56 finished with value: 0.7752271640363463 and parameters: {'classifier': 'RandomForest', 'n_estimators': 250, 'max_depth': 15, 'min_samples_split': 9, 'min_samples_leaf': 8, 'bootstrap': True}. Best is trial 56 with value: 0.7752271640363463.\n",
            "[I 2025-03-20 15:00:40,567] Trial 57 finished with value: 0.7703411445879165 and parameters: {'classifier': 'RandomForest', 'n_estimators': 252, 'max_depth': 16, 'min_samples_split': 9, 'min_samples_leaf': 7, 'bootstrap': True}. Best is trial 56 with value: 0.7752271640363463.\n",
            "[I 2025-03-20 15:00:42,139] Trial 58 finished with value: 0.7687151283277539 and parameters: {'classifier': 'RandomForest', 'n_estimators': 209, 'max_depth': 15, 'min_samples_split': 10, 'min_samples_leaf': 4, 'bootstrap': True}. Best is trial 56 with value: 0.7752271640363463.\n",
            "[I 2025-03-20 15:00:43,515] Trial 59 finished with value: 0.771967160848079 and parameters: {'classifier': 'RandomForest', 'n_estimators': 186, 'max_depth': 18, 'min_samples_split': 7, 'min_samples_leaf': 8, 'bootstrap': True}. Best is trial 56 with value: 0.7752271640363463.\n",
            "[I 2025-03-20 15:00:45,328] Trial 60 finished with value: 0.771975131516021 and parameters: {'classifier': 'RandomForest', 'n_estimators': 269, 'max_depth': 16, 'min_samples_split': 11, 'min_samples_leaf': 7, 'bootstrap': True}. Best is trial 56 with value: 0.7752271640363463.\n",
            "[I 2025-03-20 15:00:47,145] Trial 61 finished with value: 0.7768531802965088 and parameters: {'classifier': 'RandomForest', 'n_estimators': 266, 'max_depth': 16, 'min_samples_split': 11, 'min_samples_leaf': 6, 'bootstrap': True}. Best is trial 61 with value: 0.7768531802965088.\n",
            "[I 2025-03-20 15:00:49,414] Trial 62 finished with value: 0.7687151283277539 and parameters: {'classifier': 'RandomForest', 'n_estimators': 291, 'max_depth': 15, 'min_samples_split': 9, 'min_samples_leaf': 5, 'bootstrap': True}. Best is trial 61 with value: 0.7768531802965088.\n",
            "[I 2025-03-20 15:00:51,788] Trial 63 finished with value: 0.7735931771082417 and parameters: {'classifier': 'RandomForest', 'n_estimators': 267, 'max_depth': 17, 'min_samples_split': 9, 'min_samples_leaf': 6, 'bootstrap': True}. Best is trial 61 with value: 0.7768531802965088.\n",
            "[I 2025-03-20 15:00:55,754] Trial 64 finished with value: 0.7736011477761836 and parameters: {'classifier': 'RandomForest', 'n_estimators': 249, 'max_depth': 19, 'min_samples_split': 9, 'min_samples_leaf': 6, 'bootstrap': True}. Best is trial 61 with value: 0.7768531802965088.\n",
            "[I 2025-03-20 15:01:01,836] Trial 65 finished with value: 0.7622190339550454 and parameters: {'classifier': 'GBC', 'n_estimators': 222, 'learning_rate': 0.08432275495554223, 'max_depth': 19, 'min_samples_split': 9, 'min_samples_leaf': 6}. Best is trial 61 with value: 0.7768531802965088.\n",
            "[I 2025-03-20 15:01:03,979] Trial 66 finished with value: 0.7670970827355332 and parameters: {'classifier': 'RandomForest', 'n_estimators': 245, 'max_depth': 20, 'min_samples_split': 7, 'min_samples_leaf': 3, 'bootstrap': True}. Best is trial 61 with value: 0.7768531802965088.\n",
            "[I 2025-03-20 15:01:05,210] Trial 67 finished with value: 0.7784871672246134 and parameters: {'classifier': 'RandomForest', 'n_estimators': 231, 'max_depth': 17, 'min_samples_split': 8, 'min_samples_leaf': 6, 'bootstrap': True}. Best is trial 67 with value: 0.7784871672246134.\n",
            "[I 2025-03-20 15:01:06,304] Trial 68 finished with value: 0.7768611509644509 and parameters: {'classifier': 'RandomForest', 'n_estimators': 237, 'max_depth': 17, 'min_samples_split': 8, 'min_samples_leaf': 6, 'bootstrap': True}. Best is trial 67 with value: 0.7784871672246134.\n",
            "[I 2025-03-20 15:01:07,704] Trial 69 finished with value: 0.7768611509644509 and parameters: {'classifier': 'RandomForest', 'n_estimators': 233, 'max_depth': 17, 'min_samples_split': 6, 'min_samples_leaf': 6, 'bootstrap': True}. Best is trial 67 with value: 0.7784871672246134.\n",
            "[I 2025-03-20 15:01:10,364] Trial 70 finished with value: 0.7573170731707317 and parameters: {'classifier': 'GBC', 'n_estimators': 233, 'learning_rate': 0.2331988985321185, 'max_depth': 18, 'min_samples_split': 5, 'min_samples_leaf': 5}. Best is trial 67 with value: 0.7784871672246134.\n",
            "[I 2025-03-20 15:01:11,423] Trial 71 finished with value: 0.7768531802965088 and parameters: {'classifier': 'RandomForest', 'n_estimators': 226, 'max_depth': 17, 'min_samples_split': 8, 'min_samples_leaf': 6, 'bootstrap': True}. Best is trial 67 with value: 0.7784871672246134.\n",
            "[I 2025-03-20 15:01:12,364] Trial 72 finished with value: 0.7752191933684043 and parameters: {'classifier': 'RandomForest', 'n_estimators': 200, 'max_depth': 17, 'min_samples_split': 6, 'min_samples_leaf': 4, 'bootstrap': True}. Best is trial 67 with value: 0.7784871672246134.\n",
            "[I 2025-03-20 15:01:13,322] Trial 73 finished with value: 0.7768452096285668 and parameters: {'classifier': 'RandomForest', 'n_estimators': 199, 'max_depth': 17, 'min_samples_split': 6, 'min_samples_leaf': 4, 'bootstrap': True}. Best is trial 67 with value: 0.7784871672246134.\n",
            "[I 2025-03-20 15:01:14,277] Trial 74 finished with value: 0.7654551251394867 and parameters: {'classifier': 'RandomForest', 'n_estimators': 199, 'max_depth': 17, 'min_samples_split': 6, 'min_samples_leaf': 3, 'bootstrap': True}. Best is trial 67 with value: 0.7784871672246134.\n",
            "[I 2025-03-20 15:01:15,300] Trial 75 finished with value: 0.7768531802965088 and parameters: {'classifier': 'RandomForest', 'n_estimators': 210, 'max_depth': 17, 'min_samples_split': 6, 'min_samples_leaf': 4, 'bootstrap': True}. Best is trial 67 with value: 0.7784871672246134.\n",
            "[I 2025-03-20 15:01:16,320] Trial 76 finished with value: 0.7752271640363463 and parameters: {'classifier': 'RandomForest', 'n_estimators': 210, 'max_depth': 19, 'min_samples_split': 8, 'min_samples_leaf': 2, 'bootstrap': True}. Best is trial 67 with value: 0.7784871672246134.\n",
            "[I 2025-03-20 15:01:17,353] Trial 77 finished with value: 0.7768531802965088 and parameters: {'classifier': 'RandomForest', 'n_estimators': 217, 'max_depth': 16, 'min_samples_split': 4, 'min_samples_leaf': 4, 'bootstrap': True}. Best is trial 67 with value: 0.7784871672246134.\n",
            "[I 2025-03-20 15:01:18,548] Trial 78 finished with value: 0.7654551251394867 and parameters: {'classifier': 'RandomForest', 'n_estimators': 215, 'max_depth': 16, 'min_samples_split': 3, 'min_samples_leaf': 3, 'bootstrap': True}. Best is trial 67 with value: 0.7784871672246134.\n",
            "[I 2025-03-20 15:01:21,820] Trial 79 finished with value: 0.7752191933684043 and parameters: {'classifier': 'RandomForest', 'n_estimators': 229, 'max_depth': 18, 'min_samples_split': 5, 'min_samples_leaf': 5, 'bootstrap': True}. Best is trial 67 with value: 0.7784871672246134.\n",
            "[I 2025-03-20 15:01:27,595] Trial 80 finished with value: 0.7524310537223019 and parameters: {'classifier': 'GBC', 'n_estimators': 180, 'learning_rate': 0.057070061069502236, 'max_depth': 17, 'min_samples_split': 4, 'min_samples_leaf': 5}. Best is trial 67 with value: 0.7784871672246134.\n",
            "[I 2025-03-20 15:01:29,479] Trial 81 finished with value: 0.7736011477761836 and parameters: {'classifier': 'RandomForest', 'n_estimators': 241, 'max_depth': 16, 'min_samples_split': 6, 'min_samples_leaf': 4, 'bootstrap': True}. Best is trial 67 with value: 0.7784871672246134.\n",
            "[I 2025-03-20 15:01:30,999] Trial 82 finished with value: 0.7670891120675912 and parameters: {'classifier': 'RandomForest', 'n_estimators': 195, 'max_depth': 17, 'min_samples_split': 7, 'min_samples_leaf': 7, 'bootstrap': True}. Best is trial 67 with value: 0.7784871672246134.\n",
            "[I 2025-03-20 15:01:32,226] Trial 83 finished with value: 0.7736011477761836 and parameters: {'classifier': 'RandomForest', 'n_estimators': 168, 'max_depth': 18, 'min_samples_split': 3, 'min_samples_leaf': 7, 'bootstrap': True}. Best is trial 67 with value: 0.7784871672246134.\n",
            "[I 2025-03-20 15:01:33,906] Trial 84 finished with value: 0.771967160848079 and parameters: {'classifier': 'RandomForest', 'n_estimators': 219, 'max_depth': 16, 'min_samples_split': 8, 'min_samples_leaf': 2, 'bootstrap': True}. Best is trial 67 with value: 0.7784871672246134.\n",
            "[I 2025-03-20 15:01:34,977] Trial 85 finished with value: 0.7768611509644509 and parameters: {'classifier': 'RandomForest', 'n_estimators': 233, 'max_depth': 17, 'min_samples_split': 6, 'min_samples_leaf': 6, 'bootstrap': True}. Best is trial 67 with value: 0.7784871672246134.\n",
            "[I 2025-03-20 15:01:36,075] Trial 86 finished with value: 0.760569105691057 and parameters: {'classifier': 'RandomForest', 'n_estimators': 226, 'max_depth': 19, 'min_samples_split': 6, 'min_samples_leaf': 1, 'bootstrap': True}. Best is trial 67 with value: 0.7784871672246134.\n",
            "[I 2025-03-20 15:01:37,131] Trial 87 finished with value: 0.7768611509644509 and parameters: {'classifier': 'RandomForest', 'n_estimators': 233, 'max_depth': 17, 'min_samples_split': 5, 'min_samples_leaf': 6, 'bootstrap': True}. Best is trial 67 with value: 0.7784871672246134.\n",
            "[I 2025-03-20 15:01:38,121] Trial 88 finished with value: 0.7752271640363463 and parameters: {'classifier': 'RandomForest', 'n_estimators': 213, 'max_depth': 18, 'min_samples_split': 5, 'min_samples_leaf': 6, 'bootstrap': True}. Best is trial 67 with value: 0.7784871672246134.\n",
            "[I 2025-03-20 15:01:39,235] Trial 89 finished with value: 0.7768611509644509 and parameters: {'classifier': 'RandomForest', 'n_estimators': 236, 'max_depth': 16, 'min_samples_split': 4, 'min_samples_leaf': 6, 'bootstrap': True}. Best is trial 67 with value: 0.7784871672246134.\n",
            "[I 2025-03-20 15:01:40,338] Trial 90 finished with value: 0.7768611509644509 and parameters: {'classifier': 'RandomForest', 'n_estimators': 236, 'max_depth': 17, 'min_samples_split': 3, 'min_samples_leaf': 6, 'bootstrap': True}. Best is trial 67 with value: 0.7784871672246134.\n",
            "[I 2025-03-20 15:01:41,475] Trial 91 finished with value: 0.7768611509644509 and parameters: {'classifier': 'RandomForest', 'n_estimators': 235, 'max_depth': 17, 'min_samples_split': 3, 'min_samples_leaf': 6, 'bootstrap': True}. Best is trial 67 with value: 0.7784871672246134.\n",
            "[I 2025-03-20 15:01:42,579] Trial 92 finished with value: 0.7768611509644509 and parameters: {'classifier': 'RandomForest', 'n_estimators': 236, 'max_depth': 18, 'min_samples_split': 3, 'min_samples_leaf': 6, 'bootstrap': True}. Best is trial 67 with value: 0.7784871672246134.\n",
            "[I 2025-03-20 15:01:43,691] Trial 93 finished with value: 0.7703411445879165 and parameters: {'classifier': 'RandomForest', 'n_estimators': 237, 'max_depth': 18, 'min_samples_split': 3, 'min_samples_leaf': 7, 'bootstrap': True}. Best is trial 67 with value: 0.7784871672246134.\n",
            "[I 2025-03-20 15:01:45,325] Trial 94 finished with value: 0.7752191933684043 and parameters: {'classifier': 'RandomForest', 'n_estimators': 232, 'max_depth': 16, 'min_samples_split': 2, 'min_samples_leaf': 5, 'bootstrap': True}. Best is trial 67 with value: 0.7784871672246134.\n",
            "[I 2025-03-20 15:01:46,745] Trial 95 finished with value: 0.7768611509644509 and parameters: {'classifier': 'RandomForest', 'n_estimators': 242, 'max_depth': 20, 'min_samples_split': 4, 'min_samples_leaf': 6, 'bootstrap': True}. Best is trial 67 with value: 0.7784871672246134.\n",
            "[I 2025-03-20 15:01:46,781] Trial 96 finished with value: 0.7410569105691057 and parameters: {'classifier': 'SVM', 'C': 0.16046739112897787, 'kernel': 'rbf', 'gamma': 'auto'}. Best is trial 67 with value: 0.7784871672246134.\n",
            "[I 2025-03-20 15:01:47,875] Trial 97 finished with value: 0.7687071576598119 and parameters: {'classifier': 'RandomForest', 'n_estimators': 242, 'max_depth': 20, 'min_samples_split': 4, 'min_samples_leaf': 7, 'bootstrap': True}. Best is trial 67 with value: 0.7784871672246134.\n",
            "[I 2025-03-20 15:01:49,089] Trial 98 finished with value: 0.7735931771082417 and parameters: {'classifier': 'RandomForest', 'n_estimators': 257, 'max_depth': 19, 'min_samples_split': 3, 'min_samples_leaf': 5, 'bootstrap': True}. Best is trial 67 with value: 0.7784871672246134.\n",
            "[I 2025-03-20 15:01:50,192] Trial 99 finished with value: 0.7752351347042882 and parameters: {'classifier': 'RandomForest', 'n_estimators': 238, 'max_depth': 18, 'min_samples_split': 2, 'min_samples_leaf': 6, 'bootstrap': True}. Best is trial 67 with value: 0.7784871672246134.\n"
          ]
        }
      ]
    },
    {
      "cell_type": "code",
      "source": [
        "best_trial = study.best_trial\n",
        "print(f'Best trial parameters:', best_trial.params)\n",
        "print(f'Best trial accuracy:', best_trial.value)"
      ],
      "metadata": {
        "id": "jKV9xudyD2fE",
        "outputId": "ad723c49-9b38-4535-f0fc-a54ed9d4a25b",
        "colab": {
          "base_uri": "https://localhost:8080/"
        }
      },
      "execution_count": 40,
      "outputs": [
        {
          "output_type": "stream",
          "name": "stdout",
          "text": [
            "Best trial parameters: {'classifier': 'RandomForest', 'n_estimators': 231, 'max_depth': 17, 'min_samples_split': 8, 'min_samples_leaf': 6, 'bootstrap': True}\n",
            "Best trial accuracy: 0.7784871672246134\n"
          ]
        }
      ]
    },
    {
      "cell_type": "code",
      "source": [
        "study.trials_dataframe()"
      ],
      "metadata": {
        "id": "1ioXQPJqEmqp",
        "outputId": "f1405b15-ece3-4c62-9dcd-6d4d42182898",
        "colab": {
          "base_uri": "https://localhost:8080/",
          "height": 617
        }
      },
      "execution_count": 42,
      "outputs": [
        {
          "output_type": "execute_result",
          "data": {
            "text/plain": [
              "    number     value             datetime_start          datetime_complete  \\\n",
              "0        0  0.758919 2025-03-20 14:59:30.852605 2025-03-20 14:59:31.730661   \n",
              "1        1  0.762219 2025-03-20 14:59:31.731692 2025-03-20 14:59:33.926359   \n",
              "2        2  0.760561 2025-03-20 14:59:33.927594 2025-03-20 14:59:34.679578   \n",
              "3        3  0.762179 2025-03-20 14:59:34.680699 2025-03-20 14:59:36.810818   \n",
              "4        4  0.767073 2025-03-20 14:59:36.811824 2025-03-20 14:59:36.836093   \n",
              "..     ...       ...                        ...                        ...   \n",
              "95      95  0.776861 2025-03-20 15:01:45.328088 2025-03-20 15:01:46.745395   \n",
              "96      96  0.741057 2025-03-20 15:01:46.746451 2025-03-20 15:01:46.781015   \n",
              "97      97  0.768707 2025-03-20 15:01:46.781775 2025-03-20 15:01:47.875198   \n",
              "98      98  0.773593 2025-03-20 15:01:47.876216 2025-03-20 15:01:49.089138   \n",
              "99      99  0.775235 2025-03-20 15:01:49.090178 2025-03-20 15:01:50.192464   \n",
              "\n",
              "                 duration  params_C params_bootstrap params_classifier  \\\n",
              "0  0 days 00:00:00.878056       NaN            False      RandomForest   \n",
              "1  0 days 00:00:02.194667       NaN              NaN               GBC   \n",
              "2  0 days 00:00:00.751984       NaN            False      RandomForest   \n",
              "3  0 days 00:00:02.130119       NaN              NaN               GBC   \n",
              "4  0 days 00:00:00.024269  0.445042              NaN               SVM   \n",
              "..                    ...       ...              ...               ...   \n",
              "95 0 days 00:00:01.417307       NaN             True      RandomForest   \n",
              "96 0 days 00:00:00.034564  0.160467              NaN               SVM   \n",
              "97 0 days 00:00:01.093423       NaN             True      RandomForest   \n",
              "98 0 days 00:00:01.212922       NaN             True      RandomForest   \n",
              "99 0 days 00:00:01.102286       NaN             True      RandomForest   \n",
              "\n",
              "   params_gamma params_kernel  params_learning_rate  params_max_depth  \\\n",
              "0           NaN           NaN                   NaN               8.0   \n",
              "1           NaN           NaN              0.231225              20.0   \n",
              "2           NaN           NaN                   NaN               5.0   \n",
              "3           NaN           NaN              0.019422              20.0   \n",
              "4         scale        linear                   NaN               NaN   \n",
              "..          ...           ...                   ...               ...   \n",
              "95          NaN           NaN                   NaN              20.0   \n",
              "96         auto           rbf                   NaN               NaN   \n",
              "97          NaN           NaN                   NaN              20.0   \n",
              "98          NaN           NaN                   NaN              19.0   \n",
              "99          NaN           NaN                   NaN              18.0   \n",
              "\n",
              "    params_min_samples_leaf  params_min_samples_split  params_n_estimators  \\\n",
              "0                      16.0                      10.0                149.0   \n",
              "1                       2.0                      10.0                255.0   \n",
              "2                      18.0                       4.0                207.0   \n",
              "3                       9.0                       5.0                205.0   \n",
              "4                       NaN                       NaN                  NaN   \n",
              "..                      ...                       ...                  ...   \n",
              "95                      6.0                       4.0                242.0   \n",
              "96                      NaN                       NaN                  NaN   \n",
              "97                      7.0                       4.0                242.0   \n",
              "98                      5.0                       3.0                257.0   \n",
              "99                      6.0                       2.0                238.0   \n",
              "\n",
              "       state  \n",
              "0   COMPLETE  \n",
              "1   COMPLETE  \n",
              "2   COMPLETE  \n",
              "3   COMPLETE  \n",
              "4   COMPLETE  \n",
              "..       ...  \n",
              "95  COMPLETE  \n",
              "96  COMPLETE  \n",
              "97  COMPLETE  \n",
              "98  COMPLETE  \n",
              "99  COMPLETE  \n",
              "\n",
              "[100 rows x 16 columns]"
            ],
            "text/html": [
              "\n",
              "  <div id=\"df-b70857b6-56bb-47ff-bc0d-49bfc47fc9af\" class=\"colab-df-container\">\n",
              "    <div>\n",
              "<style scoped>\n",
              "    .dataframe tbody tr th:only-of-type {\n",
              "        vertical-align: middle;\n",
              "    }\n",
              "\n",
              "    .dataframe tbody tr th {\n",
              "        vertical-align: top;\n",
              "    }\n",
              "\n",
              "    .dataframe thead th {\n",
              "        text-align: right;\n",
              "    }\n",
              "</style>\n",
              "<table border=\"1\" class=\"dataframe\">\n",
              "  <thead>\n",
              "    <tr style=\"text-align: right;\">\n",
              "      <th></th>\n",
              "      <th>number</th>\n",
              "      <th>value</th>\n",
              "      <th>datetime_start</th>\n",
              "      <th>datetime_complete</th>\n",
              "      <th>duration</th>\n",
              "      <th>params_C</th>\n",
              "      <th>params_bootstrap</th>\n",
              "      <th>params_classifier</th>\n",
              "      <th>params_gamma</th>\n",
              "      <th>params_kernel</th>\n",
              "      <th>params_learning_rate</th>\n",
              "      <th>params_max_depth</th>\n",
              "      <th>params_min_samples_leaf</th>\n",
              "      <th>params_min_samples_split</th>\n",
              "      <th>params_n_estimators</th>\n",
              "      <th>state</th>\n",
              "    </tr>\n",
              "  </thead>\n",
              "  <tbody>\n",
              "    <tr>\n",
              "      <th>0</th>\n",
              "      <td>0</td>\n",
              "      <td>0.758919</td>\n",
              "      <td>2025-03-20 14:59:30.852605</td>\n",
              "      <td>2025-03-20 14:59:31.730661</td>\n",
              "      <td>0 days 00:00:00.878056</td>\n",
              "      <td>NaN</td>\n",
              "      <td>False</td>\n",
              "      <td>RandomForest</td>\n",
              "      <td>NaN</td>\n",
              "      <td>NaN</td>\n",
              "      <td>NaN</td>\n",
              "      <td>8.0</td>\n",
              "      <td>16.0</td>\n",
              "      <td>10.0</td>\n",
              "      <td>149.0</td>\n",
              "      <td>COMPLETE</td>\n",
              "    </tr>\n",
              "    <tr>\n",
              "      <th>1</th>\n",
              "      <td>1</td>\n",
              "      <td>0.762219</td>\n",
              "      <td>2025-03-20 14:59:31.731692</td>\n",
              "      <td>2025-03-20 14:59:33.926359</td>\n",
              "      <td>0 days 00:00:02.194667</td>\n",
              "      <td>NaN</td>\n",
              "      <td>NaN</td>\n",
              "      <td>GBC</td>\n",
              "      <td>NaN</td>\n",
              "      <td>NaN</td>\n",
              "      <td>0.231225</td>\n",
              "      <td>20.0</td>\n",
              "      <td>2.0</td>\n",
              "      <td>10.0</td>\n",
              "      <td>255.0</td>\n",
              "      <td>COMPLETE</td>\n",
              "    </tr>\n",
              "    <tr>\n",
              "      <th>2</th>\n",
              "      <td>2</td>\n",
              "      <td>0.760561</td>\n",
              "      <td>2025-03-20 14:59:33.927594</td>\n",
              "      <td>2025-03-20 14:59:34.679578</td>\n",
              "      <td>0 days 00:00:00.751984</td>\n",
              "      <td>NaN</td>\n",
              "      <td>False</td>\n",
              "      <td>RandomForest</td>\n",
              "      <td>NaN</td>\n",
              "      <td>NaN</td>\n",
              "      <td>NaN</td>\n",
              "      <td>5.0</td>\n",
              "      <td>18.0</td>\n",
              "      <td>4.0</td>\n",
              "      <td>207.0</td>\n",
              "      <td>COMPLETE</td>\n",
              "    </tr>\n",
              "    <tr>\n",
              "      <th>3</th>\n",
              "      <td>3</td>\n",
              "      <td>0.762179</td>\n",
              "      <td>2025-03-20 14:59:34.680699</td>\n",
              "      <td>2025-03-20 14:59:36.810818</td>\n",
              "      <td>0 days 00:00:02.130119</td>\n",
              "      <td>NaN</td>\n",
              "      <td>NaN</td>\n",
              "      <td>GBC</td>\n",
              "      <td>NaN</td>\n",
              "      <td>NaN</td>\n",
              "      <td>0.019422</td>\n",
              "      <td>20.0</td>\n",
              "      <td>9.0</td>\n",
              "      <td>5.0</td>\n",
              "      <td>205.0</td>\n",
              "      <td>COMPLETE</td>\n",
              "    </tr>\n",
              "    <tr>\n",
              "      <th>4</th>\n",
              "      <td>4</td>\n",
              "      <td>0.767073</td>\n",
              "      <td>2025-03-20 14:59:36.811824</td>\n",
              "      <td>2025-03-20 14:59:36.836093</td>\n",
              "      <td>0 days 00:00:00.024269</td>\n",
              "      <td>0.445042</td>\n",
              "      <td>NaN</td>\n",
              "      <td>SVM</td>\n",
              "      <td>scale</td>\n",
              "      <td>linear</td>\n",
              "      <td>NaN</td>\n",
              "      <td>NaN</td>\n",
              "      <td>NaN</td>\n",
              "      <td>NaN</td>\n",
              "      <td>NaN</td>\n",
              "      <td>COMPLETE</td>\n",
              "    </tr>\n",
              "    <tr>\n",
              "      <th>...</th>\n",
              "      <td>...</td>\n",
              "      <td>...</td>\n",
              "      <td>...</td>\n",
              "      <td>...</td>\n",
              "      <td>...</td>\n",
              "      <td>...</td>\n",
              "      <td>...</td>\n",
              "      <td>...</td>\n",
              "      <td>...</td>\n",
              "      <td>...</td>\n",
              "      <td>...</td>\n",
              "      <td>...</td>\n",
              "      <td>...</td>\n",
              "      <td>...</td>\n",
              "      <td>...</td>\n",
              "      <td>...</td>\n",
              "    </tr>\n",
              "    <tr>\n",
              "      <th>95</th>\n",
              "      <td>95</td>\n",
              "      <td>0.776861</td>\n",
              "      <td>2025-03-20 15:01:45.328088</td>\n",
              "      <td>2025-03-20 15:01:46.745395</td>\n",
              "      <td>0 days 00:00:01.417307</td>\n",
              "      <td>NaN</td>\n",
              "      <td>True</td>\n",
              "      <td>RandomForest</td>\n",
              "      <td>NaN</td>\n",
              "      <td>NaN</td>\n",
              "      <td>NaN</td>\n",
              "      <td>20.0</td>\n",
              "      <td>6.0</td>\n",
              "      <td>4.0</td>\n",
              "      <td>242.0</td>\n",
              "      <td>COMPLETE</td>\n",
              "    </tr>\n",
              "    <tr>\n",
              "      <th>96</th>\n",
              "      <td>96</td>\n",
              "      <td>0.741057</td>\n",
              "      <td>2025-03-20 15:01:46.746451</td>\n",
              "      <td>2025-03-20 15:01:46.781015</td>\n",
              "      <td>0 days 00:00:00.034564</td>\n",
              "      <td>0.160467</td>\n",
              "      <td>NaN</td>\n",
              "      <td>SVM</td>\n",
              "      <td>auto</td>\n",
              "      <td>rbf</td>\n",
              "      <td>NaN</td>\n",
              "      <td>NaN</td>\n",
              "      <td>NaN</td>\n",
              "      <td>NaN</td>\n",
              "      <td>NaN</td>\n",
              "      <td>COMPLETE</td>\n",
              "    </tr>\n",
              "    <tr>\n",
              "      <th>97</th>\n",
              "      <td>97</td>\n",
              "      <td>0.768707</td>\n",
              "      <td>2025-03-20 15:01:46.781775</td>\n",
              "      <td>2025-03-20 15:01:47.875198</td>\n",
              "      <td>0 days 00:00:01.093423</td>\n",
              "      <td>NaN</td>\n",
              "      <td>True</td>\n",
              "      <td>RandomForest</td>\n",
              "      <td>NaN</td>\n",
              "      <td>NaN</td>\n",
              "      <td>NaN</td>\n",
              "      <td>20.0</td>\n",
              "      <td>7.0</td>\n",
              "      <td>4.0</td>\n",
              "      <td>242.0</td>\n",
              "      <td>COMPLETE</td>\n",
              "    </tr>\n",
              "    <tr>\n",
              "      <th>98</th>\n",
              "      <td>98</td>\n",
              "      <td>0.773593</td>\n",
              "      <td>2025-03-20 15:01:47.876216</td>\n",
              "      <td>2025-03-20 15:01:49.089138</td>\n",
              "      <td>0 days 00:00:01.212922</td>\n",
              "      <td>NaN</td>\n",
              "      <td>True</td>\n",
              "      <td>RandomForest</td>\n",
              "      <td>NaN</td>\n",
              "      <td>NaN</td>\n",
              "      <td>NaN</td>\n",
              "      <td>19.0</td>\n",
              "      <td>5.0</td>\n",
              "      <td>3.0</td>\n",
              "      <td>257.0</td>\n",
              "      <td>COMPLETE</td>\n",
              "    </tr>\n",
              "    <tr>\n",
              "      <th>99</th>\n",
              "      <td>99</td>\n",
              "      <td>0.775235</td>\n",
              "      <td>2025-03-20 15:01:49.090178</td>\n",
              "      <td>2025-03-20 15:01:50.192464</td>\n",
              "      <td>0 days 00:00:01.102286</td>\n",
              "      <td>NaN</td>\n",
              "      <td>True</td>\n",
              "      <td>RandomForest</td>\n",
              "      <td>NaN</td>\n",
              "      <td>NaN</td>\n",
              "      <td>NaN</td>\n",
              "      <td>18.0</td>\n",
              "      <td>6.0</td>\n",
              "      <td>2.0</td>\n",
              "      <td>238.0</td>\n",
              "      <td>COMPLETE</td>\n",
              "    </tr>\n",
              "  </tbody>\n",
              "</table>\n",
              "<p>100 rows × 16 columns</p>\n",
              "</div>\n",
              "    <div class=\"colab-df-buttons\">\n",
              "\n",
              "  <div class=\"colab-df-container\">\n",
              "    <button class=\"colab-df-convert\" onclick=\"convertToInteractive('df-b70857b6-56bb-47ff-bc0d-49bfc47fc9af')\"\n",
              "            title=\"Convert this dataframe to an interactive table.\"\n",
              "            style=\"display:none;\">\n",
              "\n",
              "  <svg xmlns=\"http://www.w3.org/2000/svg\" height=\"24px\" viewBox=\"0 -960 960 960\">\n",
              "    <path d=\"M120-120v-720h720v720H120Zm60-500h600v-160H180v160Zm220 220h160v-160H400v160Zm0 220h160v-160H400v160ZM180-400h160v-160H180v160Zm440 0h160v-160H620v160ZM180-180h160v-160H180v160Zm440 0h160v-160H620v160Z\"/>\n",
              "  </svg>\n",
              "    </button>\n",
              "\n",
              "  <style>\n",
              "    .colab-df-container {\n",
              "      display:flex;\n",
              "      gap: 12px;\n",
              "    }\n",
              "\n",
              "    .colab-df-convert {\n",
              "      background-color: #E8F0FE;\n",
              "      border: none;\n",
              "      border-radius: 50%;\n",
              "      cursor: pointer;\n",
              "      display: none;\n",
              "      fill: #1967D2;\n",
              "      height: 32px;\n",
              "      padding: 0 0 0 0;\n",
              "      width: 32px;\n",
              "    }\n",
              "\n",
              "    .colab-df-convert:hover {\n",
              "      background-color: #E2EBFA;\n",
              "      box-shadow: 0px 1px 2px rgba(60, 64, 67, 0.3), 0px 1px 3px 1px rgba(60, 64, 67, 0.15);\n",
              "      fill: #174EA6;\n",
              "    }\n",
              "\n",
              "    .colab-df-buttons div {\n",
              "      margin-bottom: 4px;\n",
              "    }\n",
              "\n",
              "    [theme=dark] .colab-df-convert {\n",
              "      background-color: #3B4455;\n",
              "      fill: #D2E3FC;\n",
              "    }\n",
              "\n",
              "    [theme=dark] .colab-df-convert:hover {\n",
              "      background-color: #434B5C;\n",
              "      box-shadow: 0px 1px 3px 1px rgba(0, 0, 0, 0.15);\n",
              "      filter: drop-shadow(0px 1px 2px rgba(0, 0, 0, 0.3));\n",
              "      fill: #FFFFFF;\n",
              "    }\n",
              "  </style>\n",
              "\n",
              "    <script>\n",
              "      const buttonEl =\n",
              "        document.querySelector('#df-b70857b6-56bb-47ff-bc0d-49bfc47fc9af button.colab-df-convert');\n",
              "      buttonEl.style.display =\n",
              "        google.colab.kernel.accessAllowed ? 'block' : 'none';\n",
              "\n",
              "      async function convertToInteractive(key) {\n",
              "        const element = document.querySelector('#df-b70857b6-56bb-47ff-bc0d-49bfc47fc9af');\n",
              "        const dataTable =\n",
              "          await google.colab.kernel.invokeFunction('convertToInteractive',\n",
              "                                                    [key], {});\n",
              "        if (!dataTable) return;\n",
              "\n",
              "        const docLinkHtml = 'Like what you see? Visit the ' +\n",
              "          '<a target=\"_blank\" href=https://colab.research.google.com/notebooks/data_table.ipynb>data table notebook</a>'\n",
              "          + ' to learn more about interactive tables.';\n",
              "        element.innerHTML = '';\n",
              "        dataTable['output_type'] = 'display_data';\n",
              "        await google.colab.output.renderOutput(dataTable, element);\n",
              "        const docLink = document.createElement('div');\n",
              "        docLink.innerHTML = docLinkHtml;\n",
              "        element.appendChild(docLink);\n",
              "      }\n",
              "    </script>\n",
              "  </div>\n",
              "\n",
              "\n",
              "<div id=\"df-de66e476-21a0-4cad-b514-dd5928d467d1\">\n",
              "  <button class=\"colab-df-quickchart\" onclick=\"quickchart('df-de66e476-21a0-4cad-b514-dd5928d467d1')\"\n",
              "            title=\"Suggest charts\"\n",
              "            style=\"display:none;\">\n",
              "\n",
              "<svg xmlns=\"http://www.w3.org/2000/svg\" height=\"24px\"viewBox=\"0 0 24 24\"\n",
              "     width=\"24px\">\n",
              "    <g>\n",
              "        <path d=\"M19 3H5c-1.1 0-2 .9-2 2v14c0 1.1.9 2 2 2h14c1.1 0 2-.9 2-2V5c0-1.1-.9-2-2-2zM9 17H7v-7h2v7zm4 0h-2V7h2v10zm4 0h-2v-4h2v4z\"/>\n",
              "    </g>\n",
              "</svg>\n",
              "  </button>\n",
              "\n",
              "<style>\n",
              "  .colab-df-quickchart {\n",
              "      --bg-color: #E8F0FE;\n",
              "      --fill-color: #1967D2;\n",
              "      --hover-bg-color: #E2EBFA;\n",
              "      --hover-fill-color: #174EA6;\n",
              "      --disabled-fill-color: #AAA;\n",
              "      --disabled-bg-color: #DDD;\n",
              "  }\n",
              "\n",
              "  [theme=dark] .colab-df-quickchart {\n",
              "      --bg-color: #3B4455;\n",
              "      --fill-color: #D2E3FC;\n",
              "      --hover-bg-color: #434B5C;\n",
              "      --hover-fill-color: #FFFFFF;\n",
              "      --disabled-bg-color: #3B4455;\n",
              "      --disabled-fill-color: #666;\n",
              "  }\n",
              "\n",
              "  .colab-df-quickchart {\n",
              "    background-color: var(--bg-color);\n",
              "    border: none;\n",
              "    border-radius: 50%;\n",
              "    cursor: pointer;\n",
              "    display: none;\n",
              "    fill: var(--fill-color);\n",
              "    height: 32px;\n",
              "    padding: 0;\n",
              "    width: 32px;\n",
              "  }\n",
              "\n",
              "  .colab-df-quickchart:hover {\n",
              "    background-color: var(--hover-bg-color);\n",
              "    box-shadow: 0 1px 2px rgba(60, 64, 67, 0.3), 0 1px 3px 1px rgba(60, 64, 67, 0.15);\n",
              "    fill: var(--button-hover-fill-color);\n",
              "  }\n",
              "\n",
              "  .colab-df-quickchart-complete:disabled,\n",
              "  .colab-df-quickchart-complete:disabled:hover {\n",
              "    background-color: var(--disabled-bg-color);\n",
              "    fill: var(--disabled-fill-color);\n",
              "    box-shadow: none;\n",
              "  }\n",
              "\n",
              "  .colab-df-spinner {\n",
              "    border: 2px solid var(--fill-color);\n",
              "    border-color: transparent;\n",
              "    border-bottom-color: var(--fill-color);\n",
              "    animation:\n",
              "      spin 1s steps(1) infinite;\n",
              "  }\n",
              "\n",
              "  @keyframes spin {\n",
              "    0% {\n",
              "      border-color: transparent;\n",
              "      border-bottom-color: var(--fill-color);\n",
              "      border-left-color: var(--fill-color);\n",
              "    }\n",
              "    20% {\n",
              "      border-color: transparent;\n",
              "      border-left-color: var(--fill-color);\n",
              "      border-top-color: var(--fill-color);\n",
              "    }\n",
              "    30% {\n",
              "      border-color: transparent;\n",
              "      border-left-color: var(--fill-color);\n",
              "      border-top-color: var(--fill-color);\n",
              "      border-right-color: var(--fill-color);\n",
              "    }\n",
              "    40% {\n",
              "      border-color: transparent;\n",
              "      border-right-color: var(--fill-color);\n",
              "      border-top-color: var(--fill-color);\n",
              "    }\n",
              "    60% {\n",
              "      border-color: transparent;\n",
              "      border-right-color: var(--fill-color);\n",
              "    }\n",
              "    80% {\n",
              "      border-color: transparent;\n",
              "      border-right-color: var(--fill-color);\n",
              "      border-bottom-color: var(--fill-color);\n",
              "    }\n",
              "    90% {\n",
              "      border-color: transparent;\n",
              "      border-bottom-color: var(--fill-color);\n",
              "    }\n",
              "  }\n",
              "</style>\n",
              "\n",
              "  <script>\n",
              "    async function quickchart(key) {\n",
              "      const quickchartButtonEl =\n",
              "        document.querySelector('#' + key + ' button');\n",
              "      quickchartButtonEl.disabled = true;  // To prevent multiple clicks.\n",
              "      quickchartButtonEl.classList.add('colab-df-spinner');\n",
              "      try {\n",
              "        const charts = await google.colab.kernel.invokeFunction(\n",
              "            'suggestCharts', [key], {});\n",
              "      } catch (error) {\n",
              "        console.error('Error during call to suggestCharts:', error);\n",
              "      }\n",
              "      quickchartButtonEl.classList.remove('colab-df-spinner');\n",
              "      quickchartButtonEl.classList.add('colab-df-quickchart-complete');\n",
              "    }\n",
              "    (() => {\n",
              "      let quickchartButtonEl =\n",
              "        document.querySelector('#df-de66e476-21a0-4cad-b514-dd5928d467d1 button');\n",
              "      quickchartButtonEl.style.display =\n",
              "        google.colab.kernel.accessAllowed ? 'block' : 'none';\n",
              "    })();\n",
              "  </script>\n",
              "</div>\n",
              "\n",
              "    </div>\n",
              "  </div>\n"
            ],
            "application/vnd.google.colaboratory.intrinsic+json": {
              "type": "dataframe",
              "summary": "{\n  \"name\": \"study\",\n  \"rows\": 100,\n  \"fields\": [\n    {\n      \"column\": \"number\",\n      \"properties\": {\n        \"dtype\": \"number\",\n        \"std\": 29,\n        \"min\": 0,\n        \"max\": 99,\n        \"num_unique_values\": 100,\n        \"samples\": [\n          83,\n          53,\n          70\n        ],\n        \"semantic_type\": \"\",\n        \"description\": \"\"\n      }\n    },\n    {\n      \"column\": \"value\",\n      \"properties\": {\n        \"dtype\": \"number\",\n        \"std\": 0.014413115109904638,\n        \"min\": 0.6808225729316116,\n        \"max\": 0.7784871672246134,\n        \"num_unique_values\": 56,\n        \"samples\": [\n          0.7589191774270684,\n          0.7426908974972103,\n          0.752415112386418\n        ],\n        \"semantic_type\": \"\",\n        \"description\": \"\"\n      }\n    },\n    {\n      \"column\": \"datetime_start\",\n      \"properties\": {\n        \"dtype\": \"date\",\n        \"min\": \"2025-03-20 14:59:30.852605\",\n        \"max\": \"2025-03-20 15:01:49.090178\",\n        \"num_unique_values\": 100,\n        \"samples\": [\n          \"2025-03-20 15:01:31.003609\",\n          \"2025-03-20 15:00:32.731184\",\n          \"2025-03-20 15:01:07.708405\"\n        ],\n        \"semantic_type\": \"\",\n        \"description\": \"\"\n      }\n    },\n    {\n      \"column\": \"datetime_complete\",\n      \"properties\": {\n        \"dtype\": \"date\",\n        \"min\": \"2025-03-20 14:59:31.730661\",\n        \"max\": \"2025-03-20 15:01:50.192464\",\n        \"num_unique_values\": 100,\n        \"samples\": [\n          \"2025-03-20 15:01:32.226275\",\n          \"2025-03-20 15:00:34.344521\",\n          \"2025-03-20 15:01:10.364359\"\n        ],\n        \"semantic_type\": \"\",\n        \"description\": \"\"\n      }\n    },\n    {\n      \"column\": \"duration\",\n      \"properties\": {\n        \"dtype\": \"timedelta64[ns]\",\n        \"num_unique_values\": 100,\n        \"samples\": [\n          \"0 days 00:00:01.222666\",\n          \"0 days 00:00:01.613337\",\n          \"0 days 00:00:02.655954\"\n        ],\n        \"semantic_type\": \"\",\n        \"description\": \"\"\n      }\n    },\n    {\n      \"column\": \"params_C\",\n      \"properties\": {\n        \"dtype\": \"number\",\n        \"std\": 22.201376359518832,\n        \"min\": 0.16046739112897787,\n        \"max\": 84.27870692227243,\n        \"num_unique_values\": 16,\n        \"samples\": [\n          0.44504214021495636,\n          0.1630156389880256,\n          84.27870692227243\n        ],\n        \"semantic_type\": \"\",\n        \"description\": \"\"\n      }\n    },\n    {\n      \"column\": \"params_bootstrap\",\n      \"properties\": {\n        \"dtype\": \"category\",\n        \"num_unique_values\": 2,\n        \"samples\": [\n          true,\n          false\n        ],\n        \"semantic_type\": \"\",\n        \"description\": \"\"\n      }\n    },\n    {\n      \"column\": \"params_classifier\",\n      \"properties\": {\n        \"dtype\": \"category\",\n        \"num_unique_values\": 3,\n        \"samples\": [\n          \"RandomForest\",\n          \"GBC\"\n        ],\n        \"semantic_type\": \"\",\n        \"description\": \"\"\n      }\n    },\n    {\n      \"column\": \"params_gamma\",\n      \"properties\": {\n        \"dtype\": \"category\",\n        \"num_unique_values\": 2,\n        \"samples\": [\n          \"auto\",\n          \"scale\"\n        ],\n        \"semantic_type\": \"\",\n        \"description\": \"\"\n      }\n    },\n    {\n      \"column\": \"params_kernel\",\n      \"properties\": {\n        \"dtype\": \"category\",\n        \"num_unique_values\": 4,\n        \"samples\": [\n          \"rbf\",\n          \"poly\"\n        ],\n        \"semantic_type\": \"\",\n        \"description\": \"\"\n      }\n    },\n    {\n      \"column\": \"params_learning_rate\",\n      \"properties\": {\n        \"dtype\": \"number\",\n        \"std\": 0.07856634278783486,\n        \"min\": 0.01007706073904177,\n        \"max\": 0.2331988985321185,\n        \"num_unique_values\": 13,\n        \"samples\": [\n          0.2331988985321185,\n          0.02042506954003161\n        ],\n        \"semantic_type\": \"\",\n        \"description\": \"\"\n      }\n    },\n    {\n      \"column\": \"params_max_depth\",\n      \"properties\": {\n        \"dtype\": \"number\",\n        \"std\": 3.6934296844794434,\n        \"min\": 3.0,\n        \"max\": 20.0,\n        \"num_unique_values\": 16,\n        \"samples\": [\n          8.0,\n          20.0\n        ],\n        \"semantic_type\": \"\",\n        \"description\": \"\"\n      }\n    },\n    {\n      \"column\": \"params_min_samples_leaf\",\n      \"properties\": {\n        \"dtype\": \"number\",\n        \"std\": 4.01637140248322,\n        \"min\": 1.0,\n        \"max\": 20.0,\n        \"num_unique_values\": 19,\n        \"samples\": [\n          16.0,\n          5.0\n        ],\n        \"semantic_type\": \"\",\n        \"description\": \"\"\n      }\n    },\n    {\n      \"column\": \"params_min_samples_split\",\n      \"properties\": {\n        \"dtype\": \"number\",\n        \"std\": 4.646481219408711,\n        \"min\": 2.0,\n        \"max\": 20.0,\n        \"num_unique_values\": 19,\n        \"samples\": [\n          10.0,\n          17.0\n        ],\n        \"semantic_type\": \"\",\n        \"description\": \"\"\n      }\n    },\n    {\n      \"column\": \"params_n_estimators\",\n      \"properties\": {\n        \"dtype\": \"number\",\n        \"std\": 51.00234968094727,\n        \"min\": 59.0,\n        \"max\": 300.0,\n        \"num_unique_values\": 65,\n        \"samples\": [\n          229.0,\n          235.0\n        ],\n        \"semantic_type\": \"\",\n        \"description\": \"\"\n      }\n    },\n    {\n      \"column\": \"state\",\n      \"properties\": {\n        \"dtype\": \"category\",\n        \"num_unique_values\": 1,\n        \"samples\": [\n          \"COMPLETE\"\n        ],\n        \"semantic_type\": \"\",\n        \"description\": \"\"\n      }\n    }\n  ]\n}"
            }
          },
          "metadata": {},
          "execution_count": 42
        }
      ]
    },
    {
      "cell_type": "code",
      "source": [
        "study.trials_dataframe()['params_classifier'].value_counts()"
      ],
      "metadata": {
        "id": "XkxVe-x1Esxw",
        "outputId": "ca58eb33-edae-4a3b-c115-b3356a0cd222",
        "colab": {
          "base_uri": "https://localhost:8080/",
          "height": 209
        }
      },
      "execution_count": 46,
      "outputs": [
        {
          "output_type": "execute_result",
          "data": {
            "text/plain": [
              "params_classifier\n",
              "RandomForest    71\n",
              "SVM             16\n",
              "GBC             13\n",
              "Name: count, dtype: int64"
            ],
            "text/html": [
              "<div>\n",
              "<style scoped>\n",
              "    .dataframe tbody tr th:only-of-type {\n",
              "        vertical-align: middle;\n",
              "    }\n",
              "\n",
              "    .dataframe tbody tr th {\n",
              "        vertical-align: top;\n",
              "    }\n",
              "\n",
              "    .dataframe thead th {\n",
              "        text-align: right;\n",
              "    }\n",
              "</style>\n",
              "<table border=\"1\" class=\"dataframe\">\n",
              "  <thead>\n",
              "    <tr style=\"text-align: right;\">\n",
              "      <th></th>\n",
              "      <th>count</th>\n",
              "    </tr>\n",
              "    <tr>\n",
              "      <th>params_classifier</th>\n",
              "      <th></th>\n",
              "    </tr>\n",
              "  </thead>\n",
              "  <tbody>\n",
              "    <tr>\n",
              "      <th>RandomForest</th>\n",
              "      <td>71</td>\n",
              "    </tr>\n",
              "    <tr>\n",
              "      <th>SVM</th>\n",
              "      <td>16</td>\n",
              "    </tr>\n",
              "    <tr>\n",
              "      <th>GBC</th>\n",
              "      <td>13</td>\n",
              "    </tr>\n",
              "  </tbody>\n",
              "</table>\n",
              "</div><br><label><b>dtype:</b> int64</label>"
            ]
          },
          "metadata": {},
          "execution_count": 46
        }
      ]
    },
    {
      "cell_type": "code",
      "source": [
        "study.trials_dataframe().groupby('params_classifier')['value'].mean()"
      ],
      "metadata": {
        "id": "vHwf0W36E_EY",
        "outputId": "f9f80b9a-f11c-41d5-c8f2-096046ce94ab",
        "colab": {
          "base_uri": "https://localhost:8080/",
          "height": 209
        }
      },
      "execution_count": 47,
      "outputs": [
        {
          "output_type": "execute_result",
          "data": {
            "text/plain": [
              "params_classifier\n",
              "GBC             0.757824\n",
              "RandomForest    0.770612\n",
              "SVM             0.749173\n",
              "Name: value, dtype: float64"
            ],
            "text/html": [
              "<div>\n",
              "<style scoped>\n",
              "    .dataframe tbody tr th:only-of-type {\n",
              "        vertical-align: middle;\n",
              "    }\n",
              "\n",
              "    .dataframe tbody tr th {\n",
              "        vertical-align: top;\n",
              "    }\n",
              "\n",
              "    .dataframe thead th {\n",
              "        text-align: right;\n",
              "    }\n",
              "</style>\n",
              "<table border=\"1\" class=\"dataframe\">\n",
              "  <thead>\n",
              "    <tr style=\"text-align: right;\">\n",
              "      <th></th>\n",
              "      <th>value</th>\n",
              "    </tr>\n",
              "    <tr>\n",
              "      <th>params_classifier</th>\n",
              "      <th></th>\n",
              "    </tr>\n",
              "  </thead>\n",
              "  <tbody>\n",
              "    <tr>\n",
              "      <th>GBC</th>\n",
              "      <td>0.757824</td>\n",
              "    </tr>\n",
              "    <tr>\n",
              "      <th>RandomForest</th>\n",
              "      <td>0.770612</td>\n",
              "    </tr>\n",
              "    <tr>\n",
              "      <th>SVM</th>\n",
              "      <td>0.749173</td>\n",
              "    </tr>\n",
              "  </tbody>\n",
              "</table>\n",
              "</div><br><label><b>dtype:</b> float64</label>"
            ]
          },
          "metadata": {},
          "execution_count": 47
        }
      ]
    },
    {
      "cell_type": "code",
      "source": [
        "plot_optimization_history(study).show()"
      ],
      "metadata": {
        "id": "BOfxhF1AFQMr",
        "outputId": "16ce1e74-72a0-475e-80e2-4af362a8a29c",
        "colab": {
          "base_uri": "https://localhost:8080/",
          "height": 542
        }
      },
      "execution_count": 49,
      "outputs": [
        {
          "output_type": "display_data",
          "data": {
            "text/html": [
              "<html>\n",
              "<head><meta charset=\"utf-8\" /></head>\n",
              "<body>\n",
              "    <div>            <script src=\"https://cdnjs.cloudflare.com/ajax/libs/mathjax/2.7.5/MathJax.js?config=TeX-AMS-MML_SVG\"></script><script type=\"text/javascript\">if (window.MathJax && window.MathJax.Hub && window.MathJax.Hub.Config) {window.MathJax.Hub.Config({SVG: {font: \"STIX-Web\"}});}</script>                <script type=\"text/javascript\">window.PlotlyConfig = {MathJaxConfig: 'local'};</script>\n",
              "        <script charset=\"utf-8\" src=\"https://cdn.plot.ly/plotly-2.35.2.min.js\"></script>                <div id=\"9e95e8ab-90b9-4138-9661-285df12f6bad\" class=\"plotly-graph-div\" style=\"height:525px; width:100%;\"></div>            <script type=\"text/javascript\">                                    window.PLOTLYENV=window.PLOTLYENV || {};                                    if (document.getElementById(\"9e95e8ab-90b9-4138-9661-285df12f6bad\")) {                    Plotly.newPlot(                        \"9e95e8ab-90b9-4138-9661-285df12f6bad\",                        [{\"mode\":\"markers\",\"name\":\"Objective Value\",\"x\":[0,1,2,3,4,5,6,7,8,9,10,11,12,13,14,15,16,17,18,19,20,21,22,23,24,25,26,27,28,29,30,31,32,33,34,35,36,37,38,39,40,41,42,43,44,45,46,47,48,49,50,51,52,53,54,55,56,57,58,59,60,61,62,63,64,65,66,67,68,69,70,71,72,73,74,75,76,77,78,79,80,81,82,83,84,85,86,87,88,89,90,91,92,93,94,95,96,97,98,99],\"y\":[0.7589191774270684,0.7622190339550454,0.760561135023115,0.7621791806153356,0.7670731707317073,0.7426908974972103,0.7703411445879165,0.7524469950581859,0.7589670014347202,0.7361629204527339,0.7491869918699187,0.7654471544715448,0.7703252032520326,0.6808225729316116,0.755699027578511,0.7573409851745576,0.7231388490355491,0.7491869918699187,0.7703252032520326,0.7654630958074287,0.760561135023115,0.7703252032520326,0.7703252032520326,0.7686991869918699,0.7149529730591423,0.728016897816037,0.7686991869918699,0.7686991869918699,0.7540490993145226,0.7573091025027897,0.7719432488442531,0.7719512195121951,0.7735852064402997,0.7735852064402997,0.7735852064402997,0.7686991869918699,0.7735852064402997,0.7638211382113821,0.7638131675434402,0.7686991869918699,0.7654391838036028,0.7703252032520326,0.7703331739199745,0.7719591901801371,0.7687151283277539,0.7654391838036028,0.768683245655986,0.752415112386418,0.7654471544715448,0.7589351187629524,0.7687151283277539,0.7719591901801371,0.7686991869918699,0.7670652000637653,0.7703172325840906,0.7735931771082417,0.7752271640363463,0.7703411445879165,0.7687151283277539,0.771967160848079,0.771975131516021,0.7768531802965088,0.7687151283277539,0.7735931771082417,0.7736011477761836,0.7622190339550454,0.7670970827355332,0.7784871672246134,0.7768611509644509,0.7768611509644509,0.7573170731707317,0.7768531802965088,0.7752191933684043,0.7768452096285668,0.7654551251394867,0.7768531802965088,0.7752271640363463,0.7768531802965088,0.7654551251394867,0.7752191933684043,0.7524310537223019,0.7736011477761836,0.7670891120675912,0.7736011477761836,0.771967160848079,0.7768611509644509,0.760569105691057,0.7768611509644509,0.7752271640363463,0.7768611509644509,0.7768611509644509,0.7768611509644509,0.7768611509644509,0.7703411445879165,0.7752191933684043,0.7768611509644509,0.7410569105691057,0.7687071576598119,0.7735931771082417,0.7752351347042882],\"type\":\"scatter\"},{\"mode\":\"lines\",\"name\":\"Best Value\",\"x\":[0,1,2,3,4,5,6,7,8,9,10,11,12,13,14,15,16,17,18,19,20,21,22,23,24,25,26,27,28,29,30,31,32,33,34,35,36,37,38,39,40,41,42,43,44,45,46,47,48,49,50,51,52,53,54,55,56,57,58,59,60,61,62,63,64,65,66,67,68,69,70,71,72,73,74,75,76,77,78,79,80,81,82,83,84,85,86,87,88,89,90,91,92,93,94,95,96,97,98,99],\"y\":[0.7589191774270684,0.7622190339550454,0.7622190339550454,0.7622190339550454,0.7670731707317073,0.7670731707317073,0.7703411445879165,0.7703411445879165,0.7703411445879165,0.7703411445879165,0.7703411445879165,0.7703411445879165,0.7703411445879165,0.7703411445879165,0.7703411445879165,0.7703411445879165,0.7703411445879165,0.7703411445879165,0.7703411445879165,0.7703411445879165,0.7703411445879165,0.7703411445879165,0.7703411445879165,0.7703411445879165,0.7703411445879165,0.7703411445879165,0.7703411445879165,0.7703411445879165,0.7703411445879165,0.7703411445879165,0.7719432488442531,0.7719512195121951,0.7735852064402997,0.7735852064402997,0.7735852064402997,0.7735852064402997,0.7735852064402997,0.7735852064402997,0.7735852064402997,0.7735852064402997,0.7735852064402997,0.7735852064402997,0.7735852064402997,0.7735852064402997,0.7735852064402997,0.7735852064402997,0.7735852064402997,0.7735852064402997,0.7735852064402997,0.7735852064402997,0.7735852064402997,0.7735852064402997,0.7735852064402997,0.7735852064402997,0.7735852064402997,0.7735931771082417,0.7752271640363463,0.7752271640363463,0.7752271640363463,0.7752271640363463,0.7752271640363463,0.7768531802965088,0.7768531802965088,0.7768531802965088,0.7768531802965088,0.7768531802965088,0.7768531802965088,0.7784871672246134,0.7784871672246134,0.7784871672246134,0.7784871672246134,0.7784871672246134,0.7784871672246134,0.7784871672246134,0.7784871672246134,0.7784871672246134,0.7784871672246134,0.7784871672246134,0.7784871672246134,0.7784871672246134,0.7784871672246134,0.7784871672246134,0.7784871672246134,0.7784871672246134,0.7784871672246134,0.7784871672246134,0.7784871672246134,0.7784871672246134,0.7784871672246134,0.7784871672246134,0.7784871672246134,0.7784871672246134,0.7784871672246134,0.7784871672246134,0.7784871672246134,0.7784871672246134,0.7784871672246134,0.7784871672246134,0.7784871672246134,0.7784871672246134],\"type\":\"scatter\"},{\"marker\":{\"color\":\"#cccccc\"},\"mode\":\"markers\",\"name\":\"Infeasible Trial\",\"showlegend\":false,\"x\":[],\"y\":[],\"type\":\"scatter\"}],                        {\"title\":{\"text\":\"Optimization History Plot\"},\"xaxis\":{\"title\":{\"text\":\"Trial\"}},\"yaxis\":{\"title\":{\"text\":\"Objective Value\"}},\"template\":{\"data\":{\"histogram2dcontour\":[{\"type\":\"histogram2dcontour\",\"colorbar\":{\"outlinewidth\":0,\"ticks\":\"\"},\"colorscale\":[[0.0,\"#0d0887\"],[0.1111111111111111,\"#46039f\"],[0.2222222222222222,\"#7201a8\"],[0.3333333333333333,\"#9c179e\"],[0.4444444444444444,\"#bd3786\"],[0.5555555555555556,\"#d8576b\"],[0.6666666666666666,\"#ed7953\"],[0.7777777777777778,\"#fb9f3a\"],[0.8888888888888888,\"#fdca26\"],[1.0,\"#f0f921\"]]}],\"choropleth\":[{\"type\":\"choropleth\",\"colorbar\":{\"outlinewidth\":0,\"ticks\":\"\"}}],\"histogram2d\":[{\"type\":\"histogram2d\",\"colorbar\":{\"outlinewidth\":0,\"ticks\":\"\"},\"colorscale\":[[0.0,\"#0d0887\"],[0.1111111111111111,\"#46039f\"],[0.2222222222222222,\"#7201a8\"],[0.3333333333333333,\"#9c179e\"],[0.4444444444444444,\"#bd3786\"],[0.5555555555555556,\"#d8576b\"],[0.6666666666666666,\"#ed7953\"],[0.7777777777777778,\"#fb9f3a\"],[0.8888888888888888,\"#fdca26\"],[1.0,\"#f0f921\"]]}],\"heatmap\":[{\"type\":\"heatmap\",\"colorbar\":{\"outlinewidth\":0,\"ticks\":\"\"},\"colorscale\":[[0.0,\"#0d0887\"],[0.1111111111111111,\"#46039f\"],[0.2222222222222222,\"#7201a8\"],[0.3333333333333333,\"#9c179e\"],[0.4444444444444444,\"#bd3786\"],[0.5555555555555556,\"#d8576b\"],[0.6666666666666666,\"#ed7953\"],[0.7777777777777778,\"#fb9f3a\"],[0.8888888888888888,\"#fdca26\"],[1.0,\"#f0f921\"]]}],\"heatmapgl\":[{\"type\":\"heatmapgl\",\"colorbar\":{\"outlinewidth\":0,\"ticks\":\"\"},\"colorscale\":[[0.0,\"#0d0887\"],[0.1111111111111111,\"#46039f\"],[0.2222222222222222,\"#7201a8\"],[0.3333333333333333,\"#9c179e\"],[0.4444444444444444,\"#bd3786\"],[0.5555555555555556,\"#d8576b\"],[0.6666666666666666,\"#ed7953\"],[0.7777777777777778,\"#fb9f3a\"],[0.8888888888888888,\"#fdca26\"],[1.0,\"#f0f921\"]]}],\"contourcarpet\":[{\"type\":\"contourcarpet\",\"colorbar\":{\"outlinewidth\":0,\"ticks\":\"\"}}],\"contour\":[{\"type\":\"contour\",\"colorbar\":{\"outlinewidth\":0,\"ticks\":\"\"},\"colorscale\":[[0.0,\"#0d0887\"],[0.1111111111111111,\"#46039f\"],[0.2222222222222222,\"#7201a8\"],[0.3333333333333333,\"#9c179e\"],[0.4444444444444444,\"#bd3786\"],[0.5555555555555556,\"#d8576b\"],[0.6666666666666666,\"#ed7953\"],[0.7777777777777778,\"#fb9f3a\"],[0.8888888888888888,\"#fdca26\"],[1.0,\"#f0f921\"]]}],\"surface\":[{\"type\":\"surface\",\"colorbar\":{\"outlinewidth\":0,\"ticks\":\"\"},\"colorscale\":[[0.0,\"#0d0887\"],[0.1111111111111111,\"#46039f\"],[0.2222222222222222,\"#7201a8\"],[0.3333333333333333,\"#9c179e\"],[0.4444444444444444,\"#bd3786\"],[0.5555555555555556,\"#d8576b\"],[0.6666666666666666,\"#ed7953\"],[0.7777777777777778,\"#fb9f3a\"],[0.8888888888888888,\"#fdca26\"],[1.0,\"#f0f921\"]]}],\"mesh3d\":[{\"type\":\"mesh3d\",\"colorbar\":{\"outlinewidth\":0,\"ticks\":\"\"}}],\"scatter\":[{\"fillpattern\":{\"fillmode\":\"overlay\",\"size\":10,\"solidity\":0.2},\"type\":\"scatter\"}],\"parcoords\":[{\"type\":\"parcoords\",\"line\":{\"colorbar\":{\"outlinewidth\":0,\"ticks\":\"\"}}}],\"scatterpolargl\":[{\"type\":\"scatterpolargl\",\"marker\":{\"colorbar\":{\"outlinewidth\":0,\"ticks\":\"\"}}}],\"bar\":[{\"error_x\":{\"color\":\"#2a3f5f\"},\"error_y\":{\"color\":\"#2a3f5f\"},\"marker\":{\"line\":{\"color\":\"#E5ECF6\",\"width\":0.5},\"pattern\":{\"fillmode\":\"overlay\",\"size\":10,\"solidity\":0.2}},\"type\":\"bar\"}],\"scattergeo\":[{\"type\":\"scattergeo\",\"marker\":{\"colorbar\":{\"outlinewidth\":0,\"ticks\":\"\"}}}],\"scatterpolar\":[{\"type\":\"scatterpolar\",\"marker\":{\"colorbar\":{\"outlinewidth\":0,\"ticks\":\"\"}}}],\"histogram\":[{\"marker\":{\"pattern\":{\"fillmode\":\"overlay\",\"size\":10,\"solidity\":0.2}},\"type\":\"histogram\"}],\"scattergl\":[{\"type\":\"scattergl\",\"marker\":{\"colorbar\":{\"outlinewidth\":0,\"ticks\":\"\"}}}],\"scatter3d\":[{\"type\":\"scatter3d\",\"line\":{\"colorbar\":{\"outlinewidth\":0,\"ticks\":\"\"}},\"marker\":{\"colorbar\":{\"outlinewidth\":0,\"ticks\":\"\"}}}],\"scattermapbox\":[{\"type\":\"scattermapbox\",\"marker\":{\"colorbar\":{\"outlinewidth\":0,\"ticks\":\"\"}}}],\"scatterternary\":[{\"type\":\"scatterternary\",\"marker\":{\"colorbar\":{\"outlinewidth\":0,\"ticks\":\"\"}}}],\"scattercarpet\":[{\"type\":\"scattercarpet\",\"marker\":{\"colorbar\":{\"outlinewidth\":0,\"ticks\":\"\"}}}],\"carpet\":[{\"aaxis\":{\"endlinecolor\":\"#2a3f5f\",\"gridcolor\":\"white\",\"linecolor\":\"white\",\"minorgridcolor\":\"white\",\"startlinecolor\":\"#2a3f5f\"},\"baxis\":{\"endlinecolor\":\"#2a3f5f\",\"gridcolor\":\"white\",\"linecolor\":\"white\",\"minorgridcolor\":\"white\",\"startlinecolor\":\"#2a3f5f\"},\"type\":\"carpet\"}],\"table\":[{\"cells\":{\"fill\":{\"color\":\"#EBF0F8\"},\"line\":{\"color\":\"white\"}},\"header\":{\"fill\":{\"color\":\"#C8D4E3\"},\"line\":{\"color\":\"white\"}},\"type\":\"table\"}],\"barpolar\":[{\"marker\":{\"line\":{\"color\":\"#E5ECF6\",\"width\":0.5},\"pattern\":{\"fillmode\":\"overlay\",\"size\":10,\"solidity\":0.2}},\"type\":\"barpolar\"}],\"pie\":[{\"automargin\":true,\"type\":\"pie\"}]},\"layout\":{\"autotypenumbers\":\"strict\",\"colorway\":[\"#636efa\",\"#EF553B\",\"#00cc96\",\"#ab63fa\",\"#FFA15A\",\"#19d3f3\",\"#FF6692\",\"#B6E880\",\"#FF97FF\",\"#FECB52\"],\"font\":{\"color\":\"#2a3f5f\"},\"hovermode\":\"closest\",\"hoverlabel\":{\"align\":\"left\"},\"paper_bgcolor\":\"white\",\"plot_bgcolor\":\"#E5ECF6\",\"polar\":{\"bgcolor\":\"#E5ECF6\",\"angularaxis\":{\"gridcolor\":\"white\",\"linecolor\":\"white\",\"ticks\":\"\"},\"radialaxis\":{\"gridcolor\":\"white\",\"linecolor\":\"white\",\"ticks\":\"\"}},\"ternary\":{\"bgcolor\":\"#E5ECF6\",\"aaxis\":{\"gridcolor\":\"white\",\"linecolor\":\"white\",\"ticks\":\"\"},\"baxis\":{\"gridcolor\":\"white\",\"linecolor\":\"white\",\"ticks\":\"\"},\"caxis\":{\"gridcolor\":\"white\",\"linecolor\":\"white\",\"ticks\":\"\"}},\"coloraxis\":{\"colorbar\":{\"outlinewidth\":0,\"ticks\":\"\"}},\"colorscale\":{\"sequential\":[[0.0,\"#0d0887\"],[0.1111111111111111,\"#46039f\"],[0.2222222222222222,\"#7201a8\"],[0.3333333333333333,\"#9c179e\"],[0.4444444444444444,\"#bd3786\"],[0.5555555555555556,\"#d8576b\"],[0.6666666666666666,\"#ed7953\"],[0.7777777777777778,\"#fb9f3a\"],[0.8888888888888888,\"#fdca26\"],[1.0,\"#f0f921\"]],\"sequentialminus\":[[0.0,\"#0d0887\"],[0.1111111111111111,\"#46039f\"],[0.2222222222222222,\"#7201a8\"],[0.3333333333333333,\"#9c179e\"],[0.4444444444444444,\"#bd3786\"],[0.5555555555555556,\"#d8576b\"],[0.6666666666666666,\"#ed7953\"],[0.7777777777777778,\"#fb9f3a\"],[0.8888888888888888,\"#fdca26\"],[1.0,\"#f0f921\"]],\"diverging\":[[0,\"#8e0152\"],[0.1,\"#c51b7d\"],[0.2,\"#de77ae\"],[0.3,\"#f1b6da\"],[0.4,\"#fde0ef\"],[0.5,\"#f7f7f7\"],[0.6,\"#e6f5d0\"],[0.7,\"#b8e186\"],[0.8,\"#7fbc41\"],[0.9,\"#4d9221\"],[1,\"#276419\"]]},\"xaxis\":{\"gridcolor\":\"white\",\"linecolor\":\"white\",\"ticks\":\"\",\"title\":{\"standoff\":15},\"zerolinecolor\":\"white\",\"automargin\":true,\"zerolinewidth\":2},\"yaxis\":{\"gridcolor\":\"white\",\"linecolor\":\"white\",\"ticks\":\"\",\"title\":{\"standoff\":15},\"zerolinecolor\":\"white\",\"automargin\":true,\"zerolinewidth\":2},\"scene\":{\"xaxis\":{\"backgroundcolor\":\"#E5ECF6\",\"gridcolor\":\"white\",\"linecolor\":\"white\",\"showbackground\":true,\"ticks\":\"\",\"zerolinecolor\":\"white\",\"gridwidth\":2},\"yaxis\":{\"backgroundcolor\":\"#E5ECF6\",\"gridcolor\":\"white\",\"linecolor\":\"white\",\"showbackground\":true,\"ticks\":\"\",\"zerolinecolor\":\"white\",\"gridwidth\":2},\"zaxis\":{\"backgroundcolor\":\"#E5ECF6\",\"gridcolor\":\"white\",\"linecolor\":\"white\",\"showbackground\":true,\"ticks\":\"\",\"zerolinecolor\":\"white\",\"gridwidth\":2}},\"shapedefaults\":{\"line\":{\"color\":\"#2a3f5f\"}},\"annotationdefaults\":{\"arrowcolor\":\"#2a3f5f\",\"arrowhead\":0,\"arrowwidth\":1},\"geo\":{\"bgcolor\":\"white\",\"landcolor\":\"#E5ECF6\",\"subunitcolor\":\"white\",\"showland\":true,\"showlakes\":true,\"lakecolor\":\"white\"},\"title\":{\"x\":0.05},\"mapbox\":{\"style\":\"light\"}}}},                        {\"responsive\": true}                    ).then(function(){\n",
              "                            \n",
              "var gd = document.getElementById('9e95e8ab-90b9-4138-9661-285df12f6bad');\n",
              "var x = new MutationObserver(function (mutations, observer) {{\n",
              "        var display = window.getComputedStyle(gd).display;\n",
              "        if (!display || display === 'none') {{\n",
              "            console.log([gd, 'removed!']);\n",
              "            Plotly.purge(gd);\n",
              "            observer.disconnect();\n",
              "        }}\n",
              "}});\n",
              "\n",
              "// Listen for the removal of the full notebook cells\n",
              "var notebookContainer = gd.closest('#notebook-container');\n",
              "if (notebookContainer) {{\n",
              "    x.observe(notebookContainer, {childList: true});\n",
              "}}\n",
              "\n",
              "// Listen for the clearing of the current output cell\n",
              "var outputEl = gd.closest('.output');\n",
              "if (outputEl) {{\n",
              "    x.observe(outputEl, {childList: true});\n",
              "}}\n",
              "\n",
              "                        })                };                            </script>        </div>\n",
              "</body>\n",
              "</html>"
            ]
          },
          "metadata": {}
        }
      ]
    },
    {
      "cell_type": "code",
      "source": [
        "plot_param_importances(study).show()"
      ],
      "metadata": {
        "id": "GWxRbkRzFYPy",
        "outputId": "97ad5b7c-d22e-49f6-87da-e3520dc3c994",
        "colab": {
          "base_uri": "https://localhost:8080/",
          "height": 542
        }
      },
      "execution_count": 50,
      "outputs": [
        {
          "output_type": "display_data",
          "data": {
            "text/html": [
              "<html>\n",
              "<head><meta charset=\"utf-8\" /></head>\n",
              "<body>\n",
              "    <div>            <script src=\"https://cdnjs.cloudflare.com/ajax/libs/mathjax/2.7.5/MathJax.js?config=TeX-AMS-MML_SVG\"></script><script type=\"text/javascript\">if (window.MathJax && window.MathJax.Hub && window.MathJax.Hub.Config) {window.MathJax.Hub.Config({SVG: {font: \"STIX-Web\"}});}</script>                <script type=\"text/javascript\">window.PlotlyConfig = {MathJaxConfig: 'local'};</script>\n",
              "        <script charset=\"utf-8\" src=\"https://cdn.plot.ly/plotly-2.35.2.min.js\"></script>                <div id=\"0f18f0ed-26d7-4233-80ec-e0dba2b0f664\" class=\"plotly-graph-div\" style=\"height:525px; width:100%;\"></div>            <script type=\"text/javascript\">                                    window.PLOTLYENV=window.PLOTLYENV || {};                                    if (document.getElementById(\"0f18f0ed-26d7-4233-80ec-e0dba2b0f664\")) {                    Plotly.newPlot(                        \"0f18f0ed-26d7-4233-80ec-e0dba2b0f664\",                        [{\"cliponaxis\":false,\"hovertemplate\":[\"classifier (CategoricalDistribution): 1.0\\u003cextra\\u003e\\u003c\\u002fextra\\u003e\"],\"name\":\"Objective Value\",\"orientation\":\"h\",\"text\":[\"1.00\"],\"textposition\":\"outside\",\"x\":[1.0],\"y\":[\"classifier\"],\"type\":\"bar\"}],                        {\"title\":{\"text\":\"Hyperparameter Importances\"},\"xaxis\":{\"title\":{\"text\":\"Hyperparameter Importance\"}},\"yaxis\":{\"title\":{\"text\":\"Hyperparameter\"}},\"template\":{\"data\":{\"histogram2dcontour\":[{\"type\":\"histogram2dcontour\",\"colorbar\":{\"outlinewidth\":0,\"ticks\":\"\"},\"colorscale\":[[0.0,\"#0d0887\"],[0.1111111111111111,\"#46039f\"],[0.2222222222222222,\"#7201a8\"],[0.3333333333333333,\"#9c179e\"],[0.4444444444444444,\"#bd3786\"],[0.5555555555555556,\"#d8576b\"],[0.6666666666666666,\"#ed7953\"],[0.7777777777777778,\"#fb9f3a\"],[0.8888888888888888,\"#fdca26\"],[1.0,\"#f0f921\"]]}],\"choropleth\":[{\"type\":\"choropleth\",\"colorbar\":{\"outlinewidth\":0,\"ticks\":\"\"}}],\"histogram2d\":[{\"type\":\"histogram2d\",\"colorbar\":{\"outlinewidth\":0,\"ticks\":\"\"},\"colorscale\":[[0.0,\"#0d0887\"],[0.1111111111111111,\"#46039f\"],[0.2222222222222222,\"#7201a8\"],[0.3333333333333333,\"#9c179e\"],[0.4444444444444444,\"#bd3786\"],[0.5555555555555556,\"#d8576b\"],[0.6666666666666666,\"#ed7953\"],[0.7777777777777778,\"#fb9f3a\"],[0.8888888888888888,\"#fdca26\"],[1.0,\"#f0f921\"]]}],\"heatmap\":[{\"type\":\"heatmap\",\"colorbar\":{\"outlinewidth\":0,\"ticks\":\"\"},\"colorscale\":[[0.0,\"#0d0887\"],[0.1111111111111111,\"#46039f\"],[0.2222222222222222,\"#7201a8\"],[0.3333333333333333,\"#9c179e\"],[0.4444444444444444,\"#bd3786\"],[0.5555555555555556,\"#d8576b\"],[0.6666666666666666,\"#ed7953\"],[0.7777777777777778,\"#fb9f3a\"],[0.8888888888888888,\"#fdca26\"],[1.0,\"#f0f921\"]]}],\"heatmapgl\":[{\"type\":\"heatmapgl\",\"colorbar\":{\"outlinewidth\":0,\"ticks\":\"\"},\"colorscale\":[[0.0,\"#0d0887\"],[0.1111111111111111,\"#46039f\"],[0.2222222222222222,\"#7201a8\"],[0.3333333333333333,\"#9c179e\"],[0.4444444444444444,\"#bd3786\"],[0.5555555555555556,\"#d8576b\"],[0.6666666666666666,\"#ed7953\"],[0.7777777777777778,\"#fb9f3a\"],[0.8888888888888888,\"#fdca26\"],[1.0,\"#f0f921\"]]}],\"contourcarpet\":[{\"type\":\"contourcarpet\",\"colorbar\":{\"outlinewidth\":0,\"ticks\":\"\"}}],\"contour\":[{\"type\":\"contour\",\"colorbar\":{\"outlinewidth\":0,\"ticks\":\"\"},\"colorscale\":[[0.0,\"#0d0887\"],[0.1111111111111111,\"#46039f\"],[0.2222222222222222,\"#7201a8\"],[0.3333333333333333,\"#9c179e\"],[0.4444444444444444,\"#bd3786\"],[0.5555555555555556,\"#d8576b\"],[0.6666666666666666,\"#ed7953\"],[0.7777777777777778,\"#fb9f3a\"],[0.8888888888888888,\"#fdca26\"],[1.0,\"#f0f921\"]]}],\"surface\":[{\"type\":\"surface\",\"colorbar\":{\"outlinewidth\":0,\"ticks\":\"\"},\"colorscale\":[[0.0,\"#0d0887\"],[0.1111111111111111,\"#46039f\"],[0.2222222222222222,\"#7201a8\"],[0.3333333333333333,\"#9c179e\"],[0.4444444444444444,\"#bd3786\"],[0.5555555555555556,\"#d8576b\"],[0.6666666666666666,\"#ed7953\"],[0.7777777777777778,\"#fb9f3a\"],[0.8888888888888888,\"#fdca26\"],[1.0,\"#f0f921\"]]}],\"mesh3d\":[{\"type\":\"mesh3d\",\"colorbar\":{\"outlinewidth\":0,\"ticks\":\"\"}}],\"scatter\":[{\"fillpattern\":{\"fillmode\":\"overlay\",\"size\":10,\"solidity\":0.2},\"type\":\"scatter\"}],\"parcoords\":[{\"type\":\"parcoords\",\"line\":{\"colorbar\":{\"outlinewidth\":0,\"ticks\":\"\"}}}],\"scatterpolargl\":[{\"type\":\"scatterpolargl\",\"marker\":{\"colorbar\":{\"outlinewidth\":0,\"ticks\":\"\"}}}],\"bar\":[{\"error_x\":{\"color\":\"#2a3f5f\"},\"error_y\":{\"color\":\"#2a3f5f\"},\"marker\":{\"line\":{\"color\":\"#E5ECF6\",\"width\":0.5},\"pattern\":{\"fillmode\":\"overlay\",\"size\":10,\"solidity\":0.2}},\"type\":\"bar\"}],\"scattergeo\":[{\"type\":\"scattergeo\",\"marker\":{\"colorbar\":{\"outlinewidth\":0,\"ticks\":\"\"}}}],\"scatterpolar\":[{\"type\":\"scatterpolar\",\"marker\":{\"colorbar\":{\"outlinewidth\":0,\"ticks\":\"\"}}}],\"histogram\":[{\"marker\":{\"pattern\":{\"fillmode\":\"overlay\",\"size\":10,\"solidity\":0.2}},\"type\":\"histogram\"}],\"scattergl\":[{\"type\":\"scattergl\",\"marker\":{\"colorbar\":{\"outlinewidth\":0,\"ticks\":\"\"}}}],\"scatter3d\":[{\"type\":\"scatter3d\",\"line\":{\"colorbar\":{\"outlinewidth\":0,\"ticks\":\"\"}},\"marker\":{\"colorbar\":{\"outlinewidth\":0,\"ticks\":\"\"}}}],\"scattermapbox\":[{\"type\":\"scattermapbox\",\"marker\":{\"colorbar\":{\"outlinewidth\":0,\"ticks\":\"\"}}}],\"scatterternary\":[{\"type\":\"scatterternary\",\"marker\":{\"colorbar\":{\"outlinewidth\":0,\"ticks\":\"\"}}}],\"scattercarpet\":[{\"type\":\"scattercarpet\",\"marker\":{\"colorbar\":{\"outlinewidth\":0,\"ticks\":\"\"}}}],\"carpet\":[{\"aaxis\":{\"endlinecolor\":\"#2a3f5f\",\"gridcolor\":\"white\",\"linecolor\":\"white\",\"minorgridcolor\":\"white\",\"startlinecolor\":\"#2a3f5f\"},\"baxis\":{\"endlinecolor\":\"#2a3f5f\",\"gridcolor\":\"white\",\"linecolor\":\"white\",\"minorgridcolor\":\"white\",\"startlinecolor\":\"#2a3f5f\"},\"type\":\"carpet\"}],\"table\":[{\"cells\":{\"fill\":{\"color\":\"#EBF0F8\"},\"line\":{\"color\":\"white\"}},\"header\":{\"fill\":{\"color\":\"#C8D4E3\"},\"line\":{\"color\":\"white\"}},\"type\":\"table\"}],\"barpolar\":[{\"marker\":{\"line\":{\"color\":\"#E5ECF6\",\"width\":0.5},\"pattern\":{\"fillmode\":\"overlay\",\"size\":10,\"solidity\":0.2}},\"type\":\"barpolar\"}],\"pie\":[{\"automargin\":true,\"type\":\"pie\"}]},\"layout\":{\"autotypenumbers\":\"strict\",\"colorway\":[\"#636efa\",\"#EF553B\",\"#00cc96\",\"#ab63fa\",\"#FFA15A\",\"#19d3f3\",\"#FF6692\",\"#B6E880\",\"#FF97FF\",\"#FECB52\"],\"font\":{\"color\":\"#2a3f5f\"},\"hovermode\":\"closest\",\"hoverlabel\":{\"align\":\"left\"},\"paper_bgcolor\":\"white\",\"plot_bgcolor\":\"#E5ECF6\",\"polar\":{\"bgcolor\":\"#E5ECF6\",\"angularaxis\":{\"gridcolor\":\"white\",\"linecolor\":\"white\",\"ticks\":\"\"},\"radialaxis\":{\"gridcolor\":\"white\",\"linecolor\":\"white\",\"ticks\":\"\"}},\"ternary\":{\"bgcolor\":\"#E5ECF6\",\"aaxis\":{\"gridcolor\":\"white\",\"linecolor\":\"white\",\"ticks\":\"\"},\"baxis\":{\"gridcolor\":\"white\",\"linecolor\":\"white\",\"ticks\":\"\"},\"caxis\":{\"gridcolor\":\"white\",\"linecolor\":\"white\",\"ticks\":\"\"}},\"coloraxis\":{\"colorbar\":{\"outlinewidth\":0,\"ticks\":\"\"}},\"colorscale\":{\"sequential\":[[0.0,\"#0d0887\"],[0.1111111111111111,\"#46039f\"],[0.2222222222222222,\"#7201a8\"],[0.3333333333333333,\"#9c179e\"],[0.4444444444444444,\"#bd3786\"],[0.5555555555555556,\"#d8576b\"],[0.6666666666666666,\"#ed7953\"],[0.7777777777777778,\"#fb9f3a\"],[0.8888888888888888,\"#fdca26\"],[1.0,\"#f0f921\"]],\"sequentialminus\":[[0.0,\"#0d0887\"],[0.1111111111111111,\"#46039f\"],[0.2222222222222222,\"#7201a8\"],[0.3333333333333333,\"#9c179e\"],[0.4444444444444444,\"#bd3786\"],[0.5555555555555556,\"#d8576b\"],[0.6666666666666666,\"#ed7953\"],[0.7777777777777778,\"#fb9f3a\"],[0.8888888888888888,\"#fdca26\"],[1.0,\"#f0f921\"]],\"diverging\":[[0,\"#8e0152\"],[0.1,\"#c51b7d\"],[0.2,\"#de77ae\"],[0.3,\"#f1b6da\"],[0.4,\"#fde0ef\"],[0.5,\"#f7f7f7\"],[0.6,\"#e6f5d0\"],[0.7,\"#b8e186\"],[0.8,\"#7fbc41\"],[0.9,\"#4d9221\"],[1,\"#276419\"]]},\"xaxis\":{\"gridcolor\":\"white\",\"linecolor\":\"white\",\"ticks\":\"\",\"title\":{\"standoff\":15},\"zerolinecolor\":\"white\",\"automargin\":true,\"zerolinewidth\":2},\"yaxis\":{\"gridcolor\":\"white\",\"linecolor\":\"white\",\"ticks\":\"\",\"title\":{\"standoff\":15},\"zerolinecolor\":\"white\",\"automargin\":true,\"zerolinewidth\":2},\"scene\":{\"xaxis\":{\"backgroundcolor\":\"#E5ECF6\",\"gridcolor\":\"white\",\"linecolor\":\"white\",\"showbackground\":true,\"ticks\":\"\",\"zerolinecolor\":\"white\",\"gridwidth\":2},\"yaxis\":{\"backgroundcolor\":\"#E5ECF6\",\"gridcolor\":\"white\",\"linecolor\":\"white\",\"showbackground\":true,\"ticks\":\"\",\"zerolinecolor\":\"white\",\"gridwidth\":2},\"zaxis\":{\"backgroundcolor\":\"#E5ECF6\",\"gridcolor\":\"white\",\"linecolor\":\"white\",\"showbackground\":true,\"ticks\":\"\",\"zerolinecolor\":\"white\",\"gridwidth\":2}},\"shapedefaults\":{\"line\":{\"color\":\"#2a3f5f\"}},\"annotationdefaults\":{\"arrowcolor\":\"#2a3f5f\",\"arrowhead\":0,\"arrowwidth\":1},\"geo\":{\"bgcolor\":\"white\",\"landcolor\":\"#E5ECF6\",\"subunitcolor\":\"white\",\"showland\":true,\"showlakes\":true,\"lakecolor\":\"white\"},\"title\":{\"x\":0.05},\"mapbox\":{\"style\":\"light\"}}}},                        {\"responsive\": true}                    ).then(function(){\n",
              "                            \n",
              "var gd = document.getElementById('0f18f0ed-26d7-4233-80ec-e0dba2b0f664');\n",
              "var x = new MutationObserver(function (mutations, observer) {{\n",
              "        var display = window.getComputedStyle(gd).display;\n",
              "        if (!display || display === 'none') {{\n",
              "            console.log([gd, 'removed!']);\n",
              "            Plotly.purge(gd);\n",
              "            observer.disconnect();\n",
              "        }}\n",
              "}});\n",
              "\n",
              "// Listen for the removal of the full notebook cells\n",
              "var notebookContainer = gd.closest('#notebook-container');\n",
              "if (notebookContainer) {{\n",
              "    x.observe(notebookContainer, {childList: true});\n",
              "}}\n",
              "\n",
              "// Listen for the clearing of the current output cell\n",
              "var outputEl = gd.closest('.output');\n",
              "if (outputEl) {{\n",
              "    x.observe(outputEl, {childList: true});\n",
              "}}\n",
              "\n",
              "                        })                };                            </script>        </div>\n",
              "</body>\n",
              "</html>"
            ]
          },
          "metadata": {}
        }
      ]
    },
    {
      "cell_type": "code",
      "source": [],
      "metadata": {
        "id": "UEbRBNcmFga6"
      },
      "execution_count": null,
      "outputs": []
    }
  ]
}