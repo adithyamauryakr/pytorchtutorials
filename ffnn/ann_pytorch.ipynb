{
  "nbformat": 4,
  "nbformat_minor": 0,
  "metadata": {
    "colab": {
      "provenance": [],
      "gpuType": "T4",
      "authorship_tag": "ABX9TyPBZloMb1vygxmOMhQywqCd",
      "include_colab_link": true
    },
    "kernelspec": {
      "name": "python3",
      "display_name": "Python 3"
    },
    "language_info": {
      "name": "python"
    },
    "accelerator": "GPU"
  },
  "cells": [
    {
      "cell_type": "markdown",
      "metadata": {
        "id": "view-in-github",
        "colab_type": "text"
      },
      "source": [
        "<a href=\"https://colab.research.google.com/github/adithyamauryakr/pytorchtutorials/blob/main/ann_pytorch.ipynb\" target=\"_parent\"><img src=\"https://colab.research.google.com/assets/colab-badge.svg\" alt=\"Open In Colab\"/></a>"
      ]
    },
    {
      "cell_type": "code",
      "execution_count": 4,
      "metadata": {
        "id": "pIrcN94UH7aU",
        "colab": {
          "base_uri": "https://localhost:8080/"
        },
        "outputId": "dd7bb84b-3012-4418-f342-f957284b0082"
      },
      "outputs": [
        {
          "output_type": "stream",
          "name": "stdout",
          "text": [
            "Downloading from https://www.kaggle.com/api/v1/datasets/download/zalando-research/fashionmnist?dataset_version_number=4...\n"
          ]
        },
        {
          "output_type": "stream",
          "name": "stderr",
          "text": [
            "100%|██████████| 68.8M/68.8M [00:00<00:00, 121MB/s]"
          ]
        },
        {
          "output_type": "stream",
          "name": "stdout",
          "text": [
            "Extracting files...\n"
          ]
        },
        {
          "output_type": "stream",
          "name": "stderr",
          "text": [
            "\n"
          ]
        },
        {
          "output_type": "stream",
          "name": "stdout",
          "text": [
            "Path to dataset files: /root/.cache/kagglehub/datasets/zalando-research/fashionmnist/versions/4\n"
          ]
        }
      ],
      "source": [
        "import kagglehub\n",
        "\n",
        "# Download latest version\n",
        "path = kagglehub.dataset_download(\"zalando-research/fashionmnist\")\n",
        "\n",
        "print(\"Path to dataset files:\", path)"
      ]
    },
    {
      "cell_type": "code",
      "source": [
        "import pandas as pd\n",
        "from sklearn.model_selection import train_test_split\n",
        "import torch\n",
        "from torch.utils.data import Dataset, DataLoader\n",
        "import torch.nn as nn\n",
        "import torch.optim as optim\n",
        "import matplotlib.pyplot as plt"
      ],
      "metadata": {
        "id": "PuN8h-1kIrRR"
      },
      "execution_count": 1,
      "outputs": []
    },
    {
      "cell_type": "code",
      "source": [
        "torch.manual_seed(42)"
      ],
      "metadata": {
        "colab": {
          "base_uri": "https://localhost:8080/"
        },
        "id": "Qr7ExKeTJCk8",
        "outputId": "a07cc9ab-3d6d-43ae-bcec-4a5e3d79a32b"
      },
      "execution_count": 2,
      "outputs": [
        {
          "output_type": "execute_result",
          "data": {
            "text/plain": [
              "<torch._C.Generator at 0x7e26a6d5eaf0>"
            ]
          },
          "metadata": {},
          "execution_count": 2
        }
      ]
    },
    {
      "cell_type": "code",
      "source": [
        "device = torch.device('cuda' if torch.cuda.is_available() else 'cpu')\n",
        "print(device)"
      ],
      "metadata": {
        "id": "4KiyS_8pQxhn",
        "outputId": "7dbeddc6-b3d6-4d54-f9b3-4c971d6e1292",
        "colab": {
          "base_uri": "https://localhost:8080/"
        }
      },
      "execution_count": 6,
      "outputs": [
        {
          "output_type": "stream",
          "name": "stdout",
          "text": [
            "cuda\n"
          ]
        }
      ]
    },
    {
      "cell_type": "code",
      "source": [
        "df = pd.read_csv(path + \"/fashion-mnist_train.csv\")\n",
        "df.head()"
      ],
      "metadata": {
        "colab": {
          "base_uri": "https://localhost:8080/",
          "height": 255
        },
        "id": "GZYZ8MDHJHSS",
        "outputId": "bf27b66a-8b90-47f2-910f-9e04ea375881"
      },
      "execution_count": 5,
      "outputs": [
        {
          "output_type": "execute_result",
          "data": {
            "text/plain": [
              "   label  pixel1  pixel2  pixel3  pixel4  pixel5  pixel6  pixel7  pixel8  \\\n",
              "0      2       0       0       0       0       0       0       0       0   \n",
              "1      9       0       0       0       0       0       0       0       0   \n",
              "2      6       0       0       0       0       0       0       0       5   \n",
              "3      0       0       0       0       1       2       0       0       0   \n",
              "4      3       0       0       0       0       0       0       0       0   \n",
              "\n",
              "   pixel9  ...  pixel775  pixel776  pixel777  pixel778  pixel779  pixel780  \\\n",
              "0       0  ...         0         0         0         0         0         0   \n",
              "1       0  ...         0         0         0         0         0         0   \n",
              "2       0  ...         0         0         0        30        43         0   \n",
              "3       0  ...         3         0         0         0         0         1   \n",
              "4       0  ...         0         0         0         0         0         0   \n",
              "\n",
              "   pixel781  pixel782  pixel783  pixel784  \n",
              "0         0         0         0         0  \n",
              "1         0         0         0         0  \n",
              "2         0         0         0         0  \n",
              "3         0         0         0         0  \n",
              "4         0         0         0         0  \n",
              "\n",
              "[5 rows x 785 columns]"
            ],
            "text/html": [
              "\n",
              "  <div id=\"df-afe00a6a-c820-4e72-ae20-703e71d6841a\" class=\"colab-df-container\">\n",
              "    <div>\n",
              "<style scoped>\n",
              "    .dataframe tbody tr th:only-of-type {\n",
              "        vertical-align: middle;\n",
              "    }\n",
              "\n",
              "    .dataframe tbody tr th {\n",
              "        vertical-align: top;\n",
              "    }\n",
              "\n",
              "    .dataframe thead th {\n",
              "        text-align: right;\n",
              "    }\n",
              "</style>\n",
              "<table border=\"1\" class=\"dataframe\">\n",
              "  <thead>\n",
              "    <tr style=\"text-align: right;\">\n",
              "      <th></th>\n",
              "      <th>label</th>\n",
              "      <th>pixel1</th>\n",
              "      <th>pixel2</th>\n",
              "      <th>pixel3</th>\n",
              "      <th>pixel4</th>\n",
              "      <th>pixel5</th>\n",
              "      <th>pixel6</th>\n",
              "      <th>pixel7</th>\n",
              "      <th>pixel8</th>\n",
              "      <th>pixel9</th>\n",
              "      <th>...</th>\n",
              "      <th>pixel775</th>\n",
              "      <th>pixel776</th>\n",
              "      <th>pixel777</th>\n",
              "      <th>pixel778</th>\n",
              "      <th>pixel779</th>\n",
              "      <th>pixel780</th>\n",
              "      <th>pixel781</th>\n",
              "      <th>pixel782</th>\n",
              "      <th>pixel783</th>\n",
              "      <th>pixel784</th>\n",
              "    </tr>\n",
              "  </thead>\n",
              "  <tbody>\n",
              "    <tr>\n",
              "      <th>0</th>\n",
              "      <td>2</td>\n",
              "      <td>0</td>\n",
              "      <td>0</td>\n",
              "      <td>0</td>\n",
              "      <td>0</td>\n",
              "      <td>0</td>\n",
              "      <td>0</td>\n",
              "      <td>0</td>\n",
              "      <td>0</td>\n",
              "      <td>0</td>\n",
              "      <td>...</td>\n",
              "      <td>0</td>\n",
              "      <td>0</td>\n",
              "      <td>0</td>\n",
              "      <td>0</td>\n",
              "      <td>0</td>\n",
              "      <td>0</td>\n",
              "      <td>0</td>\n",
              "      <td>0</td>\n",
              "      <td>0</td>\n",
              "      <td>0</td>\n",
              "    </tr>\n",
              "    <tr>\n",
              "      <th>1</th>\n",
              "      <td>9</td>\n",
              "      <td>0</td>\n",
              "      <td>0</td>\n",
              "      <td>0</td>\n",
              "      <td>0</td>\n",
              "      <td>0</td>\n",
              "      <td>0</td>\n",
              "      <td>0</td>\n",
              "      <td>0</td>\n",
              "      <td>0</td>\n",
              "      <td>...</td>\n",
              "      <td>0</td>\n",
              "      <td>0</td>\n",
              "      <td>0</td>\n",
              "      <td>0</td>\n",
              "      <td>0</td>\n",
              "      <td>0</td>\n",
              "      <td>0</td>\n",
              "      <td>0</td>\n",
              "      <td>0</td>\n",
              "      <td>0</td>\n",
              "    </tr>\n",
              "    <tr>\n",
              "      <th>2</th>\n",
              "      <td>6</td>\n",
              "      <td>0</td>\n",
              "      <td>0</td>\n",
              "      <td>0</td>\n",
              "      <td>0</td>\n",
              "      <td>0</td>\n",
              "      <td>0</td>\n",
              "      <td>0</td>\n",
              "      <td>5</td>\n",
              "      <td>0</td>\n",
              "      <td>...</td>\n",
              "      <td>0</td>\n",
              "      <td>0</td>\n",
              "      <td>0</td>\n",
              "      <td>30</td>\n",
              "      <td>43</td>\n",
              "      <td>0</td>\n",
              "      <td>0</td>\n",
              "      <td>0</td>\n",
              "      <td>0</td>\n",
              "      <td>0</td>\n",
              "    </tr>\n",
              "    <tr>\n",
              "      <th>3</th>\n",
              "      <td>0</td>\n",
              "      <td>0</td>\n",
              "      <td>0</td>\n",
              "      <td>0</td>\n",
              "      <td>1</td>\n",
              "      <td>2</td>\n",
              "      <td>0</td>\n",
              "      <td>0</td>\n",
              "      <td>0</td>\n",
              "      <td>0</td>\n",
              "      <td>...</td>\n",
              "      <td>3</td>\n",
              "      <td>0</td>\n",
              "      <td>0</td>\n",
              "      <td>0</td>\n",
              "      <td>0</td>\n",
              "      <td>1</td>\n",
              "      <td>0</td>\n",
              "      <td>0</td>\n",
              "      <td>0</td>\n",
              "      <td>0</td>\n",
              "    </tr>\n",
              "    <tr>\n",
              "      <th>4</th>\n",
              "      <td>3</td>\n",
              "      <td>0</td>\n",
              "      <td>0</td>\n",
              "      <td>0</td>\n",
              "      <td>0</td>\n",
              "      <td>0</td>\n",
              "      <td>0</td>\n",
              "      <td>0</td>\n",
              "      <td>0</td>\n",
              "      <td>0</td>\n",
              "      <td>...</td>\n",
              "      <td>0</td>\n",
              "      <td>0</td>\n",
              "      <td>0</td>\n",
              "      <td>0</td>\n",
              "      <td>0</td>\n",
              "      <td>0</td>\n",
              "      <td>0</td>\n",
              "      <td>0</td>\n",
              "      <td>0</td>\n",
              "      <td>0</td>\n",
              "    </tr>\n",
              "  </tbody>\n",
              "</table>\n",
              "<p>5 rows × 785 columns</p>\n",
              "</div>\n",
              "    <div class=\"colab-df-buttons\">\n",
              "\n",
              "  <div class=\"colab-df-container\">\n",
              "    <button class=\"colab-df-convert\" onclick=\"convertToInteractive('df-afe00a6a-c820-4e72-ae20-703e71d6841a')\"\n",
              "            title=\"Convert this dataframe to an interactive table.\"\n",
              "            style=\"display:none;\">\n",
              "\n",
              "  <svg xmlns=\"http://www.w3.org/2000/svg\" height=\"24px\" viewBox=\"0 -960 960 960\">\n",
              "    <path d=\"M120-120v-720h720v720H120Zm60-500h600v-160H180v160Zm220 220h160v-160H400v160Zm0 220h160v-160H400v160ZM180-400h160v-160H180v160Zm440 0h160v-160H620v160ZM180-180h160v-160H180v160Zm440 0h160v-160H620v160Z\"/>\n",
              "  </svg>\n",
              "    </button>\n",
              "\n",
              "  <style>\n",
              "    .colab-df-container {\n",
              "      display:flex;\n",
              "      gap: 12px;\n",
              "    }\n",
              "\n",
              "    .colab-df-convert {\n",
              "      background-color: #E8F0FE;\n",
              "      border: none;\n",
              "      border-radius: 50%;\n",
              "      cursor: pointer;\n",
              "      display: none;\n",
              "      fill: #1967D2;\n",
              "      height: 32px;\n",
              "      padding: 0 0 0 0;\n",
              "      width: 32px;\n",
              "    }\n",
              "\n",
              "    .colab-df-convert:hover {\n",
              "      background-color: #E2EBFA;\n",
              "      box-shadow: 0px 1px 2px rgba(60, 64, 67, 0.3), 0px 1px 3px 1px rgba(60, 64, 67, 0.15);\n",
              "      fill: #174EA6;\n",
              "    }\n",
              "\n",
              "    .colab-df-buttons div {\n",
              "      margin-bottom: 4px;\n",
              "    }\n",
              "\n",
              "    [theme=dark] .colab-df-convert {\n",
              "      background-color: #3B4455;\n",
              "      fill: #D2E3FC;\n",
              "    }\n",
              "\n",
              "    [theme=dark] .colab-df-convert:hover {\n",
              "      background-color: #434B5C;\n",
              "      box-shadow: 0px 1px 3px 1px rgba(0, 0, 0, 0.15);\n",
              "      filter: drop-shadow(0px 1px 2px rgba(0, 0, 0, 0.3));\n",
              "      fill: #FFFFFF;\n",
              "    }\n",
              "  </style>\n",
              "\n",
              "    <script>\n",
              "      const buttonEl =\n",
              "        document.querySelector('#df-afe00a6a-c820-4e72-ae20-703e71d6841a button.colab-df-convert');\n",
              "      buttonEl.style.display =\n",
              "        google.colab.kernel.accessAllowed ? 'block' : 'none';\n",
              "\n",
              "      async function convertToInteractive(key) {\n",
              "        const element = document.querySelector('#df-afe00a6a-c820-4e72-ae20-703e71d6841a');\n",
              "        const dataTable =\n",
              "          await google.colab.kernel.invokeFunction('convertToInteractive',\n",
              "                                                    [key], {});\n",
              "        if (!dataTable) return;\n",
              "\n",
              "        const docLinkHtml = 'Like what you see? Visit the ' +\n",
              "          '<a target=\"_blank\" href=https://colab.research.google.com/notebooks/data_table.ipynb>data table notebook</a>'\n",
              "          + ' to learn more about interactive tables.';\n",
              "        element.innerHTML = '';\n",
              "        dataTable['output_type'] = 'display_data';\n",
              "        await google.colab.output.renderOutput(dataTable, element);\n",
              "        const docLink = document.createElement('div');\n",
              "        docLink.innerHTML = docLinkHtml;\n",
              "        element.appendChild(docLink);\n",
              "      }\n",
              "    </script>\n",
              "  </div>\n",
              "\n",
              "\n",
              "<div id=\"df-4844c2b6-4d85-4dbb-a451-9d8bef2e4e00\">\n",
              "  <button class=\"colab-df-quickchart\" onclick=\"quickchart('df-4844c2b6-4d85-4dbb-a451-9d8bef2e4e00')\"\n",
              "            title=\"Suggest charts\"\n",
              "            style=\"display:none;\">\n",
              "\n",
              "<svg xmlns=\"http://www.w3.org/2000/svg\" height=\"24px\"viewBox=\"0 0 24 24\"\n",
              "     width=\"24px\">\n",
              "    <g>\n",
              "        <path d=\"M19 3H5c-1.1 0-2 .9-2 2v14c0 1.1.9 2 2 2h14c1.1 0 2-.9 2-2V5c0-1.1-.9-2-2-2zM9 17H7v-7h2v7zm4 0h-2V7h2v10zm4 0h-2v-4h2v4z\"/>\n",
              "    </g>\n",
              "</svg>\n",
              "  </button>\n",
              "\n",
              "<style>\n",
              "  .colab-df-quickchart {\n",
              "      --bg-color: #E8F0FE;\n",
              "      --fill-color: #1967D2;\n",
              "      --hover-bg-color: #E2EBFA;\n",
              "      --hover-fill-color: #174EA6;\n",
              "      --disabled-fill-color: #AAA;\n",
              "      --disabled-bg-color: #DDD;\n",
              "  }\n",
              "\n",
              "  [theme=dark] .colab-df-quickchart {\n",
              "      --bg-color: #3B4455;\n",
              "      --fill-color: #D2E3FC;\n",
              "      --hover-bg-color: #434B5C;\n",
              "      --hover-fill-color: #FFFFFF;\n",
              "      --disabled-bg-color: #3B4455;\n",
              "      --disabled-fill-color: #666;\n",
              "  }\n",
              "\n",
              "  .colab-df-quickchart {\n",
              "    background-color: var(--bg-color);\n",
              "    border: none;\n",
              "    border-radius: 50%;\n",
              "    cursor: pointer;\n",
              "    display: none;\n",
              "    fill: var(--fill-color);\n",
              "    height: 32px;\n",
              "    padding: 0;\n",
              "    width: 32px;\n",
              "  }\n",
              "\n",
              "  .colab-df-quickchart:hover {\n",
              "    background-color: var(--hover-bg-color);\n",
              "    box-shadow: 0 1px 2px rgba(60, 64, 67, 0.3), 0 1px 3px 1px rgba(60, 64, 67, 0.15);\n",
              "    fill: var(--button-hover-fill-color);\n",
              "  }\n",
              "\n",
              "  .colab-df-quickchart-complete:disabled,\n",
              "  .colab-df-quickchart-complete:disabled:hover {\n",
              "    background-color: var(--disabled-bg-color);\n",
              "    fill: var(--disabled-fill-color);\n",
              "    box-shadow: none;\n",
              "  }\n",
              "\n",
              "  .colab-df-spinner {\n",
              "    border: 2px solid var(--fill-color);\n",
              "    border-color: transparent;\n",
              "    border-bottom-color: var(--fill-color);\n",
              "    animation:\n",
              "      spin 1s steps(1) infinite;\n",
              "  }\n",
              "\n",
              "  @keyframes spin {\n",
              "    0% {\n",
              "      border-color: transparent;\n",
              "      border-bottom-color: var(--fill-color);\n",
              "      border-left-color: var(--fill-color);\n",
              "    }\n",
              "    20% {\n",
              "      border-color: transparent;\n",
              "      border-left-color: var(--fill-color);\n",
              "      border-top-color: var(--fill-color);\n",
              "    }\n",
              "    30% {\n",
              "      border-color: transparent;\n",
              "      border-left-color: var(--fill-color);\n",
              "      border-top-color: var(--fill-color);\n",
              "      border-right-color: var(--fill-color);\n",
              "    }\n",
              "    40% {\n",
              "      border-color: transparent;\n",
              "      border-right-color: var(--fill-color);\n",
              "      border-top-color: var(--fill-color);\n",
              "    }\n",
              "    60% {\n",
              "      border-color: transparent;\n",
              "      border-right-color: var(--fill-color);\n",
              "    }\n",
              "    80% {\n",
              "      border-color: transparent;\n",
              "      border-right-color: var(--fill-color);\n",
              "      border-bottom-color: var(--fill-color);\n",
              "    }\n",
              "    90% {\n",
              "      border-color: transparent;\n",
              "      border-bottom-color: var(--fill-color);\n",
              "    }\n",
              "  }\n",
              "</style>\n",
              "\n",
              "  <script>\n",
              "    async function quickchart(key) {\n",
              "      const quickchartButtonEl =\n",
              "        document.querySelector('#' + key + ' button');\n",
              "      quickchartButtonEl.disabled = true;  // To prevent multiple clicks.\n",
              "      quickchartButtonEl.classList.add('colab-df-spinner');\n",
              "      try {\n",
              "        const charts = await google.colab.kernel.invokeFunction(\n",
              "            'suggestCharts', [key], {});\n",
              "      } catch (error) {\n",
              "        console.error('Error during call to suggestCharts:', error);\n",
              "      }\n",
              "      quickchartButtonEl.classList.remove('colab-df-spinner');\n",
              "      quickchartButtonEl.classList.add('colab-df-quickchart-complete');\n",
              "    }\n",
              "    (() => {\n",
              "      let quickchartButtonEl =\n",
              "        document.querySelector('#df-4844c2b6-4d85-4dbb-a451-9d8bef2e4e00 button');\n",
              "      quickchartButtonEl.style.display =\n",
              "        google.colab.kernel.accessAllowed ? 'block' : 'none';\n",
              "    })();\n",
              "  </script>\n",
              "</div>\n",
              "\n",
              "    </div>\n",
              "  </div>\n"
            ],
            "application/vnd.google.colaboratory.intrinsic+json": {
              "type": "dataframe",
              "variable_name": "df"
            }
          },
          "metadata": {},
          "execution_count": 5
        }
      ]
    },
    {
      "cell_type": "code",
      "source": [
        "fig, axes = plt.subplots(4, 4, figsize=(10, 10))\n",
        "fig.suptitle(\"First 15 images\", fontsize=10)\n",
        "\n",
        "for i, ax in enumerate(axes.flat):\n",
        "  img = df.iloc[i, 1:].values.reshape(28, 28) # reshape to 28x28\n",
        "  ax.imshow(img) # display in grayscale\n",
        "  ax.axis('off') # remove axis for a cleaner look\n",
        "  ax.set_title(f'label: {df.iloc[i,0]}') # show the lable\n",
        "\n",
        "plt.tight_layout()\n",
        "plt.show()"
      ],
      "metadata": {
        "colab": {
          "base_uri": "https://localhost:8080/",
          "height": 1000
        },
        "id": "E8aQSxWKJlAn",
        "outputId": "e205325f-bde7-4e55-87bb-1f520bd73fbc"
      },
      "execution_count": 7,
      "outputs": [
        {
          "output_type": "display_data",
          "data": {
            "text/plain": [
              "<Figure size 1000x1000 with 16 Axes>"
            ],
            "image/png": "[encoded data removed]"
          },
          "metadata": {}
        }
      ]
    },
    {
      "cell_type": "code",
      "source": [
        "# For cpu only\n",
        "X = df.iloc[:6000, 1:].values\n",
        "y = df.iloc[:6000, 0].values"
      ],
      "metadata": {
        "id": "Zv7YLiu4Kkzj"
      },
      "execution_count": 10,
      "outputs": []
    },
    {
      "cell_type": "code",
      "source": [
        "# For gpu only\n",
        "X = df.iloc[:, 1:].values\n",
        "y = df.iloc[:, 0].values"
      ],
      "metadata": {
        "id": "znSh5lG0RFGK"
      },
      "execution_count": 8,
      "outputs": []
    },
    {
      "cell_type": "code",
      "source": [
        "X_train, X_test, y_train, y_test = train_test_split(X, y, test_size=0.2, random_state=42)"
      ],
      "metadata": {
        "id": "yGTvWB7QLGSq"
      },
      "execution_count": 9,
      "outputs": []
    },
    {
      "cell_type": "code",
      "source": [
        "# scaling features:\n",
        "X_train = X_train/255.0\n",
        "X_test = X_test/255.0"
      ],
      "metadata": {
        "id": "jaz_ryO_LdTj"
      },
      "execution_count": 10,
      "outputs": []
    },
    {
      "cell_type": "code",
      "source": [
        "# create CustomDataset Class\n",
        "\n",
        "class CustomDataset(Dataset):\n",
        "\n",
        "  def __init__(self, features, labels):\n",
        "    self.features = torch.tensor(features, dtype=torch.float32)\n",
        "    self.labels = torch.tensor(labels, dtype=torch.long) # torch wants labels in long dtype\n",
        "\n",
        "  def __len__(self):\n",
        "    return len(self.features)\n",
        "\n",
        "  def __getitem__(self, index):\n",
        "    return self.features[index], self.labels[index]"
      ],
      "metadata": {
        "id": "uk_OlZgSLnEN"
      },
      "execution_count": 11,
      "outputs": []
    },
    {
      "cell_type": "code",
      "source": [
        "# create train_dataset object\n",
        "train_dataset = CustomDataset(X_train, y_train)"
      ],
      "metadata": {
        "id": "ckPusvL6MLTw"
      },
      "execution_count": 12,
      "outputs": []
    },
    {
      "cell_type": "code",
      "source": [
        "test_dataset = CustomDataset(X_test, y_test)\n"
      ],
      "metadata": {
        "id": "Q7Brpt_2MTZF"
      },
      "execution_count": 13,
      "outputs": []
    },
    {
      "cell_type": "markdown",
      "source": [
        "Use `pin_memory = True` for huge datasets\n",
        "\n",
        "\n",
        "`train_loader = DataLoader(train_dataset, batch_size = 32, shuffle=True, pin_memory=True)`\n",
        "\n",
        "`test_loader =  DataLoader(test_dataset, batch_size=32, shuffle=False, pin_memory=True)`"
      ],
      "metadata": {
        "id": "xRDFoLfRSClQ"
      }
    },
    {
      "cell_type": "code",
      "source": [
        "train_loader = DataLoader(train_dataset, batch_size = 32, shuffle=True)\n",
        "test_loader =  DataLoader(test_dataset, batch_size=32, shuffle=False) # False bcuz we don't want data being shuffled during preds\n",
        "# if true acc and stuff might be affected"
      ],
      "metadata": {
        "id": "J7XISanHMWI5"
      },
      "execution_count": 14,
      "outputs": []
    },
    {
      "cell_type": "code",
      "source": [
        "# define NN class\n",
        "\n",
        "class MyNN(nn.Module):\n",
        "\n",
        "  def __init__(self, num_features):\n",
        "    super().__init__()\n",
        "    self.model = nn.Sequential(\n",
        "        nn.Linear(num_features, 128),\n",
        "        nn.ReLU(),\n",
        "        nn.Linear(128, 64),\n",
        "        nn.ReLU(),\n",
        "        nn.Linear(64, 10)\n",
        "    )\n",
        "\n",
        "  def forward(self, x):\n",
        "    return self.model(x)"
      ],
      "metadata": {
        "id": "JlXab7MqM8fM"
      },
      "execution_count": 15,
      "outputs": []
    },
    {
      "cell_type": "code",
      "source": [
        "# Set learning rate and epochs\n",
        "epochs = 100\n",
        "learning_rate = 0.1"
      ],
      "metadata": {
        "id": "0UNj-a6FNnDS"
      },
      "execution_count": 16,
      "outputs": []
    },
    {
      "cell_type": "code",
      "source": [
        "# instantiate model\n",
        "model = MyNN(X_train.shape[1])\n",
        "model = model.to(device) # moving to gpu\n",
        "# loss func\n",
        "criterion = nn.CrossEntropyLoss()\n",
        "\n",
        "# optimizer\n",
        "optimizer = optim.SGD(model.parameters(), lr=learning_rate)"
      ],
      "metadata": {
        "id": "7snHka62NuVj"
      },
      "execution_count": 17,
      "outputs": []
    },
    {
      "cell_type": "code",
      "source": [
        "# training loop\n",
        "\n",
        "for epoch in range(epochs):\n",
        "\n",
        "  total_epoch_loss = 0\n",
        "  for batch_features, batch_labels in train_loader:\n",
        "\n",
        "    # move data to gpu\n",
        "    batch_features, batch_labels = batch_features.to(device), batch_labels.to(device)\n",
        "\n",
        "    # forward pass\n",
        "    outputs = model(batch_features)\n",
        "\n",
        "    # calc loss\n",
        "    loss = criterion(outputs, batch_labels)\n",
        "\n",
        "    optimizer.zero_grad()\n",
        "\n",
        "    #back pass\n",
        "    loss.backward()\n",
        "\n",
        "    #update parameters\n",
        "    optimizer.step()\n",
        "\n",
        "    total_epoch_loss= total_epoch_loss + loss.item()\n",
        "\n",
        "  avg_loss = total_epoch_loss / len(train_loader)\n",
        "  print(f\"Epoch {epoch+1}, Loss: {avg_loss:.4f}\")"
      ],
      "metadata": {
        "colab": {
          "base_uri": "https://localhost:8080/"
        },
        "id": "PZO1gf5IOBiK",
        "outputId": "c91e5a4c-eb49-46ee-fe6a-cd3b8e3b885e"
      },
      "execution_count": 18,
      "outputs": [
        {
          "output_type": "stream",
          "name": "stdout",
          "text": [
            "Epoch 1, Loss: 0.6353\n",
            "Epoch 2, Loss: 0.4305\n",
            "Epoch 3, Loss: 0.3861\n",
            "Epoch 4, Loss: 0.3585\n",
            "Epoch 5, Loss: 0.3376\n",
            "Epoch 6, Loss: 0.3228\n",
            "Epoch 7, Loss: 0.3079\n",
            "Epoch 8, Loss: 0.2950\n",
            "Epoch 9, Loss: 0.2855\n",
            "Epoch 10, Loss: 0.2747\n",
            "Epoch 11, Loss: 0.2683\n",
            "Epoch 12, Loss: 0.2581\n",
            "Epoch 13, Loss: 0.2494\n",
            "Epoch 14, Loss: 0.2444\n",
            "Epoch 15, Loss: 0.2386\n",
            "Epoch 16, Loss: 0.2316\n",
            "Epoch 17, Loss: 0.2256\n",
            "Epoch 18, Loss: 0.2203\n",
            "Epoch 19, Loss: 0.2121\n",
            "Epoch 20, Loss: 0.2096\n",
            "Epoch 21, Loss: 0.2062\n",
            "Epoch 22, Loss: 0.1999\n",
            "Epoch 23, Loss: 0.1953\n",
            "Epoch 24, Loss: 0.1931\n",
            "Epoch 25, Loss: 0.1876\n",
            "Epoch 26, Loss: 0.1837\n",
            "Epoch 27, Loss: 0.1802\n",
            "Epoch 28, Loss: 0.1733\n",
            "Epoch 29, Loss: 0.1705\n",
            "Epoch 30, Loss: 0.1704\n",
            "Epoch 31, Loss: 0.1670\n",
            "Epoch 32, Loss: 0.1637\n",
            "Epoch 33, Loss: 0.1623\n",
            "Epoch 34, Loss: 0.1572\n",
            "Epoch 35, Loss: 0.1545\n",
            "Epoch 36, Loss: 0.1546\n",
            "Epoch 37, Loss: 0.1462\n",
            "Epoch 38, Loss: 0.1424\n",
            "Epoch 39, Loss: 0.1414\n",
            "Epoch 40, Loss: 0.1423\n",
            "Epoch 41, Loss: 0.1376\n",
            "Epoch 42, Loss: 0.1390\n",
            "Epoch 43, Loss: 0.1354\n",
            "Epoch 44, Loss: 0.1288\n",
            "Epoch 45, Loss: 0.1296\n",
            "Epoch 46, Loss: 0.1275\n",
            "Epoch 47, Loss: 0.1241\n",
            "Epoch 48, Loss: 0.1207\n",
            "Epoch 49, Loss: 0.1156\n",
            "Epoch 50, Loss: 0.1197\n",
            "Epoch 51, Loss: 0.1124\n",
            "Epoch 52, Loss: 0.1131\n",
            "Epoch 53, Loss: 0.1144\n",
            "Epoch 54, Loss: 0.1112\n",
            "Epoch 55, Loss: 0.1152\n",
            "Epoch 56, Loss: 0.1083\n",
            "Epoch 57, Loss: 0.1076\n",
            "Epoch 58, Loss: 0.1066\n",
            "Epoch 59, Loss: 0.1035\n",
            "Epoch 60, Loss: 0.0992\n",
            "Epoch 61, Loss: 0.0993\n",
            "Epoch 62, Loss: 0.0994\n",
            "Epoch 63, Loss: 0.0960\n",
            "Epoch 64, Loss: 0.0953\n",
            "Epoch 65, Loss: 0.0981\n",
            "Epoch 66, Loss: 0.0981\n",
            "Epoch 67, Loss: 0.0902\n",
            "Epoch 68, Loss: 0.0904\n",
            "Epoch 69, Loss: 0.0899\n",
            "Epoch 70, Loss: 0.0894\n",
            "Epoch 71, Loss: 0.0902\n",
            "Epoch 72, Loss: 0.0849\n",
            "Epoch 73, Loss: 0.0844\n",
            "Epoch 74, Loss: 0.0804\n",
            "Epoch 75, Loss: 0.0800\n",
            "Epoch 76, Loss: 0.0793\n",
            "Epoch 77, Loss: 0.0837\n",
            "Epoch 78, Loss: 0.0801\n",
            "Epoch 79, Loss: 0.0784\n",
            "Epoch 80, Loss: 0.0773\n",
            "Epoch 81, Loss: 0.0725\n",
            "Epoch 82, Loss: 0.0772\n",
            "Epoch 83, Loss: 0.0785\n",
            "Epoch 84, Loss: 0.0688\n",
            "Epoch 85, Loss: 0.0812\n",
            "Epoch 86, Loss: 0.0777\n",
            "Epoch 87, Loss: 0.0679\n",
            "Epoch 88, Loss: 0.0667\n",
            "Epoch 89, Loss: 0.0680\n",
            "Epoch 90, Loss: 0.0712\n",
            "Epoch 91, Loss: 0.0677\n",
            "Epoch 92, Loss: 0.0696\n",
            "Epoch 93, Loss: 0.0617\n",
            "Epoch 94, Loss: 0.0641\n",
            "Epoch 95, Loss: 0.0606\n",
            "Epoch 96, Loss: 0.0573\n",
            "Epoch 97, Loss: 0.0584\n",
            "Epoch 98, Loss: 0.0635\n",
            "Epoch 99, Loss: 0.0552\n",
            "Epoch 100, Loss: 0.0621\n"
          ]
        }
      ]
    },
    {
      "cell_type": "code",
      "source": [
        "# set model to eval mode\n",
        "model.eval()"
      ],
      "metadata": {
        "colab": {
          "base_uri": "https://localhost:8080/"
        },
        "id": "ZBiZdgq4O6qh",
        "outputId": "fecb647f-db36-4b0f-e32e-a07ee2b7467a"
      },
      "execution_count": 19,
      "outputs": [
        {
          "output_type": "execute_result",
          "data": {
            "text/plain": [
              "MyNN(\n",
              "  (model): Sequential(\n",
              "    (0): Linear(in_features=784, out_features=128, bias=True)\n",
              "    (1): ReLU()\n",
              "    (2): Linear(in_features=128, out_features=64, bias=True)\n",
              "    (3): ReLU()\n",
              "    (4): Linear(in_features=64, out_features=10, bias=True)\n",
              "  )\n",
              ")"
            ]
          },
          "metadata": {},
          "execution_count": 19
        }
      ]
    },
    {
      "cell_type": "code",
      "source": [
        "# evaluation code\n",
        "total = 0\n",
        "correct = 0\n",
        "\n",
        "with torch.no_grad():\n",
        "  for batch_features, batch_labels in test_loader:\n",
        "\n",
        "    # move data to gpu\n",
        "    batch_features, batch_labels = batch_features.to(device), batch_labels.to(device)\n",
        "\n",
        "    outputs = model(batch_features)\n",
        "\n",
        "    # extract labels\n",
        "    _, predicted = torch.max(outputs, 1)\n",
        "    total += batch_labels.shape[0]\n",
        "    correct += (predicted == batch_labels).sum().item()\n",
        "\n",
        "\n",
        "print(correct/total)"
      ],
      "metadata": {
        "colab": {
          "base_uri": "https://localhost:8080/"
        },
        "id": "hs-ADmX7PP4F",
        "outputId": "1cfa7778-6078-4a6b-e912-74c2538dbdcc"
      },
      "execution_count": 20,
      "outputs": [
        {
          "output_type": "stream",
          "name": "stdout",
          "text": [
            "0.8898333333333334\n"
          ]
        }
      ]
    },
    {
      "cell_type": "markdown",
      "source": [
        "A bit improvement in accuracy (cpu=0.86, gpu=0.89)"
      ],
      "metadata": {
        "id": "ACU68GQmSxL-"
      }
    },
    {
      "cell_type": "code",
      "source": [
        "# evaluation code on training data\n",
        "total = 0\n",
        "correct = 0\n",
        "\n",
        "with torch.no_grad():\n",
        "  for batch_features, batch_labels in train_loader:\n",
        "\n",
        "    # move data to gpu\n",
        "    batch_features, batch_labels = batch_features.to(device), batch_labels.to(device)\n",
        "\n",
        "    outputs = model(batch_features)\n",
        "\n",
        "    # extract labels\n",
        "    _, predicted = torch.max(outputs, 1)\n",
        "    total += batch_labels.shape[0]\n",
        "    correct += (predicted == batch_labels).sum().item()\n",
        "\n",
        "\n",
        "print(correct/total)"
      ],
      "metadata": {
        "colab": {
          "base_uri": "https://localhost:8080/"
        },
        "id": "7jG4uJMVQKUY",
        "outputId": "12b496c4-89c8-4aa3-a26b-72840c214be1"
      },
      "execution_count": 21,
      "outputs": [
        {
          "output_type": "stream",
          "name": "stdout",
          "text": [
            "0.9824791666666667\n"
          ]
        }
      ]
    },
    {
      "cell_type": "markdown",
      "source": [
        "# Model is overfitting\n",
        "Solutions:\n",
        "* add more data\n",
        "* reducing complexity of NN arch\n",
        "* regularisation\n",
        "* dropouts\n",
        "* data augmentation\n",
        "* batch normalisation\n",
        "* early stopping\n",
        "\n",
        "### Here can't do 1, 2 (already simple arch), 5 is good for CNNs, 6 is good to training stabilisation\n",
        "we'll try 3, 4, 6"
      ],
      "metadata": {
        "id": "iQvs8dneTO4a"
      }
    },
    {
      "cell_type": "code",
      "source": [
        "# applying dropouts:\n",
        "\n",
        "class MyNNwithdropout(nn.Module):\n",
        "\n",
        "  def __init__(self, num_features):\n",
        "    super().__init__()\n",
        "    self.model = nn.Sequential(\n",
        "        nn.Linear(num_features, 128),\n",
        "        nn.ReLU(),\n",
        "        nn.Dropout(p=0.3), # p: percentage of neurons to turn off\n",
        "        nn.Linear(128, 64),\n",
        "        nn.ReLU(),\n",
        "        nn.Dropout(p=0.3),\n",
        "        nn.Linear(64, 10)\n",
        "    )\n",
        "\n",
        "  def forward(self, x):\n",
        "    return self.model(x)"
      ],
      "metadata": {
        "id": "PJIhnbtoTZVY"
      },
      "execution_count": 23,
      "outputs": []
    },
    {
      "cell_type": "markdown",
      "source": [
        "Batch Normalisation:\n",
        "* applied to hidden layers\n",
        "* applied after linear layer before activation layer\n",
        "* normalise activations\n",
        "* learnable parameters: gamma (scaling) and beta (shifting)\n",
        "* improves training stability\n",
        "* regularisation effect\n",
        "* consistent during evaluation"
      ],
      "metadata": {
        "id": "RhJiTnh6XyEG"
      }
    },
    {
      "cell_type": "code",
      "source": [
        "# batch norm\n",
        "# applying dropouts:\n",
        "\n",
        "class MyNNwithdropout(nn.Module):\n",
        "\n",
        "  def __init__(self, num_features):\n",
        "    super().__init__()\n",
        "    self.model = nn.Sequential(\n",
        "        nn.Linear(num_features, 128),\n",
        "        nn.BatchNorm1d(128),\n",
        "        nn.ReLU(),\n",
        "        nn.Dropout(p=0.3), # p: percentage of neurons to turn off\n",
        "        nn.Linear(128, 64),\n",
        "        nn.BatchNorm1d(64),\n",
        "        nn.ReLU(),\n",
        "        nn.Dropout(p=0.3),\n",
        "        nn.Linear(64, 10)\n",
        "    )\n",
        "\n",
        "  def forward(self, x):\n",
        "    return self.model(x)"
      ],
      "metadata": {
        "id": "VNatVMCoXeT-"
      },
      "execution_count": null,
      "outputs": []
    },
    {
      "cell_type": "code",
      "source": [
        "# instantiate model with L2 regularisation\n",
        "model = MyNNwithdropout(X_train.shape[1])\n",
        "model = model.to(device) # moving to gpu\n",
        "# loss func\n",
        "criterion = nn.CrossEntropyLoss()\n",
        "\n",
        "# optimizer\n",
        "optimizer = optim.SGD(model.parameters(), lr=learning_rate, weight_decay=1e-4) # weigh_decay: lamda for reg"
      ],
      "metadata": {
        "id": "PYex5SqVY6mR"
      },
      "execution_count": 24,
      "outputs": []
    },
    {
      "cell_type": "code",
      "source": [
        "# training loop\n",
        "\n",
        "for epoch in range(epochs):\n",
        "\n",
        "  total_epoch_loss = 0\n",
        "  for batch_features, batch_labels in train_loader:\n",
        "\n",
        "    # move data to gpu\n",
        "    batch_features, batch_labels = batch_features.to(device), batch_labels.to(device)\n",
        "\n",
        "    # forward pass\n",
        "    outputs = model(batch_features)\n",
        "\n",
        "    # calc loss\n",
        "    loss = criterion(outputs, batch_labels)\n",
        "\n",
        "    optimizer.zero_grad()\n",
        "\n",
        "    #back pass\n",
        "    loss.backward()\n",
        "\n",
        "    #update parameters\n",
        "    optimizer.step()\n",
        "\n",
        "    total_epoch_loss= total_epoch_loss + loss.item()\n",
        "\n",
        "  avg_loss = total_epoch_loss / len(train_loader)\n",
        "  print(f\"Epoch {epoch+1}, Loss: {avg_loss:.4f}\")"
      ],
      "metadata": {
        "id": "Vbph-0giZHi-",
        "outputId": "cf9c7fcb-4b8d-4698-f4de-d8df609927d3",
        "colab": {
          "base_uri": "https://localhost:8080/"
        }
      },
      "execution_count": 25,
      "outputs": [
        {
          "output_type": "stream",
          "name": "stdout",
          "text": [
            "Epoch 1, Loss: 0.7489\n",
            "Epoch 2, Loss: 0.5196\n",
            "Epoch 3, Loss: 0.4702\n",
            "Epoch 4, Loss: 0.4441\n",
            "Epoch 5, Loss: 0.4253\n",
            "Epoch 6, Loss: 0.4084\n",
            "Epoch 7, Loss: 0.3977\n",
            "Epoch 8, Loss: 0.3879\n",
            "Epoch 9, Loss: 0.3756\n",
            "Epoch 10, Loss: 0.3710\n",
            "Epoch 11, Loss: 0.3640\n",
            "Epoch 12, Loss: 0.3613\n",
            "Epoch 13, Loss: 0.3526\n",
            "Epoch 14, Loss: 0.3474\n",
            "Epoch 15, Loss: 0.3465\n",
            "Epoch 16, Loss: 0.3440\n",
            "Epoch 17, Loss: 0.3373\n",
            "Epoch 18, Loss: 0.3332\n",
            "Epoch 19, Loss: 0.3307\n",
            "Epoch 20, Loss: 0.3293\n",
            "Epoch 21, Loss: 0.3255\n",
            "Epoch 22, Loss: 0.3214\n",
            "Epoch 23, Loss: 0.3232\n",
            "Epoch 24, Loss: 0.3134\n",
            "Epoch 25, Loss: 0.3167\n",
            "Epoch 26, Loss: 0.3122\n",
            "Epoch 27, Loss: 0.3111\n",
            "Epoch 28, Loss: 0.3115\n",
            "Epoch 29, Loss: 0.3061\n",
            "Epoch 30, Loss: 0.3070\n",
            "Epoch 31, Loss: 0.3033\n",
            "Epoch 32, Loss: 0.3019\n",
            "Epoch 33, Loss: 0.3034\n",
            "Epoch 34, Loss: 0.2975\n",
            "Epoch 35, Loss: 0.2954\n",
            "Epoch 36, Loss: 0.2972\n",
            "Epoch 37, Loss: 0.2935\n",
            "Epoch 38, Loss: 0.2938\n",
            "Epoch 39, Loss: 0.2923\n",
            "Epoch 40, Loss: 0.2922\n",
            "Epoch 41, Loss: 0.2949\n",
            "Epoch 42, Loss: 0.2896\n",
            "Epoch 43, Loss: 0.2861\n",
            "Epoch 44, Loss: 0.2876\n",
            "Epoch 45, Loss: 0.2863\n",
            "Epoch 46, Loss: 0.2862\n",
            "Epoch 47, Loss: 0.2834\n",
            "Epoch 48, Loss: 0.2795\n",
            "Epoch 49, Loss: 0.2837\n",
            "Epoch 50, Loss: 0.2795\n",
            "Epoch 51, Loss: 0.2809\n",
            "Epoch 52, Loss: 0.2786\n",
            "Epoch 53, Loss: 0.2795\n",
            "Epoch 54, Loss: 0.2800\n",
            "Epoch 55, Loss: 0.2780\n",
            "Epoch 56, Loss: 0.2793\n",
            "Epoch 57, Loss: 0.2722\n",
            "Epoch 58, Loss: 0.2749\n",
            "Epoch 59, Loss: 0.2774\n",
            "Epoch 60, Loss: 0.2734\n",
            "Epoch 61, Loss: 0.2732\n",
            "Epoch 62, Loss: 0.2706\n",
            "Epoch 63, Loss: 0.2693\n",
            "Epoch 64, Loss: 0.2762\n",
            "Epoch 65, Loss: 0.2705\n",
            "Epoch 66, Loss: 0.2681\n",
            "Epoch 67, Loss: 0.2701\n",
            "Epoch 68, Loss: 0.2657\n",
            "Epoch 69, Loss: 0.2688\n",
            "Epoch 70, Loss: 0.2669\n",
            "Epoch 71, Loss: 0.2650\n",
            "Epoch 72, Loss: 0.2667\n",
            "Epoch 73, Loss: 0.2649\n",
            "Epoch 74, Loss: 0.2649\n",
            "Epoch 75, Loss: 0.2671\n",
            "Epoch 76, Loss: 0.2662\n",
            "Epoch 77, Loss: 0.2627\n",
            "Epoch 78, Loss: 0.2625\n",
            "Epoch 79, Loss: 0.2611\n",
            "Epoch 80, Loss: 0.2633\n",
            "Epoch 81, Loss: 0.2599\n",
            "Epoch 82, Loss: 0.2599\n",
            "Epoch 83, Loss: 0.2606\n",
            "Epoch 84, Loss: 0.2590\n",
            "Epoch 85, Loss: 0.2589\n",
            "Epoch 86, Loss: 0.2573\n",
            "Epoch 87, Loss: 0.2606\n",
            "Epoch 88, Loss: 0.2609\n",
            "Epoch 89, Loss: 0.2577\n",
            "Epoch 90, Loss: 0.2566\n",
            "Epoch 91, Loss: 0.2585\n",
            "Epoch 92, Loss: 0.2596\n",
            "Epoch 93, Loss: 0.2574\n",
            "Epoch 94, Loss: 0.2561\n",
            "Epoch 95, Loss: 0.2578\n",
            "Epoch 96, Loss: 0.2584\n",
            "Epoch 97, Loss: 0.2528\n",
            "Epoch 98, Loss: 0.2524\n",
            "Epoch 99, Loss: 0.2553\n",
            "Epoch 100, Loss: 0.2540\n"
          ]
        }
      ]
    },
    {
      "cell_type": "code",
      "source": [
        "# evaluation code\n",
        "model.eval()\n",
        "\n",
        "total = 0\n",
        "correct = 0\n",
        "\n",
        "with torch.no_grad():\n",
        "  for batch_features, batch_labels in test_loader:\n",
        "\n",
        "    # move data to gpu\n",
        "    batch_features, batch_labels = batch_features.to(device), batch_labels.to(device)\n",
        "\n",
        "    outputs = model(batch_features)\n",
        "\n",
        "    # extract labels\n",
        "    _, predicted = torch.max(outputs, 1)\n",
        "    total += batch_labels.shape[0]\n",
        "    correct += (predicted == batch_labels).sum().item()\n",
        "\n",
        "\n",
        "print(correct/total)"
      ],
      "metadata": {
        "id": "1ury7WaFZPNm",
        "outputId": "4ab35b7a-43ea-47c1-d343-cf425d9cbfd6",
        "colab": {
          "base_uri": "https://localhost:8080/"
        }
      },
      "execution_count": 26,
      "outputs": [
        {
          "output_type": "stream",
          "name": "stdout",
          "text": [
            "0.8898333333333334\n"
          ]
        }
      ]
    },
    {
      "cell_type": "code",
      "source": [
        "# evaluation code\n",
        "model.eval()\n",
        "\n",
        "total = 0\n",
        "correct = 0\n",
        "\n",
        "with torch.no_grad():\n",
        "  for batch_features, batch_labels in train_loader:\n",
        "\n",
        "    # move data to gpu\n",
        "    batch_features, batch_labels = batch_features.to(device), batch_labels.to(device)\n",
        "\n",
        "    outputs = model(batch_features)\n",
        "\n",
        "    # extract labels\n",
        "    _, predicted = torch.max(outputs, 1)\n",
        "    total += batch_labels.shape[0]\n",
        "    correct += (predicted == batch_labels).sum().item()\n",
        "\n",
        "\n",
        "print(correct/total)"
      ],
      "metadata": {
        "id": "vD7UN5IuaPof",
        "outputId": "99c482de-446e-4298-dcbd-481a71d9b360",
        "colab": {
          "base_uri": "https://localhost:8080/"
        }
      },
      "execution_count": 27,
      "outputs": [
        {
          "output_type": "stream",
          "name": "stdout",
          "text": [
            "0.9341041666666666\n"
          ]
        }
      ]
    },
    {
      "cell_type": "markdown",
      "source": [
        "Dropped acc in training data, in a way reduced the diff of acc in train and test preds from before"
      ],
      "metadata": {
        "id": "VyAKSznFaV83"
      }
    },
    {
      "cell_type": "code",
      "source": [],
      "metadata": {
        "id": "zjf3e5-laUW8"
      },
      "execution_count": null,
      "outputs": []
    }
  ]
}