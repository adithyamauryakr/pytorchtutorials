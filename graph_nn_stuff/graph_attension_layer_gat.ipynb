{
  "cells": [
    {
      "cell_type": "markdown",
      "metadata": {
        "id": "view-in-github",
        "colab_type": "text"
      },
      "source": [
        "<a href=\"https://colab.research.google.com/github/adithyamauryakr/pytorchtutorials/blob/main/graph_nn_stuff/graph_attension_layer_gat.ipynb\" target=\"_parent\"><img src=\"https://colab.research.google.com/assets/colab-badge.svg\" alt=\"Open In Colab\"/></a>"
      ]
    },
    {
      "cell_type": "code",
      "execution_count": 3,
      "id": "6d142c98",
      "metadata": {
        "id": "6d142c98",
        "outputId": "6f70c3be-3318-4882-f5df-5cebd6be4858",
        "colab": {
          "base_uri": "https://localhost:8080/"
        }
      },
      "outputs": [
        {
          "output_type": "stream",
          "name": "stdout",
          "text": [
            "Collecting torch_geometric\n",
            "  Downloading torch_geometric-2.6.1-py3-none-any.whl.metadata (63 kB)\n",
            "\u001b[?25l     \u001b[90m━━━━━━━━━━━━━━━━━━━━━━━━━━━━━━━━━━━━━━━━\u001b[0m \u001b[32m0.0/63.1 kB\u001b[0m \u001b[31m?\u001b[0m eta \u001b[36m-:--:--\u001b[0m\r\u001b[2K     \u001b[91m━━━━━━━━━━━━━━━━━━━━━━━━━━━━━━━━━━━━━━\u001b[0m\u001b[91m╸\u001b[0m\u001b[90m━\u001b[0m \u001b[32m61.4/63.1 kB\u001b[0m \u001b[31m2.7 MB/s\u001b[0m eta \u001b[36m0:00:01\u001b[0m\r\u001b[2K     \u001b[90m━━━━━━━━━━━━━━━━━━━━━━━━━━━━━━━━━━━━━━━━\u001b[0m \u001b[32m63.1/63.1 kB\u001b[0m \u001b[31m1.4 MB/s\u001b[0m eta \u001b[36m0:00:00\u001b[0m\n",
            "\u001b[?25hRequirement already satisfied: aiohttp in /usr/local/lib/python3.11/dist-packages (from torch_geometric) (3.11.15)\n",
            "Requirement already satisfied: fsspec in /usr/local/lib/python3.11/dist-packages (from torch_geometric) (2025.3.2)\n",
            "Requirement already satisfied: jinja2 in /usr/local/lib/python3.11/dist-packages (from torch_geometric) (3.1.6)\n",
            "Requirement already satisfied: numpy in /usr/local/lib/python3.11/dist-packages (from torch_geometric) (2.0.2)\n",
            "Requirement already satisfied: psutil>=5.8.0 in /usr/local/lib/python3.11/dist-packages (from torch_geometric) (5.9.5)\n",
            "Requirement already satisfied: pyparsing in /usr/local/lib/python3.11/dist-packages (from torch_geometric) (3.2.3)\n",
            "Requirement already satisfied: requests in /usr/local/lib/python3.11/dist-packages (from torch_geometric) (2.32.3)\n",
            "Requirement already satisfied: tqdm in /usr/local/lib/python3.11/dist-packages (from torch_geometric) (4.67.1)\n",
            "Requirement already satisfied: aiohappyeyeballs>=2.3.0 in /usr/local/lib/python3.11/dist-packages (from aiohttp->torch_geometric) (2.6.1)\n",
            "Requirement already satisfied: aiosignal>=1.1.2 in /usr/local/lib/python3.11/dist-packages (from aiohttp->torch_geometric) (1.3.2)\n",
            "Requirement already satisfied: attrs>=17.3.0 in /usr/local/lib/python3.11/dist-packages (from aiohttp->torch_geometric) (25.3.0)\n",
            "Requirement already satisfied: frozenlist>=1.1.1 in /usr/local/lib/python3.11/dist-packages (from aiohttp->torch_geometric) (1.6.0)\n",
            "Requirement already satisfied: multidict<7.0,>=4.5 in /usr/local/lib/python3.11/dist-packages (from aiohttp->torch_geometric) (6.4.3)\n",
            "Requirement already satisfied: propcache>=0.2.0 in /usr/local/lib/python3.11/dist-packages (from aiohttp->torch_geometric) (0.3.1)\n",
            "Requirement already satisfied: yarl<2.0,>=1.17.0 in /usr/local/lib/python3.11/dist-packages (from aiohttp->torch_geometric) (1.20.0)\n",
            "Requirement already satisfied: MarkupSafe>=2.0 in /usr/local/lib/python3.11/dist-packages (from jinja2->torch_geometric) (3.0.2)\n",
            "Requirement already satisfied: charset-normalizer<4,>=2 in /usr/local/lib/python3.11/dist-packages (from requests->torch_geometric) (3.4.2)\n",
            "Requirement already satisfied: idna<4,>=2.5 in /usr/local/lib/python3.11/dist-packages (from requests->torch_geometric) (3.10)\n",
            "Requirement already satisfied: urllib3<3,>=1.21.1 in /usr/local/lib/python3.11/dist-packages (from requests->torch_geometric) (2.4.0)\n",
            "Requirement already satisfied: certifi>=2017.4.17 in /usr/local/lib/python3.11/dist-packages (from requests->torch_geometric) (2025.4.26)\n",
            "Downloading torch_geometric-2.6.1-py3-none-any.whl (1.1 MB)\n",
            "\u001b[2K   \u001b[90m━━━━━━━━━━━━━━━━━━━━━━━━━━━━━━━━━━━━━━━━\u001b[0m \u001b[32m1.1/1.1 MB\u001b[0m \u001b[31m15.7 MB/s\u001b[0m eta \u001b[36m0:00:00\u001b[0m\n",
            "\u001b[?25hInstalling collected packages: torch_geometric\n",
            "Successfully installed torch_geometric-2.6.1\n"
          ]
        }
      ],
      "source": [
        "!pip install torch_geometric"
      ]
    },
    {
      "cell_type": "code",
      "execution_count": 4,
      "id": "95b15dfb",
      "metadata": {
        "id": "95b15dfb"
      },
      "outputs": [],
      "source": [
        "import numpy as np\n",
        "import torch\n",
        "import torch.nn as nn\n",
        "import torch.nn.functional as F"
      ]
    },
    {
      "cell_type": "code",
      "source": [
        "class GATLayer(nn.Module):\n",
        "  def _init__(self):\n",
        "    super(GATLayer, self).__init__()\n",
        "\n",
        "  def forward(self, input, adj):\n",
        "    print(\"\")"
      ],
      "metadata": {
        "id": "Mmep6eDWimFv"
      },
      "id": "Mmep6eDWimFv",
      "execution_count": 5,
      "outputs": []
    },
    {
      "cell_type": "code",
      "source": [
        "in_features = 5\n",
        "out_features = 2\n",
        "nb_nodes = 3\n",
        "\n",
        "W = nn.Parameter(torch.zeros(size=(in_features, out_features)))\n",
        "nn.init.xavier_uniform_(W.data, gain=1.414)\n",
        "\n",
        "input = torch.rand(nb_nodes, in_features)\n",
        "\n",
        "h = torch.mm(input, W)\n",
        "N = h.size()[0]\n",
        "\n",
        "print(h.shape)"
      ],
      "metadata": {
        "id": "SBrrOlRAi8du",
        "outputId": "a15ced9c-a6d3-4a67-96a0-7a1445c5fe17",
        "colab": {
          "base_uri": "https://localhost:8080/"
        }
      },
      "id": "SBrrOlRAi8du",
      "execution_count": 5,
      "outputs": [
        {
          "output_type": "stream",
          "name": "stdout",
          "text": [
            "torch.Size([3, 2])\n"
          ]
        }
      ]
    },
    {
      "cell_type": "code",
      "source": [
        "a = nn.Parameter(torch.zeros(size=(2*out_features, 1)))\n",
        "nn.init.xavier_uniform_(a.data, gain=1.414)\n",
        "print(a.shape)\n",
        "\n",
        "leakyrelu = nn.LeakyReLU(0.2)"
      ],
      "metadata": {
        "id": "sz2ce08-jGKF",
        "outputId": "238a4fd0-1e08-478c-8348-bcc33455e958",
        "colab": {
          "base_uri": "https://localhost:8080/"
        }
      },
      "id": "sz2ce08-jGKF",
      "execution_count": 6,
      "outputs": [
        {
          "output_type": "stream",
          "name": "stdout",
          "text": [
            "torch.Size([4, 1])\n"
          ]
        }
      ]
    },
    {
      "cell_type": "code",
      "source": [
        "a_input = torch.cat([h.repeat(1, N).view(N * N, -1), h.repeat(N, 1)], dim=1).view(N, -1, 2 * out_features)"
      ],
      "metadata": {
        "id": "NtMAmf-dja2n"
      },
      "id": "NtMAmf-dja2n",
      "execution_count": 7,
      "outputs": []
    },
    {
      "cell_type": "code",
      "source": [
        "e = leakyrelu(torch.matmul(a_input, a).squeeze(2))"
      ],
      "metadata": {
        "id": "LLKstv-4jjDu"
      },
      "id": "LLKstv-4jjDu",
      "execution_count": 8,
      "outputs": []
    },
    {
      "cell_type": "code",
      "source": [
        "print(a_input.shape)\n",
        "print(a.shape)\n",
        "\n",
        "print(torch.matmul(a_input, a).shape)\n",
        "print('')\n",
        "print(torch.matmul(a_input, a).squeeze(2).shape)"
      ],
      "metadata": {
        "id": "r7mZNCCDjnu5",
        "outputId": "23822226-14de-4ac8-b1c6-350b1fcca16c",
        "colab": {
          "base_uri": "https://localhost:8080/"
        }
      },
      "id": "r7mZNCCDjnu5",
      "execution_count": 9,
      "outputs": [
        {
          "output_type": "stream",
          "name": "stdout",
          "text": [
            "torch.Size([3, 3, 4])\n",
            "torch.Size([4, 1])\n",
            "torch.Size([3, 3, 1])\n",
            "\n",
            "torch.Size([3, 3])\n"
          ]
        }
      ]
    },
    {
      "cell_type": "code",
      "source": [
        "### Masked attention:\n",
        "adj = torch.randint(2, (3, 3))\n",
        "\n",
        "zero_vec = -9e15*torch.ones_like(e)\n",
        "print(zero_vec.shape)"
      ],
      "metadata": {
        "id": "VC91kPYtjzl8",
        "outputId": "04209b4d-ac0f-4079-d213-0a352d59c1ef",
        "colab": {
          "base_uri": "https://localhost:8080/"
        }
      },
      "id": "VC91kPYtjzl8",
      "execution_count": 10,
      "outputs": [
        {
          "output_type": "stream",
          "name": "stdout",
          "text": [
            "torch.Size([3, 3])\n"
          ]
        }
      ]
    },
    {
      "cell_type": "code",
      "source": [
        "attention = torch.where(adj > 0, e, zero_vec)\n",
        "print(adj, '\\n', e, '\\n',zero_vec, attention)"
      ],
      "metadata": {
        "id": "fCgoZCk1kDwV",
        "outputId": "87519636-6136-48a5-acbd-f355699a21dc",
        "colab": {
          "base_uri": "https://localhost:8080/"
        }
      },
      "id": "fCgoZCk1kDwV",
      "execution_count": 11,
      "outputs": [
        {
          "output_type": "stream",
          "name": "stdout",
          "text": [
            "tensor([[0, 0, 1],\n",
            "        [1, 1, 1],\n",
            "        [1, 1, 1]]) \n",
            " tensor([[ 0.0411, -0.0252,  1.1363],\n",
            "        [ 0.2085,  0.0416,  1.3037],\n",
            "        [-0.1027, -0.1361,  0.5815]], grad_fn=<LeakyReluBackward0>) \n",
            " tensor([[-9.0000e+15, -9.0000e+15, -9.0000e+15],\n",
            "        [-9.0000e+15, -9.0000e+15, -9.0000e+15],\n",
            "        [-9.0000e+15, -9.0000e+15, -9.0000e+15]]) tensor([[-9.0000e+15, -9.0000e+15,  1.1363e+00],\n",
            "        [ 2.0853e-01,  4.1570e-02,  1.3037e+00],\n",
            "        [-1.0273e-01, -1.3612e-01,  5.8152e-01]], grad_fn=<WhereBackward0>)\n"
          ]
        }
      ]
    },
    {
      "cell_type": "code",
      "source": [
        "attention = F.softmax(attention, dim=1)\n",
        "h_prime = torch.matmul(attention, h)"
      ],
      "metadata": {
        "id": "Ic-mPM8pkWnm"
      },
      "id": "Ic-mPM8pkWnm",
      "execution_count": 12,
      "outputs": []
    },
    {
      "cell_type": "code",
      "source": [
        "attention"
      ],
      "metadata": {
        "id": "JjbwmKE_kidY",
        "outputId": "27563ddf-5f21-49b1-c4df-ecc03d5e5149",
        "colab": {
          "base_uri": "https://localhost:8080/"
        }
      },
      "id": "JjbwmKE_kidY",
      "execution_count": 13,
      "outputs": [
        {
          "output_type": "execute_result",
          "data": {
            "text/plain": [
              "tensor([[0.0000, 0.0000, 1.0000],\n",
              "        [0.2068, 0.1750, 0.6182],\n",
              "        [0.2532, 0.2449, 0.5019]], grad_fn=<SoftmaxBackward0>)"
            ]
          },
          "metadata": {},
          "execution_count": 13
        }
      ]
    },
    {
      "cell_type": "code",
      "source": [
        "h_prime"
      ],
      "metadata": {
        "id": "HkJYyne3kjat",
        "outputId": "05dc72b3-b661-4c8c-9d23-be6b0d9e46f7",
        "colab": {
          "base_uri": "https://localhost:8080/"
        }
      },
      "id": "HkJYyne3kjat",
      "execution_count": 14,
      "outputs": [
        {
          "output_type": "execute_result",
          "data": {
            "text/plain": [
              "tensor([[0.8808, 1.0481],\n",
              "        [0.7153, 0.6656],\n",
              "        [0.6694, 0.5488]], grad_fn=<MmBackward0>)"
            ]
          },
          "metadata": {},
          "execution_count": 14
        }
      ]
    },
    {
      "cell_type": "code",
      "source": [
        "print(h_prime, '\\n', h)"
      ],
      "metadata": {
        "id": "5Eblmd3qkkCV",
        "outputId": "73c1eaab-dca6-4c04-9841-9259d17d7701",
        "colab": {
          "base_uri": "https://localhost:8080/"
        }
      },
      "id": "5Eblmd3qkkCV",
      "execution_count": 15,
      "outputs": [
        {
          "output_type": "stream",
          "name": "stdout",
          "text": [
            "tensor([[0.8808, 1.0481],\n",
            "        [0.7153, 0.6656],\n",
            "        [0.6694, 0.5488]], grad_fn=<MmBackward0>) \n",
            " tensor([[0.3235, 0.0550],\n",
            "        [0.5939, 0.0361],\n",
            "        [0.8808, 1.0481]], grad_fn=<MmBackward0>)\n"
          ]
        }
      ]
    },
    {
      "cell_type": "code",
      "source": [
        "from torch_geometric.data import Data\n",
        "from torch_geometric.nn import GATConv\n",
        "from torch_geometric.datasets import Planetoid\n",
        "import torch_geometric.transforms as T\n",
        "\n",
        "import matplotlib.pyplot as plt\n",
        "\n",
        "name_data = 'Cora'\n",
        "dataset = Planetoid(root='/tmp/'+name_data, name = name_data)\n",
        "dataset.transform = T.NormalizeFeatures()\n",
        "\n",
        "print(f'no. of classes in {name_data}:', dataset.num_classes)\n",
        "print(f'no. of node features in {name_data}:', dataset.num_node_features)"
      ],
      "metadata": {
        "id": "FdCik4MAMXf9",
        "outputId": "162c4b64-9993-4ff9-883d-3de84df6aa6e",
        "colab": {
          "base_uri": "https://localhost:8080/"
        }
      },
      "id": "FdCik4MAMXf9",
      "execution_count": 6,
      "outputs": [
        {
          "output_type": "stream",
          "name": "stderr",
          "text": [
            "Downloading https://github.com/kimiyoung/planetoid/raw/master/data/ind.cora.x\n",
            "Downloading https://github.com/kimiyoung/planetoid/raw/master/data/ind.cora.tx\n",
            "Downloading https://github.com/kimiyoung/planetoid/raw/master/data/ind.cora.allx\n",
            "Downloading https://github.com/kimiyoung/planetoid/raw/master/data/ind.cora.y\n",
            "Downloading https://github.com/kimiyoung/planetoid/raw/master/data/ind.cora.ty\n",
            "Downloading https://github.com/kimiyoung/planetoid/raw/master/data/ind.cora.ally\n",
            "Downloading https://github.com/kimiyoung/planetoid/raw/master/data/ind.cora.graph\n",
            "Downloading https://github.com/kimiyoung/planetoid/raw/master/data/ind.cora.test.index\n",
            "Processing...\n"
          ]
        },
        {
          "output_type": "stream",
          "name": "stdout",
          "text": [
            "no. of classes in Cora: 7\n",
            "no. of node features in Cora: 1433\n"
          ]
        },
        {
          "output_type": "stream",
          "name": "stderr",
          "text": [
            "Done!\n"
          ]
        }
      ]
    },
    {
      "cell_type": "markdown",
      "source": [
        "### Build from scratch:"
      ],
      "metadata": {
        "id": "GnuSXGvHQ4vg"
      },
      "id": "GnuSXGvHQ4vg"
    },
    {
      "cell_type": "code",
      "source": [
        "class GATLayer(nn.Module):\n",
        "\n",
        "  def __init__(self, in_features, out_features, dropout, alpha, concat=True):\n",
        "    super(GATLayer, self).__init__()\n",
        "\n",
        "    self.dropout = dropout\n",
        "    self.in_features = in_features\n",
        "    self.out_features = out_features\n",
        "    self.alpha = alpha # Leaky ReLU with negative input slope, alpha=0.2\n",
        "    self.concat = concat # concat = True for all layers except the output layer\n",
        "\n",
        "    # Xavier Initialization of weights\n",
        "    # alternative: use weights __init__ to apply weights of choice\n",
        "    self.W = nn.Parameter(torch.zeros(size=(in_features, out_features)))\n",
        "    nn.init.xavier_uniform(self.a.data, gain=1.414)\n",
        "\n",
        "    # leaky ReLU\n",
        "    self.leakyrelu = nn.LeakyReLU(self.alpha)\n",
        "\n",
        "  def forward(self, input, adj):\n",
        "\n",
        "    #linear transformation\n",
        "    h = torch.mm(input, self.W)\n",
        "    N = h.size()[0]\n",
        "    print(N)\n",
        "\n",
        "    # Attension Mechanism\n",
        "    a_input = torch.cat([h.repeat(1, N).view(N*N, -1), h.repeat(N, 1)], dim=1).view(N, -1, 2*self.out_features)\n",
        "    e = self.leakyrelu(torch.matmul(a_input, self.a).squeeze(2))\n",
        "\n",
        "    # Masked Attention\n",
        "    zero_vec = -9e15*torch.ones_like(e)\n",
        "    attention = torch.where(adj > 0, e, zero_vec)\n",
        "    attention = F.softmax(attention, dim=1)\n",
        "    attention = F.dropout(attention, self.dropout, training=self.training)\n",
        "    h_prime = torch.matmul(attention, h)\n",
        "\n",
        "    if self.concat:\n",
        "      return F.elu(h_prime)\n",
        "    else:\n",
        "      return h_prime"
      ],
      "metadata": {
        "id": "usRuWOTOQ8T0"
      },
      "id": "usRuWOTOQ8T0",
      "execution_count": 7,
      "outputs": []
    },
    {
      "cell_type": "code",
      "source": [],
      "metadata": {
        "id": "eLVldf7AR0Cm"
      },
      "id": "eLVldf7AR0Cm",
      "execution_count": null,
      "outputs": []
    },
    {
      "cell_type": "markdown",
      "source": [
        "### From the torch_geometric module"
      ],
      "metadata": {
        "id": "WTKWW7g-QzvN"
      },
      "id": "WTKWW7g-QzvN"
    },
    {
      "cell_type": "code",
      "source": [
        "class GAT(torch.nn.Module):\n",
        "\n",
        "  def __init__(self):\n",
        "    super(GAT, self).__init__()\n",
        "\n",
        "    self.hid = 8\n",
        "    self.in_head = 8\n",
        "    self.out_head = 1\n",
        "\n",
        "    self.conv1 = GATConv(dataset.num_features, self.hid, heads=self.in_head, dropout=0.6)\n",
        "    self.conv2 = GATConv(self.hid*self.in_head, dataset.num_classes, concat=False, heads = self.out_head, dropout=0.6)\n",
        "\n",
        "  def forward(self,data):\n",
        "    x, edge_index = data.x, data.edge_index\n",
        "    x = F.dropout(x, p=0.6, training=self.training)\n",
        "    x = self.conv1(x, edge_index)\n",
        "    x = F.elu(x)\n",
        "    x = F.dropout(x, p=0.6, training=self.training)\n",
        "    x = self.conv2(x, edge_index)\n",
        "\n",
        "    return F.log_softmax(x, dim=1)\n",
        "\n",
        "\n",
        "device = torch.device('cuda' if torch.cuda.is_available() else 'cpu')\n",
        "\n",
        "model = GAT().to(device)\n",
        "data = dataset[0].to(device)\n",
        "optimizer = torch.optim.Adam(model.parameters(), lr=0.005, weight_decay=5e-4)\n",
        "\n",
        "model.train()\n",
        "for epoch in range(1000):\n",
        "  model.train()\n",
        "  optimizer.zero_grad()\n",
        "  out = model(data)\n",
        "  loss = F.nll_loss(out[data.train_mask], data.y[data.train_mask])\n",
        "\n",
        "  if epoch % 200 == 0:\n",
        "    print(loss)\n",
        "\n",
        "  loss.backward()\n",
        "  optimizer.step()\n"
      ],
      "metadata": {
        "id": "Zpv9HHYENcsE",
        "outputId": "dfdbc743-ffd5-434f-f9fb-05edc53bcfb1",
        "colab": {
          "base_uri": "https://localhost:8080/"
        }
      },
      "id": "Zpv9HHYENcsE",
      "execution_count": 7,
      "outputs": [
        {
          "output_type": "stream",
          "name": "stdout",
          "text": [
            "tensor(1.9444, grad_fn=<NllLossBackward0>)\n",
            "tensor(0.6018, grad_fn=<NllLossBackward0>)\n",
            "tensor(0.5977, grad_fn=<NllLossBackward0>)\n",
            "tensor(0.7075, grad_fn=<NllLossBackward0>)\n",
            "tensor(0.5331, grad_fn=<NllLossBackward0>)\n"
          ]
        }
      ]
    },
    {
      "cell_type": "code",
      "source": [
        "model.eval()\n",
        "_, pred = model(data).max(dim=1)\n",
        "correct = float(pred[data.test_mask].eq(data.y[data.test_mask]).sum().item())\n",
        "acc = correct/data.test_mask.sum().item()\n",
        "print('Accuracy:  {:.4f}'.format(acc))"
      ],
      "metadata": {
        "id": "cspWcV6tQKr0",
        "outputId": "637fbb25-3da7-42b5-e232-777b1395ece8",
        "colab": {
          "base_uri": "https://localhost:8080/"
        }
      },
      "id": "cspWcV6tQKr0",
      "execution_count": 8,
      "outputs": [
        {
          "output_type": "stream",
          "name": "stdout",
          "text": [
            "Accuracy:  0.8180\n"
          ]
        }
      ]
    },
    {
      "cell_type": "code",
      "source": [],
      "metadata": {
        "id": "s67nQwYQQuOS"
      },
      "id": "s67nQwYQQuOS",
      "execution_count": null,
      "outputs": []
    }
  ],
  "metadata": {
    "kernelspec": {
      "display_name": "matsci_env",
      "language": "python",
      "name": "python3"
    },
    "language_info": {
      "codemirror_mode": {
        "name": "ipython",
        "version": 3
      },
      "file_extension": ".py",
      "mimetype": "text/x-python",
      "name": "python",
      "nbconvert_exporter": "python",
      "pygments_lexer": "ipython3",
      "version": "3.12.3"
    },
    "colab": {
      "provenance": [],
      "include_colab_link": true
    }
  },
  "nbformat": 4,
  "nbformat_minor": 5
}