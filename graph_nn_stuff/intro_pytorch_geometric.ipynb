{
  "nbformat": 4,
  "nbformat_minor": 0,
  "metadata": {
    "colab": {
      "provenance": [],
      "authorship_tag": "ABX9TyOLQeqPrvywQYZx8gSD3RsX",
      "include_colab_link": true
    },
    "kernelspec": {
      "name": "python3",
      "display_name": "Python 3"
    },
    "language_info": {
      "name": "python"
    }
  },
  "cells": [
    {
      "cell_type": "markdown",
      "metadata": {
        "id": "view-in-github",
        "colab_type": "text"
      },
      "source": [
        "<a href=\"https://colab.research.google.com/github/adithyamauryakr/pytorchtutorials/blob/main/dataset_dataloader.ipynb\" target=\"_parent\"><img src=\"https://colab.research.google.com/assets/colab-badge.svg\" alt=\"Open In Colab\"/></a>"
      ]
    },
    {
      "cell_type": "code",
      "execution_count": 1,
      "metadata": {
        "id": "r8hxBk45UXhv"
      },
      "outputs": [],
      "source": [
        "from sklearn.datasets import make_classification\n",
        "import torch"
      ]
    },
    {
      "cell_type": "code",
      "source": [
        "# Create a synthetic classification dataset using sklearn\n",
        "X,y = make_classification(\n",
        "    n_samples=10,\n",
        "    n_features=2, # No. of features\n",
        "    n_informative=2, # number of informative features\n",
        "    n_redundant=0, # number of redundant features\n",
        "    n_classes=2, # number of classes\n",
        "    random_state=42\n",
        ")"
      ],
      "metadata": {
        "id": "pKA484loUpeX"
      },
      "execution_count": 4,
      "outputs": []
    },
    {
      "cell_type": "code",
      "source": [
        "X"
      ],
      "metadata": {
        "id": "0xExCgwaU5OI",
        "outputId": "21cd2145-f52b-40a8-8213-ad7002a1aed1",
        "colab": {
          "base_uri": "https://localhost:8080/"
        }
      },
      "execution_count": 5,
      "outputs": [
        {
          "output_type": "execute_result",
          "data": {
            "text/plain": [
              "array([[ 1.06833894, -0.97007347],\n",
              "       [-1.14021544, -0.83879234],\n",
              "       [-2.8953973 ,  1.97686236],\n",
              "       [-0.72063436, -0.96059253],\n",
              "       [-1.96287438, -0.99225135],\n",
              "       [-0.9382051 , -0.54304815],\n",
              "       [ 1.72725924, -1.18582677],\n",
              "       [ 1.77736657,  1.51157598],\n",
              "       [ 1.89969252,  0.83444483],\n",
              "       [-0.58723065, -1.97171753]])"
            ]
          },
          "metadata": {},
          "execution_count": 5
        }
      ]
    },
    {
      "cell_type": "code",
      "source": [
        "X.shape"
      ],
      "metadata": {
        "id": "pAQ-WmlfU7EC",
        "outputId": "56ac4e78-0d07-454b-a48b-fe25974c3b1d",
        "colab": {
          "base_uri": "https://localhost:8080/"
        }
      },
      "execution_count": 6,
      "outputs": [
        {
          "output_type": "execute_result",
          "data": {
            "text/plain": [
              "(10, 2)"
            ]
          },
          "metadata": {},
          "execution_count": 6
        }
      ]
    },
    {
      "cell_type": "code",
      "source": [
        "y"
      ],
      "metadata": {
        "id": "Y8og9iBAVKHl",
        "outputId": "ba0bab9f-fd9b-455f-b863-44a13c98c659",
        "colab": {
          "base_uri": "https://localhost:8080/"
        }
      },
      "execution_count": 7,
      "outputs": [
        {
          "output_type": "execute_result",
          "data": {
            "text/plain": [
              "array([1, 0, 0, 0, 0, 1, 1, 1, 1, 0])"
            ]
          },
          "metadata": {},
          "execution_count": 7
        }
      ]
    },
    {
      "cell_type": "code",
      "source": [
        "# convert data to tensors\n",
        "X = torch.tensor(X, dtype = torch.float32)\n",
        "y = torch.tensor(y, dtype=torch.long)"
      ],
      "metadata": {
        "id": "0SFE9VvaVKlr"
      },
      "execution_count": 8,
      "outputs": []
    },
    {
      "cell_type": "code",
      "source": [
        "X"
      ],
      "metadata": {
        "id": "v3CnVZFxVXec",
        "outputId": "f4cfb3c5-7cb4-4466-98f2-3438190cf607",
        "colab": {
          "base_uri": "https://localhost:8080/"
        }
      },
      "execution_count": 9,
      "outputs": [
        {
          "output_type": "execute_result",
          "data": {
            "text/plain": [
              "tensor([[ 1.0683, -0.9701],\n",
              "        [-1.1402, -0.8388],\n",
              "        [-2.8954,  1.9769],\n",
              "        [-0.7206, -0.9606],\n",
              "        [-1.9629, -0.9923],\n",
              "        [-0.9382, -0.5430],\n",
              "        [ 1.7273, -1.1858],\n",
              "        [ 1.7774,  1.5116],\n",
              "        [ 1.8997,  0.8344],\n",
              "        [-0.5872, -1.9717]])"
            ]
          },
          "metadata": {},
          "execution_count": 9
        }
      ]
    },
    {
      "cell_type": "code",
      "source": [
        "from torch.utils.data import Dataset, DataLoader\n"
      ],
      "metadata": {
        "id": "5QynQkOUVYY7"
      },
      "execution_count": 10,
      "outputs": []
    },
    {
      "cell_type": "code",
      "source": [
        "class CustomDataset(Dataset):\n",
        "\n",
        "  def __init__(self, features, labels):\n",
        "    self.features = features\n",
        "    self.labels = labels\n",
        "\n",
        "  def __len__(self):\n",
        "    return len(self.features)\n",
        "\n",
        "  def __getitem__(self, index):\n",
        "    # can do any kind of transformations of data here\n",
        "    return self.features[index], self.labels[index]\n",
        ""
      ],
      "metadata": {
        "id": "9NOw-71OVdgi"
      },
      "execution_count": 11,
      "outputs": []
    },
    {
      "cell_type": "code",
      "source": [
        "dataset = CustomDataset(X,y)"
      ],
      "metadata": {
        "id": "0Kdg7FjoV6DE"
      },
      "execution_count": 12,
      "outputs": []
    },
    {
      "cell_type": "code",
      "source": [
        "len(dataset)"
      ],
      "metadata": {
        "id": "tfxxXZ6hV8YP",
        "outputId": "20dce55c-ef26-4947-cc12-4b6eed97213f",
        "colab": {
          "base_uri": "https://localhost:8080/"
        }
      },
      "execution_count": 13,
      "outputs": [
        {
          "output_type": "execute_result",
          "data": {
            "text/plain": [
              "10"
            ]
          },
          "metadata": {},
          "execution_count": 13
        }
      ]
    },
    {
      "cell_type": "code",
      "source": [
        "dataset[2]"
      ],
      "metadata": {
        "id": "OuNlvLuKV9mI",
        "outputId": "3fd58915-69a2-49aa-f6d1-ca09e5b0629d",
        "colab": {
          "base_uri": "https://localhost:8080/"
        }
      },
      "execution_count": 15,
      "outputs": [
        {
          "output_type": "execute_result",
          "data": {
            "text/plain": [
              "(tensor([-2.8954,  1.9769]), tensor(0))"
            ]
          },
          "metadata": {},
          "execution_count": 15
        }
      ]
    },
    {
      "cell_type": "code",
      "source": [
        "dataloader = DataLoader(dataset, batch_size=2, shuffle=True)"
      ],
      "metadata": {
        "id": "HlJxA_VJV_4u"
      },
      "execution_count": 16,
      "outputs": []
    },
    {
      "cell_type": "code",
      "source": [
        "for batch_features, batch_labels in dataloader:\n",
        "  print(batch_features)\n",
        "  print(batch_labels)\n",
        "  print('--'*30)"
      ],
      "metadata": {
        "id": "CVHFl6NaWOl7",
        "outputId": "27ab4861-fae4-44c2-8c00-b12198dccbaf",
        "colab": {
          "base_uri": "https://localhost:8080/"
        }
      },
      "execution_count": 17,
      "outputs": [
        {
          "output_type": "stream",
          "name": "stdout",
          "text": [
            "tensor([[-0.5872, -1.9717],\n",
            "        [ 1.7774,  1.5116]])\n",
            "tensor([0, 1])\n",
            "------------------------------------------------------------\n",
            "tensor([[-0.9382, -0.5430],\n",
            "        [ 1.0683, -0.9701]])\n",
            "tensor([1, 1])\n",
            "------------------------------------------------------------\n",
            "tensor([[-0.7206, -0.9606],\n",
            "        [ 1.8997,  0.8344]])\n",
            "tensor([0, 1])\n",
            "------------------------------------------------------------\n",
            "tensor([[-2.8954,  1.9769],\n",
            "        [ 1.7273, -1.1858]])\n",
            "tensor([0, 1])\n",
            "------------------------------------------------------------\n",
            "tensor([[-1.9629, -0.9923],\n",
            "        [-1.1402, -0.8388]])\n",
            "tensor([0, 0])\n",
            "------------------------------------------------------------\n"
          ]
        }
      ]
    },
    {
      "cell_type": "markdown",
      "source": [
        "## dataloader is iterable"
      ],
      "metadata": {
        "id": "7wgVQdKgWcCq"
      }
    },
    {
      "cell_type": "code",
      "source": [
        "# parallelisation:\n",
        "# just add n_workers"
      ],
      "metadata": {
        "id": "efwCsv6cWped"
      },
      "execution_count": null,
      "outputs": []
    }
  ]
}