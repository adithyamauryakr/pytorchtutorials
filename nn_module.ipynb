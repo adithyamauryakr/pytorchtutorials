{
  "nbformat": 4,
  "nbformat_minor": 0,
  "metadata": {
    "colab": {
      "provenance": [],
      "authorship_tag": "ABX9TyNtmWP+ubGjwpx4sy3YidTA",
      "include_colab_link": true
    },
    "kernelspec": {
      "name": "python3",
      "display_name": "Python 3"
    },
    "language_info": {
      "name": "python"
    }
  },
  "cells": [
    {
      "cell_type": "markdown",
      "metadata": {
        "id": "view-in-github",
        "colab_type": "text"
      },
      "source": [
        "<a href=\"https://colab.research.google.com/github/adithyamauryakr/pytorchtutorials/blob/main/nn_module.ipynb\" target=\"_parent\"><img src=\"https://colab.research.google.com/assets/colab-badge.svg\" alt=\"Open In Colab\"/></a>"
      ]
    },
    {
      "cell_type": "markdown",
      "source": [
        "## NN modules"
      ],
      "metadata": {
        "id": "MvXBzh7U3tAt"
      }
    },
    {
      "cell_type": "markdown",
      "source": [
        "Key components:\n",
        "* modules(Layers):\n",
        "* Activation Functions:\n",
        "* Loss Functions\n",
        "* Container Modules"
      ],
      "metadata": {
        "id": "i-7y9biy7-0o"
      }
    },
    {
      "cell_type": "code",
      "source": [
        "import torch\n",
        "import torch.nn as nn\n",
        "\n",
        "\n",
        "class Model(nn.Module):\n",
        "\n",
        "  def __init__(self, num_features):\n",
        "\n",
        "    super().__init__()\n",
        "    self.linear1 = nn.Linear(num_features, 3) # single neuron\n",
        "    self.relu = nn.ReLU()\n",
        "    self.linear2 = nn.Linear(3, 1)\n",
        "    self.sigmoid = nn.Sigmoid()\n",
        "\n",
        "  def forward(self, features):\n",
        "    out = self.linear1(features)\n",
        "    out = self.sigmoid(out)\n",
        "    out = self.linear2(out)\n",
        "    out = self.sigmoid(out)\n",
        "    return out\n"
      ],
      "metadata": {
        "id": "gC0Fk8NK8Nv4"
      },
      "execution_count": 8,
      "outputs": []
    },
    {
      "cell_type": "code",
      "source": [
        "features = torch.rand(10, 5)\n",
        "\n",
        "model = Model(features.shape[1])\n",
        "\n",
        "model(features)\n"
      ],
      "metadata": {
        "id": "ZJke8nSF82xg",
        "outputId": "095b6832-684a-4bf3-bf88-a41e33227c28",
        "colab": {
          "base_uri": "https://localhost:8080/"
        }
      },
      "execution_count": 9,
      "outputs": [
        {
          "output_type": "execute_result",
          "data": {
            "text/plain": [
              "tensor([[0.3512],\n",
              "        [0.3613],\n",
              "        [0.3568],\n",
              "        [0.3636],\n",
              "        [0.3718],\n",
              "        [0.3568],\n",
              "        [0.3686],\n",
              "        [0.3774],\n",
              "        [0.3562],\n",
              "        [0.3497]], grad_fn=<SigmoidBackward0>)"
            ]
          },
          "metadata": {},
          "execution_count": 9
        }
      ]
    },
    {
      "cell_type": "code",
      "source": [
        "model.linear1.weight, model.linear1.bias"
      ],
      "metadata": {
        "id": "ztEy_00E9MEN",
        "outputId": "21a47229-fb56-4d1d-d3f7-b758c5217274",
        "colab": {
          "base_uri": "https://localhost:8080/"
        }
      },
      "execution_count": 11,
      "outputs": [
        {
          "output_type": "execute_result",
          "data": {
            "text/plain": [
              "(Parameter containing:\n",
              " tensor([[-0.2368, -0.3315, -0.2041, -0.3944, -0.4193],\n",
              "         [ 0.1967,  0.2334, -0.3925,  0.2249, -0.4158],\n",
              "         [ 0.1985, -0.2769,  0.3395,  0.1384, -0.4197]], requires_grad=True),\n",
              " Parameter containing:\n",
              " tensor([-0.1581,  0.1459,  0.3071], requires_grad=True))"
            ]
          },
          "metadata": {},
          "execution_count": 11
        }
      ]
    },
    {
      "cell_type": "code",
      "source": [
        "!pip install torchinfo"
      ],
      "metadata": {
        "id": "bhAfeUdX9T1m",
        "outputId": "3ee1a26e-d39b-40fe-9773-ee7c74826d36",
        "colab": {
          "base_uri": "https://localhost:8080/"
        }
      },
      "execution_count": 4,
      "outputs": [
        {
          "output_type": "stream",
          "name": "stdout",
          "text": [
            "Collecting torchinfo\n",
            "  Downloading torchinfo-1.8.0-py3-none-any.whl.metadata (21 kB)\n",
            "Downloading torchinfo-1.8.0-py3-none-any.whl (23 kB)\n",
            "Installing collected packages: torchinfo\n",
            "Successfully installed torchinfo-1.8.0\n"
          ]
        }
      ]
    },
    {
      "cell_type": "code",
      "source": [
        "from torchinfo import summary\n",
        "summary(model, input_size=(10, 5))"
      ],
      "metadata": {
        "id": "wn5uIxLc9W3d",
        "outputId": "165dc124-e5c5-4e49-914d-fb8bb7d87e8a",
        "colab": {
          "base_uri": "https://localhost:8080/"
        }
      },
      "execution_count": 12,
      "outputs": [
        {
          "output_type": "execute_result",
          "data": {
            "text/plain": [
              "==========================================================================================\n",
              "Layer (type:depth-idx)                   Output Shape              Param #\n",
              "==========================================================================================\n",
              "Model                                    [10, 1]                   --\n",
              "├─Linear: 1-1                            [10, 3]                   18\n",
              "├─Sigmoid: 1-2                           [10, 3]                   --\n",
              "├─Linear: 1-3                            [10, 1]                   4\n",
              "├─Sigmoid: 1-4                           [10, 1]                   --\n",
              "==========================================================================================\n",
              "Total params: 22\n",
              "Trainable params: 22\n",
              "Non-trainable params: 0\n",
              "Total mult-adds (Units.MEGABYTES): 0.00\n",
              "==========================================================================================\n",
              "Input size (MB): 0.00\n",
              "Forward/backward pass size (MB): 0.00\n",
              "Params size (MB): 0.00\n",
              "Estimated Total Size (MB): 0.00\n",
              "=========================================================================================="
            ]
          },
          "metadata": {},
          "execution_count": 12
        }
      ]
    },
    {
      "cell_type": "code",
      "source": [
        "import torch\n",
        "import torch.nn as nn\n",
        "\n",
        "\n",
        "class ImproviseModel(nn.Module):\n",
        "\n",
        "  def __init__(self, num_features):\n",
        "\n",
        "    super().__init__()\n",
        "    self.network = nn.Sequential(\n",
        "        nn.Linear(num_features, 3),\n",
        "        nn.ReLU(),\n",
        "        nn.Linear(3, 1),\n",
        "        nn.Sigmoid())\n",
        "\n",
        "  def forward(self, features):\n",
        "    out = self.network(features)\n",
        "    return out\n"
      ],
      "metadata": {
        "id": "9vpqoEp29g4j"
      },
      "execution_count": 19,
      "outputs": []
    },
    {
      "cell_type": "code",
      "source": [
        "features = torch.rand(10, 5)\n",
        "\n",
        "model = ImproviseModel(features.shape[1])\n",
        "\n",
        "model(features)\n",
        "# summary(model, input_size=(10, 5))"
      ],
      "metadata": {
        "id": "_gk3kl6n-z7p",
        "outputId": "4c0bbf58-23c1-41fa-84df-cb4f06a97198",
        "colab": {
          "base_uri": "https://localhost:8080/"
        }
      },
      "execution_count": 20,
      "outputs": [
        {
          "output_type": "execute_result",
          "data": {
            "text/plain": [
              "tensor([[0.4513],\n",
              "        [0.4597],\n",
              "        [0.4619],\n",
              "        [0.4619],\n",
              "        [0.4467],\n",
              "        [0.4619],\n",
              "        [0.4546],\n",
              "        [0.4616],\n",
              "        [0.4500],\n",
              "        [0.4609]], grad_fn=<SigmoidBackward0>)"
            ]
          },
          "metadata": {},
          "execution_count": 20
        }
      ]
    },
    {
      "cell_type": "code",
      "source": [],
      "metadata": {
        "id": "C9b6RB6a--k8"
      },
      "execution_count": null,
      "outputs": []
    }
  ]
}