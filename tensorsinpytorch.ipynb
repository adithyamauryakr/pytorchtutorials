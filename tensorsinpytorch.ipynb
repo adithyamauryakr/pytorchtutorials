{
  "nbformat": 4,
  "nbformat_minor": 0,
  "metadata": {
    "colab": {
      "provenance": [],
      "authorship_tag": "ABX9TyPeiaFBJomVGABkHLjWyfJE",
      "include_colab_link": true
    },
    "kernelspec": {
      "name": "python3",
      "display_name": "Python 3"
    },
    "language_info": {
      "name": "python"
    }
  },
  "cells": [
    {
      "cell_type": "markdown",
      "metadata": {
        "id": "view-in-github",
        "colab_type": "text"
      },
      "source": [
        "<a href=\"https://colab.research.google.com/github/adithyamauryakr/pytorchtutorials/blob/main/tensorsinpytorch.ipynb\" target=\"_parent\"><img src=\"https://colab.research.google.com/assets/colab-badge.svg\" alt=\"Open In Colab\"/></a>"
      ]
    },
    {
      "cell_type": "markdown",
      "source": [
        "Tensors: data structures specialised multi-dimensional array for mathematical\n",
        "and computational efficiency"
      ],
      "metadata": {
        "id": "ZgfyVCKpLQ2o"
      }
    },
    {
      "cell_type": "code",
      "source": [
        "import torch\n",
        "torch.__version__"
      ],
      "metadata": {
        "id": "LkEY2q2Phld5",
        "outputId": "1b03e56b-bf0a-40e7-ca06-6107aa69c1be",
        "colab": {
          "base_uri": "https://localhost:8080/",
          "height": 35
        }
      },
      "execution_count": 1,
      "outputs": [
        {
          "output_type": "execute_result",
          "data": {
            "text/plain": [
              "'2.5.1+cu124'"
            ],
            "application/vnd.google.colaboratory.intrinsic+json": {
              "type": "string"
            }
          },
          "metadata": {},
          "execution_count": 1
        }
      ]
    },
    {
      "cell_type": "code",
      "source": [
        "device = 'cuda' if torch.cuda.is_available() else 'cpu'"
      ],
      "metadata": {
        "id": "noFymMH-icJh"
      },
      "execution_count": 2,
      "outputs": []
    },
    {
      "cell_type": "markdown",
      "source": [
        "## Creating a tensor:"
      ],
      "metadata": {
        "id": "iNAMrDkLio5x"
      }
    },
    {
      "cell_type": "code",
      "source": [
        "a = torch.empty(2, 3)\n",
        "a, type(a)"
      ],
      "metadata": {
        "id": "3Pc0lr4Uipkx",
        "outputId": "28d2e113-b75b-411c-e3e9-e10c42c30e16",
        "colab": {
          "base_uri": "https://localhost:8080/"
        }
      },
      "execution_count": 4,
      "outputs": [
        {
          "output_type": "execute_result",
          "data": {
            "text/plain": [
              "(tensor([[3.6022e-12, 7.1223e+28, 3.0958e-18],\n",
              "         [2.6532e+20, 1.9062e+37, 1.1290e+27]]),\n",
              " torch.Tensor)"
            ]
          },
          "metadata": {},
          "execution_count": 4
        }
      ]
    },
    {
      "cell_type": "code",
      "source": [
        "torch.zeros(2,4) # initial biases sometimes"
      ],
      "metadata": {
        "id": "r648mNDXjA5b",
        "outputId": "8e8b099d-805b-4f08-c678-4a6c04a375f2",
        "colab": {
          "base_uri": "https://localhost:8080/"
        }
      },
      "execution_count": 5,
      "outputs": [
        {
          "output_type": "execute_result",
          "data": {
            "text/plain": [
              "tensor([[0., 0., 0., 0.],\n",
              "        [0., 0., 0., 0.]])"
            ]
          },
          "metadata": {},
          "execution_count": 5
        }
      ]
    },
    {
      "cell_type": "code",
      "source": [
        "torch.ones(2, 3)"
      ],
      "metadata": {
        "id": "bbEj_zb3jK_X",
        "outputId": "ac844305-8b46-43af-d612-466951d5be08",
        "colab": {
          "base_uri": "https://localhost:8080/"
        }
      },
      "execution_count": 6,
      "outputs": [
        {
          "output_type": "execute_result",
          "data": {
            "text/plain": [
              "tensor([[1., 1., 1.],\n",
              "        [1., 1., 1.]])"
            ]
          },
          "metadata": {},
          "execution_count": 6
        }
      ]
    },
    {
      "cell_type": "code",
      "source": [
        "torch.rand(2, 3)"
      ],
      "metadata": {
        "id": "8yTecN19jNf6",
        "outputId": "fe0cca36-b0be-4e02-ca51-856dff1106fa",
        "colab": {
          "base_uri": "https://localhost:8080/"
        }
      },
      "execution_count": 7,
      "outputs": [
        {
          "output_type": "execute_result",
          "data": {
            "text/plain": [
              "tensor([[0.3578, 0.7104, 0.3438],\n",
              "        [0.3481, 0.3595, 0.5848]])"
            ]
          },
          "metadata": {},
          "execution_count": 7
        }
      ]
    },
    {
      "cell_type": "code",
      "source": [
        "torch.manual_seed(42)"
      ],
      "metadata": {
        "id": "DTuUxfAljQZP",
        "outputId": "6cb0e7bc-018f-4045-9542-0c9d1823aa7e",
        "colab": {
          "base_uri": "https://localhost:8080/"
        }
      },
      "execution_count": 8,
      "outputs": [
        {
          "output_type": "execute_result",
          "data": {
            "text/plain": [
              "<torch._C.Generator at 0x7a2854918e50>"
            ]
          },
          "metadata": {},
          "execution_count": 8
        }
      ]
    },
    {
      "cell_type": "code",
      "source": [
        "torch.rand(2,3)"
      ],
      "metadata": {
        "id": "X0gX5oimjZjm",
        "outputId": "f1995154-58d5-4080-d5b1-b746c0672259",
        "colab": {
          "base_uri": "https://localhost:8080/"
        }
      },
      "execution_count": 9,
      "outputs": [
        {
          "output_type": "execute_result",
          "data": {
            "text/plain": [
              "tensor([[0.8823, 0.9150, 0.3829],\n",
              "        [0.9593, 0.3904, 0.6009]])"
            ]
          },
          "metadata": {},
          "execution_count": 9
        }
      ]
    },
    {
      "cell_type": "code",
      "source": [
        "torch.tensor([[2,34,5],[32,4,34.]])"
      ],
      "metadata": {
        "id": "a4dToKLNjbx0",
        "outputId": "b94202c0-698a-415d-cb85-45cdb1b42dcf",
        "colab": {
          "base_uri": "https://localhost:8080/"
        }
      },
      "execution_count": 10,
      "outputs": [
        {
          "output_type": "execute_result",
          "data": {
            "text/plain": [
              "tensor([[ 2., 34.,  5.],\n",
              "        [32.,  4., 34.]])"
            ]
          },
          "metadata": {},
          "execution_count": 10
        }
      ]
    },
    {
      "cell_type": "code",
      "source": [
        "print('arange: \\n', torch.arange(0,10,3))\n",
        "print('linspace: \\n', torch.linspace(0,10,10))\n",
        "print('eye: \\n', torch.eye(5))\n",
        "print('full:\\n', torch.full((2,3), 5))"
      ],
      "metadata": {
        "id": "9adw_hTyjj26",
        "outputId": "53d2d49b-70f4-4f79-f9f0-5e4305e107d3",
        "colab": {
          "base_uri": "https://localhost:8080/"
        }
      },
      "execution_count": 14,
      "outputs": [
        {
          "output_type": "stream",
          "name": "stdout",
          "text": [
            "arange: \n",
            " tensor([0, 3, 6, 9])\n",
            "linspace: \n",
            " tensor([ 0.0000,  1.1111,  2.2222,  3.3333,  4.4444,  5.5556,  6.6667,  7.7778,\n",
            "         8.8889, 10.0000])\n",
            "eye: \n",
            " tensor([[1., 0., 0., 0., 0.],\n",
            "        [0., 1., 0., 0., 0.],\n",
            "        [0., 0., 1., 0., 0.],\n",
            "        [0., 0., 0., 1., 0.],\n",
            "        [0., 0., 0., 0., 1.]])\n",
            "full:\n",
            " tensor([[5, 5, 5],\n",
            "        [5, 5, 5]])\n"
          ]
        }
      ]
    },
    {
      "cell_type": "code",
      "source": [
        "x = torch.tensor([[1,3,5], [4,5,6]])\n",
        "x"
      ],
      "metadata": {
        "id": "TEuS_VfUjsw1",
        "outputId": "f2e99852-a8e3-4e6a-da71-2df76c124d46",
        "colab": {
          "base_uri": "https://localhost:8080/"
        }
      },
      "execution_count": 15,
      "outputs": [
        {
          "output_type": "execute_result",
          "data": {
            "text/plain": [
              "tensor([[1, 3, 5],\n",
              "        [4, 5, 6]])"
            ]
          },
          "metadata": {},
          "execution_count": 15
        }
      ]
    },
    {
      "cell_type": "code",
      "source": [
        "x.shape"
      ],
      "metadata": {
        "id": "BhCevWGKkb29",
        "outputId": "348e79a5-bd78-4be6-f71b-180fb7230fe9",
        "colab": {
          "base_uri": "https://localhost:8080/"
        }
      },
      "execution_count": 16,
      "outputs": [
        {
          "output_type": "execute_result",
          "data": {
            "text/plain": [
              "torch.Size([2, 3])"
            ]
          },
          "metadata": {},
          "execution_count": 16
        }
      ]
    },
    {
      "cell_type": "code",
      "source": [
        "# build a tensor of shape of another tensor\n",
        "torch.empty_like(x)"
      ],
      "metadata": {
        "id": "bw__xnqVkeO7",
        "outputId": "aaa6877b-7806-4e7e-c3d0-ae340ebe650b",
        "colab": {
          "base_uri": "https://localhost:8080/"
        }
      },
      "execution_count": 17,
      "outputs": [
        {
          "output_type": "execute_result",
          "data": {
            "text/plain": [
              "tensor([[2318330554153050739, 6877682122580386594, 3978121279908900453],\n",
              "        [8030888409031647276, 2482735057479098226, 7863883273619185722]])"
            ]
          },
          "metadata": {},
          "execution_count": 17
        }
      ]
    },
    {
      "cell_type": "code",
      "source": [
        "torch.zeros_like(x)"
      ],
      "metadata": {
        "id": "f2muIJlKkqI3",
        "outputId": "c75f23eb-1fc0-44c7-cf0c-d85a974afd1a",
        "colab": {
          "base_uri": "https://localhost:8080/"
        }
      },
      "execution_count": 18,
      "outputs": [
        {
          "output_type": "execute_result",
          "data": {
            "text/plain": [
              "tensor([[0, 0, 0],\n",
              "        [0, 0, 0]])"
            ]
          },
          "metadata": {},
          "execution_count": 18
        }
      ]
    },
    {
      "cell_type": "code",
      "source": [
        "torch.ones_like(x)"
      ],
      "metadata": {
        "id": "ZsZwEZsIksJa",
        "outputId": "07c26af0-9562-4787-cd7a-7f97668bbc6f",
        "colab": {
          "base_uri": "https://localhost:8080/"
        }
      },
      "execution_count": 19,
      "outputs": [
        {
          "output_type": "execute_result",
          "data": {
            "text/plain": [
              "tensor([[1, 1, 1],\n",
              "        [1, 1, 1]])"
            ]
          },
          "metadata": {},
          "execution_count": 19
        }
      ]
    },
    {
      "cell_type": "code",
      "source": [
        "torch.rand_like(x) # doesn't work because x has all integers and rand generates floats"
      ],
      "metadata": {
        "id": "bqpz-1qnkvc0",
        "outputId": "12d0d48c-c784-4916-cc4a-55ed1b89e6cb",
        "colab": {
          "base_uri": "https://localhost:8080/",
          "height": 141
        }
      },
      "execution_count": 20,
      "outputs": [
        {
          "output_type": "error",
          "ename": "RuntimeError",
          "evalue": "\"check_uniform_bounds\" not implemented for 'Long'",
          "traceback": [
            "\u001b[0;31m---------------------------------------------------------------------------\u001b[0m",
            "\u001b[0;31mRuntimeError\u001b[0m                              Traceback (most recent call last)",
            "\u001b[0;32m<ipython-input-20-8a266f1565c3>\u001b[0m in \u001b[0;36m<cell line: 0>\u001b[0;34m()\u001b[0m\n\u001b[0;32m----> 1\u001b[0;31m \u001b[0mtorch\u001b[0m\u001b[0;34m.\u001b[0m\u001b[0mrand_like\u001b[0m\u001b[0;34m(\u001b[0m\u001b[0mx\u001b[0m\u001b[0;34m)\u001b[0m\u001b[0;34m\u001b[0m\u001b[0;34m\u001b[0m\u001b[0m\n\u001b[0m",
            "\u001b[0;31mRuntimeError\u001b[0m: \"check_uniform_bounds\" not implemented for 'Long'"
          ]
        }
      ]
    },
    {
      "cell_type": "code",
      "source": [
        "x.dtype"
      ],
      "metadata": {
        "id": "g6qfCXHIkxDh",
        "outputId": "e1045757-d86e-4085-f21a-149aa9891532",
        "colab": {
          "base_uri": "https://localhost:8080/"
        }
      },
      "execution_count": 21,
      "outputs": [
        {
          "output_type": "execute_result",
          "data": {
            "text/plain": [
              "torch.int64"
            ]
          },
          "metadata": {},
          "execution_count": 21
        }
      ]
    },
    {
      "cell_type": "code",
      "source": [
        "## assign data type:\n",
        "torch.tensor([1.,3.,5.], dtype=torch.int32)"
      ],
      "metadata": {
        "id": "pdj3i8mqk8lY",
        "outputId": "f137e091-fe2c-42f9-8ef9-9c6a0d14cc85",
        "colab": {
          "base_uri": "https://localhost:8080/"
        }
      },
      "execution_count": 22,
      "outputs": [
        {
          "output_type": "execute_result",
          "data": {
            "text/plain": [
              "tensor([1, 3, 5], dtype=torch.int32)"
            ]
          },
          "metadata": {},
          "execution_count": 22
        }
      ]
    },
    {
      "cell_type": "code",
      "source": [
        "torch.tensor([1,3,5,32], dtype=torch.float32)"
      ],
      "metadata": {
        "id": "4wTxKV6xlF-d",
        "outputId": "4b491210-abfe-4439-e2f7-159b594f6c62",
        "colab": {
          "base_uri": "https://localhost:8080/"
        }
      },
      "execution_count": 23,
      "outputs": [
        {
          "output_type": "execute_result",
          "data": {
            "text/plain": [
              "tensor([ 1.,  3.,  5., 32.])"
            ]
          },
          "metadata": {},
          "execution_count": 23
        }
      ]
    },
    {
      "cell_type": "code",
      "source": [
        "torch.rand_like(x, dtype=torch.float32)"
      ],
      "metadata": {
        "id": "iXB-hbaOlK7H",
        "outputId": "f8ca9197-bfbc-4b8c-f20b-955451bcfa2a",
        "colab": {
          "base_uri": "https://localhost:8080/"
        }
      },
      "execution_count": 24,
      "outputs": [
        {
          "output_type": "execute_result",
          "data": {
            "text/plain": [
              "tensor([[0.2566, 0.7936, 0.9408],\n",
              "        [0.1332, 0.9346, 0.5936]])"
            ]
          },
          "metadata": {},
          "execution_count": 24
        }
      ]
    },
    {
      "cell_type": "code",
      "source": [
        "# mathematical operations:\n",
        "x = torch.rand(2,2)\n",
        "x"
      ],
      "metadata": {
        "id": "4tnRbNAOlWUY",
        "outputId": "9db2bc6f-4d7b-4da7-8acf-673b18ddd768",
        "colab": {
          "base_uri": "https://localhost:8080/"
        }
      },
      "execution_count": 25,
      "outputs": [
        {
          "output_type": "execute_result",
          "data": {
            "text/plain": [
              "tensor([[0.8694, 0.5677],\n",
              "        [0.7411, 0.4294]])"
            ]
          },
          "metadata": {},
          "execution_count": 25
        }
      ]
    },
    {
      "cell_type": "code",
      "source": [
        "x +2, x - 2, x * 3, x /3,x**2, (x * 100)//3,"
      ],
      "metadata": {
        "id": "3Ig_Ilt3ldDY",
        "outputId": "311473fd-a813-435d-a680-e05badc0bf8e",
        "colab": {
          "base_uri": "https://localhost:8080/"
        }
      },
      "execution_count": 26,
      "outputs": [
        {
          "output_type": "execute_result",
          "data": {
            "text/plain": [
              "(tensor([[2.8694, 2.5677],\n",
              "         [2.7411, 2.4294]]),\n",
              " tensor([[-1.1306, -1.4323],\n",
              "         [-1.2589, -1.5706]]),\n",
              " tensor([[2.6082, 1.7031],\n",
              "         [2.2233, 1.2882]]),\n",
              " tensor([[0.2898, 0.1892],\n",
              "         [0.2470, 0.1431]]),\n",
              " tensor([[0.7559, 0.3223],\n",
              "         [0.5492, 0.1844]]),\n",
              " tensor([[28., 18.],\n",
              "         [24., 14.]]))"
            ]
          },
          "metadata": {},
          "execution_count": 26
        }
      ]
    },
    {
      "cell_type": "code",
      "source": [
        "#element wise operations:\n",
        "a = torch.rand(2,3)\n",
        "b = torch.rand(2,3)\n",
        "a +b, a-b, a*b, a/b, a**b, a%b\n",
        "\n",
        "# mod: a%b"
      ],
      "metadata": {
        "id": "RcenS_Ucls_r",
        "outputId": "57d3d41b-890b-4a8d-87ab-c5b5aa126770",
        "colab": {
          "base_uri": "https://localhost:8080/"
        }
      },
      "execution_count": 27,
      "outputs": [
        {
          "output_type": "execute_result",
          "data": {
            "text/plain": [
              "(tensor([[1.1824, 1.4056, 0.3719],\n",
              "         [0.8969, 0.6284, 0.6407]]),\n",
              " tensor([[ 0.5885, -0.2578,  0.1613],\n",
              "         [ 0.3580, -0.0892,  0.2420]]),\n",
              " tensor([[0.2629, 0.4773, 0.0281],\n",
              "         [0.1691, 0.0967, 0.0880]]),\n",
              " tensor([[2.9821, 0.6900, 2.5313],\n",
              "         [2.3282, 0.7515, 2.2139]]),\n",
              " tensor([[0.9645, 0.6301, 0.8700],\n",
              "         [0.8820, 0.6248, 0.8495]]),\n",
              " tensor([[0.2916, 0.5739, 0.0560],\n",
              "         [0.0885, 0.2696, 0.0426]]))"
            ]
          },
          "metadata": {},
          "execution_count": 27
        }
      ]
    },
    {
      "cell_type": "code",
      "source": [
        "c = torch.tensor([1,-4,2,-4])\n",
        "torch.abs(c)"
      ],
      "metadata": {
        "id": "O9tt-Tepl-7a",
        "outputId": "209d63a4-570e-4a11-8a59-eb81a1508d87",
        "colab": {
          "base_uri": "https://localhost:8080/"
        }
      },
      "execution_count": 28,
      "outputs": [
        {
          "output_type": "execute_result",
          "data": {
            "text/plain": [
              "tensor([1, 4, 2, 4])"
            ]
          },
          "metadata": {},
          "execution_count": 28
        }
      ]
    },
    {
      "cell_type": "code",
      "source": [
        "torch.neg(c)"
      ],
      "metadata": {
        "id": "7BNXLXVAmGFV",
        "outputId": "c06cdd8f-0b1c-4c9a-d67c-ace04ee1a32d",
        "colab": {
          "base_uri": "https://localhost:8080/"
        }
      },
      "execution_count": 29,
      "outputs": [
        {
          "output_type": "execute_result",
          "data": {
            "text/plain": [
              "tensor([-1,  4, -2,  4])"
            ]
          },
          "metadata": {},
          "execution_count": 29
        }
      ]
    },
    {
      "cell_type": "code",
      "source": [
        "torch.round(a)"
      ],
      "metadata": {
        "id": "pAypFAy0mIvS",
        "outputId": "1471d41a-a86a-4436-9335-3cfc79efaba3",
        "colab": {
          "base_uri": "https://localhost:8080/"
        }
      },
      "execution_count": 30,
      "outputs": [
        {
          "output_type": "execute_result",
          "data": {
            "text/plain": [
              "tensor([[1., 1., 0.],\n",
              "        [1., 0., 0.]])"
            ]
          },
          "metadata": {},
          "execution_count": 30
        }
      ]
    },
    {
      "cell_type": "code",
      "source": [
        "torch.ceil(a)"
      ],
      "metadata": {
        "id": "9H3fufBomM2i",
        "outputId": "873a1994-7ea6-480f-8400-f4f38e787069",
        "colab": {
          "base_uri": "https://localhost:8080/"
        }
      },
      "execution_count": 31,
      "outputs": [
        {
          "output_type": "execute_result",
          "data": {
            "text/plain": [
              "tensor([[1., 1., 1.],\n",
              "        [1., 1., 1.]])"
            ]
          },
          "metadata": {},
          "execution_count": 31
        }
      ]
    },
    {
      "cell_type": "code",
      "source": [
        "torch.floor(a)"
      ],
      "metadata": {
        "id": "UcSyxCa2mPRc",
        "outputId": "8d2b77fc-479a-4dfc-9fbb-c8abbdccc954",
        "colab": {
          "base_uri": "https://localhost:8080/"
        }
      },
      "execution_count": 32,
      "outputs": [
        {
          "output_type": "execute_result",
          "data": {
            "text/plain": [
              "tensor([[0., 0., 0.],\n",
              "        [0., 0., 0.]])"
            ]
          },
          "metadata": {},
          "execution_count": 32
        }
      ]
    },
    {
      "cell_type": "code",
      "source": [
        "torch.clamp(c, min=-2, max=2)"
      ],
      "metadata": {
        "id": "UzcOTiRrmSX2",
        "outputId": "ae12823b-7c6c-4d72-8906-aa8f9edadabf",
        "colab": {
          "base_uri": "https://localhost:8080/"
        }
      },
      "execution_count": 33,
      "outputs": [
        {
          "output_type": "execute_result",
          "data": {
            "text/plain": [
              "tensor([ 1, -2,  2, -2])"
            ]
          },
          "metadata": {},
          "execution_count": 33
        }
      ]
    },
    {
      "cell_type": "code",
      "source": [
        "## reduction operation:\n",
        "e = torch.randint(size=(2,3), low=0, high=10, dtype=torch.float32)\n",
        "e"
      ],
      "metadata": {
        "id": "nHrBTqnrmYzM",
        "outputId": "b3120d42-83b0-46e6-b8d4-05d5345e4627",
        "colab": {
          "base_uri": "https://localhost:8080/"
        }
      },
      "execution_count": 39,
      "outputs": [
        {
          "output_type": "execute_result",
          "data": {
            "text/plain": [
              "tensor([[3., 4., 9.],\n",
              "        [6., 2., 0.]])"
            ]
          },
          "metadata": {},
          "execution_count": 39
        }
      ]
    },
    {
      "cell_type": "code",
      "source": [
        "torch.sum(e)"
      ],
      "metadata": {
        "id": "fFx0iXzXmhJS",
        "outputId": "66909279-c09b-4438-9950-c533b1fe7433",
        "colab": {
          "base_uri": "https://localhost:8080/"
        }
      },
      "execution_count": 36,
      "outputs": [
        {
          "output_type": "execute_result",
          "data": {
            "text/plain": [
              "tensor(32)"
            ]
          },
          "metadata": {},
          "execution_count": 36
        }
      ]
    },
    {
      "cell_type": "code",
      "source": [
        "torch.sum(e,dim=0)"
      ],
      "metadata": {
        "id": "PkIzon2Zmn-h",
        "outputId": "96c7f457-7d21-45bd-97c5-def4df87e788",
        "colab": {
          "base_uri": "https://localhost:8080/"
        }
      },
      "execution_count": 37,
      "outputs": [
        {
          "output_type": "execute_result",
          "data": {
            "text/plain": [
              "tensor([ 7, 14, 11])"
            ]
          },
          "metadata": {},
          "execution_count": 37
        }
      ]
    },
    {
      "cell_type": "code",
      "source": [
        "torch.sum(e,dim=1)"
      ],
      "metadata": {
        "id": "pmCaVK1Zmp5d",
        "outputId": "1ba8e06c-eeb6-4e35-e6ba-bd3cc7d73a29",
        "colab": {
          "base_uri": "https://localhost:8080/"
        }
      },
      "execution_count": 38,
      "outputs": [
        {
          "output_type": "execute_result",
          "data": {
            "text/plain": [
              "tensor([18, 14])"
            ]
          },
          "metadata": {},
          "execution_count": 38
        }
      ]
    },
    {
      "cell_type": "code",
      "source": [
        "torch.mean(e)\n",
        "torch.max(e)\n",
        "torch.min(e)\n",
        "torch.median(e)\n",
        "torch.prod(e)\n"
      ],
      "metadata": {
        "id": "HUybQ3lRmrXP",
        "outputId": "1cb16b2c-da69-43a9-9285-3ec44aa7fd49",
        "colab": {
          "base_uri": "https://localhost:8080/"
        }
      },
      "execution_count": 40,
      "outputs": [
        {
          "output_type": "execute_result",
          "data": {
            "text/plain": [
              "tensor(0.)"
            ]
          },
          "metadata": {},
          "execution_count": 40
        }
      ]
    },
    {
      "cell_type": "code",
      "source": [
        "torch.std(e)\n",
        "torch.var(e)"
      ],
      "metadata": {
        "id": "EXi_Iwftm75m",
        "outputId": "5e6decf4-2a28-4be1-f36b-1e6d499ba833",
        "colab": {
          "base_uri": "https://localhost:8080/"
        }
      },
      "execution_count": 41,
      "outputs": [
        {
          "output_type": "execute_result",
          "data": {
            "text/plain": [
              "tensor(10.)"
            ]
          },
          "metadata": {},
          "execution_count": 41
        }
      ]
    },
    {
      "cell_type": "code",
      "source": [
        "torch.argmax(e)"
      ],
      "metadata": {
        "id": "VQ6Q4K6Pm_RJ",
        "outputId": "64b1eb14-170c-43ed-bb57-52b6361c706f",
        "colab": {
          "base_uri": "https://localhost:8080/"
        }
      },
      "execution_count": 42,
      "outputs": [
        {
          "output_type": "execute_result",
          "data": {
            "text/plain": [
              "tensor(2)"
            ]
          },
          "metadata": {},
          "execution_count": 42
        }
      ]
    },
    {
      "cell_type": "code",
      "source": [
        "torch.argmin(e)"
      ],
      "metadata": {
        "id": "5Voc5PQnnCib",
        "outputId": "7b118469-95b3-4fa9-99e1-4a8085a4afea",
        "colab": {
          "base_uri": "https://localhost:8080/"
        }
      },
      "execution_count": 43,
      "outputs": [
        {
          "output_type": "execute_result",
          "data": {
            "text/plain": [
              "tensor(5)"
            ]
          },
          "metadata": {},
          "execution_count": 43
        }
      ]
    },
    {
      "cell_type": "code",
      "source": [
        "f = torch.randint(size=(2,3), low=0, high=10)\n",
        "g = torch.randint(size=(3,2),low=0, high=5)\n"
      ],
      "metadata": {
        "id": "ZQnSv1aanFdf"
      },
      "execution_count": 44,
      "outputs": []
    },
    {
      "cell_type": "code",
      "source": [
        "# matrix operations:\n",
        "torch.matmul(f,g)"
      ],
      "metadata": {
        "id": "ZEsRlXG1nUmq",
        "outputId": "c2f2e58e-c199-45a3-bc8c-31ba93a8578a",
        "colab": {
          "base_uri": "https://localhost:8080/"
        }
      },
      "execution_count": 45,
      "outputs": [
        {
          "output_type": "execute_result",
          "data": {
            "text/plain": [
              "tensor([[24, 56],\n",
              "        [48, 62]])"
            ]
          },
          "metadata": {},
          "execution_count": 45
        }
      ]
    },
    {
      "cell_type": "code",
      "source": [
        "torch.dot(torch.tensor([1,3,4,5]), torch.tensor([1,34,3,2]))"
      ],
      "metadata": {
        "id": "sKm9ike5nYt0",
        "outputId": "d7d62e58-eb9e-4326-90b6-43c3111a1822",
        "colab": {
          "base_uri": "https://localhost:8080/"
        }
      },
      "execution_count": 48,
      "outputs": [
        {
          "output_type": "execute_result",
          "data": {
            "text/plain": [
              "tensor(125)"
            ]
          },
          "metadata": {},
          "execution_count": 48
        }
      ]
    },
    {
      "cell_type": "code",
      "source": [
        "torch.transpose(f, 0, 1)"
      ],
      "metadata": {
        "id": "Tv_pPNE_ngxR",
        "outputId": "3cd65222-f4bd-4291-89c6-ce098ab531f2",
        "colab": {
          "base_uri": "https://localhost:8080/"
        }
      },
      "execution_count": 50,
      "outputs": [
        {
          "output_type": "execute_result",
          "data": {
            "text/plain": [
              "tensor([[6, 9],\n",
              "        [2, 7],\n",
              "        [7, 3]])"
            ]
          },
          "metadata": {},
          "execution_count": 50
        }
      ]
    },
    {
      "cell_type": "code",
      "source": [
        "torch.det(torch.rand(3,3))"
      ],
      "metadata": {
        "id": "rDCmoKX_n-XS",
        "outputId": "6248d158-8ed3-4fb1-f338-1d21930af98c",
        "colab": {
          "base_uri": "https://localhost:8080/"
        }
      },
      "execution_count": 52,
      "outputs": [
        {
          "output_type": "execute_result",
          "data": {
            "text/plain": [
              "tensor(-0.2229)"
            ]
          },
          "metadata": {},
          "execution_count": 52
        }
      ]
    },
    {
      "cell_type": "code",
      "source": [
        "torch.rand((3,3)) > torch.rand((3,3))"
      ],
      "metadata": {
        "id": "-A8pL5aYoBXk",
        "outputId": "068d38f9-c269-4ffa-b2ee-7c363eb13dbc",
        "colab": {
          "base_uri": "https://localhost:8080/"
        }
      },
      "execution_count": 53,
      "outputs": [
        {
          "output_type": "execute_result",
          "data": {
            "text/plain": [
              "tensor([[False, False, False],\n",
              "        [ True,  True,  True],\n",
              "        [ True, False, False]])"
            ]
          },
          "metadata": {},
          "execution_count": 53
        }
      ]
    },
    {
      "cell_type": "code",
      "source": [
        "k = torch.randint(size=(2,3),low=0, high=10, dtype=torch.float32)\n",
        "k"
      ],
      "metadata": {
        "id": "gLsFsJWToMua",
        "outputId": "4ef88370-640e-4536-b1de-9af01d69771b",
        "colab": {
          "base_uri": "https://localhost:8080/"
        }
      },
      "execution_count": 57,
      "outputs": [
        {
          "output_type": "execute_result",
          "data": {
            "text/plain": [
              "tensor([[0., 9., 8.],\n",
              "        [5., 3., 7.]])"
            ]
          },
          "metadata": {},
          "execution_count": 57
        }
      ]
    },
    {
      "cell_type": "code",
      "source": [
        "torch.log(k), torch.exp(k), torch.sqrt(k), torch.sigmoid(k), torch.softmax(k, dim=0), torch.relu(k)"
      ],
      "metadata": {
        "id": "O8ZKlLB1oWzS",
        "outputId": "b380b7f9-9c80-4648-93ef-5a950069133f",
        "colab": {
          "base_uri": "https://localhost:8080/"
        }
      },
      "execution_count": 58,
      "outputs": [
        {
          "output_type": "execute_result",
          "data": {
            "text/plain": [
              "(tensor([[  -inf, 2.1972, 2.0794],\n",
              "         [1.6094, 1.0986, 1.9459]]),\n",
              " tensor([[1.0000e+00, 8.1031e+03, 2.9810e+03],\n",
              "         [1.4841e+02, 2.0086e+01, 1.0966e+03]]),\n",
              " tensor([[0.0000, 3.0000, 2.8284],\n",
              "         [2.2361, 1.7321, 2.6458]]),\n",
              " tensor([[0.5000, 0.9999, 0.9997],\n",
              "         [0.9933, 0.9526, 0.9991]]),\n",
              " tensor([[0.0067, 0.9975, 0.7311],\n",
              "         [0.9933, 0.0025, 0.2689]]),\n",
              " tensor([[0., 9., 8.],\n",
              "         [5., 3., 7.]]))"
            ]
          },
          "metadata": {},
          "execution_count": 58
        }
      ]
    },
    {
      "cell_type": "code",
      "source": [
        "## inplace operations\n",
        "m = torch.rand(2,3)\n",
        "n = torch.rand(2,3)\n",
        "print(m)\n",
        "print(n)"
      ],
      "metadata": {
        "id": "1T_Xw0aUotjg",
        "outputId": "ae6e9acb-ed67-4661-8dd3-20889a78c373",
        "colab": {
          "base_uri": "https://localhost:8080/"
        }
      },
      "execution_count": 59,
      "outputs": [
        {
          "output_type": "stream",
          "name": "stdout",
          "text": [
            "tensor([[0.3725, 0.7980, 0.8399],\n",
            "        [0.1374, 0.2331, 0.9578]])\n",
            "tensor([[0.3313, 0.3227, 0.0162],\n",
            "        [0.2137, 0.6249, 0.4340]])\n"
          ]
        }
      ]
    },
    {
      "cell_type": "code",
      "source": [
        "m +n"
      ],
      "metadata": {
        "id": "SoCvf59Xo8jD",
        "outputId": "886cd449-20f5-4d07-891f-7dfe6b725a76",
        "colab": {
          "base_uri": "https://localhost:8080/"
        }
      },
      "execution_count": 60,
      "outputs": [
        {
          "output_type": "execute_result",
          "data": {
            "text/plain": [
              "tensor([[0.7038, 1.1208, 0.8561],\n",
              "        [0.3511, 0.8580, 1.3918]])"
            ]
          },
          "metadata": {},
          "execution_count": 60
        }
      ]
    },
    {
      "cell_type": "code",
      "source": [
        "# store the result on m + n in the memory of m\n",
        "m.add_(n)"
      ],
      "metadata": {
        "id": "K6kGh15Mo9-d",
        "outputId": "21aed9ff-34f7-4597-d0ad-ba2e40dd6f2b",
        "colab": {
          "base_uri": "https://localhost:8080/"
        }
      },
      "execution_count": 61,
      "outputs": [
        {
          "output_type": "execute_result",
          "data": {
            "text/plain": [
              "tensor([[0.7038, 1.1208, 0.8561],\n",
              "        [0.3511, 0.8580, 1.3918]])"
            ]
          },
          "metadata": {},
          "execution_count": 61
        }
      ]
    },
    {
      "cell_type": "code",
      "source": [
        "torch.relu(m)"
      ],
      "metadata": {
        "id": "--JLfx4MpHiX",
        "outputId": "ad7264e9-6f44-432a-e236-05f5d8d6029f",
        "colab": {
          "base_uri": "https://localhost:8080/"
        }
      },
      "execution_count": 62,
      "outputs": [
        {
          "output_type": "execute_result",
          "data": {
            "text/plain": [
              "tensor([[0.7038, 1.1208, 0.8561],\n",
              "        [0.3511, 0.8580, 1.3918]])"
            ]
          },
          "metadata": {},
          "execution_count": 62
        }
      ]
    },
    {
      "cell_type": "code",
      "source": [
        "m.relu_()"
      ],
      "metadata": {
        "id": "CHXKTaIMpMR-",
        "outputId": "4182ab3d-5e11-4b8c-a23f-70b7ee909129",
        "colab": {
          "base_uri": "https://localhost:8080/"
        }
      },
      "execution_count": 63,
      "outputs": [
        {
          "output_type": "execute_result",
          "data": {
            "text/plain": [
              "tensor([[0.7038, 1.1208, 0.8561],\n",
              "        [0.3511, 0.8580, 1.3918]])"
            ]
          },
          "metadata": {},
          "execution_count": 63
        }
      ]
    },
    {
      "cell_type": "code",
      "source": [],
      "metadata": {
        "id": "W4QcbGT0pNPc"
      },
      "execution_count": null,
      "outputs": []
    }
  ]
}